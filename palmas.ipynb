{
  "nbformat": 4,
  "nbformat_minor": 0,
  "metadata": {
    "colab": {
      "provenance": [],
      "toc_visible": true,
      "include_colab_link": true
    },
    "kernelspec": {
      "name": "python3",
      "display_name": "Python 3"
    },
    "language_info": {
      "name": "python"
    }
  },
  "cells": [
    {
      "cell_type": "markdown",
      "metadata": {
        "id": "view-in-github",
        "colab_type": "text"
      },
      "source": [
        "<a href=\"https://colab.research.google.com/github/guifzy/EDA/blob/main/palmas.ipynb\" target=\"_parent\"><img src=\"https://colab.research.google.com/assets/colab-badge.svg\" alt=\"Open In Colab\"/></a>"
      ]
    },
    {
      "cell_type": "code",
      "execution_count": null,
      "metadata": {
        "id": "9nGyTlq3XFxJ"
      },
      "outputs": [],
      "source": [
        "import pandas as pd\n",
        "import numpy as np\n",
        "import seaborn as sns\n",
        "import matplotlib.pyplot as plt"
      ]
    },
    {
      "cell_type": "code",
      "source": [
        "df = pd.read_excel('/content/Palmas dataset.xlsx')\n",
        "\n",
        "df.head()"
      ],
      "metadata": {
        "colab": {
          "base_uri": "https://localhost:8080/",
          "height": 446
        },
        "id": "75MxwNcKXXRA",
        "outputId": "6b7bce61-db93-4ecf-f648-69eddb416414"
      },
      "execution_count": null,
      "outputs": [
        {
          "output_type": "execute_result",
          "data": {
            "text/plain": [
              "  SEXO IDADE ESTADO CIVIL NÍVEL DE INSTRUÇÃO CASA PRÓPRIA FILHOS MORADORES  \\\n",
              "0    B    23            A                  E            B      B         C   \n",
              "1    A    38            B                  D            A      C         E   \n",
              "2    A    26            B                  E            B      B         C   \n",
              "3    B    26            A                  F            A      B         C   \n",
              "4    A    50            D                  D            A      D         A   \n",
              "\n",
              "   RENDA FAMILIAR TRABALHO  RENDA PESSOAL  ...  \\\n",
              "0            4200        D           2400  ...   \n",
              "1            5000        D           3800  ...   \n",
              "2            3000        D           1500  ...   \n",
              "3            3000        B           1800  ...   \n",
              "4            1320        C           1320  ...   \n",
              "\n",
              "  QUALIDADE DE VIDA NOS ÚLTIMOS ANOS AUXÍLIO DO GOVERNO SATISFAÇÃO  \\\n",
              "0                                  B             NENHUM          C   \n",
              "1                                  B      BOLSA FAMÍLIA          C   \n",
              "2                                  B      BOLSA FAMÍLIA          B   \n",
              "3                                  A      BOLSA FAMÍLIA          C   \n",
              "4                                  B             NENHUM          A   \n",
              "\n",
              "  NÚMERO DE AMIGOS LAZER RELIGIÃO JÁ MOROU EM OUTROS LUGARES  \\\n",
              "0                B     B        C                        NÃO   \n",
              "1                B     B        A                 BELÉM - PA   \n",
              "2                B     B        B               GURUPI  - TO   \n",
              "3                B     B        D              XINGUARA - PA   \n",
              "4                B     B        B             FORTALEZA - CE   \n",
              "\n",
              "  OCUPAÇÃO EM OUTRO MUNICÍPIO SAIR DE PALMAS  \\\n",
              "0                           X              B   \n",
              "1                    PEDREIRO              B   \n",
              "2                       VIGIA              B   \n",
              "3                  BALCONISTA              A   \n",
              "4                           X              B   \n",
              "\n",
              "                              EMPREGO ESPECÍFICO  \n",
              "0  OPERADOR DE CAIXA E DESIGNER DE SOMBRANCELHAS  \n",
              "1                                           GARI  \n",
              "2                                SERVIÇOS GERAIS  \n",
              "3                                      VENDEDORA  \n",
              "4                                       PORTEIRO  \n",
              "\n",
              "[5 rows x 34 columns]"
            ],
            "text/html": [
              "\n",
              "  <div id=\"df-5749287b-9322-45cb-993f-3ee1434da06b\" class=\"colab-df-container\">\n",
              "    <div>\n",
              "<style scoped>\n",
              "    .dataframe tbody tr th:only-of-type {\n",
              "        vertical-align: middle;\n",
              "    }\n",
              "\n",
              "    .dataframe tbody tr th {\n",
              "        vertical-align: top;\n",
              "    }\n",
              "\n",
              "    .dataframe thead th {\n",
              "        text-align: right;\n",
              "    }\n",
              "</style>\n",
              "<table border=\"1\" class=\"dataframe\">\n",
              "  <thead>\n",
              "    <tr style=\"text-align: right;\">\n",
              "      <th></th>\n",
              "      <th>SEXO</th>\n",
              "      <th>IDADE</th>\n",
              "      <th>ESTADO CIVIL</th>\n",
              "      <th>NÍVEL DE INSTRUÇÃO</th>\n",
              "      <th>CASA PRÓPRIA</th>\n",
              "      <th>FILHOS</th>\n",
              "      <th>MORADORES</th>\n",
              "      <th>RENDA FAMILIAR</th>\n",
              "      <th>TRABALHO</th>\n",
              "      <th>RENDA PESSOAL</th>\n",
              "      <th>...</th>\n",
              "      <th>QUALIDADE DE VIDA NOS ÚLTIMOS ANOS</th>\n",
              "      <th>AUXÍLIO DO GOVERNO</th>\n",
              "      <th>SATISFAÇÃO</th>\n",
              "      <th>NÚMERO DE AMIGOS</th>\n",
              "      <th>LAZER</th>\n",
              "      <th>RELIGIÃO</th>\n",
              "      <th>JÁ MOROU EM OUTROS LUGARES</th>\n",
              "      <th>OCUPAÇÃO EM OUTRO MUNICÍPIO</th>\n",
              "      <th>SAIR DE PALMAS</th>\n",
              "      <th>EMPREGO ESPECÍFICO</th>\n",
              "    </tr>\n",
              "  </thead>\n",
              "  <tbody>\n",
              "    <tr>\n",
              "      <th>0</th>\n",
              "      <td>B</td>\n",
              "      <td>23</td>\n",
              "      <td>A</td>\n",
              "      <td>E</td>\n",
              "      <td>B</td>\n",
              "      <td>B</td>\n",
              "      <td>C</td>\n",
              "      <td>4200</td>\n",
              "      <td>D</td>\n",
              "      <td>2400</td>\n",
              "      <td>...</td>\n",
              "      <td>B</td>\n",
              "      <td>NENHUM</td>\n",
              "      <td>C</td>\n",
              "      <td>B</td>\n",
              "      <td>B</td>\n",
              "      <td>C</td>\n",
              "      <td>NÃO</td>\n",
              "      <td>X</td>\n",
              "      <td>B</td>\n",
              "      <td>OPERADOR DE CAIXA E DESIGNER DE SOMBRANCELHAS</td>\n",
              "    </tr>\n",
              "    <tr>\n",
              "      <th>1</th>\n",
              "      <td>A</td>\n",
              "      <td>38</td>\n",
              "      <td>B</td>\n",
              "      <td>D</td>\n",
              "      <td>A</td>\n",
              "      <td>C</td>\n",
              "      <td>E</td>\n",
              "      <td>5000</td>\n",
              "      <td>D</td>\n",
              "      <td>3800</td>\n",
              "      <td>...</td>\n",
              "      <td>B</td>\n",
              "      <td>BOLSA FAMÍLIA</td>\n",
              "      <td>C</td>\n",
              "      <td>B</td>\n",
              "      <td>B</td>\n",
              "      <td>A</td>\n",
              "      <td>BELÉM - PA</td>\n",
              "      <td>PEDREIRO</td>\n",
              "      <td>B</td>\n",
              "      <td>GARI</td>\n",
              "    </tr>\n",
              "    <tr>\n",
              "      <th>2</th>\n",
              "      <td>A</td>\n",
              "      <td>26</td>\n",
              "      <td>B</td>\n",
              "      <td>E</td>\n",
              "      <td>B</td>\n",
              "      <td>B</td>\n",
              "      <td>C</td>\n",
              "      <td>3000</td>\n",
              "      <td>D</td>\n",
              "      <td>1500</td>\n",
              "      <td>...</td>\n",
              "      <td>B</td>\n",
              "      <td>BOLSA FAMÍLIA</td>\n",
              "      <td>B</td>\n",
              "      <td>B</td>\n",
              "      <td>B</td>\n",
              "      <td>B</td>\n",
              "      <td>GURUPI  - TO</td>\n",
              "      <td>VIGIA</td>\n",
              "      <td>B</td>\n",
              "      <td>SERVIÇOS GERAIS</td>\n",
              "    </tr>\n",
              "    <tr>\n",
              "      <th>3</th>\n",
              "      <td>B</td>\n",
              "      <td>26</td>\n",
              "      <td>A</td>\n",
              "      <td>F</td>\n",
              "      <td>A</td>\n",
              "      <td>B</td>\n",
              "      <td>C</td>\n",
              "      <td>3000</td>\n",
              "      <td>B</td>\n",
              "      <td>1800</td>\n",
              "      <td>...</td>\n",
              "      <td>A</td>\n",
              "      <td>BOLSA FAMÍLIA</td>\n",
              "      <td>C</td>\n",
              "      <td>B</td>\n",
              "      <td>B</td>\n",
              "      <td>D</td>\n",
              "      <td>XINGUARA - PA</td>\n",
              "      <td>BALCONISTA</td>\n",
              "      <td>A</td>\n",
              "      <td>VENDEDORA</td>\n",
              "    </tr>\n",
              "    <tr>\n",
              "      <th>4</th>\n",
              "      <td>A</td>\n",
              "      <td>50</td>\n",
              "      <td>D</td>\n",
              "      <td>D</td>\n",
              "      <td>A</td>\n",
              "      <td>D</td>\n",
              "      <td>A</td>\n",
              "      <td>1320</td>\n",
              "      <td>C</td>\n",
              "      <td>1320</td>\n",
              "      <td>...</td>\n",
              "      <td>B</td>\n",
              "      <td>NENHUM</td>\n",
              "      <td>A</td>\n",
              "      <td>B</td>\n",
              "      <td>B</td>\n",
              "      <td>B</td>\n",
              "      <td>FORTALEZA - CE</td>\n",
              "      <td>X</td>\n",
              "      <td>B</td>\n",
              "      <td>PORTEIRO</td>\n",
              "    </tr>\n",
              "  </tbody>\n",
              "</table>\n",
              "<p>5 rows × 34 columns</p>\n",
              "</div>\n",
              "    <div class=\"colab-df-buttons\">\n",
              "\n",
              "  <div class=\"colab-df-container\">\n",
              "    <button class=\"colab-df-convert\" onclick=\"convertToInteractive('df-5749287b-9322-45cb-993f-3ee1434da06b')\"\n",
              "            title=\"Convert this dataframe to an interactive table.\"\n",
              "            style=\"display:none;\">\n",
              "\n",
              "  <svg xmlns=\"http://www.w3.org/2000/svg\" height=\"24px\" viewBox=\"0 -960 960 960\">\n",
              "    <path d=\"M120-120v-720h720v720H120Zm60-500h600v-160H180v160Zm220 220h160v-160H400v160Zm0 220h160v-160H400v160ZM180-400h160v-160H180v160Zm440 0h160v-160H620v160ZM180-180h160v-160H180v160Zm440 0h160v-160H620v160Z\"/>\n",
              "  </svg>\n",
              "    </button>\n",
              "\n",
              "  <style>\n",
              "    .colab-df-container {\n",
              "      display:flex;\n",
              "      gap: 12px;\n",
              "    }\n",
              "\n",
              "    .colab-df-convert {\n",
              "      background-color: #E8F0FE;\n",
              "      border: none;\n",
              "      border-radius: 50%;\n",
              "      cursor: pointer;\n",
              "      display: none;\n",
              "      fill: #1967D2;\n",
              "      height: 32px;\n",
              "      padding: 0 0 0 0;\n",
              "      width: 32px;\n",
              "    }\n",
              "\n",
              "    .colab-df-convert:hover {\n",
              "      background-color: #E2EBFA;\n",
              "      box-shadow: 0px 1px 2px rgba(60, 64, 67, 0.3), 0px 1px 3px 1px rgba(60, 64, 67, 0.15);\n",
              "      fill: #174EA6;\n",
              "    }\n",
              "\n",
              "    .colab-df-buttons div {\n",
              "      margin-bottom: 4px;\n",
              "    }\n",
              "\n",
              "    [theme=dark] .colab-df-convert {\n",
              "      background-color: #3B4455;\n",
              "      fill: #D2E3FC;\n",
              "    }\n",
              "\n",
              "    [theme=dark] .colab-df-convert:hover {\n",
              "      background-color: #434B5C;\n",
              "      box-shadow: 0px 1px 3px 1px rgba(0, 0, 0, 0.15);\n",
              "      filter: drop-shadow(0px 1px 2px rgba(0, 0, 0, 0.3));\n",
              "      fill: #FFFFFF;\n",
              "    }\n",
              "  </style>\n",
              "\n",
              "    <script>\n",
              "      const buttonEl =\n",
              "        document.querySelector('#df-5749287b-9322-45cb-993f-3ee1434da06b button.colab-df-convert');\n",
              "      buttonEl.style.display =\n",
              "        google.colab.kernel.accessAllowed ? 'block' : 'none';\n",
              "\n",
              "      async function convertToInteractive(key) {\n",
              "        const element = document.querySelector('#df-5749287b-9322-45cb-993f-3ee1434da06b');\n",
              "        const dataTable =\n",
              "          await google.colab.kernel.invokeFunction('convertToInteractive',\n",
              "                                                    [key], {});\n",
              "        if (!dataTable) return;\n",
              "\n",
              "        const docLinkHtml = 'Like what you see? Visit the ' +\n",
              "          '<a target=\"_blank\" href=https://colab.research.google.com/notebooks/data_table.ipynb>data table notebook</a>'\n",
              "          + ' to learn more about interactive tables.';\n",
              "        element.innerHTML = '';\n",
              "        dataTable['output_type'] = 'display_data';\n",
              "        await google.colab.output.renderOutput(dataTable, element);\n",
              "        const docLink = document.createElement('div');\n",
              "        docLink.innerHTML = docLinkHtml;\n",
              "        element.appendChild(docLink);\n",
              "      }\n",
              "    </script>\n",
              "  </div>\n",
              "\n",
              "\n",
              "<div id=\"df-620ad3d1-cfe8-4cb4-af09-6192b241d993\">\n",
              "  <button class=\"colab-df-quickchart\" onclick=\"quickchart('df-620ad3d1-cfe8-4cb4-af09-6192b241d993')\"\n",
              "            title=\"Suggest charts\"\n",
              "            style=\"display:none;\">\n",
              "\n",
              "<svg xmlns=\"http://www.w3.org/2000/svg\" height=\"24px\"viewBox=\"0 0 24 24\"\n",
              "     width=\"24px\">\n",
              "    <g>\n",
              "        <path d=\"M19 3H5c-1.1 0-2 .9-2 2v14c0 1.1.9 2 2 2h14c1.1 0 2-.9 2-2V5c0-1.1-.9-2-2-2zM9 17H7v-7h2v7zm4 0h-2V7h2v10zm4 0h-2v-4h2v4z\"/>\n",
              "    </g>\n",
              "</svg>\n",
              "  </button>\n",
              "\n",
              "<style>\n",
              "  .colab-df-quickchart {\n",
              "      --bg-color: #E8F0FE;\n",
              "      --fill-color: #1967D2;\n",
              "      --hover-bg-color: #E2EBFA;\n",
              "      --hover-fill-color: #174EA6;\n",
              "      --disabled-fill-color: #AAA;\n",
              "      --disabled-bg-color: #DDD;\n",
              "  }\n",
              "\n",
              "  [theme=dark] .colab-df-quickchart {\n",
              "      --bg-color: #3B4455;\n",
              "      --fill-color: #D2E3FC;\n",
              "      --hover-bg-color: #434B5C;\n",
              "      --hover-fill-color: #FFFFFF;\n",
              "      --disabled-bg-color: #3B4455;\n",
              "      --disabled-fill-color: #666;\n",
              "  }\n",
              "\n",
              "  .colab-df-quickchart {\n",
              "    background-color: var(--bg-color);\n",
              "    border: none;\n",
              "    border-radius: 50%;\n",
              "    cursor: pointer;\n",
              "    display: none;\n",
              "    fill: var(--fill-color);\n",
              "    height: 32px;\n",
              "    padding: 0;\n",
              "    width: 32px;\n",
              "  }\n",
              "\n",
              "  .colab-df-quickchart:hover {\n",
              "    background-color: var(--hover-bg-color);\n",
              "    box-shadow: 0 1px 2px rgba(60, 64, 67, 0.3), 0 1px 3px 1px rgba(60, 64, 67, 0.15);\n",
              "    fill: var(--button-hover-fill-color);\n",
              "  }\n",
              "\n",
              "  .colab-df-quickchart-complete:disabled,\n",
              "  .colab-df-quickchart-complete:disabled:hover {\n",
              "    background-color: var(--disabled-bg-color);\n",
              "    fill: var(--disabled-fill-color);\n",
              "    box-shadow: none;\n",
              "  }\n",
              "\n",
              "  .colab-df-spinner {\n",
              "    border: 2px solid var(--fill-color);\n",
              "    border-color: transparent;\n",
              "    border-bottom-color: var(--fill-color);\n",
              "    animation:\n",
              "      spin 1s steps(1) infinite;\n",
              "  }\n",
              "\n",
              "  @keyframes spin {\n",
              "    0% {\n",
              "      border-color: transparent;\n",
              "      border-bottom-color: var(--fill-color);\n",
              "      border-left-color: var(--fill-color);\n",
              "    }\n",
              "    20% {\n",
              "      border-color: transparent;\n",
              "      border-left-color: var(--fill-color);\n",
              "      border-top-color: var(--fill-color);\n",
              "    }\n",
              "    30% {\n",
              "      border-color: transparent;\n",
              "      border-left-color: var(--fill-color);\n",
              "      border-top-color: var(--fill-color);\n",
              "      border-right-color: var(--fill-color);\n",
              "    }\n",
              "    40% {\n",
              "      border-color: transparent;\n",
              "      border-right-color: var(--fill-color);\n",
              "      border-top-color: var(--fill-color);\n",
              "    }\n",
              "    60% {\n",
              "      border-color: transparent;\n",
              "      border-right-color: var(--fill-color);\n",
              "    }\n",
              "    80% {\n",
              "      border-color: transparent;\n",
              "      border-right-color: var(--fill-color);\n",
              "      border-bottom-color: var(--fill-color);\n",
              "    }\n",
              "    90% {\n",
              "      border-color: transparent;\n",
              "      border-bottom-color: var(--fill-color);\n",
              "    }\n",
              "  }\n",
              "</style>\n",
              "\n",
              "  <script>\n",
              "    async function quickchart(key) {\n",
              "      const quickchartButtonEl =\n",
              "        document.querySelector('#' + key + ' button');\n",
              "      quickchartButtonEl.disabled = true;  // To prevent multiple clicks.\n",
              "      quickchartButtonEl.classList.add('colab-df-spinner');\n",
              "      try {\n",
              "        const charts = await google.colab.kernel.invokeFunction(\n",
              "            'suggestCharts', [key], {});\n",
              "      } catch (error) {\n",
              "        console.error('Error during call to suggestCharts:', error);\n",
              "      }\n",
              "      quickchartButtonEl.classList.remove('colab-df-spinner');\n",
              "      quickchartButtonEl.classList.add('colab-df-quickchart-complete');\n",
              "    }\n",
              "    (() => {\n",
              "      let quickchartButtonEl =\n",
              "        document.querySelector('#df-620ad3d1-cfe8-4cb4-af09-6192b241d993 button');\n",
              "      quickchartButtonEl.style.display =\n",
              "        google.colab.kernel.accessAllowed ? 'block' : 'none';\n",
              "    })();\n",
              "  </script>\n",
              "</div>\n",
              "\n",
              "    </div>\n",
              "  </div>\n"
            ],
            "application/vnd.google.colaboratory.intrinsic+json": {
              "type": "dataframe",
              "variable_name": "df"
            }
          },
          "metadata": {},
          "execution_count": 16
        }
      ]
    },
    {
      "cell_type": "markdown",
      "source": [
        "# Pre-Processando"
      ],
      "metadata": {
        "id": "qjgKXEdKXUzx"
      }
    },
    {
      "cell_type": "code",
      "source": [
        "df.info()"
      ],
      "metadata": {
        "colab": {
          "base_uri": "https://localhost:8080/"
        },
        "id": "p8lvL0rFXmBA",
        "outputId": "db84e9ec-a82c-4808-d0b0-0a6ac7081a6a"
      },
      "execution_count": null,
      "outputs": [
        {
          "output_type": "stream",
          "name": "stdout",
          "text": [
            "<class 'pandas.core.frame.DataFrame'>\n",
            "RangeIndex: 329 entries, 0 to 328\n",
            "Data columns (total 34 columns):\n",
            " #   Column                              Non-Null Count  Dtype \n",
            "---  ------                              --------------  ----- \n",
            " 0   SEXO                                329 non-null    object\n",
            " 1   IDADE                               329 non-null    object\n",
            " 2   ESTADO CIVIL                        329 non-null    object\n",
            " 3   NÍVEL DE INSTRUÇÃO                  329 non-null    object\n",
            " 4   CASA PRÓPRIA                        329 non-null    object\n",
            " 5   FILHOS                              329 non-null    object\n",
            " 6   MORADORES                           329 non-null    object\n",
            " 7   RENDA FAMILIAR                      329 non-null    int64 \n",
            " 8   TRABALHO                            329 non-null    object\n",
            " 9   RENDA PESSOAL                       329 non-null    int64 \n",
            " 10  TEMPO EM PALMAS                     329 non-null    object\n",
            " 11  RENDA ANTERIOR                      329 non-null    object\n",
            " 12  QUALIDADE DE VIDA                   329 non-null    object\n",
            " 13  POSSUI MAIS BENS                    329 non-null    object\n",
            " 14  QUALIDADE DE VIDA FUTURA            329 non-null    object\n",
            " 15  PODE MELHORAR                       329 non-null    object\n",
            " 16  FATORES                             329 non-null    object\n",
            " 17  VIOLENCIA                           329 non-null    object\n",
            " 18  QUALIDADE EDUCAIONAL                329 non-null    object\n",
            " 19  SETOR DE TRABALHO                   329 non-null    object\n",
            " 20  QUE SETOR RECOMENDA                 329 non-null    object\n",
            " 21  CIDADE NATAL                        329 non-null    object\n",
            " 22  ANOS DE TRABALHO                    329 non-null    object\n",
            " 23  DROGAS                              329 non-null    object\n",
            " 24  QUALIDADE DE VIDA NOS ÚLTIMOS ANOS  329 non-null    object\n",
            " 25  AUXÍLIO DO GOVERNO                  329 non-null    object\n",
            " 26  SATISFAÇÃO                          329 non-null    object\n",
            " 27  NÚMERO DE AMIGOS                    329 non-null    object\n",
            " 28  LAZER                               329 non-null    object\n",
            " 29  RELIGIÃO                            329 non-null    object\n",
            " 30  JÁ MOROU EM OUTROS LUGARES          329 non-null    object\n",
            " 31  OCUPAÇÃO EM OUTRO MUNICÍPIO         329 non-null    object\n",
            " 32  SAIR DE PALMAS                      329 non-null    object\n",
            " 33  EMPREGO ESPECÍFICO                  328 non-null    object\n",
            "dtypes: int64(2), object(32)\n",
            "memory usage: 87.5+ KB\n"
          ]
        }
      ]
    },
    {
      "cell_type": "code",
      "source": [
        "colunas = list(df.columns)\n",
        "for coluna in colunas:\n",
        "    df[coluna.lower()] = df[coluna]\n",
        "\n",
        "df = df.drop(columns=colunas)\n",
        "df.head()"
      ],
      "metadata": {
        "colab": {
          "base_uri": "https://localhost:8080/",
          "height": 446
        },
        "id": "H1HQK6peYWCo",
        "outputId": "e81488dd-a5c9-42ab-a31e-d19a8d1cdef6"
      },
      "execution_count": null,
      "outputs": [
        {
          "output_type": "execute_result",
          "data": {
            "text/plain": [
              "  sexo idade estado civil nível de instrução casa própria filhos moradores  \\\n",
              "0    B    23            A                  E            B      B         C   \n",
              "1    A    38            B                  D            A      C         E   \n",
              "2    A    26            B                  E            B      B         C   \n",
              "3    B    26            A                  F            A      B         C   \n",
              "4    A    50            D                  D            A      D         A   \n",
              "\n",
              "   renda familiar trabalho  renda pessoal  ...  \\\n",
              "0            4200        D           2400  ...   \n",
              "1            5000        D           3800  ...   \n",
              "2            3000        D           1500  ...   \n",
              "3            3000        B           1800  ...   \n",
              "4            1320        C           1320  ...   \n",
              "\n",
              "  qualidade de vida nos últimos anos auxílio do governo satisfação  \\\n",
              "0                                  B             NENHUM          C   \n",
              "1                                  B      BOLSA FAMÍLIA          C   \n",
              "2                                  B      BOLSA FAMÍLIA          B   \n",
              "3                                  A      BOLSA FAMÍLIA          C   \n",
              "4                                  B             NENHUM          A   \n",
              "\n",
              "  número de amigos lazer religião já morou em outros lugares  \\\n",
              "0                B     B        C                        NÃO   \n",
              "1                B     B        A                 BELÉM - PA   \n",
              "2                B     B        B               GURUPI  - TO   \n",
              "3                B     B        D              XINGUARA - PA   \n",
              "4                B     B        B             FORTALEZA - CE   \n",
              "\n",
              "  ocupação em outro município sair de palmas  \\\n",
              "0                           X              B   \n",
              "1                    PEDREIRO              B   \n",
              "2                       VIGIA              B   \n",
              "3                  BALCONISTA              A   \n",
              "4                           X              B   \n",
              "\n",
              "                              emprego específico  \n",
              "0  OPERADOR DE CAIXA E DESIGNER DE SOMBRANCELHAS  \n",
              "1                                           GARI  \n",
              "2                                SERVIÇOS GERAIS  \n",
              "3                                      VENDEDORA  \n",
              "4                                       PORTEIRO  \n",
              "\n",
              "[5 rows x 34 columns]"
            ],
            "text/html": [
              "\n",
              "  <div id=\"df-eaebb890-3529-4724-8240-6b934dc7c1d3\" class=\"colab-df-container\">\n",
              "    <div>\n",
              "<style scoped>\n",
              "    .dataframe tbody tr th:only-of-type {\n",
              "        vertical-align: middle;\n",
              "    }\n",
              "\n",
              "    .dataframe tbody tr th {\n",
              "        vertical-align: top;\n",
              "    }\n",
              "\n",
              "    .dataframe thead th {\n",
              "        text-align: right;\n",
              "    }\n",
              "</style>\n",
              "<table border=\"1\" class=\"dataframe\">\n",
              "  <thead>\n",
              "    <tr style=\"text-align: right;\">\n",
              "      <th></th>\n",
              "      <th>sexo</th>\n",
              "      <th>idade</th>\n",
              "      <th>estado civil</th>\n",
              "      <th>nível de instrução</th>\n",
              "      <th>casa própria</th>\n",
              "      <th>filhos</th>\n",
              "      <th>moradores</th>\n",
              "      <th>renda familiar</th>\n",
              "      <th>trabalho</th>\n",
              "      <th>renda pessoal</th>\n",
              "      <th>...</th>\n",
              "      <th>qualidade de vida nos últimos anos</th>\n",
              "      <th>auxílio do governo</th>\n",
              "      <th>satisfação</th>\n",
              "      <th>número de amigos</th>\n",
              "      <th>lazer</th>\n",
              "      <th>religião</th>\n",
              "      <th>já morou em outros lugares</th>\n",
              "      <th>ocupação em outro município</th>\n",
              "      <th>sair de palmas</th>\n",
              "      <th>emprego específico</th>\n",
              "    </tr>\n",
              "  </thead>\n",
              "  <tbody>\n",
              "    <tr>\n",
              "      <th>0</th>\n",
              "      <td>B</td>\n",
              "      <td>23</td>\n",
              "      <td>A</td>\n",
              "      <td>E</td>\n",
              "      <td>B</td>\n",
              "      <td>B</td>\n",
              "      <td>C</td>\n",
              "      <td>4200</td>\n",
              "      <td>D</td>\n",
              "      <td>2400</td>\n",
              "      <td>...</td>\n",
              "      <td>B</td>\n",
              "      <td>NENHUM</td>\n",
              "      <td>C</td>\n",
              "      <td>B</td>\n",
              "      <td>B</td>\n",
              "      <td>C</td>\n",
              "      <td>NÃO</td>\n",
              "      <td>X</td>\n",
              "      <td>B</td>\n",
              "      <td>OPERADOR DE CAIXA E DESIGNER DE SOMBRANCELHAS</td>\n",
              "    </tr>\n",
              "    <tr>\n",
              "      <th>1</th>\n",
              "      <td>A</td>\n",
              "      <td>38</td>\n",
              "      <td>B</td>\n",
              "      <td>D</td>\n",
              "      <td>A</td>\n",
              "      <td>C</td>\n",
              "      <td>E</td>\n",
              "      <td>5000</td>\n",
              "      <td>D</td>\n",
              "      <td>3800</td>\n",
              "      <td>...</td>\n",
              "      <td>B</td>\n",
              "      <td>BOLSA FAMÍLIA</td>\n",
              "      <td>C</td>\n",
              "      <td>B</td>\n",
              "      <td>B</td>\n",
              "      <td>A</td>\n",
              "      <td>BELÉM - PA</td>\n",
              "      <td>PEDREIRO</td>\n",
              "      <td>B</td>\n",
              "      <td>GARI</td>\n",
              "    </tr>\n",
              "    <tr>\n",
              "      <th>2</th>\n",
              "      <td>A</td>\n",
              "      <td>26</td>\n",
              "      <td>B</td>\n",
              "      <td>E</td>\n",
              "      <td>B</td>\n",
              "      <td>B</td>\n",
              "      <td>C</td>\n",
              "      <td>3000</td>\n",
              "      <td>D</td>\n",
              "      <td>1500</td>\n",
              "      <td>...</td>\n",
              "      <td>B</td>\n",
              "      <td>BOLSA FAMÍLIA</td>\n",
              "      <td>B</td>\n",
              "      <td>B</td>\n",
              "      <td>B</td>\n",
              "      <td>B</td>\n",
              "      <td>GURUPI  - TO</td>\n",
              "      <td>VIGIA</td>\n",
              "      <td>B</td>\n",
              "      <td>SERVIÇOS GERAIS</td>\n",
              "    </tr>\n",
              "    <tr>\n",
              "      <th>3</th>\n",
              "      <td>B</td>\n",
              "      <td>26</td>\n",
              "      <td>A</td>\n",
              "      <td>F</td>\n",
              "      <td>A</td>\n",
              "      <td>B</td>\n",
              "      <td>C</td>\n",
              "      <td>3000</td>\n",
              "      <td>B</td>\n",
              "      <td>1800</td>\n",
              "      <td>...</td>\n",
              "      <td>A</td>\n",
              "      <td>BOLSA FAMÍLIA</td>\n",
              "      <td>C</td>\n",
              "      <td>B</td>\n",
              "      <td>B</td>\n",
              "      <td>D</td>\n",
              "      <td>XINGUARA - PA</td>\n",
              "      <td>BALCONISTA</td>\n",
              "      <td>A</td>\n",
              "      <td>VENDEDORA</td>\n",
              "    </tr>\n",
              "    <tr>\n",
              "      <th>4</th>\n",
              "      <td>A</td>\n",
              "      <td>50</td>\n",
              "      <td>D</td>\n",
              "      <td>D</td>\n",
              "      <td>A</td>\n",
              "      <td>D</td>\n",
              "      <td>A</td>\n",
              "      <td>1320</td>\n",
              "      <td>C</td>\n",
              "      <td>1320</td>\n",
              "      <td>...</td>\n",
              "      <td>B</td>\n",
              "      <td>NENHUM</td>\n",
              "      <td>A</td>\n",
              "      <td>B</td>\n",
              "      <td>B</td>\n",
              "      <td>B</td>\n",
              "      <td>FORTALEZA - CE</td>\n",
              "      <td>X</td>\n",
              "      <td>B</td>\n",
              "      <td>PORTEIRO</td>\n",
              "    </tr>\n",
              "  </tbody>\n",
              "</table>\n",
              "<p>5 rows × 34 columns</p>\n",
              "</div>\n",
              "    <div class=\"colab-df-buttons\">\n",
              "\n",
              "  <div class=\"colab-df-container\">\n",
              "    <button class=\"colab-df-convert\" onclick=\"convertToInteractive('df-eaebb890-3529-4724-8240-6b934dc7c1d3')\"\n",
              "            title=\"Convert this dataframe to an interactive table.\"\n",
              "            style=\"display:none;\">\n",
              "\n",
              "  <svg xmlns=\"http://www.w3.org/2000/svg\" height=\"24px\" viewBox=\"0 -960 960 960\">\n",
              "    <path d=\"M120-120v-720h720v720H120Zm60-500h600v-160H180v160Zm220 220h160v-160H400v160Zm0 220h160v-160H400v160ZM180-400h160v-160H180v160Zm440 0h160v-160H620v160ZM180-180h160v-160H180v160Zm440 0h160v-160H620v160Z\"/>\n",
              "  </svg>\n",
              "    </button>\n",
              "\n",
              "  <style>\n",
              "    .colab-df-container {\n",
              "      display:flex;\n",
              "      gap: 12px;\n",
              "    }\n",
              "\n",
              "    .colab-df-convert {\n",
              "      background-color: #E8F0FE;\n",
              "      border: none;\n",
              "      border-radius: 50%;\n",
              "      cursor: pointer;\n",
              "      display: none;\n",
              "      fill: #1967D2;\n",
              "      height: 32px;\n",
              "      padding: 0 0 0 0;\n",
              "      width: 32px;\n",
              "    }\n",
              "\n",
              "    .colab-df-convert:hover {\n",
              "      background-color: #E2EBFA;\n",
              "      box-shadow: 0px 1px 2px rgba(60, 64, 67, 0.3), 0px 1px 3px 1px rgba(60, 64, 67, 0.15);\n",
              "      fill: #174EA6;\n",
              "    }\n",
              "\n",
              "    .colab-df-buttons div {\n",
              "      margin-bottom: 4px;\n",
              "    }\n",
              "\n",
              "    [theme=dark] .colab-df-convert {\n",
              "      background-color: #3B4455;\n",
              "      fill: #D2E3FC;\n",
              "    }\n",
              "\n",
              "    [theme=dark] .colab-df-convert:hover {\n",
              "      background-color: #434B5C;\n",
              "      box-shadow: 0px 1px 3px 1px rgba(0, 0, 0, 0.15);\n",
              "      filter: drop-shadow(0px 1px 2px rgba(0, 0, 0, 0.3));\n",
              "      fill: #FFFFFF;\n",
              "    }\n",
              "  </style>\n",
              "\n",
              "    <script>\n",
              "      const buttonEl =\n",
              "        document.querySelector('#df-eaebb890-3529-4724-8240-6b934dc7c1d3 button.colab-df-convert');\n",
              "      buttonEl.style.display =\n",
              "        google.colab.kernel.accessAllowed ? 'block' : 'none';\n",
              "\n",
              "      async function convertToInteractive(key) {\n",
              "        const element = document.querySelector('#df-eaebb890-3529-4724-8240-6b934dc7c1d3');\n",
              "        const dataTable =\n",
              "          await google.colab.kernel.invokeFunction('convertToInteractive',\n",
              "                                                    [key], {});\n",
              "        if (!dataTable) return;\n",
              "\n",
              "        const docLinkHtml = 'Like what you see? Visit the ' +\n",
              "          '<a target=\"_blank\" href=https://colab.research.google.com/notebooks/data_table.ipynb>data table notebook</a>'\n",
              "          + ' to learn more about interactive tables.';\n",
              "        element.innerHTML = '';\n",
              "        dataTable['output_type'] = 'display_data';\n",
              "        await google.colab.output.renderOutput(dataTable, element);\n",
              "        const docLink = document.createElement('div');\n",
              "        docLink.innerHTML = docLinkHtml;\n",
              "        element.appendChild(docLink);\n",
              "      }\n",
              "    </script>\n",
              "  </div>\n",
              "\n",
              "\n",
              "<div id=\"df-f53ad1da-faef-495a-8fee-82abe0d61492\">\n",
              "  <button class=\"colab-df-quickchart\" onclick=\"quickchart('df-f53ad1da-faef-495a-8fee-82abe0d61492')\"\n",
              "            title=\"Suggest charts\"\n",
              "            style=\"display:none;\">\n",
              "\n",
              "<svg xmlns=\"http://www.w3.org/2000/svg\" height=\"24px\"viewBox=\"0 0 24 24\"\n",
              "     width=\"24px\">\n",
              "    <g>\n",
              "        <path d=\"M19 3H5c-1.1 0-2 .9-2 2v14c0 1.1.9 2 2 2h14c1.1 0 2-.9 2-2V5c0-1.1-.9-2-2-2zM9 17H7v-7h2v7zm4 0h-2V7h2v10zm4 0h-2v-4h2v4z\"/>\n",
              "    </g>\n",
              "</svg>\n",
              "  </button>\n",
              "\n",
              "<style>\n",
              "  .colab-df-quickchart {\n",
              "      --bg-color: #E8F0FE;\n",
              "      --fill-color: #1967D2;\n",
              "      --hover-bg-color: #E2EBFA;\n",
              "      --hover-fill-color: #174EA6;\n",
              "      --disabled-fill-color: #AAA;\n",
              "      --disabled-bg-color: #DDD;\n",
              "  }\n",
              "\n",
              "  [theme=dark] .colab-df-quickchart {\n",
              "      --bg-color: #3B4455;\n",
              "      --fill-color: #D2E3FC;\n",
              "      --hover-bg-color: #434B5C;\n",
              "      --hover-fill-color: #FFFFFF;\n",
              "      --disabled-bg-color: #3B4455;\n",
              "      --disabled-fill-color: #666;\n",
              "  }\n",
              "\n",
              "  .colab-df-quickchart {\n",
              "    background-color: var(--bg-color);\n",
              "    border: none;\n",
              "    border-radius: 50%;\n",
              "    cursor: pointer;\n",
              "    display: none;\n",
              "    fill: var(--fill-color);\n",
              "    height: 32px;\n",
              "    padding: 0;\n",
              "    width: 32px;\n",
              "  }\n",
              "\n",
              "  .colab-df-quickchart:hover {\n",
              "    background-color: var(--hover-bg-color);\n",
              "    box-shadow: 0 1px 2px rgba(60, 64, 67, 0.3), 0 1px 3px 1px rgba(60, 64, 67, 0.15);\n",
              "    fill: var(--button-hover-fill-color);\n",
              "  }\n",
              "\n",
              "  .colab-df-quickchart-complete:disabled,\n",
              "  .colab-df-quickchart-complete:disabled:hover {\n",
              "    background-color: var(--disabled-bg-color);\n",
              "    fill: var(--disabled-fill-color);\n",
              "    box-shadow: none;\n",
              "  }\n",
              "\n",
              "  .colab-df-spinner {\n",
              "    border: 2px solid var(--fill-color);\n",
              "    border-color: transparent;\n",
              "    border-bottom-color: var(--fill-color);\n",
              "    animation:\n",
              "      spin 1s steps(1) infinite;\n",
              "  }\n",
              "\n",
              "  @keyframes spin {\n",
              "    0% {\n",
              "      border-color: transparent;\n",
              "      border-bottom-color: var(--fill-color);\n",
              "      border-left-color: var(--fill-color);\n",
              "    }\n",
              "    20% {\n",
              "      border-color: transparent;\n",
              "      border-left-color: var(--fill-color);\n",
              "      border-top-color: var(--fill-color);\n",
              "    }\n",
              "    30% {\n",
              "      border-color: transparent;\n",
              "      border-left-color: var(--fill-color);\n",
              "      border-top-color: var(--fill-color);\n",
              "      border-right-color: var(--fill-color);\n",
              "    }\n",
              "    40% {\n",
              "      border-color: transparent;\n",
              "      border-right-color: var(--fill-color);\n",
              "      border-top-color: var(--fill-color);\n",
              "    }\n",
              "    60% {\n",
              "      border-color: transparent;\n",
              "      border-right-color: var(--fill-color);\n",
              "    }\n",
              "    80% {\n",
              "      border-color: transparent;\n",
              "      border-right-color: var(--fill-color);\n",
              "      border-bottom-color: var(--fill-color);\n",
              "    }\n",
              "    90% {\n",
              "      border-color: transparent;\n",
              "      border-bottom-color: var(--fill-color);\n",
              "    }\n",
              "  }\n",
              "</style>\n",
              "\n",
              "  <script>\n",
              "    async function quickchart(key) {\n",
              "      const quickchartButtonEl =\n",
              "        document.querySelector('#' + key + ' button');\n",
              "      quickchartButtonEl.disabled = true;  // To prevent multiple clicks.\n",
              "      quickchartButtonEl.classList.add('colab-df-spinner');\n",
              "      try {\n",
              "        const charts = await google.colab.kernel.invokeFunction(\n",
              "            'suggestCharts', [key], {});\n",
              "      } catch (error) {\n",
              "        console.error('Error during call to suggestCharts:', error);\n",
              "      }\n",
              "      quickchartButtonEl.classList.remove('colab-df-spinner');\n",
              "      quickchartButtonEl.classList.add('colab-df-quickchart-complete');\n",
              "    }\n",
              "    (() => {\n",
              "      let quickchartButtonEl =\n",
              "        document.querySelector('#df-f53ad1da-faef-495a-8fee-82abe0d61492 button');\n",
              "      quickchartButtonEl.style.display =\n",
              "        google.colab.kernel.accessAllowed ? 'block' : 'none';\n",
              "    })();\n",
              "  </script>\n",
              "</div>\n",
              "\n",
              "    </div>\n",
              "  </div>\n"
            ],
            "application/vnd.google.colaboratory.intrinsic+json": {
              "type": "dataframe",
              "variable_name": "df"
            }
          },
          "metadata": {},
          "execution_count": 17
        }
      ]
    },
    {
      "cell_type": "markdown",
      "source": [
        "# Organizando o Sexo"
      ],
      "metadata": {
        "id": "pupO1F6RX-2f"
      }
    },
    {
      "cell_type": "code",
      "source": [
        "df.replace({'sexo':{'A': 'M', 'B':'F'}}, inplace=True)\n",
        "df['sexo']"
      ],
      "metadata": {
        "colab": {
          "base_uri": "https://localhost:8080/",
          "height": 458
        },
        "id": "61s00OLuYMfo",
        "outputId": "574d0a2e-84a7-4c05-b47f-52c0ac88f7cb"
      },
      "execution_count": null,
      "outputs": [
        {
          "output_type": "execute_result",
          "data": {
            "text/plain": [
              "0      F\n",
              "1      M\n",
              "2      M\n",
              "3      F\n",
              "4      M\n",
              "      ..\n",
              "324    M\n",
              "325    F\n",
              "326    M\n",
              "327    M\n",
              "328    M\n",
              "Name: sexo, Length: 329, dtype: object"
            ],
            "text/html": [
              "<div>\n",
              "<style scoped>\n",
              "    .dataframe tbody tr th:only-of-type {\n",
              "        vertical-align: middle;\n",
              "    }\n",
              "\n",
              "    .dataframe tbody tr th {\n",
              "        vertical-align: top;\n",
              "    }\n",
              "\n",
              "    .dataframe thead th {\n",
              "        text-align: right;\n",
              "    }\n",
              "</style>\n",
              "<table border=\"1\" class=\"dataframe\">\n",
              "  <thead>\n",
              "    <tr style=\"text-align: right;\">\n",
              "      <th></th>\n",
              "      <th>sexo</th>\n",
              "    </tr>\n",
              "  </thead>\n",
              "  <tbody>\n",
              "    <tr>\n",
              "      <th>0</th>\n",
              "      <td>F</td>\n",
              "    </tr>\n",
              "    <tr>\n",
              "      <th>1</th>\n",
              "      <td>M</td>\n",
              "    </tr>\n",
              "    <tr>\n",
              "      <th>2</th>\n",
              "      <td>M</td>\n",
              "    </tr>\n",
              "    <tr>\n",
              "      <th>3</th>\n",
              "      <td>F</td>\n",
              "    </tr>\n",
              "    <tr>\n",
              "      <th>4</th>\n",
              "      <td>M</td>\n",
              "    </tr>\n",
              "    <tr>\n",
              "      <th>...</th>\n",
              "      <td>...</td>\n",
              "    </tr>\n",
              "    <tr>\n",
              "      <th>324</th>\n",
              "      <td>M</td>\n",
              "    </tr>\n",
              "    <tr>\n",
              "      <th>325</th>\n",
              "      <td>F</td>\n",
              "    </tr>\n",
              "    <tr>\n",
              "      <th>326</th>\n",
              "      <td>M</td>\n",
              "    </tr>\n",
              "    <tr>\n",
              "      <th>327</th>\n",
              "      <td>M</td>\n",
              "    </tr>\n",
              "    <tr>\n",
              "      <th>328</th>\n",
              "      <td>M</td>\n",
              "    </tr>\n",
              "  </tbody>\n",
              "</table>\n",
              "<p>329 rows × 1 columns</p>\n",
              "</div><br><label><b>dtype:</b> object</label>"
            ]
          },
          "metadata": {},
          "execution_count": 18
        }
      ]
    },
    {
      "cell_type": "markdown",
      "source": [
        "# Estado civil"
      ],
      "metadata": {
        "id": "f-wxsvEhZMCw"
      }
    },
    {
      "cell_type": "code",
      "source": [
        "df['estado civil'].unique()"
      ],
      "metadata": {
        "colab": {
          "base_uri": "https://localhost:8080/"
        },
        "id": "bpKkF2HaZoDo",
        "outputId": "8f02d5b1-ea34-4e21-b5e8-2f8de9939411"
      },
      "execution_count": null,
      "outputs": [
        {
          "output_type": "execute_result",
          "data": {
            "text/plain": [
              "array(['A', 'B', 'D', 'C', 'E'], dtype=object)"
            ]
          },
          "metadata": {},
          "execution_count": 19
        }
      ]
    },
    {
      "cell_type": "code",
      "source": [
        "df['estado civil'].replace({'A':'Solteiro', 'B':'Casado', 'C':'Divorciado', 'D':'Viuvo', 'E':'Outro'}, inplace=True)\n",
        "df['estado civil'].unique()"
      ],
      "metadata": {
        "colab": {
          "base_uri": "https://localhost:8080/"
        },
        "id": "Uzmqu4iPZiyg",
        "outputId": "963a2291-a5a5-4a0b-abc9-36d572259673"
      },
      "execution_count": null,
      "outputs": [
        {
          "output_type": "stream",
          "name": "stderr",
          "text": [
            "<ipython-input-20-8fae1ec1b7fe>:1: FutureWarning: A value is trying to be set on a copy of a DataFrame or Series through chained assignment using an inplace method.\n",
            "The behavior will change in pandas 3.0. This inplace method will never work because the intermediate object on which we are setting values always behaves as a copy.\n",
            "\n",
            "For example, when doing 'df[col].method(value, inplace=True)', try using 'df.method({col: value}, inplace=True)' or df[col] = df[col].method(value) instead, to perform the operation inplace on the original object.\n",
            "\n",
            "\n",
            "  df['estado civil'].replace({'A':'Solteiro', 'B':'Casado', 'C':'Divorciado', 'D':'Viuvo', 'E':'Outro'}, inplace=True)\n"
          ]
        },
        {
          "output_type": "execute_result",
          "data": {
            "text/plain": [
              "array(['Solteiro', 'Casado', 'Viuvo', 'Divorciado', 'Outro'], dtype=object)"
            ]
          },
          "metadata": {},
          "execution_count": 20
        }
      ]
    },
    {
      "cell_type": "markdown",
      "source": [
        "# Nivel de Instrução"
      ],
      "metadata": {
        "id": "EYIJPN1Eaivx"
      }
    },
    {
      "cell_type": "code",
      "source": [
        "df['nível de instrução'].unique()"
      ],
      "metadata": {
        "colab": {
          "base_uri": "https://localhost:8080/"
        },
        "id": "lBrztWjUaiPx",
        "outputId": "fc117794-5967-497b-ff78-8dccb75e980b"
      },
      "execution_count": null,
      "outputs": [
        {
          "output_type": "execute_result",
          "data": {
            "text/plain": [
              "array(['E', 'D', 'F', 'A', 'I', 'G', 'H', 'B', 'J', 'C'], dtype=object)"
            ]
          },
          "metadata": {},
          "execution_count": 21
        }
      ]
    },
    {
      "cell_type": "code",
      "source": [
        "from sklearn.preprocessing import LabelEncoder\n",
        "le = LabelEncoder()\n",
        "df['nível de instrução'] = le.fit_transform(df['nível de instrução'])\n",
        "df['nível de instrução'].unique()"
      ],
      "metadata": {
        "colab": {
          "base_uri": "https://localhost:8080/"
        },
        "id": "l-rXtp-_azFA",
        "outputId": "62c3f8f4-31a1-4b30-9c19-9dfe0a9c0f15"
      },
      "execution_count": null,
      "outputs": [
        {
          "output_type": "execute_result",
          "data": {
            "text/plain": [
              "array([4, 3, 5, 0, 8, 6, 7, 1, 9, 2])"
            ]
          },
          "metadata": {},
          "execution_count": 22
        }
      ]
    },
    {
      "cell_type": "markdown",
      "source": [
        "Os valores númericos escalam de, ***Sem Escolaridade*** até ***Doutorado***"
      ],
      "metadata": {
        "id": "IY9znV_hbQhB"
      }
    },
    {
      "cell_type": "markdown",
      "source": [
        "# Casa Propria"
      ],
      "metadata": {
        "id": "YeGjAx6NbiNw"
      }
    },
    {
      "cell_type": "code",
      "source": [
        "df['casa própria'].unique()"
      ],
      "metadata": {
        "colab": {
          "base_uri": "https://localhost:8080/"
        },
        "id": "oI_yD8p1bl4p",
        "outputId": "fe575318-e971-45c7-ef15-3d6cb926240b"
      },
      "execution_count": null,
      "outputs": [
        {
          "output_type": "execute_result",
          "data": {
            "text/plain": [
              "array(['B', 'A', 'E'], dtype=object)"
            ]
          },
          "metadata": {},
          "execution_count": 23
        }
      ]
    },
    {
      "cell_type": "code",
      "source": [
        "df['casa própria'].replace({'A':'Sim', 'B':'Não'}, inplace=True)\n",
        "df['casa própria'].unique()"
      ],
      "metadata": {
        "colab": {
          "base_uri": "https://localhost:8080/"
        },
        "id": "lx9-ubBCbpGY",
        "outputId": "849b26bc-ca5b-43fe-b4e9-3315b3b464d7"
      },
      "execution_count": null,
      "outputs": [
        {
          "output_type": "stream",
          "name": "stderr",
          "text": [
            "<ipython-input-24-3bc5008ad2bd>:1: FutureWarning: A value is trying to be set on a copy of a DataFrame or Series through chained assignment using an inplace method.\n",
            "The behavior will change in pandas 3.0. This inplace method will never work because the intermediate object on which we are setting values always behaves as a copy.\n",
            "\n",
            "For example, when doing 'df[col].method(value, inplace=True)', try using 'df.method({col: value}, inplace=True)' or df[col] = df[col].method(value) instead, to perform the operation inplace on the original object.\n",
            "\n",
            "\n",
            "  df['casa própria'].replace({'A':'Sim', 'B':'Não'}, inplace=True)\n"
          ]
        },
        {
          "output_type": "execute_result",
          "data": {
            "text/plain": [
              "array(['Não', 'Sim', 'E'], dtype=object)"
            ]
          },
          "metadata": {},
          "execution_count": 24
        }
      ]
    },
    {
      "cell_type": "code",
      "source": [
        "df['casa própria'].value_counts()"
      ],
      "metadata": {
        "colab": {
          "base_uri": "https://localhost:8080/",
          "height": 210
        },
        "id": "xzfNxy2obxLY",
        "outputId": "8bffd599-3562-47a7-fd05-4e59580fa084"
      },
      "execution_count": null,
      "outputs": [
        {
          "output_type": "execute_result",
          "data": {
            "text/plain": [
              "casa própria\n",
              "Não    164\n",
              "Sim    163\n",
              "E        2\n",
              "Name: count, dtype: int64"
            ],
            "text/html": [
              "<div>\n",
              "<style scoped>\n",
              "    .dataframe tbody tr th:only-of-type {\n",
              "        vertical-align: middle;\n",
              "    }\n",
              "\n",
              "    .dataframe tbody tr th {\n",
              "        vertical-align: top;\n",
              "    }\n",
              "\n",
              "    .dataframe thead th {\n",
              "        text-align: right;\n",
              "    }\n",
              "</style>\n",
              "<table border=\"1\" class=\"dataframe\">\n",
              "  <thead>\n",
              "    <tr style=\"text-align: right;\">\n",
              "      <th></th>\n",
              "      <th>count</th>\n",
              "    </tr>\n",
              "    <tr>\n",
              "      <th>casa própria</th>\n",
              "      <th></th>\n",
              "    </tr>\n",
              "  </thead>\n",
              "  <tbody>\n",
              "    <tr>\n",
              "      <th>Não</th>\n",
              "      <td>164</td>\n",
              "    </tr>\n",
              "    <tr>\n",
              "      <th>Sim</th>\n",
              "      <td>163</td>\n",
              "    </tr>\n",
              "    <tr>\n",
              "      <th>E</th>\n",
              "      <td>2</td>\n",
              "    </tr>\n",
              "  </tbody>\n",
              "</table>\n",
              "</div><br><label><b>dtype:</b> int64</label>"
            ]
          },
          "metadata": {},
          "execution_count": 25
        }
      ]
    },
    {
      "cell_type": "code",
      "source": [
        "df['casa própria'].replace({'E':np.nan}, inplace=True)\n",
        "df['casa própria'].value_counts()"
      ],
      "metadata": {
        "colab": {
          "base_uri": "https://localhost:8080/",
          "height": 178
        },
        "id": "AMDqwfhTb1-4",
        "outputId": "c32d2fa6-6e7e-4f72-d5c0-6b2f990d9b22"
      },
      "execution_count": null,
      "outputs": [
        {
          "output_type": "execute_result",
          "data": {
            "text/plain": [
              "casa própria\n",
              "Não    164\n",
              "Sim    163\n",
              "Name: count, dtype: int64"
            ],
            "text/html": [
              "<div>\n",
              "<style scoped>\n",
              "    .dataframe tbody tr th:only-of-type {\n",
              "        vertical-align: middle;\n",
              "    }\n",
              "\n",
              "    .dataframe tbody tr th {\n",
              "        vertical-align: top;\n",
              "    }\n",
              "\n",
              "    .dataframe thead th {\n",
              "        text-align: right;\n",
              "    }\n",
              "</style>\n",
              "<table border=\"1\" class=\"dataframe\">\n",
              "  <thead>\n",
              "    <tr style=\"text-align: right;\">\n",
              "      <th></th>\n",
              "      <th>count</th>\n",
              "    </tr>\n",
              "    <tr>\n",
              "      <th>casa própria</th>\n",
              "      <th></th>\n",
              "    </tr>\n",
              "  </thead>\n",
              "  <tbody>\n",
              "    <tr>\n",
              "      <th>Não</th>\n",
              "      <td>164</td>\n",
              "    </tr>\n",
              "    <tr>\n",
              "      <th>Sim</th>\n",
              "      <td>163</td>\n",
              "    </tr>\n",
              "  </tbody>\n",
              "</table>\n",
              "</div><br><label><b>dtype:</b> int64</label>"
            ]
          },
          "metadata": {},
          "execution_count": 27
        }
      ]
    },
    {
      "cell_type": "markdown",
      "source": [
        "# Filhos"
      ],
      "metadata": {
        "id": "usNeotbOcHZj"
      }
    },
    {
      "cell_type": "code",
      "source": [
        "df['filhos'].unique()"
      ],
      "metadata": {
        "colab": {
          "base_uri": "https://localhost:8080/"
        },
        "id": "lPK9KFU5cUDa",
        "outputId": "6fd798d7-41af-4504-e6dc-b61dabc1ad2c"
      },
      "execution_count": null,
      "outputs": [
        {
          "output_type": "execute_result",
          "data": {
            "text/plain": [
              "array(['B', 'C', 'D', 'A'], dtype=object)"
            ]
          },
          "metadata": {},
          "execution_count": 28
        }
      ]
    },
    {
      "cell_type": "code",
      "source": [
        "df['filhos'].replace({'A':'0', 'B':'1', 'C':'2', 'D':'3+'}, inplace=True)\n",
        "df['filhos'].unique()"
      ],
      "metadata": {
        "colab": {
          "base_uri": "https://localhost:8080/"
        },
        "id": "QTCPhCltcZQB",
        "outputId": "c4fbe2b8-515b-4d2a-d44c-0ec7048571c0"
      },
      "execution_count": null,
      "outputs": [
        {
          "output_type": "stream",
          "name": "stderr",
          "text": [
            "<ipython-input-29-65991b503295>:1: FutureWarning: A value is trying to be set on a copy of a DataFrame or Series through chained assignment using an inplace method.\n",
            "The behavior will change in pandas 3.0. This inplace method will never work because the intermediate object on which we are setting values always behaves as a copy.\n",
            "\n",
            "For example, when doing 'df[col].method(value, inplace=True)', try using 'df.method({col: value}, inplace=True)' or df[col] = df[col].method(value) instead, to perform the operation inplace on the original object.\n",
            "\n",
            "\n",
            "  df['filhos'].replace({'A':'0', 'B':'1', 'C':'2', 'D':'3+'}, inplace=True)\n"
          ]
        },
        {
          "output_type": "execute_result",
          "data": {
            "text/plain": [
              "array(['1', '2', '3+', '0'], dtype=object)"
            ]
          },
          "metadata": {},
          "execution_count": 29
        }
      ]
    },
    {
      "cell_type": "markdown",
      "source": [
        "# Moradores em Residencia"
      ],
      "metadata": {
        "id": "bRt0W1Zlcl3A"
      }
    },
    {
      "cell_type": "code",
      "source": [
        "df['moradores'].unique()"
      ],
      "metadata": {
        "colab": {
          "base_uri": "https://localhost:8080/"
        },
        "id": "4m3Hu8gUct2a",
        "outputId": "4222c7f2-14e5-4f7d-f36c-99610701d1fc"
      },
      "execution_count": null,
      "outputs": [
        {
          "output_type": "execute_result",
          "data": {
            "text/plain": [
              "array(['C', 'E', 'A', 'D', 'B'], dtype=object)"
            ]
          },
          "metadata": {},
          "execution_count": 30
        }
      ]
    },
    {
      "cell_type": "code",
      "source": [
        "df['moradores']\n",
        "df['moradores'].unique()"
      ],
      "metadata": {
        "colab": {
          "base_uri": "https://localhost:8080/"
        },
        "id": "xkF9Y56Xcy0J",
        "outputId": "4b64aa96-048b-4fdf-eb90-dc2c7708f92f"
      },
      "execution_count": null,
      "outputs": [
        {
          "output_type": "stream",
          "name": "stderr",
          "text": [
            "<ipython-input-31-36a225404548>:1: FutureWarning: A value is trying to be set on a copy of a DataFrame or Series through chained assignment using an inplace method.\n",
            "The behavior will change in pandas 3.0. This inplace method will never work because the intermediate object on which we are setting values always behaves as a copy.\n",
            "\n",
            "For example, when doing 'df[col].method(value, inplace=True)', try using 'df.method({col: value}, inplace=True)' or df[col] = df[col].method(value) instead, to perform the operation inplace on the original object.\n",
            "\n",
            "\n",
            "  df['moradores'].replace({'A':'1', 'B':'2', 'C':'3', 'D':'4', 'E':'5+'}, inplace=True)\n"
          ]
        },
        {
          "output_type": "execute_result",
          "data": {
            "text/plain": [
              "array(['3', '5+', '1', '4', '2'], dtype=object)"
            ]
          },
          "metadata": {},
          "execution_count": 31
        }
      ]
    },
    {
      "cell_type": "code",
      "source": [
        "df.head()"
      ],
      "metadata": {
        "colab": {
          "base_uri": "https://localhost:8080/",
          "height": 446
        },
        "id": "uG4ILkGXdEwC",
        "outputId": "d58b382e-fb07-4558-d246-cd4d1542c449"
      },
      "execution_count": null,
      "outputs": [
        {
          "output_type": "execute_result",
          "data": {
            "text/plain": [
              "  sexo idade estado civil  nível de instrução casa própria filhos moradores  \\\n",
              "0    F    23     Solteiro                   4          Não      1         3   \n",
              "1    M    38       Casado                   3          Sim      2        5+   \n",
              "2    M    26       Casado                   4          Não      1         3   \n",
              "3    F    26     Solteiro                   5          Sim      1         3   \n",
              "4    M    50        Viuvo                   3          Sim     3+         1   \n",
              "\n",
              "   renda familiar trabalho  renda pessoal  ...  \\\n",
              "0            4200        D           2400  ...   \n",
              "1            5000        D           3800  ...   \n",
              "2            3000        D           1500  ...   \n",
              "3            3000        B           1800  ...   \n",
              "4            1320        C           1320  ...   \n",
              "\n",
              "  qualidade de vida nos últimos anos auxílio do governo satisfação  \\\n",
              "0                                  B             NENHUM          C   \n",
              "1                                  B      BOLSA FAMÍLIA          C   \n",
              "2                                  B      BOLSA FAMÍLIA          B   \n",
              "3                                  A      BOLSA FAMÍLIA          C   \n",
              "4                                  B             NENHUM          A   \n",
              "\n",
              "  número de amigos lazer religião já morou em outros lugares  \\\n",
              "0                B     B        C                        NÃO   \n",
              "1                B     B        A                 BELÉM - PA   \n",
              "2                B     B        B               GURUPI  - TO   \n",
              "3                B     B        D              XINGUARA - PA   \n",
              "4                B     B        B             FORTALEZA - CE   \n",
              "\n",
              "  ocupação em outro município sair de palmas  \\\n",
              "0                           X              B   \n",
              "1                    PEDREIRO              B   \n",
              "2                       VIGIA              B   \n",
              "3                  BALCONISTA              A   \n",
              "4                           X              B   \n",
              "\n",
              "                              emprego específico  \n",
              "0  OPERADOR DE CAIXA E DESIGNER DE SOMBRANCELHAS  \n",
              "1                                           GARI  \n",
              "2                                SERVIÇOS GERAIS  \n",
              "3                                      VENDEDORA  \n",
              "4                                       PORTEIRO  \n",
              "\n",
              "[5 rows x 34 columns]"
            ],
            "text/html": [
              "\n",
              "  <div id=\"df-c467f586-a869-41fe-911d-1696151968dc\" class=\"colab-df-container\">\n",
              "    <div>\n",
              "<style scoped>\n",
              "    .dataframe tbody tr th:only-of-type {\n",
              "        vertical-align: middle;\n",
              "    }\n",
              "\n",
              "    .dataframe tbody tr th {\n",
              "        vertical-align: top;\n",
              "    }\n",
              "\n",
              "    .dataframe thead th {\n",
              "        text-align: right;\n",
              "    }\n",
              "</style>\n",
              "<table border=\"1\" class=\"dataframe\">\n",
              "  <thead>\n",
              "    <tr style=\"text-align: right;\">\n",
              "      <th></th>\n",
              "      <th>sexo</th>\n",
              "      <th>idade</th>\n",
              "      <th>estado civil</th>\n",
              "      <th>nível de instrução</th>\n",
              "      <th>casa própria</th>\n",
              "      <th>filhos</th>\n",
              "      <th>moradores</th>\n",
              "      <th>renda familiar</th>\n",
              "      <th>trabalho</th>\n",
              "      <th>renda pessoal</th>\n",
              "      <th>...</th>\n",
              "      <th>qualidade de vida nos últimos anos</th>\n",
              "      <th>auxílio do governo</th>\n",
              "      <th>satisfação</th>\n",
              "      <th>número de amigos</th>\n",
              "      <th>lazer</th>\n",
              "      <th>religião</th>\n",
              "      <th>já morou em outros lugares</th>\n",
              "      <th>ocupação em outro município</th>\n",
              "      <th>sair de palmas</th>\n",
              "      <th>emprego específico</th>\n",
              "    </tr>\n",
              "  </thead>\n",
              "  <tbody>\n",
              "    <tr>\n",
              "      <th>0</th>\n",
              "      <td>F</td>\n",
              "      <td>23</td>\n",
              "      <td>Solteiro</td>\n",
              "      <td>4</td>\n",
              "      <td>Não</td>\n",
              "      <td>1</td>\n",
              "      <td>3</td>\n",
              "      <td>4200</td>\n",
              "      <td>D</td>\n",
              "      <td>2400</td>\n",
              "      <td>...</td>\n",
              "      <td>B</td>\n",
              "      <td>NENHUM</td>\n",
              "      <td>C</td>\n",
              "      <td>B</td>\n",
              "      <td>B</td>\n",
              "      <td>C</td>\n",
              "      <td>NÃO</td>\n",
              "      <td>X</td>\n",
              "      <td>B</td>\n",
              "      <td>OPERADOR DE CAIXA E DESIGNER DE SOMBRANCELHAS</td>\n",
              "    </tr>\n",
              "    <tr>\n",
              "      <th>1</th>\n",
              "      <td>M</td>\n",
              "      <td>38</td>\n",
              "      <td>Casado</td>\n",
              "      <td>3</td>\n",
              "      <td>Sim</td>\n",
              "      <td>2</td>\n",
              "      <td>5+</td>\n",
              "      <td>5000</td>\n",
              "      <td>D</td>\n",
              "      <td>3800</td>\n",
              "      <td>...</td>\n",
              "      <td>B</td>\n",
              "      <td>BOLSA FAMÍLIA</td>\n",
              "      <td>C</td>\n",
              "      <td>B</td>\n",
              "      <td>B</td>\n",
              "      <td>A</td>\n",
              "      <td>BELÉM - PA</td>\n",
              "      <td>PEDREIRO</td>\n",
              "      <td>B</td>\n",
              "      <td>GARI</td>\n",
              "    </tr>\n",
              "    <tr>\n",
              "      <th>2</th>\n",
              "      <td>M</td>\n",
              "      <td>26</td>\n",
              "      <td>Casado</td>\n",
              "      <td>4</td>\n",
              "      <td>Não</td>\n",
              "      <td>1</td>\n",
              "      <td>3</td>\n",
              "      <td>3000</td>\n",
              "      <td>D</td>\n",
              "      <td>1500</td>\n",
              "      <td>...</td>\n",
              "      <td>B</td>\n",
              "      <td>BOLSA FAMÍLIA</td>\n",
              "      <td>B</td>\n",
              "      <td>B</td>\n",
              "      <td>B</td>\n",
              "      <td>B</td>\n",
              "      <td>GURUPI  - TO</td>\n",
              "      <td>VIGIA</td>\n",
              "      <td>B</td>\n",
              "      <td>SERVIÇOS GERAIS</td>\n",
              "    </tr>\n",
              "    <tr>\n",
              "      <th>3</th>\n",
              "      <td>F</td>\n",
              "      <td>26</td>\n",
              "      <td>Solteiro</td>\n",
              "      <td>5</td>\n",
              "      <td>Sim</td>\n",
              "      <td>1</td>\n",
              "      <td>3</td>\n",
              "      <td>3000</td>\n",
              "      <td>B</td>\n",
              "      <td>1800</td>\n",
              "      <td>...</td>\n",
              "      <td>A</td>\n",
              "      <td>BOLSA FAMÍLIA</td>\n",
              "      <td>C</td>\n",
              "      <td>B</td>\n",
              "      <td>B</td>\n",
              "      <td>D</td>\n",
              "      <td>XINGUARA - PA</td>\n",
              "      <td>BALCONISTA</td>\n",
              "      <td>A</td>\n",
              "      <td>VENDEDORA</td>\n",
              "    </tr>\n",
              "    <tr>\n",
              "      <th>4</th>\n",
              "      <td>M</td>\n",
              "      <td>50</td>\n",
              "      <td>Viuvo</td>\n",
              "      <td>3</td>\n",
              "      <td>Sim</td>\n",
              "      <td>3+</td>\n",
              "      <td>1</td>\n",
              "      <td>1320</td>\n",
              "      <td>C</td>\n",
              "      <td>1320</td>\n",
              "      <td>...</td>\n",
              "      <td>B</td>\n",
              "      <td>NENHUM</td>\n",
              "      <td>A</td>\n",
              "      <td>B</td>\n",
              "      <td>B</td>\n",
              "      <td>B</td>\n",
              "      <td>FORTALEZA - CE</td>\n",
              "      <td>X</td>\n",
              "      <td>B</td>\n",
              "      <td>PORTEIRO</td>\n",
              "    </tr>\n",
              "  </tbody>\n",
              "</table>\n",
              "<p>5 rows × 34 columns</p>\n",
              "</div>\n",
              "    <div class=\"colab-df-buttons\">\n",
              "\n",
              "  <div class=\"colab-df-container\">\n",
              "    <button class=\"colab-df-convert\" onclick=\"convertToInteractive('df-c467f586-a869-41fe-911d-1696151968dc')\"\n",
              "            title=\"Convert this dataframe to an interactive table.\"\n",
              "            style=\"display:none;\">\n",
              "\n",
              "  <svg xmlns=\"http://www.w3.org/2000/svg\" height=\"24px\" viewBox=\"0 -960 960 960\">\n",
              "    <path d=\"M120-120v-720h720v720H120Zm60-500h600v-160H180v160Zm220 220h160v-160H400v160Zm0 220h160v-160H400v160ZM180-400h160v-160H180v160Zm440 0h160v-160H620v160ZM180-180h160v-160H180v160Zm440 0h160v-160H620v160Z\"/>\n",
              "  </svg>\n",
              "    </button>\n",
              "\n",
              "  <style>\n",
              "    .colab-df-container {\n",
              "      display:flex;\n",
              "      gap: 12px;\n",
              "    }\n",
              "\n",
              "    .colab-df-convert {\n",
              "      background-color: #E8F0FE;\n",
              "      border: none;\n",
              "      border-radius: 50%;\n",
              "      cursor: pointer;\n",
              "      display: none;\n",
              "      fill: #1967D2;\n",
              "      height: 32px;\n",
              "      padding: 0 0 0 0;\n",
              "      width: 32px;\n",
              "    }\n",
              "\n",
              "    .colab-df-convert:hover {\n",
              "      background-color: #E2EBFA;\n",
              "      box-shadow: 0px 1px 2px rgba(60, 64, 67, 0.3), 0px 1px 3px 1px rgba(60, 64, 67, 0.15);\n",
              "      fill: #174EA6;\n",
              "    }\n",
              "\n",
              "    .colab-df-buttons div {\n",
              "      margin-bottom: 4px;\n",
              "    }\n",
              "\n",
              "    [theme=dark] .colab-df-convert {\n",
              "      background-color: #3B4455;\n",
              "      fill: #D2E3FC;\n",
              "    }\n",
              "\n",
              "    [theme=dark] .colab-df-convert:hover {\n",
              "      background-color: #434B5C;\n",
              "      box-shadow: 0px 1px 3px 1px rgba(0, 0, 0, 0.15);\n",
              "      filter: drop-shadow(0px 1px 2px rgba(0, 0, 0, 0.3));\n",
              "      fill: #FFFFFF;\n",
              "    }\n",
              "  </style>\n",
              "\n",
              "    <script>\n",
              "      const buttonEl =\n",
              "        document.querySelector('#df-c467f586-a869-41fe-911d-1696151968dc button.colab-df-convert');\n",
              "      buttonEl.style.display =\n",
              "        google.colab.kernel.accessAllowed ? 'block' : 'none';\n",
              "\n",
              "      async function convertToInteractive(key) {\n",
              "        const element = document.querySelector('#df-c467f586-a869-41fe-911d-1696151968dc');\n",
              "        const dataTable =\n",
              "          await google.colab.kernel.invokeFunction('convertToInteractive',\n",
              "                                                    [key], {});\n",
              "        if (!dataTable) return;\n",
              "\n",
              "        const docLinkHtml = 'Like what you see? Visit the ' +\n",
              "          '<a target=\"_blank\" href=https://colab.research.google.com/notebooks/data_table.ipynb>data table notebook</a>'\n",
              "          + ' to learn more about interactive tables.';\n",
              "        element.innerHTML = '';\n",
              "        dataTable['output_type'] = 'display_data';\n",
              "        await google.colab.output.renderOutput(dataTable, element);\n",
              "        const docLink = document.createElement('div');\n",
              "        docLink.innerHTML = docLinkHtml;\n",
              "        element.appendChild(docLink);\n",
              "      }\n",
              "    </script>\n",
              "  </div>\n",
              "\n",
              "\n",
              "<div id=\"df-2936c0c8-41c9-45ba-b03b-4e86e6c57af7\">\n",
              "  <button class=\"colab-df-quickchart\" onclick=\"quickchart('df-2936c0c8-41c9-45ba-b03b-4e86e6c57af7')\"\n",
              "            title=\"Suggest charts\"\n",
              "            style=\"display:none;\">\n",
              "\n",
              "<svg xmlns=\"http://www.w3.org/2000/svg\" height=\"24px\"viewBox=\"0 0 24 24\"\n",
              "     width=\"24px\">\n",
              "    <g>\n",
              "        <path d=\"M19 3H5c-1.1 0-2 .9-2 2v14c0 1.1.9 2 2 2h14c1.1 0 2-.9 2-2V5c0-1.1-.9-2-2-2zM9 17H7v-7h2v7zm4 0h-2V7h2v10zm4 0h-2v-4h2v4z\"/>\n",
              "    </g>\n",
              "</svg>\n",
              "  </button>\n",
              "\n",
              "<style>\n",
              "  .colab-df-quickchart {\n",
              "      --bg-color: #E8F0FE;\n",
              "      --fill-color: #1967D2;\n",
              "      --hover-bg-color: #E2EBFA;\n",
              "      --hover-fill-color: #174EA6;\n",
              "      --disabled-fill-color: #AAA;\n",
              "      --disabled-bg-color: #DDD;\n",
              "  }\n",
              "\n",
              "  [theme=dark] .colab-df-quickchart {\n",
              "      --bg-color: #3B4455;\n",
              "      --fill-color: #D2E3FC;\n",
              "      --hover-bg-color: #434B5C;\n",
              "      --hover-fill-color: #FFFFFF;\n",
              "      --disabled-bg-color: #3B4455;\n",
              "      --disabled-fill-color: #666;\n",
              "  }\n",
              "\n",
              "  .colab-df-quickchart {\n",
              "    background-color: var(--bg-color);\n",
              "    border: none;\n",
              "    border-radius: 50%;\n",
              "    cursor: pointer;\n",
              "    display: none;\n",
              "    fill: var(--fill-color);\n",
              "    height: 32px;\n",
              "    padding: 0;\n",
              "    width: 32px;\n",
              "  }\n",
              "\n",
              "  .colab-df-quickchart:hover {\n",
              "    background-color: var(--hover-bg-color);\n",
              "    box-shadow: 0 1px 2px rgba(60, 64, 67, 0.3), 0 1px 3px 1px rgba(60, 64, 67, 0.15);\n",
              "    fill: var(--button-hover-fill-color);\n",
              "  }\n",
              "\n",
              "  .colab-df-quickchart-complete:disabled,\n",
              "  .colab-df-quickchart-complete:disabled:hover {\n",
              "    background-color: var(--disabled-bg-color);\n",
              "    fill: var(--disabled-fill-color);\n",
              "    box-shadow: none;\n",
              "  }\n",
              "\n",
              "  .colab-df-spinner {\n",
              "    border: 2px solid var(--fill-color);\n",
              "    border-color: transparent;\n",
              "    border-bottom-color: var(--fill-color);\n",
              "    animation:\n",
              "      spin 1s steps(1) infinite;\n",
              "  }\n",
              "\n",
              "  @keyframes spin {\n",
              "    0% {\n",
              "      border-color: transparent;\n",
              "      border-bottom-color: var(--fill-color);\n",
              "      border-left-color: var(--fill-color);\n",
              "    }\n",
              "    20% {\n",
              "      border-color: transparent;\n",
              "      border-left-color: var(--fill-color);\n",
              "      border-top-color: var(--fill-color);\n",
              "    }\n",
              "    30% {\n",
              "      border-color: transparent;\n",
              "      border-left-color: var(--fill-color);\n",
              "      border-top-color: var(--fill-color);\n",
              "      border-right-color: var(--fill-color);\n",
              "    }\n",
              "    40% {\n",
              "      border-color: transparent;\n",
              "      border-right-color: var(--fill-color);\n",
              "      border-top-color: var(--fill-color);\n",
              "    }\n",
              "    60% {\n",
              "      border-color: transparent;\n",
              "      border-right-color: var(--fill-color);\n",
              "    }\n",
              "    80% {\n",
              "      border-color: transparent;\n",
              "      border-right-color: var(--fill-color);\n",
              "      border-bottom-color: var(--fill-color);\n",
              "    }\n",
              "    90% {\n",
              "      border-color: transparent;\n",
              "      border-bottom-color: var(--fill-color);\n",
              "    }\n",
              "  }\n",
              "</style>\n",
              "\n",
              "  <script>\n",
              "    async function quickchart(key) {\n",
              "      const quickchartButtonEl =\n",
              "        document.querySelector('#' + key + ' button');\n",
              "      quickchartButtonEl.disabled = true;  // To prevent multiple clicks.\n",
              "      quickchartButtonEl.classList.add('colab-df-spinner');\n",
              "      try {\n",
              "        const charts = await google.colab.kernel.invokeFunction(\n",
              "            'suggestCharts', [key], {});\n",
              "      } catch (error) {\n",
              "        console.error('Error during call to suggestCharts:', error);\n",
              "      }\n",
              "      quickchartButtonEl.classList.remove('colab-df-spinner');\n",
              "      quickchartButtonEl.classList.add('colab-df-quickchart-complete');\n",
              "    }\n",
              "    (() => {\n",
              "      let quickchartButtonEl =\n",
              "        document.querySelector('#df-2936c0c8-41c9-45ba-b03b-4e86e6c57af7 button');\n",
              "      quickchartButtonEl.style.display =\n",
              "        google.colab.kernel.accessAllowed ? 'block' : 'none';\n",
              "    })();\n",
              "  </script>\n",
              "</div>\n",
              "\n",
              "    </div>\n",
              "  </div>\n"
            ],
            "application/vnd.google.colaboratory.intrinsic+json": {
              "type": "dataframe",
              "variable_name": "df"
            }
          },
          "metadata": {},
          "execution_count": 32
        }
      ]
    },
    {
      "cell_type": "markdown",
      "source": [
        "# Trabalho"
      ],
      "metadata": {
        "id": "w3guuKSIdCNS"
      }
    },
    {
      "cell_type": "code",
      "source": [
        "df['trabalho'].unique()"
      ],
      "metadata": {
        "colab": {
          "base_uri": "https://localhost:8080/"
        },
        "id": "TSD24V3KeE3B",
        "outputId": "09e2d225-9bbc-466d-94f6-e81a2a467176"
      },
      "execution_count": null,
      "outputs": [
        {
          "output_type": "execute_result",
          "data": {
            "text/plain": [
              "array(['D', 'B', 'C', 'A', 'E'], dtype=object)"
            ]
          },
          "metadata": {},
          "execution_count": 33
        }
      ]
    },
    {
      "cell_type": "code",
      "source": [
        "df['trabalho'].replace({'A':'Não', 'B':'Recebe auxílio', 'C':'Sim', 'D':'Ajuda a família', 'E':'Sustenta a família'}, inplace=True)\n",
        "df['trabalho'].value_counts()"
      ],
      "metadata": {
        "colab": {
          "base_uri": "https://localhost:8080/",
          "height": 414
        },
        "id": "vnTHBcPmeL8x",
        "outputId": "161b7078-1fdc-4b08-fe50-18ff5459ff82"
      },
      "execution_count": null,
      "outputs": [
        {
          "output_type": "stream",
          "name": "stderr",
          "text": [
            "<ipython-input-34-fbbfd3db9ea8>:1: FutureWarning: A value is trying to be set on a copy of a DataFrame or Series through chained assignment using an inplace method.\n",
            "The behavior will change in pandas 3.0. This inplace method will never work because the intermediate object on which we are setting values always behaves as a copy.\n",
            "\n",
            "For example, when doing 'df[col].method(value, inplace=True)', try using 'df.method({col: value}, inplace=True)' or df[col] = df[col].method(value) instead, to perform the operation inplace on the original object.\n",
            "\n",
            "\n",
            "  df['trabalho'].replace({'A':'Não', 'B':'Recebe auxílio', 'C':'Sim', 'D':'Ajuda a família', 'E':'Sustenta a família'}, inplace=True)\n"
          ]
        },
        {
          "output_type": "execute_result",
          "data": {
            "text/plain": [
              "trabalho\n",
              "Ajuda a família       112\n",
              "Sim                   107\n",
              "Sustenta a família     47\n",
              "Recebe auxílio         35\n",
              "Não                    28\n",
              "Name: count, dtype: int64"
            ],
            "text/html": [
              "<div>\n",
              "<style scoped>\n",
              "    .dataframe tbody tr th:only-of-type {\n",
              "        vertical-align: middle;\n",
              "    }\n",
              "\n",
              "    .dataframe tbody tr th {\n",
              "        vertical-align: top;\n",
              "    }\n",
              "\n",
              "    .dataframe thead th {\n",
              "        text-align: right;\n",
              "    }\n",
              "</style>\n",
              "<table border=\"1\" class=\"dataframe\">\n",
              "  <thead>\n",
              "    <tr style=\"text-align: right;\">\n",
              "      <th></th>\n",
              "      <th>count</th>\n",
              "    </tr>\n",
              "    <tr>\n",
              "      <th>trabalho</th>\n",
              "      <th></th>\n",
              "    </tr>\n",
              "  </thead>\n",
              "  <tbody>\n",
              "    <tr>\n",
              "      <th>Ajuda a família</th>\n",
              "      <td>112</td>\n",
              "    </tr>\n",
              "    <tr>\n",
              "      <th>Sim</th>\n",
              "      <td>107</td>\n",
              "    </tr>\n",
              "    <tr>\n",
              "      <th>Sustenta a família</th>\n",
              "      <td>47</td>\n",
              "    </tr>\n",
              "    <tr>\n",
              "      <th>Recebe auxílio</th>\n",
              "      <td>35</td>\n",
              "    </tr>\n",
              "    <tr>\n",
              "      <th>Não</th>\n",
              "      <td>28</td>\n",
              "    </tr>\n",
              "  </tbody>\n",
              "</table>\n",
              "</div><br><label><b>dtype:</b> int64</label>"
            ]
          },
          "metadata": {},
          "execution_count": 34
        }
      ]
    },
    {
      "cell_type": "code",
      "source": [
        "df.columns"
      ],
      "metadata": {
        "colab": {
          "base_uri": "https://localhost:8080/"
        },
        "id": "bElyb0Rve-1R",
        "outputId": "1f558f5c-c752-4e7a-bc4e-c28f2fc9b413"
      },
      "execution_count": null,
      "outputs": [
        {
          "output_type": "execute_result",
          "data": {
            "text/plain": [
              "Index(['sexo', 'idade', 'estado civil', 'nível de instrução', 'casa própria',\n",
              "       'filhos', 'moradores', 'renda familiar', 'trabalho', 'renda pessoal',\n",
              "       'tempo em palmas', 'renda anterior', 'qualidade de vida',\n",
              "       'possui mais bens', 'qualidade de vida futura', 'pode melhorar',\n",
              "       'fatores', 'violencia', 'qualidade educaional', 'setor de trabalho',\n",
              "       'que setor recomenda', 'cidade natal', 'anos de trabalho', 'drogas',\n",
              "       'qualidade de vida nos últimos anos', 'auxílio do governo',\n",
              "       'satisfação', 'número de amigos', 'lazer', 'religião',\n",
              "       'já morou em outros lugares', 'ocupação em outro município',\n",
              "       'sair de palmas', 'emprego específico'],\n",
              "      dtype='object')"
            ]
          },
          "metadata": {},
          "execution_count": 37
        }
      ]
    },
    {
      "cell_type": "markdown",
      "source": [
        "# Renda Anterior"
      ],
      "metadata": {
        "id": "j-jd0pgDeEQS"
      }
    },
    {
      "cell_type": "code",
      "source": [
        "df['renda anterior'].unique()"
      ],
      "metadata": {
        "colab": {
          "base_uri": "https://localhost:8080/"
        },
        "id": "LAc-b4MzfNzx",
        "outputId": "5509b43f-293c-48ba-a1eb-daa55be4cc8c"
      },
      "execution_count": null,
      "outputs": [
        {
          "output_type": "execute_result",
          "data": {
            "text/plain": [
              "array(['X', 1500, 900, 0, 2000, 850, 1400, 1000, 3000, 1800, 800, 2500,\n",
              "       1300, 2600, 2614, 300, 500, 3500, 100, 18000, 5000, 400, 10000,\n",
              "       1100, 4000, 14000, 6000, 12000, 650, 950, 700, 724, 1212, 1050,\n",
              "       750, 8000, 460, 1200, 15000, 1250, 5011, 600, 1700, 1750, 1320,\n",
              "       2100, 30000, 200, 150], dtype=object)"
            ]
          },
          "metadata": {},
          "execution_count": 38
        }
      ]
    },
    {
      "cell_type": "markdown",
      "source": [
        "# Qualidade de Vida"
      ],
      "metadata": {
        "id": "vEe40TBDfTe7"
      }
    },
    {
      "cell_type": "code",
      "source": [
        "df['qualidade de vida'].unique()"
      ],
      "metadata": {
        "colab": {
          "base_uri": "https://localhost:8080/"
        },
        "id": "361pfmWLfWVq",
        "outputId": "f30175fd-c484-410c-d373-be3a689c08d9"
      },
      "execution_count": null,
      "outputs": [
        {
          "output_type": "execute_result",
          "data": {
            "text/plain": [
              "array(['D', 'A', 'B', 'C'], dtype=object)"
            ]
          },
          "metadata": {},
          "execution_count": 39
        }
      ]
    },
    {
      "cell_type": "code",
      "source": [
        "df['qualidade de vida'].replace({'A':'Melhorou', 'B':'Igual', 'C':'Piorou', 'D':'Sou Morador'}, inplace=True)\n",
        "df = df.rename(columns = {'qualidade de vida':'qualidade de vida imigrante'})\n",
        "df['qualidade de vida imigrante'].unique()"
      ],
      "metadata": {
        "colab": {
          "base_uri": "https://localhost:8080/"
        },
        "id": "_QpdAlhrfjFi",
        "outputId": "fc0350d0-846d-4bcc-fb14-80b964e3516b"
      },
      "execution_count": null,
      "outputs": [
        {
          "output_type": "execute_result",
          "data": {
            "text/plain": [
              "array(['Sou Morador', 'Melhorou', 'Igual', 'Piorou'], dtype=object)"
            ]
          },
          "metadata": {},
          "execution_count": 41
        }
      ]
    },
    {
      "cell_type": "markdown",
      "source": [
        "# Bens"
      ],
      "metadata": {
        "id": "BE7pcardgdWD"
      }
    },
    {
      "cell_type": "code",
      "source": [
        "df['possui mais bens'].unique()"
      ],
      "metadata": {
        "colab": {
          "base_uri": "https://localhost:8080/"
        },
        "id": "5Q9oDDBmgjqL",
        "outputId": "b844af37-1740-4bef-849c-f2a7a5d57c02"
      },
      "execution_count": null,
      "outputs": [
        {
          "output_type": "execute_result",
          "data": {
            "text/plain": [
              "array(['C', 'A', 'B'], dtype=object)"
            ]
          },
          "metadata": {},
          "execution_count": 42
        }
      ]
    },
    {
      "cell_type": "code",
      "source": [
        "df['possui mais bens'].replace({'A':'Aumentou', 'B':'Não Aumentou', 'C':'Sou Morador'}, inplace=True)\n",
        "df = df.rename(columns = {'possui mais bens':'bens ao imigrar'})\n",
        "df['bens ao imigrar'].unique()"
      ],
      "metadata": {
        "colab": {
          "base_uri": "https://localhost:8080/"
        },
        "id": "AkaM3u6ggtwi",
        "outputId": "7f34786d-5e8e-46b7-acd3-8aad3d8ee250"
      },
      "execution_count": null,
      "outputs": [
        {
          "output_type": "stream",
          "name": "stderr",
          "text": [
            "<ipython-input-43-41b94223994f>:1: FutureWarning: A value is trying to be set on a copy of a DataFrame or Series through chained assignment using an inplace method.\n",
            "The behavior will change in pandas 3.0. This inplace method will never work because the intermediate object on which we are setting values always behaves as a copy.\n",
            "\n",
            "For example, when doing 'df[col].method(value, inplace=True)', try using 'df.method({col: value}, inplace=True)' or df[col] = df[col].method(value) instead, to perform the operation inplace on the original object.\n",
            "\n",
            "\n",
            "  df['possui mais bens'].replace({'A':'Aumentou', 'B':'Não Aumentou', 'C':'Sou Morador'}, inplace=True)\n"
          ]
        },
        {
          "output_type": "execute_result",
          "data": {
            "text/plain": [
              "array(['Sou Morador', 'Aumentou', 'Não Aumentou'], dtype=object)"
            ]
          },
          "metadata": {},
          "execution_count": 43
        }
      ]
    },
    {
      "cell_type": "markdown",
      "source": [
        "# Qualidade de Vida Futura"
      ],
      "metadata": {
        "id": "ryas8pPtg_vj"
      }
    },
    {
      "cell_type": "code",
      "source": [
        "df['qualidade de vida futura'].unique()"
      ],
      "metadata": {
        "colab": {
          "base_uri": "https://localhost:8080/"
        },
        "id": "WceCPLnghEmk",
        "outputId": "96ce5ab6-9cd7-456a-d3f0-61297f478938"
      },
      "execution_count": null,
      "outputs": [
        {
          "output_type": "execute_result",
          "data": {
            "text/plain": [
              "array(['A', 'B'], dtype=object)"
            ]
          },
          "metadata": {},
          "execution_count": 44
        }
      ]
    },
    {
      "cell_type": "code",
      "source": [
        "df['qualidade de vida futura'].replace({'A':'Melhora', 'B':'Sem Melhora'}, inplace=True)\n",
        "df = df.rename(columns = {'qualidade de vida futura':'qualidade em cinco anos'})\n",
        "df['qualidade em cinco anos'].unique()"
      ],
      "metadata": {
        "colab": {
          "base_uri": "https://localhost:8080/"
        },
        "id": "HPvjHtrmhJmi",
        "outputId": "6d2dbbdd-5506-486a-b788-2fcb6361e302"
      },
      "execution_count": null,
      "outputs": [
        {
          "output_type": "stream",
          "name": "stderr",
          "text": [
            "<ipython-input-45-0e0ccee38c1e>:1: FutureWarning: A value is trying to be set on a copy of a DataFrame or Series through chained assignment using an inplace method.\n",
            "The behavior will change in pandas 3.0. This inplace method will never work because the intermediate object on which we are setting values always behaves as a copy.\n",
            "\n",
            "For example, when doing 'df[col].method(value, inplace=True)', try using 'df.method({col: value}, inplace=True)' or df[col] = df[col].method(value) instead, to perform the operation inplace on the original object.\n",
            "\n",
            "\n",
            "  df['qualidade de vida futura'].replace({'A':'Melhora', 'B':'Sem Melhora'}, inplace=True)\n"
          ]
        },
        {
          "output_type": "execute_result",
          "data": {
            "text/plain": [
              "array(['Melhora', 'Sem Melhora'], dtype=object)"
            ]
          },
          "metadata": {},
          "execution_count": 45
        }
      ]
    },
    {
      "cell_type": "markdown",
      "source": [
        "# Pode Melhorar"
      ],
      "metadata": {
        "id": "MNR-x6WphgCL"
      }
    },
    {
      "cell_type": "code",
      "source": [
        "df['pode melhorar'].unique()"
      ],
      "metadata": {
        "colab": {
          "base_uri": "https://localhost:8080/"
        },
        "id": "_xpJuyMZhn5z",
        "outputId": "3db9be40-2f72-4e86-b31f-c05785b2682b"
      },
      "execution_count": null,
      "outputs": [
        {
          "output_type": "execute_result",
          "data": {
            "text/plain": [
              "array(['A', 'B'], dtype=object)"
            ]
          },
          "metadata": {},
          "execution_count": 46
        }
      ]
    },
    {
      "cell_type": "code",
      "source": [
        "df['pode melhorar'].replace({'A':'Sim', 'B':'Não'}, inplace=True)\n",
        "df = df.rename(columns = {'pode melhorar':'pode melhorar em cinco anos'})\n",
        "df['pode melhorar em cinco anos'].unique()"
      ],
      "metadata": {
        "colab": {
          "base_uri": "https://localhost:8080/"
        },
        "id": "c_zaX6Hfhx6T",
        "outputId": "5945e98a-268a-483f-b099-63fc6ab6bfd5"
      },
      "execution_count": null,
      "outputs": [
        {
          "output_type": "stream",
          "name": "stderr",
          "text": [
            "<ipython-input-47-18b142fa96b0>:1: FutureWarning: A value is trying to be set on a copy of a DataFrame or Series through chained assignment using an inplace method.\n",
            "The behavior will change in pandas 3.0. This inplace method will never work because the intermediate object on which we are setting values always behaves as a copy.\n",
            "\n",
            "For example, when doing 'df[col].method(value, inplace=True)', try using 'df.method({col: value}, inplace=True)' or df[col] = df[col].method(value) instead, to perform the operation inplace on the original object.\n",
            "\n",
            "\n",
            "  df['pode melhorar'].replace({'A':'Sim', 'B':'Não'}, inplace=True)\n"
          ]
        },
        {
          "output_type": "execute_result",
          "data": {
            "text/plain": [
              "array(['Sim', 'Não'], dtype=object)"
            ]
          },
          "metadata": {},
          "execution_count": 47
        }
      ]
    },
    {
      "cell_type": "markdown",
      "source": [
        "# Fatores"
      ],
      "metadata": {
        "id": "Zx8dtEuPh-mh"
      }
    },
    {
      "cell_type": "code",
      "source": [
        "df['fatores'].unique()"
      ],
      "metadata": {
        "colab": {
          "base_uri": "https://localhost:8080/"
        },
        "id": "3jHCxDOIiGRz",
        "outputId": "4804d684-959d-4f10-c1c2-4de45cad19cd"
      },
      "execution_count": null,
      "outputs": [
        {
          "output_type": "execute_result",
          "data": {
            "text/plain": [
              "array(['G', 'A C', 'C D', 'A D', 'D E', 'C E', 'A E', 'A',\n",
              "       'F (PROXIMIDADE AOS PAIS)', 'F (VIM COM A FAMÍLIA)', 'C', 'F', 'E',\n",
              "       'F (MUDANÇA FAMILIAR)', 'D', 'F (BUSCA DE OPORTUNIODADES)',\n",
              "       'F (AGRÔNOMO)', 'C F (FILHOS)', ' A E', 'B E', 'F (CASA)',\n",
              "       'F (FAMÍLIA)', 'F (TRABALHO)', 'F (FAMÍLA)', 'A B C D E ', 'B C',\n",
              "       'F (TRANSFERÊNCIA, TRABALHO)', 'B', 'A C E',\n",
              "       'F (OPORTUNIDADE DE EMPREGO)', 'F (TRANSFERÊNCIA)', 'A C D',\n",
              "       'C F (LAZER)', 'F (NESCESSIDADE)'], dtype=object)"
            ]
          },
          "metadata": {},
          "execution_count": 48
        }
      ]
    },
    {
      "cell_type": "code",
      "source": [
        "df.drop(columns='fatores', inplace=True)\n",
        "df.columns"
      ],
      "metadata": {
        "colab": {
          "base_uri": "https://localhost:8080/"
        },
        "id": "5PKzwHSgiRwD",
        "outputId": "be0db8e9-cf2b-410a-871d-b4af83428fca"
      },
      "execution_count": null,
      "outputs": [
        {
          "output_type": "execute_result",
          "data": {
            "text/plain": [
              "Index(['sexo', 'idade', 'estado civil', 'nível de instrução', 'casa própria',\n",
              "       'filhos', 'moradores', 'renda familiar', 'trabalho', 'renda pessoal',\n",
              "       'tempo em palmas', 'renda anterior', 'qualidade de vida imigrante',\n",
              "       'bens ao imigrar', 'qualidade em cinco anos',\n",
              "       'pode melhorar em cinco anos', 'violencia', 'qualidade educaional',\n",
              "       'setor de trabalho', 'que setor recomenda', 'cidade natal',\n",
              "       'anos de trabalho', 'drogas', 'qualidade de vida nos últimos anos',\n",
              "       'auxílio do governo', 'satisfação', 'número de amigos', 'lazer',\n",
              "       'religião', 'já morou em outros lugares', 'ocupação em outro município',\n",
              "       'sair de palmas', 'emprego específico'],\n",
              "      dtype='object')"
            ]
          },
          "metadata": {},
          "execution_count": 49
        }
      ]
    },
    {
      "cell_type": "markdown",
      "source": [
        "# Violencia"
      ],
      "metadata": {
        "id": "ruvnUN_7imbj"
      }
    },
    {
      "cell_type": "code",
      "source": [
        "df['violencia'].unique()"
      ],
      "metadata": {
        "colab": {
          "base_uri": "https://localhost:8080/"
        },
        "id": "2e3NUx-eindz",
        "outputId": "9a87dfd1-3e28-454c-8773-40c062a68bec"
      },
      "execution_count": null,
      "outputs": [
        {
          "output_type": "execute_result",
          "data": {
            "text/plain": [
              "array(['C', 'A', 'B', 'V'], dtype=object)"
            ]
          },
          "metadata": {},
          "execution_count": 50
        }
      ]
    },
    {
      "cell_type": "code",
      "source": [
        "df['violencia'].replace({'A':'Muito Violenta', 'B':'Violenta', 'C':'Pouco Violenta', 'V':np.nan}, inplace=True)\n",
        "df['violencia'].value_counts()"
      ],
      "metadata": {
        "colab": {
          "base_uri": "https://localhost:8080/",
          "height": 351
        },
        "id": "hKSgpF5gipIL",
        "outputId": "2a4e31f2-0942-4d6c-eb98-d825e7fb81c7"
      },
      "execution_count": null,
      "outputs": [
        {
          "output_type": "stream",
          "name": "stderr",
          "text": [
            "<ipython-input-51-4e5e817ad535>:1: FutureWarning: A value is trying to be set on a copy of a DataFrame or Series through chained assignment using an inplace method.\n",
            "The behavior will change in pandas 3.0. This inplace method will never work because the intermediate object on which we are setting values always behaves as a copy.\n",
            "\n",
            "For example, when doing 'df[col].method(value, inplace=True)', try using 'df.method({col: value}, inplace=True)' or df[col] = df[col].method(value) instead, to perform the operation inplace on the original object.\n",
            "\n",
            "\n",
            "  df['violencia'].replace({'A':'Muito Violenta', 'B':'Violenta', 'C':'Pouco Violenta', 'V':np.nan}, inplace=True)\n"
          ]
        },
        {
          "output_type": "execute_result",
          "data": {
            "text/plain": [
              "violencia\n",
              "Violenta          147\n",
              "Pouco Violenta    143\n",
              "Muito Violenta     38\n",
              "Name: count, dtype: int64"
            ],
            "text/html": [
              "<div>\n",
              "<style scoped>\n",
              "    .dataframe tbody tr th:only-of-type {\n",
              "        vertical-align: middle;\n",
              "    }\n",
              "\n",
              "    .dataframe tbody tr th {\n",
              "        vertical-align: top;\n",
              "    }\n",
              "\n",
              "    .dataframe thead th {\n",
              "        text-align: right;\n",
              "    }\n",
              "</style>\n",
              "<table border=\"1\" class=\"dataframe\">\n",
              "  <thead>\n",
              "    <tr style=\"text-align: right;\">\n",
              "      <th></th>\n",
              "      <th>count</th>\n",
              "    </tr>\n",
              "    <tr>\n",
              "      <th>violencia</th>\n",
              "      <th></th>\n",
              "    </tr>\n",
              "  </thead>\n",
              "  <tbody>\n",
              "    <tr>\n",
              "      <th>Violenta</th>\n",
              "      <td>147</td>\n",
              "    </tr>\n",
              "    <tr>\n",
              "      <th>Pouco Violenta</th>\n",
              "      <td>143</td>\n",
              "    </tr>\n",
              "    <tr>\n",
              "      <th>Muito Violenta</th>\n",
              "      <td>38</td>\n",
              "    </tr>\n",
              "  </tbody>\n",
              "</table>\n",
              "</div><br><label><b>dtype:</b> int64</label>"
            ]
          },
          "metadata": {},
          "execution_count": 51
        }
      ]
    },
    {
      "cell_type": "markdown",
      "source": [
        "# Qualidade Educacional"
      ],
      "metadata": {
        "id": "McR__gF8jFPj"
      }
    },
    {
      "cell_type": "code",
      "source": [
        "df['qualidade educaional'].unique()"
      ],
      "metadata": {
        "colab": {
          "base_uri": "https://localhost:8080/"
        },
        "id": "YgFH_xFsjRIV",
        "outputId": "0e155eae-19aa-4510-8132-e02ed254fc4c"
      },
      "execution_count": null,
      "outputs": [
        {
          "output_type": "execute_result",
          "data": {
            "text/plain": [
              "array(['B', 'A', 'C'], dtype=object)"
            ]
          },
          "metadata": {},
          "execution_count": 52
        }
      ]
    },
    {
      "cell_type": "code",
      "source": [
        "df['qualidade educaional'].replace({'A':'Boa', 'B':'Regular', 'C':'Ruim'}, inplace=True)\n",
        "df['qualidade educaional'].unique()"
      ],
      "metadata": {
        "colab": {
          "base_uri": "https://localhost:8080/"
        },
        "id": "FuvtGWmxjWRl",
        "outputId": "df960d75-5b79-4ecd-8ce0-3a9ae3184c84"
      },
      "execution_count": null,
      "outputs": [
        {
          "output_type": "stream",
          "name": "stderr",
          "text": [
            "<ipython-input-53-a97958cc5257>:1: FutureWarning: A value is trying to be set on a copy of a DataFrame or Series through chained assignment using an inplace method.\n",
            "The behavior will change in pandas 3.0. This inplace method will never work because the intermediate object on which we are setting values always behaves as a copy.\n",
            "\n",
            "For example, when doing 'df[col].method(value, inplace=True)', try using 'df.method({col: value}, inplace=True)' or df[col] = df[col].method(value) instead, to perform the operation inplace on the original object.\n",
            "\n",
            "\n",
            "  df['qualidade educaional'].replace({'A':'Boa', 'B':'Regular', 'C':'Ruim'}, inplace=True)\n"
          ]
        },
        {
          "output_type": "execute_result",
          "data": {
            "text/plain": [
              "array(['Regular', 'Boa', 'Ruim'], dtype=object)"
            ]
          },
          "metadata": {},
          "execution_count": 53
        }
      ]
    },
    {
      "cell_type": "code",
      "source": [
        "df.head()"
      ],
      "metadata": {
        "colab": {
          "base_uri": "https://localhost:8080/",
          "height": 446
        },
        "id": "Z1e4ZII1jmw9",
        "outputId": "7095a1a6-85c4-4c1c-c67c-a9b021bff9a4"
      },
      "execution_count": null,
      "outputs": [
        {
          "output_type": "execute_result",
          "data": {
            "text/plain": [
              "  sexo idade estado civil  nível de instrução casa própria filhos moradores  \\\n",
              "0    F    23     Solteiro                   4          Não      1         3   \n",
              "1    M    38       Casado                   3          Sim      2        5+   \n",
              "2    M    26       Casado                   4          Não      1         3   \n",
              "3    F    26     Solteiro                   5          Sim      1         3   \n",
              "4    M    50        Viuvo                   3          Sim     3+         1   \n",
              "\n",
              "   renda familiar         trabalho  renda pessoal  ...  \\\n",
              "0            4200  Ajuda a família           2400  ...   \n",
              "1            5000  Ajuda a família           3800  ...   \n",
              "2            3000  Ajuda a família           1500  ...   \n",
              "3            3000   Recebe auxílio           1800  ...   \n",
              "4            1320              Sim           1320  ...   \n",
              "\n",
              "  qualidade de vida nos últimos anos auxílio do governo satisfação  \\\n",
              "0                                  B             NENHUM          C   \n",
              "1                                  B      BOLSA FAMÍLIA          C   \n",
              "2                                  B      BOLSA FAMÍLIA          B   \n",
              "3                                  A      BOLSA FAMÍLIA          C   \n",
              "4                                  B             NENHUM          A   \n",
              "\n",
              "  número de amigos lazer religião já morou em outros lugares  \\\n",
              "0                B     B        C                        NÃO   \n",
              "1                B     B        A                 BELÉM - PA   \n",
              "2                B     B        B               GURUPI  - TO   \n",
              "3                B     B        D              XINGUARA - PA   \n",
              "4                B     B        B             FORTALEZA - CE   \n",
              "\n",
              "  ocupação em outro município sair de palmas  \\\n",
              "0                           X              B   \n",
              "1                    PEDREIRO              B   \n",
              "2                       VIGIA              B   \n",
              "3                  BALCONISTA              A   \n",
              "4                           X              B   \n",
              "\n",
              "                              emprego específico  \n",
              "0  OPERADOR DE CAIXA E DESIGNER DE SOMBRANCELHAS  \n",
              "1                                           GARI  \n",
              "2                                SERVIÇOS GERAIS  \n",
              "3                                      VENDEDORA  \n",
              "4                                       PORTEIRO  \n",
              "\n",
              "[5 rows x 33 columns]"
            ],
            "text/html": [
              "\n",
              "  <div id=\"df-4ec9afb0-2790-413d-94d6-08f0dddba553\" class=\"colab-df-container\">\n",
              "    <div>\n",
              "<style scoped>\n",
              "    .dataframe tbody tr th:only-of-type {\n",
              "        vertical-align: middle;\n",
              "    }\n",
              "\n",
              "    .dataframe tbody tr th {\n",
              "        vertical-align: top;\n",
              "    }\n",
              "\n",
              "    .dataframe thead th {\n",
              "        text-align: right;\n",
              "    }\n",
              "</style>\n",
              "<table border=\"1\" class=\"dataframe\">\n",
              "  <thead>\n",
              "    <tr style=\"text-align: right;\">\n",
              "      <th></th>\n",
              "      <th>sexo</th>\n",
              "      <th>idade</th>\n",
              "      <th>estado civil</th>\n",
              "      <th>nível de instrução</th>\n",
              "      <th>casa própria</th>\n",
              "      <th>filhos</th>\n",
              "      <th>moradores</th>\n",
              "      <th>renda familiar</th>\n",
              "      <th>trabalho</th>\n",
              "      <th>renda pessoal</th>\n",
              "      <th>...</th>\n",
              "      <th>qualidade de vida nos últimos anos</th>\n",
              "      <th>auxílio do governo</th>\n",
              "      <th>satisfação</th>\n",
              "      <th>número de amigos</th>\n",
              "      <th>lazer</th>\n",
              "      <th>religião</th>\n",
              "      <th>já morou em outros lugares</th>\n",
              "      <th>ocupação em outro município</th>\n",
              "      <th>sair de palmas</th>\n",
              "      <th>emprego específico</th>\n",
              "    </tr>\n",
              "  </thead>\n",
              "  <tbody>\n",
              "    <tr>\n",
              "      <th>0</th>\n",
              "      <td>F</td>\n",
              "      <td>23</td>\n",
              "      <td>Solteiro</td>\n",
              "      <td>4</td>\n",
              "      <td>Não</td>\n",
              "      <td>1</td>\n",
              "      <td>3</td>\n",
              "      <td>4200</td>\n",
              "      <td>Ajuda a família</td>\n",
              "      <td>2400</td>\n",
              "      <td>...</td>\n",
              "      <td>B</td>\n",
              "      <td>NENHUM</td>\n",
              "      <td>C</td>\n",
              "      <td>B</td>\n",
              "      <td>B</td>\n",
              "      <td>C</td>\n",
              "      <td>NÃO</td>\n",
              "      <td>X</td>\n",
              "      <td>B</td>\n",
              "      <td>OPERADOR DE CAIXA E DESIGNER DE SOMBRANCELHAS</td>\n",
              "    </tr>\n",
              "    <tr>\n",
              "      <th>1</th>\n",
              "      <td>M</td>\n",
              "      <td>38</td>\n",
              "      <td>Casado</td>\n",
              "      <td>3</td>\n",
              "      <td>Sim</td>\n",
              "      <td>2</td>\n",
              "      <td>5+</td>\n",
              "      <td>5000</td>\n",
              "      <td>Ajuda a família</td>\n",
              "      <td>3800</td>\n",
              "      <td>...</td>\n",
              "      <td>B</td>\n",
              "      <td>BOLSA FAMÍLIA</td>\n",
              "      <td>C</td>\n",
              "      <td>B</td>\n",
              "      <td>B</td>\n",
              "      <td>A</td>\n",
              "      <td>BELÉM - PA</td>\n",
              "      <td>PEDREIRO</td>\n",
              "      <td>B</td>\n",
              "      <td>GARI</td>\n",
              "    </tr>\n",
              "    <tr>\n",
              "      <th>2</th>\n",
              "      <td>M</td>\n",
              "      <td>26</td>\n",
              "      <td>Casado</td>\n",
              "      <td>4</td>\n",
              "      <td>Não</td>\n",
              "      <td>1</td>\n",
              "      <td>3</td>\n",
              "      <td>3000</td>\n",
              "      <td>Ajuda a família</td>\n",
              "      <td>1500</td>\n",
              "      <td>...</td>\n",
              "      <td>B</td>\n",
              "      <td>BOLSA FAMÍLIA</td>\n",
              "      <td>B</td>\n",
              "      <td>B</td>\n",
              "      <td>B</td>\n",
              "      <td>B</td>\n",
              "      <td>GURUPI  - TO</td>\n",
              "      <td>VIGIA</td>\n",
              "      <td>B</td>\n",
              "      <td>SERVIÇOS GERAIS</td>\n",
              "    </tr>\n",
              "    <tr>\n",
              "      <th>3</th>\n",
              "      <td>F</td>\n",
              "      <td>26</td>\n",
              "      <td>Solteiro</td>\n",
              "      <td>5</td>\n",
              "      <td>Sim</td>\n",
              "      <td>1</td>\n",
              "      <td>3</td>\n",
              "      <td>3000</td>\n",
              "      <td>Recebe auxílio</td>\n",
              "      <td>1800</td>\n",
              "      <td>...</td>\n",
              "      <td>A</td>\n",
              "      <td>BOLSA FAMÍLIA</td>\n",
              "      <td>C</td>\n",
              "      <td>B</td>\n",
              "      <td>B</td>\n",
              "      <td>D</td>\n",
              "      <td>XINGUARA - PA</td>\n",
              "      <td>BALCONISTA</td>\n",
              "      <td>A</td>\n",
              "      <td>VENDEDORA</td>\n",
              "    </tr>\n",
              "    <tr>\n",
              "      <th>4</th>\n",
              "      <td>M</td>\n",
              "      <td>50</td>\n",
              "      <td>Viuvo</td>\n",
              "      <td>3</td>\n",
              "      <td>Sim</td>\n",
              "      <td>3+</td>\n",
              "      <td>1</td>\n",
              "      <td>1320</td>\n",
              "      <td>Sim</td>\n",
              "      <td>1320</td>\n",
              "      <td>...</td>\n",
              "      <td>B</td>\n",
              "      <td>NENHUM</td>\n",
              "      <td>A</td>\n",
              "      <td>B</td>\n",
              "      <td>B</td>\n",
              "      <td>B</td>\n",
              "      <td>FORTALEZA - CE</td>\n",
              "      <td>X</td>\n",
              "      <td>B</td>\n",
              "      <td>PORTEIRO</td>\n",
              "    </tr>\n",
              "  </tbody>\n",
              "</table>\n",
              "<p>5 rows × 33 columns</p>\n",
              "</div>\n",
              "    <div class=\"colab-df-buttons\">\n",
              "\n",
              "  <div class=\"colab-df-container\">\n",
              "    <button class=\"colab-df-convert\" onclick=\"convertToInteractive('df-4ec9afb0-2790-413d-94d6-08f0dddba553')\"\n",
              "            title=\"Convert this dataframe to an interactive table.\"\n",
              "            style=\"display:none;\">\n",
              "\n",
              "  <svg xmlns=\"http://www.w3.org/2000/svg\" height=\"24px\" viewBox=\"0 -960 960 960\">\n",
              "    <path d=\"M120-120v-720h720v720H120Zm60-500h600v-160H180v160Zm220 220h160v-160H400v160Zm0 220h160v-160H400v160ZM180-400h160v-160H180v160Zm440 0h160v-160H620v160ZM180-180h160v-160H180v160Zm440 0h160v-160H620v160Z\"/>\n",
              "  </svg>\n",
              "    </button>\n",
              "\n",
              "  <style>\n",
              "    .colab-df-container {\n",
              "      display:flex;\n",
              "      gap: 12px;\n",
              "    }\n",
              "\n",
              "    .colab-df-convert {\n",
              "      background-color: #E8F0FE;\n",
              "      border: none;\n",
              "      border-radius: 50%;\n",
              "      cursor: pointer;\n",
              "      display: none;\n",
              "      fill: #1967D2;\n",
              "      height: 32px;\n",
              "      padding: 0 0 0 0;\n",
              "      width: 32px;\n",
              "    }\n",
              "\n",
              "    .colab-df-convert:hover {\n",
              "      background-color: #E2EBFA;\n",
              "      box-shadow: 0px 1px 2px rgba(60, 64, 67, 0.3), 0px 1px 3px 1px rgba(60, 64, 67, 0.15);\n",
              "      fill: #174EA6;\n",
              "    }\n",
              "\n",
              "    .colab-df-buttons div {\n",
              "      margin-bottom: 4px;\n",
              "    }\n",
              "\n",
              "    [theme=dark] .colab-df-convert {\n",
              "      background-color: #3B4455;\n",
              "      fill: #D2E3FC;\n",
              "    }\n",
              "\n",
              "    [theme=dark] .colab-df-convert:hover {\n",
              "      background-color: #434B5C;\n",
              "      box-shadow: 0px 1px 3px 1px rgba(0, 0, 0, 0.15);\n",
              "      filter: drop-shadow(0px 1px 2px rgba(0, 0, 0, 0.3));\n",
              "      fill: #FFFFFF;\n",
              "    }\n",
              "  </style>\n",
              "\n",
              "    <script>\n",
              "      const buttonEl =\n",
              "        document.querySelector('#df-4ec9afb0-2790-413d-94d6-08f0dddba553 button.colab-df-convert');\n",
              "      buttonEl.style.display =\n",
              "        google.colab.kernel.accessAllowed ? 'block' : 'none';\n",
              "\n",
              "      async function convertToInteractive(key) {\n",
              "        const element = document.querySelector('#df-4ec9afb0-2790-413d-94d6-08f0dddba553');\n",
              "        const dataTable =\n",
              "          await google.colab.kernel.invokeFunction('convertToInteractive',\n",
              "                                                    [key], {});\n",
              "        if (!dataTable) return;\n",
              "\n",
              "        const docLinkHtml = 'Like what you see? Visit the ' +\n",
              "          '<a target=\"_blank\" href=https://colab.research.google.com/notebooks/data_table.ipynb>data table notebook</a>'\n",
              "          + ' to learn more about interactive tables.';\n",
              "        element.innerHTML = '';\n",
              "        dataTable['output_type'] = 'display_data';\n",
              "        await google.colab.output.renderOutput(dataTable, element);\n",
              "        const docLink = document.createElement('div');\n",
              "        docLink.innerHTML = docLinkHtml;\n",
              "        element.appendChild(docLink);\n",
              "      }\n",
              "    </script>\n",
              "  </div>\n",
              "\n",
              "\n",
              "<div id=\"df-467e0970-894d-4a1e-bdad-ce2bbb2758ba\">\n",
              "  <button class=\"colab-df-quickchart\" onclick=\"quickchart('df-467e0970-894d-4a1e-bdad-ce2bbb2758ba')\"\n",
              "            title=\"Suggest charts\"\n",
              "            style=\"display:none;\">\n",
              "\n",
              "<svg xmlns=\"http://www.w3.org/2000/svg\" height=\"24px\"viewBox=\"0 0 24 24\"\n",
              "     width=\"24px\">\n",
              "    <g>\n",
              "        <path d=\"M19 3H5c-1.1 0-2 .9-2 2v14c0 1.1.9 2 2 2h14c1.1 0 2-.9 2-2V5c0-1.1-.9-2-2-2zM9 17H7v-7h2v7zm4 0h-2V7h2v10zm4 0h-2v-4h2v4z\"/>\n",
              "    </g>\n",
              "</svg>\n",
              "  </button>\n",
              "\n",
              "<style>\n",
              "  .colab-df-quickchart {\n",
              "      --bg-color: #E8F0FE;\n",
              "      --fill-color: #1967D2;\n",
              "      --hover-bg-color: #E2EBFA;\n",
              "      --hover-fill-color: #174EA6;\n",
              "      --disabled-fill-color: #AAA;\n",
              "      --disabled-bg-color: #DDD;\n",
              "  }\n",
              "\n",
              "  [theme=dark] .colab-df-quickchart {\n",
              "      --bg-color: #3B4455;\n",
              "      --fill-color: #D2E3FC;\n",
              "      --hover-bg-color: #434B5C;\n",
              "      --hover-fill-color: #FFFFFF;\n",
              "      --disabled-bg-color: #3B4455;\n",
              "      --disabled-fill-color: #666;\n",
              "  }\n",
              "\n",
              "  .colab-df-quickchart {\n",
              "    background-color: var(--bg-color);\n",
              "    border: none;\n",
              "    border-radius: 50%;\n",
              "    cursor: pointer;\n",
              "    display: none;\n",
              "    fill: var(--fill-color);\n",
              "    height: 32px;\n",
              "    padding: 0;\n",
              "    width: 32px;\n",
              "  }\n",
              "\n",
              "  .colab-df-quickchart:hover {\n",
              "    background-color: var(--hover-bg-color);\n",
              "    box-shadow: 0 1px 2px rgba(60, 64, 67, 0.3), 0 1px 3px 1px rgba(60, 64, 67, 0.15);\n",
              "    fill: var(--button-hover-fill-color);\n",
              "  }\n",
              "\n",
              "  .colab-df-quickchart-complete:disabled,\n",
              "  .colab-df-quickchart-complete:disabled:hover {\n",
              "    background-color: var(--disabled-bg-color);\n",
              "    fill: var(--disabled-fill-color);\n",
              "    box-shadow: none;\n",
              "  }\n",
              "\n",
              "  .colab-df-spinner {\n",
              "    border: 2px solid var(--fill-color);\n",
              "    border-color: transparent;\n",
              "    border-bottom-color: var(--fill-color);\n",
              "    animation:\n",
              "      spin 1s steps(1) infinite;\n",
              "  }\n",
              "\n",
              "  @keyframes spin {\n",
              "    0% {\n",
              "      border-color: transparent;\n",
              "      border-bottom-color: var(--fill-color);\n",
              "      border-left-color: var(--fill-color);\n",
              "    }\n",
              "    20% {\n",
              "      border-color: transparent;\n",
              "      border-left-color: var(--fill-color);\n",
              "      border-top-color: var(--fill-color);\n",
              "    }\n",
              "    30% {\n",
              "      border-color: transparent;\n",
              "      border-left-color: var(--fill-color);\n",
              "      border-top-color: var(--fill-color);\n",
              "      border-right-color: var(--fill-color);\n",
              "    }\n",
              "    40% {\n",
              "      border-color: transparent;\n",
              "      border-right-color: var(--fill-color);\n",
              "      border-top-color: var(--fill-color);\n",
              "    }\n",
              "    60% {\n",
              "      border-color: transparent;\n",
              "      border-right-color: var(--fill-color);\n",
              "    }\n",
              "    80% {\n",
              "      border-color: transparent;\n",
              "      border-right-color: var(--fill-color);\n",
              "      border-bottom-color: var(--fill-color);\n",
              "    }\n",
              "    90% {\n",
              "      border-color: transparent;\n",
              "      border-bottom-color: var(--fill-color);\n",
              "    }\n",
              "  }\n",
              "</style>\n",
              "\n",
              "  <script>\n",
              "    async function quickchart(key) {\n",
              "      const quickchartButtonEl =\n",
              "        document.querySelector('#' + key + ' button');\n",
              "      quickchartButtonEl.disabled = true;  // To prevent multiple clicks.\n",
              "      quickchartButtonEl.classList.add('colab-df-spinner');\n",
              "      try {\n",
              "        const charts = await google.colab.kernel.invokeFunction(\n",
              "            'suggestCharts', [key], {});\n",
              "      } catch (error) {\n",
              "        console.error('Error during call to suggestCharts:', error);\n",
              "      }\n",
              "      quickchartButtonEl.classList.remove('colab-df-spinner');\n",
              "      quickchartButtonEl.classList.add('colab-df-quickchart-complete');\n",
              "    }\n",
              "    (() => {\n",
              "      let quickchartButtonEl =\n",
              "        document.querySelector('#df-467e0970-894d-4a1e-bdad-ce2bbb2758ba button');\n",
              "      quickchartButtonEl.style.display =\n",
              "        google.colab.kernel.accessAllowed ? 'block' : 'none';\n",
              "    })();\n",
              "  </script>\n",
              "</div>\n",
              "\n",
              "    </div>\n",
              "  </div>\n"
            ],
            "application/vnd.google.colaboratory.intrinsic+json": {
              "type": "dataframe",
              "variable_name": "df"
            }
          },
          "metadata": {},
          "execution_count": 54
        }
      ]
    },
    {
      "cell_type": "markdown",
      "source": [
        "# Setor de Trabalho"
      ],
      "metadata": {
        "id": "D2VDwi1YjjV9"
      }
    },
    {
      "cell_type": "code",
      "source": [
        "df['setor de trabalho'].unique()"
      ],
      "metadata": {
        "colab": {
          "base_uri": "https://localhost:8080/"
        },
        "id": "Qnu2D6DSjmId",
        "outputId": "2a07daff-41e3-43b5-f441-2c602328aa5b"
      },
      "execution_count": null,
      "outputs": [
        {
          "output_type": "execute_result",
          "data": {
            "text/plain": [
              "array(['B', 'A', 'C', 'E', 'D', 'F (AGRÔNOMO)', 'F (LOGISTICA)',\n",
              "       'F (SETOR DE SERVIÇOS AUTOMOTIVOS)', 'F (MOTORISTA)', 'A B',\n",
              "       'F (ARTESANATO)', 'F (AUTÔNOMO)', 'F (MERCADO)', 'F (EMPRESÁRIO)',\n",
              "       'F (COMERCIANTE)', 'F (AEROPORTUARIO)', 'F (DIARIA)',\n",
              "       'F (EMPRESÁRIA)'], dtype=object)"
            ]
          },
          "metadata": {},
          "execution_count": 55
        }
      ]
    },
    {
      "cell_type": "code",
      "source": [
        "import regex as re\n",
        "df['setor de trabalho'] = df['setor de trabalho'].apply(lambda x: re.sub(r'F.*', 'F', x))\n",
        "df['setor de trabalho'].replace({'A':'Público', 'B':'Privado', 'A B': 'Ambos Setores', 'C': 'Não Trabalha', 'D': 'PJ', 'E': 'Aposentado', 'F': 'Outro'}, inplace=True)\n",
        "df['setor de trabalho'].unique()"
      ],
      "metadata": {
        "colab": {
          "base_uri": "https://localhost:8080/"
        },
        "id": "IXrQV4fqjzJl",
        "outputId": "11849c4d-c43b-4583-8300-5d955a5ea98e"
      },
      "execution_count": null,
      "outputs": [
        {
          "output_type": "stream",
          "name": "stderr",
          "text": [
            "<ipython-input-56-abaa71df5bb9>:3: FutureWarning: A value is trying to be set on a copy of a DataFrame or Series through chained assignment using an inplace method.\n",
            "The behavior will change in pandas 3.0. This inplace method will never work because the intermediate object on which we are setting values always behaves as a copy.\n",
            "\n",
            "For example, when doing 'df[col].method(value, inplace=True)', try using 'df.method({col: value}, inplace=True)' or df[col] = df[col].method(value) instead, to perform the operation inplace on the original object.\n",
            "\n",
            "\n",
            "  df['setor de trabalho'].replace({'A':'Público', 'B':'Privado', 'A B': 'Ambos Setores', 'C': 'Não Trabalha', 'D': 'PJ', 'E': 'Aposentado', 'F': 'Outro'}, inplace=True)\n"
          ]
        },
        {
          "output_type": "execute_result",
          "data": {
            "text/plain": [
              "array(['Privado', 'Público', 'Não Trabalha', 'Aposentado', 'PJ', 'Outro',\n",
              "       'Ambos Setores'], dtype=object)"
            ]
          },
          "metadata": {},
          "execution_count": 56
        }
      ]
    },
    {
      "cell_type": "code",
      "source": [
        "df['setor de trabalho'].value_counts()"
      ],
      "metadata": {
        "colab": {
          "base_uri": "https://localhost:8080/",
          "height": 335
        },
        "id": "YRsat7ErkzKC",
        "outputId": "68ccf7b8-2601-4ea0-f2a5-bd293ec7df3d"
      },
      "execution_count": null,
      "outputs": [
        {
          "output_type": "execute_result",
          "data": {
            "text/plain": [
              "setor de trabalho\n",
              "Público          139\n",
              "Privado          118\n",
              "Não Trabalha      23\n",
              "PJ                16\n",
              "Aposentado        14\n",
              "Outro             14\n",
              "Ambos Setores      5\n",
              "Name: count, dtype: int64"
            ],
            "text/html": [
              "<div>\n",
              "<style scoped>\n",
              "    .dataframe tbody tr th:only-of-type {\n",
              "        vertical-align: middle;\n",
              "    }\n",
              "\n",
              "    .dataframe tbody tr th {\n",
              "        vertical-align: top;\n",
              "    }\n",
              "\n",
              "    .dataframe thead th {\n",
              "        text-align: right;\n",
              "    }\n",
              "</style>\n",
              "<table border=\"1\" class=\"dataframe\">\n",
              "  <thead>\n",
              "    <tr style=\"text-align: right;\">\n",
              "      <th></th>\n",
              "      <th>count</th>\n",
              "    </tr>\n",
              "    <tr>\n",
              "      <th>setor de trabalho</th>\n",
              "      <th></th>\n",
              "    </tr>\n",
              "  </thead>\n",
              "  <tbody>\n",
              "    <tr>\n",
              "      <th>Público</th>\n",
              "      <td>139</td>\n",
              "    </tr>\n",
              "    <tr>\n",
              "      <th>Privado</th>\n",
              "      <td>118</td>\n",
              "    </tr>\n",
              "    <tr>\n",
              "      <th>Não Trabalha</th>\n",
              "      <td>23</td>\n",
              "    </tr>\n",
              "    <tr>\n",
              "      <th>PJ</th>\n",
              "      <td>16</td>\n",
              "    </tr>\n",
              "    <tr>\n",
              "      <th>Aposentado</th>\n",
              "      <td>14</td>\n",
              "    </tr>\n",
              "    <tr>\n",
              "      <th>Outro</th>\n",
              "      <td>14</td>\n",
              "    </tr>\n",
              "    <tr>\n",
              "      <th>Ambos Setores</th>\n",
              "      <td>5</td>\n",
              "    </tr>\n",
              "  </tbody>\n",
              "</table>\n",
              "</div><br><label><b>dtype:</b> int64</label>"
            ]
          },
          "metadata": {},
          "execution_count": 57
        }
      ]
    },
    {
      "cell_type": "markdown",
      "source": [
        "# Que Setor Recomenda"
      ],
      "metadata": {
        "id": "3Ms0C_Fsk3l6"
      }
    },
    {
      "cell_type": "code",
      "source": [
        "df['que setor recomenda'].unique()"
      ],
      "metadata": {
        "colab": {
          "base_uri": "https://localhost:8080/"
        },
        "id": "aBtCaGrBk78R",
        "outputId": "42b0e623-d8a8-4d3f-b2fa-b099971a1b3d"
      },
      "execution_count": null,
      "outputs": [
        {
          "output_type": "execute_result",
          "data": {
            "text/plain": [
              "array(['C', 'A', 'B', 'D (IMOBILIÁRIO)', 'D (INDECISO)', 'D'],\n",
              "      dtype=object)"
            ]
          },
          "metadata": {},
          "execution_count": 58
        }
      ]
    },
    {
      "cell_type": "code",
      "source": [
        "df['que setor recomenda'] = df['que setor recomenda'].apply(lambda x: re.sub(r'D.*', 'D', x))\n",
        "df['que setor recomenda'].replace({'A':'Público', 'B':'Privado', 'C': 'Autonomo', 'D':'Outro'}, inplace=True)\n",
        "df['que setor recomenda'].value_counts()"
      ],
      "metadata": {
        "colab": {
          "base_uri": "https://localhost:8080/",
          "height": 382
        },
        "id": "TlqvqkZbk-45",
        "outputId": "d0e20052-288b-4c34-aec4-b0aec41eb81b"
      },
      "execution_count": null,
      "outputs": [
        {
          "output_type": "stream",
          "name": "stderr",
          "text": [
            "<ipython-input-59-1894454b1d92>:2: FutureWarning: A value is trying to be set on a copy of a DataFrame or Series through chained assignment using an inplace method.\n",
            "The behavior will change in pandas 3.0. This inplace method will never work because the intermediate object on which we are setting values always behaves as a copy.\n",
            "\n",
            "For example, when doing 'df[col].method(value, inplace=True)', try using 'df.method({col: value}, inplace=True)' or df[col] = df[col].method(value) instead, to perform the operation inplace on the original object.\n",
            "\n",
            "\n",
            "  df['que setor recomenda'].replace({'A':'Público', 'B':'Privado', 'C': 'Autonomo', 'D':'Outro'}, inplace=True)\n"
          ]
        },
        {
          "output_type": "execute_result",
          "data": {
            "text/plain": [
              "que setor recomenda\n",
              "Público     162\n",
              "Privado     105\n",
              "Autonomo     58\n",
              "Outro         4\n",
              "Name: count, dtype: int64"
            ],
            "text/html": [
              "<div>\n",
              "<style scoped>\n",
              "    .dataframe tbody tr th:only-of-type {\n",
              "        vertical-align: middle;\n",
              "    }\n",
              "\n",
              "    .dataframe tbody tr th {\n",
              "        vertical-align: top;\n",
              "    }\n",
              "\n",
              "    .dataframe thead th {\n",
              "        text-align: right;\n",
              "    }\n",
              "</style>\n",
              "<table border=\"1\" class=\"dataframe\">\n",
              "  <thead>\n",
              "    <tr style=\"text-align: right;\">\n",
              "      <th></th>\n",
              "      <th>count</th>\n",
              "    </tr>\n",
              "    <tr>\n",
              "      <th>que setor recomenda</th>\n",
              "      <th></th>\n",
              "    </tr>\n",
              "  </thead>\n",
              "  <tbody>\n",
              "    <tr>\n",
              "      <th>Público</th>\n",
              "      <td>162</td>\n",
              "    </tr>\n",
              "    <tr>\n",
              "      <th>Privado</th>\n",
              "      <td>105</td>\n",
              "    </tr>\n",
              "    <tr>\n",
              "      <th>Autonomo</th>\n",
              "      <td>58</td>\n",
              "    </tr>\n",
              "    <tr>\n",
              "      <th>Outro</th>\n",
              "      <td>4</td>\n",
              "    </tr>\n",
              "  </tbody>\n",
              "</table>\n",
              "</div><br><label><b>dtype:</b> int64</label>"
            ]
          },
          "metadata": {},
          "execution_count": 59
        }
      ]
    },
    {
      "cell_type": "markdown",
      "source": [
        "# Cidade Natal"
      ],
      "metadata": {
        "id": "be9ixS_klTqZ"
      }
    },
    {
      "cell_type": "code",
      "source": [
        "df['cidade natal'].unique()"
      ],
      "metadata": {
        "colab": {
          "base_uri": "https://localhost:8080/"
        },
        "id": "SXlFG3JnlvSB",
        "outputId": "2741ed7f-02cf-4539-b994-fadceb6198ee"
      },
      "execution_count": null,
      "outputs": [
        {
          "output_type": "execute_result",
          "data": {
            "text/plain": [
              "array(['PALMAS, TO', 'BELÉM, PA', 'CONFRESA, MT', 'PARAUAPEBAS, PA',\n",
              "       'FORTALEZA, CE', 'SÃO FÉLIX DO XINGU, PA',\n",
              "       'VITÓRIA DA CONQUISTA, BA', 'BARRA, BA', 'ANÁPOLIS, GO',\n",
              "       'BARRA DA CORDA, MA', 'SANTOS, SP', 'VITÓRIA, ES',\n",
              "       'BELO HORIZONTE, MG', 'GOIÂNIA, GO', 'PORTO NACIONAL, TO',\n",
              "       'SÃO LUÍS, MA', 'BOLSAS, MA', 'PARANÃ, TO', 'PIUM, TO',\n",
              "       'ITAITUBA, PA', 'FOZ DO IGUAÇÚ, PR', 'GRAJAÚ, MA', 'PEIXE, TO',\n",
              "       'MIRACEMA -TO', 'MIRANORTE -TO', 'ESTREITO - MA',\n",
              "       'DOIS IRMÃOS - TO', 'MIRACEMA - TO', 'CRISTALANDIA - TO',\n",
              "       'RONCADO - PR', 'BENEDITO LEITE -MA', 'NTUM - MA',\n",
              "       'SÃO FÉLIX DE BALSAS - MA', 'CAMPO GRANDE - MS', 'BRASÍLIA - DF',\n",
              "       'IBIAÇÁ - RS', 'ARAGUACEMA - TO', 'MINAÇU - GO', 'SILVÂNIA -GO',\n",
              "       'GUARAÍ - TO', 'CERES - GO', 'ARAGUAÇU - GO', 'BALSAS - MA',\n",
              "       'GOIÂNIA - GO', 'GURUPÍ - TO', 'BREJINHO DE NAZARÉ - TO',\n",
              "       'REDENÇÃO - PA', 'JAPIRA - PR', 'JAPIRA -PR', 'SÃO LUÍS - MA',\n",
              "       'MANAUS - AM', 'APARECIDA DO RIO NEGRO -TO', 'COLMEIA - TO',\n",
              "       'PUATA -MT', 'RIBEIRÃO PRETO - SP', 'ARAGUAINA - TO',\n",
              "       'BELO HORIZONTE - MG', 'PARAUAPEBAS - PA', 'LUZIÂNIA - GO',\n",
              "       'FORTALEZA -CE', 'CAXIAS - MA', 'SÃO PAULO - SP',\n",
              "       'CONCEIÇÃO DO ARAGUAIA - PA', 'SALVADOR -BA', 'TUCUMÃ - PA',\n",
              "       'COROATÁ - MA', 'IMPERATRIZ - MA', 'CUMARU -PA', 'GURUPI - TO',\n",
              "       'PALMAS -TO', 'SÃO FÉLIX DO XINGU - PA', 'MARABA - PA',\n",
              "       'TÓFILO OTONES - MG', 'RORAIMA', 'NATAL - RN', 'DIANÓPOLIS - TO',\n",
              "       'XINGUARA - PA', 'FORMOSA - GO', 'ANAPOLIS - GO', 'GOIANÉSIA - PA',\n",
              "       'SANTARÉM - PA', 'COROATÁ - PA', 'TOCANTINOPOLIS - TO',\n",
              "       'PALMAS - TO', 'GOIÁS', 'PARAÍBA', 'PARÁ', 'BAHIA',\n",
              "       'PASSAGEM FRANCA - MA', 'SÃO DOMINGOS DO MARANHÃO - MA',\n",
              "       'ARRAIAS - TO', 'AMAPÁ', 'PARANGATU - GO', 'COLINAS - TO',\n",
              "       'PIRIPIRI - PI', 'AUGUSTINÓPOLIS - TO', 'ARAGUAÍNA - TO',\n",
              "       'PORTO NACIONAL - TO', 'GUAÍRA - SP', 'FRANCINÓPOLIS - PI',\n",
              "       'PALMEIRAS DE GOIAS - GO', 'CEARÁ', 'GOIATUBA - GO',\n",
              "       'FORMOSA DO ARAGUAIA - TO', 'COLINAS - MA', 'SANTO ANDRÉ - SP',\n",
              "       'JUINA - MT', 'JOSELÂNDIA - MA', 'CAMPO FORMOSO - BA',\n",
              "       'NOVA AURORA - TO', 'MARANHÃO', 'MARAMBÁ - PA', 'SÃO LUIS -MA',\n",
              "       'NATIVIDADE - TO', 'GOIÂNIA - TO', 'PARAÍSO - TO',\n",
              "       'AÇAILANDIA -MA', 'CAMPESTRE - MA', 'GRAJAUÍ - MA',\n",
              "       'MORRO DO CHAPÉU - BA', 'ARARAQUARA - SP', 'TERESINA - PI',\n",
              "       'SANTAREM - PA', 'XAMBIOÁ - TO', 'COMBINADO - TO', 'PIUM - TO',\n",
              "       'SALVADOR - BA', 'TUPARETAMA - PE', 'BARRERINHA - MA',\n",
              "       'GOIÁS - GO', 'RIO DE JANEIRO - RJ', 'SÃO JOSÉ DO EGITO - PE',\n",
              "       'PALAMAS - TO', 'SERGIPE', 'ATIBAIA - SP', 'PARARI - PB',\n",
              "       'CRISTALÂNDIA - TO', 'NOVO ACORDO - TO', 'MARABÁ - PA',\n",
              "       'FILADELFIA - TO', 'CAROLINA - MA', 'OLINDA - PE', 'ANÁPOLIS - GO',\n",
              "       'PALMAS - TO ', 'PASSOS - MG', 'ANANÁS - TO', 'PEDRO AFONSO - TO',\n",
              "       'NOVA OLINDA - TO', 'MIRANORTE - TO', 'SÃO PEDRO - MA',\n",
              "       'ALTAMIRA - PA', 'PENEDO - AL', 'RIO MARIA - PA', 'PALESTINA - PA',\n",
              "       'AMATURA - AM', 'NOVA OLÍMPIA - MS', 'BACABAL - MA', 'BELÉM - PA',\n",
              "       'ARAGUATINA - TO', 'POTANGATU - GO', 'ARAGUARI - MG',\n",
              "       'FORTALEZA - CE', 'PARAÍSO -TO', 'SÃO VALÉRIO DA NATIVIDADE - TO',\n",
              "       'VITORIA DO MIARIM - MA', 'PRESIDENTE KENNEDY - TO'], dtype=object)"
            ]
          },
          "metadata": {},
          "execution_count": 60
        }
      ]
    },
    {
      "cell_type": "code",
      "source": [
        "df.columns"
      ],
      "metadata": {
        "colab": {
          "base_uri": "https://localhost:8080/"
        },
        "id": "gwXgtqpml0kJ",
        "outputId": "02e69afc-9d75-441a-9a76-524ee90cab2c"
      },
      "execution_count": null,
      "outputs": [
        {
          "output_type": "execute_result",
          "data": {
            "text/plain": [
              "Index(['sexo', 'idade', 'estado civil', 'nível de instrução', 'casa própria',\n",
              "       'filhos', 'moradores', 'renda familiar', 'trabalho', 'renda pessoal',\n",
              "       'tempo em palmas', 'renda anterior', 'qualidade de vida imigrante',\n",
              "       'bens ao imigrar', 'qualidade em cinco anos',\n",
              "       'pode melhorar em cinco anos', 'violencia', 'qualidade educaional',\n",
              "       'setor de trabalho', 'que setor recomenda', 'cidade natal',\n",
              "       'anos de trabalho', 'drogas', 'qualidade de vida nos últimos anos',\n",
              "       'auxílio do governo', 'satisfação', 'número de amigos', 'lazer',\n",
              "       'religião', 'já morou em outros lugares', 'ocupação em outro município',\n",
              "       'sair de palmas', 'emprego específico'],\n",
              "      dtype='object')"
            ]
          },
          "metadata": {},
          "execution_count": 61
        }
      ]
    },
    {
      "cell_type": "markdown",
      "source": [
        "# Anos de Trabalho"
      ],
      "metadata": {
        "id": "cGmByJd_lz5B"
      }
    },
    {
      "cell_type": "code",
      "source": [
        "df['anos de trabalho'].unique()"
      ],
      "metadata": {
        "colab": {
          "base_uri": "https://localhost:8080/"
        },
        "id": "2qFIrxzCl6jJ",
        "outputId": "c43cd963-921f-4a3f-b5c7-a2e547479050"
      },
      "execution_count": null,
      "outputs": [
        {
          "output_type": "execute_result",
          "data": {
            "text/plain": [
              "array([6, 22, 5, 30, 3, 10, 20, 0, 1, 2, 25, 32, 36, 35, 34, 14, 15, 46,\n",
              "       48, 4, 8, 17, 50, 40, 44, 31, 18, 21, 13, 12, 'X', 53, 63, 9, 19,\n",
              "       38, 26, 7, 23, 24, 28, 52, 60, 16, 27, 11, '11 MESES', '3 MESES',\n",
              "       '4 MESES', '1 MES'], dtype=object)"
            ]
          },
          "metadata": {},
          "execution_count": 62
        }
      ]
    },
    {
      "cell_type": "markdown",
      "source": [
        "# Drogas"
      ],
      "metadata": {
        "id": "-Oxio71ll_Fs"
      }
    },
    {
      "cell_type": "code",
      "source": [
        "df['drogas'].value_counts()"
      ],
      "metadata": {
        "colab": {
          "base_uri": "https://localhost:8080/",
          "height": 241
        },
        "id": "Uzwo8tTpmCNE",
        "outputId": "37c761d6-d213-4c19-a1db-2a5b5ec9120f"
      },
      "execution_count": null,
      "outputs": [
        {
          "output_type": "execute_result",
          "data": {
            "text/plain": [
              "drogas\n",
              "B    176\n",
              "A     84\n",
              "C     68\n",
              "D      1\n",
              "Name: count, dtype: int64"
            ],
            "text/html": [
              "<div>\n",
              "<style scoped>\n",
              "    .dataframe tbody tr th:only-of-type {\n",
              "        vertical-align: middle;\n",
              "    }\n",
              "\n",
              "    .dataframe tbody tr th {\n",
              "        vertical-align: top;\n",
              "    }\n",
              "\n",
              "    .dataframe thead th {\n",
              "        text-align: right;\n",
              "    }\n",
              "</style>\n",
              "<table border=\"1\" class=\"dataframe\">\n",
              "  <thead>\n",
              "    <tr style=\"text-align: right;\">\n",
              "      <th></th>\n",
              "      <th>count</th>\n",
              "    </tr>\n",
              "    <tr>\n",
              "      <th>drogas</th>\n",
              "      <th></th>\n",
              "    </tr>\n",
              "  </thead>\n",
              "  <tbody>\n",
              "    <tr>\n",
              "      <th>B</th>\n",
              "      <td>176</td>\n",
              "    </tr>\n",
              "    <tr>\n",
              "      <th>A</th>\n",
              "      <td>84</td>\n",
              "    </tr>\n",
              "    <tr>\n",
              "      <th>C</th>\n",
              "      <td>68</td>\n",
              "    </tr>\n",
              "    <tr>\n",
              "      <th>D</th>\n",
              "      <td>1</td>\n",
              "    </tr>\n",
              "  </tbody>\n",
              "</table>\n",
              "</div><br><label><b>dtype:</b> int64</label>"
            ]
          },
          "metadata": {},
          "execution_count": 64
        }
      ]
    },
    {
      "cell_type": "code",
      "source": [
        "df['drogas'].replace({'A':'Alto', 'B':'Moderado', 'C': 'Baixo', 'D': np.nan}, inplace=True)\n",
        "df = df.rename(columns = {'drogas':'drogas em palmas'})\n",
        "df['drogas em palmas'].unique()"
      ],
      "metadata": {
        "colab": {
          "base_uri": "https://localhost:8080/"
        },
        "id": "cecNmqLLmEMM",
        "outputId": "7ac375ec-bda8-4f07-ebda-90838d6da173"
      },
      "execution_count": null,
      "outputs": [
        {
          "output_type": "stream",
          "name": "stderr",
          "text": [
            "<ipython-input-65-6aa6da7ad765>:1: FutureWarning: A value is trying to be set on a copy of a DataFrame or Series through chained assignment using an inplace method.\n",
            "The behavior will change in pandas 3.0. This inplace method will never work because the intermediate object on which we are setting values always behaves as a copy.\n",
            "\n",
            "For example, when doing 'df[col].method(value, inplace=True)', try using 'df.method({col: value}, inplace=True)' or df[col] = df[col].method(value) instead, to perform the operation inplace on the original object.\n",
            "\n",
            "\n",
            "  df['drogas'].replace({'A':'Alto', 'B':'Moderado', 'C': 'Baixo', 'D': np.nan}, inplace=True)\n"
          ]
        },
        {
          "output_type": "execute_result",
          "data": {
            "text/plain": [
              "array(['Moderado', 'Baixo', 'Alto', nan], dtype=object)"
            ]
          },
          "metadata": {},
          "execution_count": 65
        }
      ]
    },
    {
      "cell_type": "code",
      "source": [
        "df.head()"
      ],
      "metadata": {
        "colab": {
          "base_uri": "https://localhost:8080/",
          "height": 446
        },
        "id": "ZtWL2AgtmtX-",
        "outputId": "d9b64005-fea9-40e1-dcb8-aa080117a217"
      },
      "execution_count": null,
      "outputs": [
        {
          "output_type": "execute_result",
          "data": {
            "text/plain": [
              "  sexo idade estado civil  nível de instrução casa própria filhos moradores  \\\n",
              "0    F    23     Solteiro                   4          Não      1         3   \n",
              "1    M    38       Casado                   3          Sim      2        5+   \n",
              "2    M    26       Casado                   4          Não      1         3   \n",
              "3    F    26     Solteiro                   5          Sim      1         3   \n",
              "4    M    50        Viuvo                   3          Sim     3+         1   \n",
              "\n",
              "   renda familiar         trabalho  renda pessoal  ...  \\\n",
              "0            4200  Ajuda a família           2400  ...   \n",
              "1            5000  Ajuda a família           3800  ...   \n",
              "2            3000  Ajuda a família           1500  ...   \n",
              "3            3000   Recebe auxílio           1800  ...   \n",
              "4            1320              Sim           1320  ...   \n",
              "\n",
              "  qualidade de vida nos últimos anos auxílio do governo satisfação  \\\n",
              "0                                  B             NENHUM          C   \n",
              "1                                  B      BOLSA FAMÍLIA          C   \n",
              "2                                  B      BOLSA FAMÍLIA          B   \n",
              "3                                  A      BOLSA FAMÍLIA          C   \n",
              "4                                  B             NENHUM          A   \n",
              "\n",
              "  número de amigos lazer religião já morou em outros lugares  \\\n",
              "0                B     B        C                        NÃO   \n",
              "1                B     B        A                 BELÉM - PA   \n",
              "2                B     B        B               GURUPI  - TO   \n",
              "3                B     B        D              XINGUARA - PA   \n",
              "4                B     B        B             FORTALEZA - CE   \n",
              "\n",
              "  ocupação em outro município sair de palmas  \\\n",
              "0                           X              B   \n",
              "1                    PEDREIRO              B   \n",
              "2                       VIGIA              B   \n",
              "3                  BALCONISTA              A   \n",
              "4                           X              B   \n",
              "\n",
              "                              emprego específico  \n",
              "0  OPERADOR DE CAIXA E DESIGNER DE SOMBRANCELHAS  \n",
              "1                                           GARI  \n",
              "2                                SERVIÇOS GERAIS  \n",
              "3                                      VENDEDORA  \n",
              "4                                       PORTEIRO  \n",
              "\n",
              "[5 rows x 33 columns]"
            ],
            "text/html": [
              "\n",
              "  <div id=\"df-ba2a6b92-0461-49d4-a149-5f8fc9c61cac\" class=\"colab-df-container\">\n",
              "    <div>\n",
              "<style scoped>\n",
              "    .dataframe tbody tr th:only-of-type {\n",
              "        vertical-align: middle;\n",
              "    }\n",
              "\n",
              "    .dataframe tbody tr th {\n",
              "        vertical-align: top;\n",
              "    }\n",
              "\n",
              "    .dataframe thead th {\n",
              "        text-align: right;\n",
              "    }\n",
              "</style>\n",
              "<table border=\"1\" class=\"dataframe\">\n",
              "  <thead>\n",
              "    <tr style=\"text-align: right;\">\n",
              "      <th></th>\n",
              "      <th>sexo</th>\n",
              "      <th>idade</th>\n",
              "      <th>estado civil</th>\n",
              "      <th>nível de instrução</th>\n",
              "      <th>casa própria</th>\n",
              "      <th>filhos</th>\n",
              "      <th>moradores</th>\n",
              "      <th>renda familiar</th>\n",
              "      <th>trabalho</th>\n",
              "      <th>renda pessoal</th>\n",
              "      <th>...</th>\n",
              "      <th>qualidade de vida nos últimos anos</th>\n",
              "      <th>auxílio do governo</th>\n",
              "      <th>satisfação</th>\n",
              "      <th>número de amigos</th>\n",
              "      <th>lazer</th>\n",
              "      <th>religião</th>\n",
              "      <th>já morou em outros lugares</th>\n",
              "      <th>ocupação em outro município</th>\n",
              "      <th>sair de palmas</th>\n",
              "      <th>emprego específico</th>\n",
              "    </tr>\n",
              "  </thead>\n",
              "  <tbody>\n",
              "    <tr>\n",
              "      <th>0</th>\n",
              "      <td>F</td>\n",
              "      <td>23</td>\n",
              "      <td>Solteiro</td>\n",
              "      <td>4</td>\n",
              "      <td>Não</td>\n",
              "      <td>1</td>\n",
              "      <td>3</td>\n",
              "      <td>4200</td>\n",
              "      <td>Ajuda a família</td>\n",
              "      <td>2400</td>\n",
              "      <td>...</td>\n",
              "      <td>B</td>\n",
              "      <td>NENHUM</td>\n",
              "      <td>C</td>\n",
              "      <td>B</td>\n",
              "      <td>B</td>\n",
              "      <td>C</td>\n",
              "      <td>NÃO</td>\n",
              "      <td>X</td>\n",
              "      <td>B</td>\n",
              "      <td>OPERADOR DE CAIXA E DESIGNER DE SOMBRANCELHAS</td>\n",
              "    </tr>\n",
              "    <tr>\n",
              "      <th>1</th>\n",
              "      <td>M</td>\n",
              "      <td>38</td>\n",
              "      <td>Casado</td>\n",
              "      <td>3</td>\n",
              "      <td>Sim</td>\n",
              "      <td>2</td>\n",
              "      <td>5+</td>\n",
              "      <td>5000</td>\n",
              "      <td>Ajuda a família</td>\n",
              "      <td>3800</td>\n",
              "      <td>...</td>\n",
              "      <td>B</td>\n",
              "      <td>BOLSA FAMÍLIA</td>\n",
              "      <td>C</td>\n",
              "      <td>B</td>\n",
              "      <td>B</td>\n",
              "      <td>A</td>\n",
              "      <td>BELÉM - PA</td>\n",
              "      <td>PEDREIRO</td>\n",
              "      <td>B</td>\n",
              "      <td>GARI</td>\n",
              "    </tr>\n",
              "    <tr>\n",
              "      <th>2</th>\n",
              "      <td>M</td>\n",
              "      <td>26</td>\n",
              "      <td>Casado</td>\n",
              "      <td>4</td>\n",
              "      <td>Não</td>\n",
              "      <td>1</td>\n",
              "      <td>3</td>\n",
              "      <td>3000</td>\n",
              "      <td>Ajuda a família</td>\n",
              "      <td>1500</td>\n",
              "      <td>...</td>\n",
              "      <td>B</td>\n",
              "      <td>BOLSA FAMÍLIA</td>\n",
              "      <td>B</td>\n",
              "      <td>B</td>\n",
              "      <td>B</td>\n",
              "      <td>B</td>\n",
              "      <td>GURUPI  - TO</td>\n",
              "      <td>VIGIA</td>\n",
              "      <td>B</td>\n",
              "      <td>SERVIÇOS GERAIS</td>\n",
              "    </tr>\n",
              "    <tr>\n",
              "      <th>3</th>\n",
              "      <td>F</td>\n",
              "      <td>26</td>\n",
              "      <td>Solteiro</td>\n",
              "      <td>5</td>\n",
              "      <td>Sim</td>\n",
              "      <td>1</td>\n",
              "      <td>3</td>\n",
              "      <td>3000</td>\n",
              "      <td>Recebe auxílio</td>\n",
              "      <td>1800</td>\n",
              "      <td>...</td>\n",
              "      <td>A</td>\n",
              "      <td>BOLSA FAMÍLIA</td>\n",
              "      <td>C</td>\n",
              "      <td>B</td>\n",
              "      <td>B</td>\n",
              "      <td>D</td>\n",
              "      <td>XINGUARA - PA</td>\n",
              "      <td>BALCONISTA</td>\n",
              "      <td>A</td>\n",
              "      <td>VENDEDORA</td>\n",
              "    </tr>\n",
              "    <tr>\n",
              "      <th>4</th>\n",
              "      <td>M</td>\n",
              "      <td>50</td>\n",
              "      <td>Viuvo</td>\n",
              "      <td>3</td>\n",
              "      <td>Sim</td>\n",
              "      <td>3+</td>\n",
              "      <td>1</td>\n",
              "      <td>1320</td>\n",
              "      <td>Sim</td>\n",
              "      <td>1320</td>\n",
              "      <td>...</td>\n",
              "      <td>B</td>\n",
              "      <td>NENHUM</td>\n",
              "      <td>A</td>\n",
              "      <td>B</td>\n",
              "      <td>B</td>\n",
              "      <td>B</td>\n",
              "      <td>FORTALEZA - CE</td>\n",
              "      <td>X</td>\n",
              "      <td>B</td>\n",
              "      <td>PORTEIRO</td>\n",
              "    </tr>\n",
              "  </tbody>\n",
              "</table>\n",
              "<p>5 rows × 33 columns</p>\n",
              "</div>\n",
              "    <div class=\"colab-df-buttons\">\n",
              "\n",
              "  <div class=\"colab-df-container\">\n",
              "    <button class=\"colab-df-convert\" onclick=\"convertToInteractive('df-ba2a6b92-0461-49d4-a149-5f8fc9c61cac')\"\n",
              "            title=\"Convert this dataframe to an interactive table.\"\n",
              "            style=\"display:none;\">\n",
              "\n",
              "  <svg xmlns=\"http://www.w3.org/2000/svg\" height=\"24px\" viewBox=\"0 -960 960 960\">\n",
              "    <path d=\"M120-120v-720h720v720H120Zm60-500h600v-160H180v160Zm220 220h160v-160H400v160Zm0 220h160v-160H400v160ZM180-400h160v-160H180v160Zm440 0h160v-160H620v160ZM180-180h160v-160H180v160Zm440 0h160v-160H620v160Z\"/>\n",
              "  </svg>\n",
              "    </button>\n",
              "\n",
              "  <style>\n",
              "    .colab-df-container {\n",
              "      display:flex;\n",
              "      gap: 12px;\n",
              "    }\n",
              "\n",
              "    .colab-df-convert {\n",
              "      background-color: #E8F0FE;\n",
              "      border: none;\n",
              "      border-radius: 50%;\n",
              "      cursor: pointer;\n",
              "      display: none;\n",
              "      fill: #1967D2;\n",
              "      height: 32px;\n",
              "      padding: 0 0 0 0;\n",
              "      width: 32px;\n",
              "    }\n",
              "\n",
              "    .colab-df-convert:hover {\n",
              "      background-color: #E2EBFA;\n",
              "      box-shadow: 0px 1px 2px rgba(60, 64, 67, 0.3), 0px 1px 3px 1px rgba(60, 64, 67, 0.15);\n",
              "      fill: #174EA6;\n",
              "    }\n",
              "\n",
              "    .colab-df-buttons div {\n",
              "      margin-bottom: 4px;\n",
              "    }\n",
              "\n",
              "    [theme=dark] .colab-df-convert {\n",
              "      background-color: #3B4455;\n",
              "      fill: #D2E3FC;\n",
              "    }\n",
              "\n",
              "    [theme=dark] .colab-df-convert:hover {\n",
              "      background-color: #434B5C;\n",
              "      box-shadow: 0px 1px 3px 1px rgba(0, 0, 0, 0.15);\n",
              "      filter: drop-shadow(0px 1px 2px rgba(0, 0, 0, 0.3));\n",
              "      fill: #FFFFFF;\n",
              "    }\n",
              "  </style>\n",
              "\n",
              "    <script>\n",
              "      const buttonEl =\n",
              "        document.querySelector('#df-ba2a6b92-0461-49d4-a149-5f8fc9c61cac button.colab-df-convert');\n",
              "      buttonEl.style.display =\n",
              "        google.colab.kernel.accessAllowed ? 'block' : 'none';\n",
              "\n",
              "      async function convertToInteractive(key) {\n",
              "        const element = document.querySelector('#df-ba2a6b92-0461-49d4-a149-5f8fc9c61cac');\n",
              "        const dataTable =\n",
              "          await google.colab.kernel.invokeFunction('convertToInteractive',\n",
              "                                                    [key], {});\n",
              "        if (!dataTable) return;\n",
              "\n",
              "        const docLinkHtml = 'Like what you see? Visit the ' +\n",
              "          '<a target=\"_blank\" href=https://colab.research.google.com/notebooks/data_table.ipynb>data table notebook</a>'\n",
              "          + ' to learn more about interactive tables.';\n",
              "        element.innerHTML = '';\n",
              "        dataTable['output_type'] = 'display_data';\n",
              "        await google.colab.output.renderOutput(dataTable, element);\n",
              "        const docLink = document.createElement('div');\n",
              "        docLink.innerHTML = docLinkHtml;\n",
              "        element.appendChild(docLink);\n",
              "      }\n",
              "    </script>\n",
              "  </div>\n",
              "\n",
              "\n",
              "<div id=\"df-5ade6cdf-6f3e-4ed3-af04-cf8e3a08e025\">\n",
              "  <button class=\"colab-df-quickchart\" onclick=\"quickchart('df-5ade6cdf-6f3e-4ed3-af04-cf8e3a08e025')\"\n",
              "            title=\"Suggest charts\"\n",
              "            style=\"display:none;\">\n",
              "\n",
              "<svg xmlns=\"http://www.w3.org/2000/svg\" height=\"24px\"viewBox=\"0 0 24 24\"\n",
              "     width=\"24px\">\n",
              "    <g>\n",
              "        <path d=\"M19 3H5c-1.1 0-2 .9-2 2v14c0 1.1.9 2 2 2h14c1.1 0 2-.9 2-2V5c0-1.1-.9-2-2-2zM9 17H7v-7h2v7zm4 0h-2V7h2v10zm4 0h-2v-4h2v4z\"/>\n",
              "    </g>\n",
              "</svg>\n",
              "  </button>\n",
              "\n",
              "<style>\n",
              "  .colab-df-quickchart {\n",
              "      --bg-color: #E8F0FE;\n",
              "      --fill-color: #1967D2;\n",
              "      --hover-bg-color: #E2EBFA;\n",
              "      --hover-fill-color: #174EA6;\n",
              "      --disabled-fill-color: #AAA;\n",
              "      --disabled-bg-color: #DDD;\n",
              "  }\n",
              "\n",
              "  [theme=dark] .colab-df-quickchart {\n",
              "      --bg-color: #3B4455;\n",
              "      --fill-color: #D2E3FC;\n",
              "      --hover-bg-color: #434B5C;\n",
              "      --hover-fill-color: #FFFFFF;\n",
              "      --disabled-bg-color: #3B4455;\n",
              "      --disabled-fill-color: #666;\n",
              "  }\n",
              "\n",
              "  .colab-df-quickchart {\n",
              "    background-color: var(--bg-color);\n",
              "    border: none;\n",
              "    border-radius: 50%;\n",
              "    cursor: pointer;\n",
              "    display: none;\n",
              "    fill: var(--fill-color);\n",
              "    height: 32px;\n",
              "    padding: 0;\n",
              "    width: 32px;\n",
              "  }\n",
              "\n",
              "  .colab-df-quickchart:hover {\n",
              "    background-color: var(--hover-bg-color);\n",
              "    box-shadow: 0 1px 2px rgba(60, 64, 67, 0.3), 0 1px 3px 1px rgba(60, 64, 67, 0.15);\n",
              "    fill: var(--button-hover-fill-color);\n",
              "  }\n",
              "\n",
              "  .colab-df-quickchart-complete:disabled,\n",
              "  .colab-df-quickchart-complete:disabled:hover {\n",
              "    background-color: var(--disabled-bg-color);\n",
              "    fill: var(--disabled-fill-color);\n",
              "    box-shadow: none;\n",
              "  }\n",
              "\n",
              "  .colab-df-spinner {\n",
              "    border: 2px solid var(--fill-color);\n",
              "    border-color: transparent;\n",
              "    border-bottom-color: var(--fill-color);\n",
              "    animation:\n",
              "      spin 1s steps(1) infinite;\n",
              "  }\n",
              "\n",
              "  @keyframes spin {\n",
              "    0% {\n",
              "      border-color: transparent;\n",
              "      border-bottom-color: var(--fill-color);\n",
              "      border-left-color: var(--fill-color);\n",
              "    }\n",
              "    20% {\n",
              "      border-color: transparent;\n",
              "      border-left-color: var(--fill-color);\n",
              "      border-top-color: var(--fill-color);\n",
              "    }\n",
              "    30% {\n",
              "      border-color: transparent;\n",
              "      border-left-color: var(--fill-color);\n",
              "      border-top-color: var(--fill-color);\n",
              "      border-right-color: var(--fill-color);\n",
              "    }\n",
              "    40% {\n",
              "      border-color: transparent;\n",
              "      border-right-color: var(--fill-color);\n",
              "      border-top-color: var(--fill-color);\n",
              "    }\n",
              "    60% {\n",
              "      border-color: transparent;\n",
              "      border-right-color: var(--fill-color);\n",
              "    }\n",
              "    80% {\n",
              "      border-color: transparent;\n",
              "      border-right-color: var(--fill-color);\n",
              "      border-bottom-color: var(--fill-color);\n",
              "    }\n",
              "    90% {\n",
              "      border-color: transparent;\n",
              "      border-bottom-color: var(--fill-color);\n",
              "    }\n",
              "  }\n",
              "</style>\n",
              "\n",
              "  <script>\n",
              "    async function quickchart(key) {\n",
              "      const quickchartButtonEl =\n",
              "        document.querySelector('#' + key + ' button');\n",
              "      quickchartButtonEl.disabled = true;  // To prevent multiple clicks.\n",
              "      quickchartButtonEl.classList.add('colab-df-spinner');\n",
              "      try {\n",
              "        const charts = await google.colab.kernel.invokeFunction(\n",
              "            'suggestCharts', [key], {});\n",
              "      } catch (error) {\n",
              "        console.error('Error during call to suggestCharts:', error);\n",
              "      }\n",
              "      quickchartButtonEl.classList.remove('colab-df-spinner');\n",
              "      quickchartButtonEl.classList.add('colab-df-quickchart-complete');\n",
              "    }\n",
              "    (() => {\n",
              "      let quickchartButtonEl =\n",
              "        document.querySelector('#df-5ade6cdf-6f3e-4ed3-af04-cf8e3a08e025 button');\n",
              "      quickchartButtonEl.style.display =\n",
              "        google.colab.kernel.accessAllowed ? 'block' : 'none';\n",
              "    })();\n",
              "  </script>\n",
              "</div>\n",
              "\n",
              "    </div>\n",
              "  </div>\n"
            ],
            "application/vnd.google.colaboratory.intrinsic+json": {
              "type": "dataframe",
              "variable_name": "df"
            }
          },
          "metadata": {},
          "execution_count": 66
        }
      ]
    },
    {
      "cell_type": "markdown",
      "source": [
        "# qualidade de vida nos últimos anos"
      ],
      "metadata": {
        "id": "VK41CS8FmqGl"
      }
    },
    {
      "cell_type": "code",
      "source": [
        "df['qualidade de vida nos últimos anos'].unique()"
      ],
      "metadata": {
        "colab": {
          "base_uri": "https://localhost:8080/"
        },
        "id": "-5MP5yHWm3Uh",
        "outputId": "21a892e0-a9d9-4687-a185-ea4ee47afbed"
      },
      "execution_count": null,
      "outputs": [
        {
          "output_type": "execute_result",
          "data": {
            "text/plain": [
              "array(['B', 'A', 'D', 'C', 'E'], dtype=object)"
            ]
          },
          "metadata": {},
          "execution_count": 67
        }
      ]
    },
    {
      "cell_type": "code",
      "source": [
        "df['qualidade de vida nos últimos anos'].replace({'A':'Melhorou Muito', 'B':'Melhorou', 'C':'Melhorou Pouco', 'D':'Não Melhorou', 'E':'Piorou'}, inplace=True)\n",
        "df['qualidade de vida nos últimos anos'].unique()"
      ],
      "metadata": {
        "colab": {
          "base_uri": "https://localhost:8080/"
        },
        "id": "rY0yLU5cnAOA",
        "outputId": "bf7b6c1d-8a8c-4ee3-a2d0-393674dacf60"
      },
      "execution_count": null,
      "outputs": [
        {
          "output_type": "execute_result",
          "data": {
            "text/plain": [
              "array(['Melhorou', 'Melhorou Muito', 'Não Melhorou', 'Melhorou Pouco',\n",
              "       'Piorou'], dtype=object)"
            ]
          },
          "metadata": {},
          "execution_count": 69
        }
      ]
    },
    {
      "cell_type": "markdown",
      "source": [
        "# Satisfação"
      ],
      "metadata": {
        "id": "3R27ulfZnxaa"
      }
    },
    {
      "cell_type": "code",
      "source": [
        "df['satisfação'].unique()"
      ],
      "metadata": {
        "colab": {
          "base_uri": "https://localhost:8080/"
        },
        "id": "ZDkP9-vxnzkC",
        "outputId": "06003c6a-32be-449b-deb9-d1a6e7bb57b1"
      },
      "execution_count": null,
      "outputs": [
        {
          "output_type": "execute_result",
          "data": {
            "text/plain": [
              "array(['C', 'B', 'A', 'D'], dtype=object)"
            ]
          },
          "metadata": {},
          "execution_count": 70
        }
      ]
    },
    {
      "cell_type": "code",
      "source": [
        "df['satisfação'].replace({'A':'Muito Satisfeito', 'B':'Satisfeito', 'C':'Pouco Satisfeito', 'D':'Não Satisfeito'}, inplace=True)\n",
        "df['satisfação'].unique()"
      ],
      "metadata": {
        "colab": {
          "base_uri": "https://localhost:8080/"
        },
        "id": "mLOm5wpmn4Xy",
        "outputId": "81e41268-c9e8-4199-bb81-ed1fba74e310"
      },
      "execution_count": null,
      "outputs": [
        {
          "output_type": "stream",
          "name": "stderr",
          "text": [
            "<ipython-input-71-dabc05d75f78>:1: FutureWarning: A value is trying to be set on a copy of a DataFrame or Series through chained assignment using an inplace method.\n",
            "The behavior will change in pandas 3.0. This inplace method will never work because the intermediate object on which we are setting values always behaves as a copy.\n",
            "\n",
            "For example, when doing 'df[col].method(value, inplace=True)', try using 'df.method({col: value}, inplace=True)' or df[col] = df[col].method(value) instead, to perform the operation inplace on the original object.\n",
            "\n",
            "\n",
            "  df['satisfação'].replace({'A':'Muito Satisfeito', 'B':'Satisfeito', 'C':'Pouco Satisfeito', 'D':'Não Satisfeito'}, inplace=True)\n"
          ]
        },
        {
          "output_type": "execute_result",
          "data": {
            "text/plain": [
              "array(['Pouco Satisfeito', 'Satisfeito', 'Muito Satisfeito',\n",
              "       'Não Satisfeito'], dtype=object)"
            ]
          },
          "metadata": {},
          "execution_count": 71
        }
      ]
    },
    {
      "cell_type": "markdown",
      "source": [
        "# Numero de Amigos"
      ],
      "metadata": {
        "id": "j4GN0PigoG7B"
      }
    },
    {
      "cell_type": "code",
      "source": [
        "df['número de amigos'].unique()"
      ],
      "metadata": {
        "colab": {
          "base_uri": "https://localhost:8080/"
        },
        "id": "l4_fvxKRoJ96",
        "outputId": "0ed7d96c-f603-421c-90d3-0679443d1253"
      },
      "execution_count": null,
      "outputs": [
        {
          "output_type": "execute_result",
          "data": {
            "text/plain": [
              "array(['B', 'A', 'D', 'C', 'V'], dtype=object)"
            ]
          },
          "metadata": {},
          "execution_count": 73
        }
      ]
    },
    {
      "cell_type": "code",
      "source": [
        "df['número de amigos'].replace({'A':'Muitos Amigos', 'B':'Moderado', 'C':'Poucos Amigos', 'D':'Nenhum Amigo', 'V': np.nan}, inplace=True)\n",
        "df = df.rename(columns = {'número de amigos':'número de amigos palmas'})\n",
        "df['número de amigos palmas'].unique()"
      ],
      "metadata": {
        "colab": {
          "base_uri": "https://localhost:8080/"
        },
        "id": "4t54cA4goMvS",
        "outputId": "fdaf526f-d6ab-48ab-c6f3-d58e03d7ef3a"
      },
      "execution_count": null,
      "outputs": [
        {
          "output_type": "stream",
          "name": "stderr",
          "text": [
            "<ipython-input-74-123289ac1950>:1: FutureWarning: A value is trying to be set on a copy of a DataFrame or Series through chained assignment using an inplace method.\n",
            "The behavior will change in pandas 3.0. This inplace method will never work because the intermediate object on which we are setting values always behaves as a copy.\n",
            "\n",
            "For example, when doing 'df[col].method(value, inplace=True)', try using 'df.method({col: value}, inplace=True)' or df[col] = df[col].method(value) instead, to perform the operation inplace on the original object.\n",
            "\n",
            "\n",
            "  df['número de amigos'].replace({'A':'Muitos Amigos', 'B':'Moderado', 'C':'Poucos Amigos', 'D':'Nenhum Amigo', 'V': np.nan}, inplace=True)\n"
          ]
        },
        {
          "output_type": "execute_result",
          "data": {
            "text/plain": [
              "array(['Moderado', 'Muitos Amigos', 'Nenhum Amigo', 'Poucos Amigos', nan],\n",
              "      dtype=object)"
            ]
          },
          "metadata": {},
          "execution_count": 74
        }
      ]
    },
    {
      "cell_type": "markdown",
      "source": [
        "# Lazer"
      ],
      "metadata": {
        "id": "iNNjI-zIorjU"
      }
    },
    {
      "cell_type": "code",
      "source": [
        "df['lazer'].value_counts()"
      ],
      "metadata": {
        "colab": {
          "base_uri": "https://localhost:8080/",
          "height": 272
        },
        "id": "KuUue2-PoufS",
        "outputId": "4e0c4824-e529-435a-8c42-24a695d7770d"
      },
      "execution_count": null,
      "outputs": [
        {
          "output_type": "execute_result",
          "data": {
            "text/plain": [
              "lazer\n",
              "B    157\n",
              "A     85\n",
              "C     63\n",
              "D     23\n",
              "E      1\n",
              "Name: count, dtype: int64"
            ],
            "text/html": [
              "<div>\n",
              "<style scoped>\n",
              "    .dataframe tbody tr th:only-of-type {\n",
              "        vertical-align: middle;\n",
              "    }\n",
              "\n",
              "    .dataframe tbody tr th {\n",
              "        vertical-align: top;\n",
              "    }\n",
              "\n",
              "    .dataframe thead th {\n",
              "        text-align: right;\n",
              "    }\n",
              "</style>\n",
              "<table border=\"1\" class=\"dataframe\">\n",
              "  <thead>\n",
              "    <tr style=\"text-align: right;\">\n",
              "      <th></th>\n",
              "      <th>count</th>\n",
              "    </tr>\n",
              "    <tr>\n",
              "      <th>lazer</th>\n",
              "      <th></th>\n",
              "    </tr>\n",
              "  </thead>\n",
              "  <tbody>\n",
              "    <tr>\n",
              "      <th>B</th>\n",
              "      <td>157</td>\n",
              "    </tr>\n",
              "    <tr>\n",
              "      <th>A</th>\n",
              "      <td>85</td>\n",
              "    </tr>\n",
              "    <tr>\n",
              "      <th>C</th>\n",
              "      <td>63</td>\n",
              "    </tr>\n",
              "    <tr>\n",
              "      <th>D</th>\n",
              "      <td>23</td>\n",
              "    </tr>\n",
              "    <tr>\n",
              "      <th>E</th>\n",
              "      <td>1</td>\n",
              "    </tr>\n",
              "  </tbody>\n",
              "</table>\n",
              "</div><br><label><b>dtype:</b> int64</label>"
            ]
          },
          "metadata": {},
          "execution_count": 76
        }
      ]
    },
    {
      "cell_type": "code",
      "source": [
        "df['lazer'].replace({'A':'Muito Bom', 'B':'Bom', 'C':'Moderado', 'D':'Ruim', 'E': np.nan}, inplace=True)\n",
        "df = df.rename(columns = {'lazer':'lazer em palmas'})\n",
        "df['lazer em palmas'].unique()"
      ],
      "metadata": {
        "colab": {
          "base_uri": "https://localhost:8080/"
        },
        "id": "AVbLtOHrow-q",
        "outputId": "cad3102c-4b72-4265-c387-d30a77691944"
      },
      "execution_count": null,
      "outputs": [
        {
          "output_type": "stream",
          "name": "stderr",
          "text": [
            "<ipython-input-77-4cf71b44415e>:1: FutureWarning: A value is trying to be set on a copy of a DataFrame or Series through chained assignment using an inplace method.\n",
            "The behavior will change in pandas 3.0. This inplace method will never work because the intermediate object on which we are setting values always behaves as a copy.\n",
            "\n",
            "For example, when doing 'df[col].method(value, inplace=True)', try using 'df.method({col: value}, inplace=True)' or df[col] = df[col].method(value) instead, to perform the operation inplace on the original object.\n",
            "\n",
            "\n",
            "  df['lazer'].replace({'A':'Muito Bom', 'B':'Bom', 'C':'Moderado', 'D':'Ruim', 'E': np.nan}, inplace=True)\n"
          ]
        },
        {
          "output_type": "execute_result",
          "data": {
            "text/plain": [
              "array(['Bom', 'Muito Bom', 'Moderado', 'Ruim', nan], dtype=object)"
            ]
          },
          "metadata": {},
          "execution_count": 77
        }
      ]
    },
    {
      "cell_type": "markdown",
      "source": [
        "# Religião"
      ],
      "metadata": {
        "id": "KJ6PvRHPn8lq"
      }
    },
    {
      "cell_type": "code",
      "source": [
        "df['religião'].unique()"
      ],
      "metadata": {
        "colab": {
          "base_uri": "https://localhost:8080/"
        },
        "id": "gF3gkdkSoAKh",
        "outputId": "0fcaee60-86cf-4d06-b964-4b6bfb97ae67"
      },
      "execution_count": null,
      "outputs": [
        {
          "output_type": "execute_result",
          "data": {
            "text/plain": [
              "array(['C', 'A', 'B', 'D', 'E'], dtype=object)"
            ]
          },
          "metadata": {},
          "execution_count": 78
        }
      ]
    },
    {
      "cell_type": "code",
      "source": [
        "df['religião'].replace({'A':'Mais de Uma por Semana', 'B':'Uma por Semana', 'C':'Menos de Uma ao Mês', 'D': 'Raramente Compareço', 'E': 'Não Frequento'}, inplace=True)\n",
        "df = df.rename(columns = {'religião':'frequência igreja'})\n",
        "df['frequência igreja'].value_counts()"
      ],
      "metadata": {
        "colab": {
          "base_uri": "https://localhost:8080/",
          "height": 414
        },
        "id": "fJVS4bbEoBwC",
        "outputId": "a69b0f5f-8c18-4c87-8087-6ab617ce6b65"
      },
      "execution_count": null,
      "outputs": [
        {
          "output_type": "stream",
          "name": "stderr",
          "text": [
            "<ipython-input-79-93e12b6ad52d>:1: FutureWarning: A value is trying to be set on a copy of a DataFrame or Series through chained assignment using an inplace method.\n",
            "The behavior will change in pandas 3.0. This inplace method will never work because the intermediate object on which we are setting values always behaves as a copy.\n",
            "\n",
            "For example, when doing 'df[col].method(value, inplace=True)', try using 'df.method({col: value}, inplace=True)' or df[col] = df[col].method(value) instead, to perform the operation inplace on the original object.\n",
            "\n",
            "\n",
            "  df['religião'].replace({'A':'Mais de Uma por Semana', 'B':'Uma por Semana', 'C':'Menos de Uma ao Mês', 'D': 'Raramente Compareço', 'E': 'Não Frequento'}, inplace=True)\n"
          ]
        },
        {
          "output_type": "execute_result",
          "data": {
            "text/plain": [
              "frequência igreja\n",
              "Uma por Semana            81\n",
              "Não Frequento             81\n",
              "Raramente Compareço       69\n",
              "Mais de Uma por Semana    68\n",
              "Menos de Uma ao Mês       30\n",
              "Name: count, dtype: int64"
            ],
            "text/html": [
              "<div>\n",
              "<style scoped>\n",
              "    .dataframe tbody tr th:only-of-type {\n",
              "        vertical-align: middle;\n",
              "    }\n",
              "\n",
              "    .dataframe tbody tr th {\n",
              "        vertical-align: top;\n",
              "    }\n",
              "\n",
              "    .dataframe thead th {\n",
              "        text-align: right;\n",
              "    }\n",
              "</style>\n",
              "<table border=\"1\" class=\"dataframe\">\n",
              "  <thead>\n",
              "    <tr style=\"text-align: right;\">\n",
              "      <th></th>\n",
              "      <th>count</th>\n",
              "    </tr>\n",
              "    <tr>\n",
              "      <th>frequência igreja</th>\n",
              "      <th></th>\n",
              "    </tr>\n",
              "  </thead>\n",
              "  <tbody>\n",
              "    <tr>\n",
              "      <th>Uma por Semana</th>\n",
              "      <td>81</td>\n",
              "    </tr>\n",
              "    <tr>\n",
              "      <th>Não Frequento</th>\n",
              "      <td>81</td>\n",
              "    </tr>\n",
              "    <tr>\n",
              "      <th>Raramente Compareço</th>\n",
              "      <td>69</td>\n",
              "    </tr>\n",
              "    <tr>\n",
              "      <th>Mais de Uma por Semana</th>\n",
              "      <td>68</td>\n",
              "    </tr>\n",
              "    <tr>\n",
              "      <th>Menos de Uma ao Mês</th>\n",
              "      <td>30</td>\n",
              "    </tr>\n",
              "  </tbody>\n",
              "</table>\n",
              "</div><br><label><b>dtype:</b> int64</label>"
            ]
          },
          "metadata": {},
          "execution_count": 79
        }
      ]
    },
    {
      "cell_type": "markdown",
      "source": [
        "# Sair de Palmas"
      ],
      "metadata": {
        "id": "Em0N_h-PqEJ6"
      }
    },
    {
      "cell_type": "code",
      "source": [
        "df['sair de palmas'].unique()"
      ],
      "metadata": {
        "colab": {
          "base_uri": "https://localhost:8080/"
        },
        "id": "ksT-mc4PqHwY",
        "outputId": "b8a0a411-3202-41ea-afc4-4d335a80590c"
      },
      "execution_count": null,
      "outputs": [
        {
          "output_type": "execute_result",
          "data": {
            "text/plain": [
              "array(['B', 'A', 'A (TAGUARUÇU - O CLIMA FRIO)',\n",
              "       'A (NÃO GOSTA DA CIDADE)', 'A (QUALIDADE DE VIDA)',\n",
              "       'A (MELHORSALÁRIOS)', 'A (EVOLUÇÃO PROFISSIONAL)',\n",
              "       'A (UMA VIDA MAIS FÁCIL)', 'A (POLITICOS CORRUPTOS, CIDADE RUIM)',\n",
              "       'B ', 'A (MELHORAR DE VIDA)', 'A (CLIMA)', 'A (CLIMA, SALÁRIO)',\n",
              "       'A (FAMÍLIA, EMPREGO)', 'A (SALÁRIO, EMPREGO, CLIMA)',\n",
              "       'A (FAMÍLIA, SALÁRIO)', 'A (SALÁRIO, CUSTO DE VIDA ALTO)',\n",
              "       'A (FAZER MESTRADO E DOUTORADO)', 'A (TRABALHO)', 'A (FACULDADE)',\n",
              "       'A (FAMÍLIA)', 'A (GOSTARIA DE MORAR PRÓXIMO AO MAR NA VELHICE)',\n",
              "       'A (APOSENTADORIA)', 'A (MELHOR CUSTO BENEFÍCIO)',\n",
              "       'A (SONHO, DESEJO PESSOAL)', 'A (MELHORES OPORTUNIDADES)', 'A ',\n",
              "       'A (NOVO LUGAR PARA COMEÇAR)', 'A (FINANCEIRO)',\n",
              "       'A (CRESCIMENTO PROFISSIONAL, NÃO GOSTO DE PALMAS)',\n",
              "       'A (MELHORA PROFISSIONAL)', 'A (MELHORAR PROFISSIONALMENTE)',\n",
              "       'A (CRESCIMENTO PROFISSIONAL)', 'A (ESTUDAR)',\n",
              "       'A (MAIS OPORTUNIDADES)', 'A (SALÁRIO)',\n",
              "       'A (CASO SEJA CHAMADO PARA OUTRA FILIAL DA EMPRESA)',\n",
              "       'A (CONHECER)', 'A (PORQUE EU QUERO)',\n",
              "       'A (CONHECER OUTROS LUGARES)', 'SETOR LABORATORIAL'], dtype=object)"
            ]
          },
          "metadata": {},
          "execution_count": 80
        }
      ]
    },
    {
      "cell_type": "code",
      "source": [
        "df['sair de palmas'] = df['sair de palmas'].apply(lambda x: re.sub(r'A.*', 'A', x))\n",
        "df['sair de palmas'].replace({'A':'Sim', 'B':'Não'}, inplace=True)\n",
        "df['sair de palmas'].value_counts()"
      ],
      "metadata": {
        "colab": {
          "base_uri": "https://localhost:8080/",
          "height": 382
        },
        "id": "7kEQUWvaqOa4",
        "outputId": "e537fc07-b44c-4aac-98de-a29d5e0944ce"
      },
      "execution_count": null,
      "outputs": [
        {
          "output_type": "stream",
          "name": "stderr",
          "text": [
            "<ipython-input-81-d1c653341a67>:2: FutureWarning: A value is trying to be set on a copy of a DataFrame or Series through chained assignment using an inplace method.\n",
            "The behavior will change in pandas 3.0. This inplace method will never work because the intermediate object on which we are setting values always behaves as a copy.\n",
            "\n",
            "For example, when doing 'df[col].method(value, inplace=True)', try using 'df.method({col: value}, inplace=True)' or df[col] = df[col].method(value) instead, to perform the operation inplace on the original object.\n",
            "\n",
            "\n",
            "  df['sair de palmas'].replace({'A':'Sim', 'B':'Não'}, inplace=True)\n"
          ]
        },
        {
          "output_type": "execute_result",
          "data": {
            "text/plain": [
              "sair de palmas\n",
              "B           187\n",
              "Sim          81\n",
              "Não          60\n",
              "SETOR LA      1\n",
              "Name: count, dtype: int64"
            ],
            "text/html": [
              "<div>\n",
              "<style scoped>\n",
              "    .dataframe tbody tr th:only-of-type {\n",
              "        vertical-align: middle;\n",
              "    }\n",
              "\n",
              "    .dataframe tbody tr th {\n",
              "        vertical-align: top;\n",
              "    }\n",
              "\n",
              "    .dataframe thead th {\n",
              "        text-align: right;\n",
              "    }\n",
              "</style>\n",
              "<table border=\"1\" class=\"dataframe\">\n",
              "  <thead>\n",
              "    <tr style=\"text-align: right;\">\n",
              "      <th></th>\n",
              "      <th>count</th>\n",
              "    </tr>\n",
              "    <tr>\n",
              "      <th>sair de palmas</th>\n",
              "      <th></th>\n",
              "    </tr>\n",
              "  </thead>\n",
              "  <tbody>\n",
              "    <tr>\n",
              "      <th>B</th>\n",
              "      <td>187</td>\n",
              "    </tr>\n",
              "    <tr>\n",
              "      <th>Sim</th>\n",
              "      <td>81</td>\n",
              "    </tr>\n",
              "    <tr>\n",
              "      <th>Não</th>\n",
              "      <td>60</td>\n",
              "    </tr>\n",
              "    <tr>\n",
              "      <th>SETOR LA</th>\n",
              "      <td>1</td>\n",
              "    </tr>\n",
              "  </tbody>\n",
              "</table>\n",
              "</div><br><label><b>dtype:</b> int64</label>"
            ]
          },
          "metadata": {},
          "execution_count": 81
        }
      ]
    },
    {
      "cell_type": "code",
      "source": [
        "df['sair de palmas'].replace({'B ':'Não', 'SETOR LA': 'Sim'}, inplace=True)\n",
        "df['sair de palmas'].value_counts()"
      ],
      "metadata": {
        "colab": {
          "base_uri": "https://localhost:8080/",
          "height": 178
        },
        "id": "Jk_BYd_Zqh-H",
        "outputId": "b99dce7e-6a8a-47e5-d00c-c2a72c12c01b"
      },
      "execution_count": null,
      "outputs": [
        {
          "output_type": "execute_result",
          "data": {
            "text/plain": [
              "sair de palmas\n",
              "Não    247\n",
              "Sim     82\n",
              "Name: count, dtype: int64"
            ],
            "text/html": [
              "<div>\n",
              "<style scoped>\n",
              "    .dataframe tbody tr th:only-of-type {\n",
              "        vertical-align: middle;\n",
              "    }\n",
              "\n",
              "    .dataframe tbody tr th {\n",
              "        vertical-align: top;\n",
              "    }\n",
              "\n",
              "    .dataframe thead th {\n",
              "        text-align: right;\n",
              "    }\n",
              "</style>\n",
              "<table border=\"1\" class=\"dataframe\">\n",
              "  <thead>\n",
              "    <tr style=\"text-align: right;\">\n",
              "      <th></th>\n",
              "      <th>count</th>\n",
              "    </tr>\n",
              "    <tr>\n",
              "      <th>sair de palmas</th>\n",
              "      <th></th>\n",
              "    </tr>\n",
              "  </thead>\n",
              "  <tbody>\n",
              "    <tr>\n",
              "      <th>Não</th>\n",
              "      <td>247</td>\n",
              "    </tr>\n",
              "    <tr>\n",
              "      <th>Sim</th>\n",
              "      <td>82</td>\n",
              "    </tr>\n",
              "  </tbody>\n",
              "</table>\n",
              "</div><br><label><b>dtype:</b> int64</label>"
            ]
          },
          "metadata": {},
          "execution_count": 83
        }
      ]
    },
    {
      "cell_type": "markdown",
      "source": [
        "# Tratando Nulos"
      ],
      "metadata": {
        "id": "GyJZrhVQq8uB"
      }
    },
    {
      "cell_type": "code",
      "source": [
        "df.head()"
      ],
      "metadata": {
        "colab": {
          "base_uri": "https://localhost:8080/",
          "height": 464
        },
        "id": "mC_HUDS1rAcT",
        "outputId": "25e0519f-fcf6-41e0-fc8f-ee31cfedf551"
      },
      "execution_count": null,
      "outputs": [
        {
          "output_type": "execute_result",
          "data": {
            "text/plain": [
              "  sexo idade estado civil  nível de instrução casa própria filhos moradores  \\\n",
              "0    F    23     Solteiro                   4          Não      1         3   \n",
              "1    M    38       Casado                   3          Sim      2        5+   \n",
              "2    M    26       Casado                   4          Não      1         3   \n",
              "3    F    26     Solteiro                   5          Sim      1         3   \n",
              "4    M    50        Viuvo                   3          Sim     3+         1   \n",
              "\n",
              "   renda familiar         trabalho  renda pessoal  ...  \\\n",
              "0            4200  Ajuda a família           2400  ...   \n",
              "1            5000  Ajuda a família           3800  ...   \n",
              "2            3000  Ajuda a família           1500  ...   \n",
              "3            3000   Recebe auxílio           1800  ...   \n",
              "4            1320              Sim           1320  ...   \n",
              "\n",
              "  qualidade de vida nos últimos anos auxílio do governo        satisfação  \\\n",
              "0                           Melhorou             NENHUM  Pouco Satisfeito   \n",
              "1                           Melhorou      BOLSA FAMÍLIA  Pouco Satisfeito   \n",
              "2                           Melhorou      BOLSA FAMÍLIA        Satisfeito   \n",
              "3                     Melhorou Muito      BOLSA FAMÍLIA  Pouco Satisfeito   \n",
              "4                           Melhorou             NENHUM  Muito Satisfeito   \n",
              "\n",
              "  número de amigos palmas lazer em palmas       frequência igreja  \\\n",
              "0                Moderado             Bom     Menos de Uma ao Mês   \n",
              "1                Moderado             Bom  Mais de Uma por Semana   \n",
              "2                Moderado             Bom          Uma por Semana   \n",
              "3                Moderado             Bom     Raramente Compareço   \n",
              "4                Moderado             Bom          Uma por Semana   \n",
              "\n",
              "  já morou em outros lugares ocupação em outro município sair de palmas  \\\n",
              "0                        NÃO                           X            Não   \n",
              "1                 BELÉM - PA                    PEDREIRO            Não   \n",
              "2               GURUPI  - TO                       VIGIA            Não   \n",
              "3              XINGUARA - PA                  BALCONISTA            Sim   \n",
              "4             FORTALEZA - CE                           X            Não   \n",
              "\n",
              "                              emprego específico  \n",
              "0  OPERADOR DE CAIXA E DESIGNER DE SOMBRANCELHAS  \n",
              "1                                           GARI  \n",
              "2                                SERVIÇOS GERAIS  \n",
              "3                                      VENDEDORA  \n",
              "4                                       PORTEIRO  \n",
              "\n",
              "[5 rows x 33 columns]"
            ],
            "text/html": [
              "\n",
              "  <div id=\"df-7e346955-06ee-497d-a7a4-f02569b04252\" class=\"colab-df-container\">\n",
              "    <div>\n",
              "<style scoped>\n",
              "    .dataframe tbody tr th:only-of-type {\n",
              "        vertical-align: middle;\n",
              "    }\n",
              "\n",
              "    .dataframe tbody tr th {\n",
              "        vertical-align: top;\n",
              "    }\n",
              "\n",
              "    .dataframe thead th {\n",
              "        text-align: right;\n",
              "    }\n",
              "</style>\n",
              "<table border=\"1\" class=\"dataframe\">\n",
              "  <thead>\n",
              "    <tr style=\"text-align: right;\">\n",
              "      <th></th>\n",
              "      <th>sexo</th>\n",
              "      <th>idade</th>\n",
              "      <th>estado civil</th>\n",
              "      <th>nível de instrução</th>\n",
              "      <th>casa própria</th>\n",
              "      <th>filhos</th>\n",
              "      <th>moradores</th>\n",
              "      <th>renda familiar</th>\n",
              "      <th>trabalho</th>\n",
              "      <th>renda pessoal</th>\n",
              "      <th>...</th>\n",
              "      <th>qualidade de vida nos últimos anos</th>\n",
              "      <th>auxílio do governo</th>\n",
              "      <th>satisfação</th>\n",
              "      <th>número de amigos palmas</th>\n",
              "      <th>lazer em palmas</th>\n",
              "      <th>frequência igreja</th>\n",
              "      <th>já morou em outros lugares</th>\n",
              "      <th>ocupação em outro município</th>\n",
              "      <th>sair de palmas</th>\n",
              "      <th>emprego específico</th>\n",
              "    </tr>\n",
              "  </thead>\n",
              "  <tbody>\n",
              "    <tr>\n",
              "      <th>0</th>\n",
              "      <td>F</td>\n",
              "      <td>23</td>\n",
              "      <td>Solteiro</td>\n",
              "      <td>4</td>\n",
              "      <td>Não</td>\n",
              "      <td>1</td>\n",
              "      <td>3</td>\n",
              "      <td>4200</td>\n",
              "      <td>Ajuda a família</td>\n",
              "      <td>2400</td>\n",
              "      <td>...</td>\n",
              "      <td>Melhorou</td>\n",
              "      <td>NENHUM</td>\n",
              "      <td>Pouco Satisfeito</td>\n",
              "      <td>Moderado</td>\n",
              "      <td>Bom</td>\n",
              "      <td>Menos de Uma ao Mês</td>\n",
              "      <td>NÃO</td>\n",
              "      <td>X</td>\n",
              "      <td>Não</td>\n",
              "      <td>OPERADOR DE CAIXA E DESIGNER DE SOMBRANCELHAS</td>\n",
              "    </tr>\n",
              "    <tr>\n",
              "      <th>1</th>\n",
              "      <td>M</td>\n",
              "      <td>38</td>\n",
              "      <td>Casado</td>\n",
              "      <td>3</td>\n",
              "      <td>Sim</td>\n",
              "      <td>2</td>\n",
              "      <td>5+</td>\n",
              "      <td>5000</td>\n",
              "      <td>Ajuda a família</td>\n",
              "      <td>3800</td>\n",
              "      <td>...</td>\n",
              "      <td>Melhorou</td>\n",
              "      <td>BOLSA FAMÍLIA</td>\n",
              "      <td>Pouco Satisfeito</td>\n",
              "      <td>Moderado</td>\n",
              "      <td>Bom</td>\n",
              "      <td>Mais de Uma por Semana</td>\n",
              "      <td>BELÉM - PA</td>\n",
              "      <td>PEDREIRO</td>\n",
              "      <td>Não</td>\n",
              "      <td>GARI</td>\n",
              "    </tr>\n",
              "    <tr>\n",
              "      <th>2</th>\n",
              "      <td>M</td>\n",
              "      <td>26</td>\n",
              "      <td>Casado</td>\n",
              "      <td>4</td>\n",
              "      <td>Não</td>\n",
              "      <td>1</td>\n",
              "      <td>3</td>\n",
              "      <td>3000</td>\n",
              "      <td>Ajuda a família</td>\n",
              "      <td>1500</td>\n",
              "      <td>...</td>\n",
              "      <td>Melhorou</td>\n",
              "      <td>BOLSA FAMÍLIA</td>\n",
              "      <td>Satisfeito</td>\n",
              "      <td>Moderado</td>\n",
              "      <td>Bom</td>\n",
              "      <td>Uma por Semana</td>\n",
              "      <td>GURUPI  - TO</td>\n",
              "      <td>VIGIA</td>\n",
              "      <td>Não</td>\n",
              "      <td>SERVIÇOS GERAIS</td>\n",
              "    </tr>\n",
              "    <tr>\n",
              "      <th>3</th>\n",
              "      <td>F</td>\n",
              "      <td>26</td>\n",
              "      <td>Solteiro</td>\n",
              "      <td>5</td>\n",
              "      <td>Sim</td>\n",
              "      <td>1</td>\n",
              "      <td>3</td>\n",
              "      <td>3000</td>\n",
              "      <td>Recebe auxílio</td>\n",
              "      <td>1800</td>\n",
              "      <td>...</td>\n",
              "      <td>Melhorou Muito</td>\n",
              "      <td>BOLSA FAMÍLIA</td>\n",
              "      <td>Pouco Satisfeito</td>\n",
              "      <td>Moderado</td>\n",
              "      <td>Bom</td>\n",
              "      <td>Raramente Compareço</td>\n",
              "      <td>XINGUARA - PA</td>\n",
              "      <td>BALCONISTA</td>\n",
              "      <td>Sim</td>\n",
              "      <td>VENDEDORA</td>\n",
              "    </tr>\n",
              "    <tr>\n",
              "      <th>4</th>\n",
              "      <td>M</td>\n",
              "      <td>50</td>\n",
              "      <td>Viuvo</td>\n",
              "      <td>3</td>\n",
              "      <td>Sim</td>\n",
              "      <td>3+</td>\n",
              "      <td>1</td>\n",
              "      <td>1320</td>\n",
              "      <td>Sim</td>\n",
              "      <td>1320</td>\n",
              "      <td>...</td>\n",
              "      <td>Melhorou</td>\n",
              "      <td>NENHUM</td>\n",
              "      <td>Muito Satisfeito</td>\n",
              "      <td>Moderado</td>\n",
              "      <td>Bom</td>\n",
              "      <td>Uma por Semana</td>\n",
              "      <td>FORTALEZA - CE</td>\n",
              "      <td>X</td>\n",
              "      <td>Não</td>\n",
              "      <td>PORTEIRO</td>\n",
              "    </tr>\n",
              "  </tbody>\n",
              "</table>\n",
              "<p>5 rows × 33 columns</p>\n",
              "</div>\n",
              "    <div class=\"colab-df-buttons\">\n",
              "\n",
              "  <div class=\"colab-df-container\">\n",
              "    <button class=\"colab-df-convert\" onclick=\"convertToInteractive('df-7e346955-06ee-497d-a7a4-f02569b04252')\"\n",
              "            title=\"Convert this dataframe to an interactive table.\"\n",
              "            style=\"display:none;\">\n",
              "\n",
              "  <svg xmlns=\"http://www.w3.org/2000/svg\" height=\"24px\" viewBox=\"0 -960 960 960\">\n",
              "    <path d=\"M120-120v-720h720v720H120Zm60-500h600v-160H180v160Zm220 220h160v-160H400v160Zm0 220h160v-160H400v160ZM180-400h160v-160H180v160Zm440 0h160v-160H620v160ZM180-180h160v-160H180v160Zm440 0h160v-160H620v160Z\"/>\n",
              "  </svg>\n",
              "    </button>\n",
              "\n",
              "  <style>\n",
              "    .colab-df-container {\n",
              "      display:flex;\n",
              "      gap: 12px;\n",
              "    }\n",
              "\n",
              "    .colab-df-convert {\n",
              "      background-color: #E8F0FE;\n",
              "      border: none;\n",
              "      border-radius: 50%;\n",
              "      cursor: pointer;\n",
              "      display: none;\n",
              "      fill: #1967D2;\n",
              "      height: 32px;\n",
              "      padding: 0 0 0 0;\n",
              "      width: 32px;\n",
              "    }\n",
              "\n",
              "    .colab-df-convert:hover {\n",
              "      background-color: #E2EBFA;\n",
              "      box-shadow: 0px 1px 2px rgba(60, 64, 67, 0.3), 0px 1px 3px 1px rgba(60, 64, 67, 0.15);\n",
              "      fill: #174EA6;\n",
              "    }\n",
              "\n",
              "    .colab-df-buttons div {\n",
              "      margin-bottom: 4px;\n",
              "    }\n",
              "\n",
              "    [theme=dark] .colab-df-convert {\n",
              "      background-color: #3B4455;\n",
              "      fill: #D2E3FC;\n",
              "    }\n",
              "\n",
              "    [theme=dark] .colab-df-convert:hover {\n",
              "      background-color: #434B5C;\n",
              "      box-shadow: 0px 1px 3px 1px rgba(0, 0, 0, 0.15);\n",
              "      filter: drop-shadow(0px 1px 2px rgba(0, 0, 0, 0.3));\n",
              "      fill: #FFFFFF;\n",
              "    }\n",
              "  </style>\n",
              "\n",
              "    <script>\n",
              "      const buttonEl =\n",
              "        document.querySelector('#df-7e346955-06ee-497d-a7a4-f02569b04252 button.colab-df-convert');\n",
              "      buttonEl.style.display =\n",
              "        google.colab.kernel.accessAllowed ? 'block' : 'none';\n",
              "\n",
              "      async function convertToInteractive(key) {\n",
              "        const element = document.querySelector('#df-7e346955-06ee-497d-a7a4-f02569b04252');\n",
              "        const dataTable =\n",
              "          await google.colab.kernel.invokeFunction('convertToInteractive',\n",
              "                                                    [key], {});\n",
              "        if (!dataTable) return;\n",
              "\n",
              "        const docLinkHtml = 'Like what you see? Visit the ' +\n",
              "          '<a target=\"_blank\" href=https://colab.research.google.com/notebooks/data_table.ipynb>data table notebook</a>'\n",
              "          + ' to learn more about interactive tables.';\n",
              "        element.innerHTML = '';\n",
              "        dataTable['output_type'] = 'display_data';\n",
              "        await google.colab.output.renderOutput(dataTable, element);\n",
              "        const docLink = document.createElement('div');\n",
              "        docLink.innerHTML = docLinkHtml;\n",
              "        element.appendChild(docLink);\n",
              "      }\n",
              "    </script>\n",
              "  </div>\n",
              "\n",
              "\n",
              "<div id=\"df-7e404b65-5e7b-4268-a7bf-9c0ce08716eb\">\n",
              "  <button class=\"colab-df-quickchart\" onclick=\"quickchart('df-7e404b65-5e7b-4268-a7bf-9c0ce08716eb')\"\n",
              "            title=\"Suggest charts\"\n",
              "            style=\"display:none;\">\n",
              "\n",
              "<svg xmlns=\"http://www.w3.org/2000/svg\" height=\"24px\"viewBox=\"0 0 24 24\"\n",
              "     width=\"24px\">\n",
              "    <g>\n",
              "        <path d=\"M19 3H5c-1.1 0-2 .9-2 2v14c0 1.1.9 2 2 2h14c1.1 0 2-.9 2-2V5c0-1.1-.9-2-2-2zM9 17H7v-7h2v7zm4 0h-2V7h2v10zm4 0h-2v-4h2v4z\"/>\n",
              "    </g>\n",
              "</svg>\n",
              "  </button>\n",
              "\n",
              "<style>\n",
              "  .colab-df-quickchart {\n",
              "      --bg-color: #E8F0FE;\n",
              "      --fill-color: #1967D2;\n",
              "      --hover-bg-color: #E2EBFA;\n",
              "      --hover-fill-color: #174EA6;\n",
              "      --disabled-fill-color: #AAA;\n",
              "      --disabled-bg-color: #DDD;\n",
              "  }\n",
              "\n",
              "  [theme=dark] .colab-df-quickchart {\n",
              "      --bg-color: #3B4455;\n",
              "      --fill-color: #D2E3FC;\n",
              "      --hover-bg-color: #434B5C;\n",
              "      --hover-fill-color: #FFFFFF;\n",
              "      --disabled-bg-color: #3B4455;\n",
              "      --disabled-fill-color: #666;\n",
              "  }\n",
              "\n",
              "  .colab-df-quickchart {\n",
              "    background-color: var(--bg-color);\n",
              "    border: none;\n",
              "    border-radius: 50%;\n",
              "    cursor: pointer;\n",
              "    display: none;\n",
              "    fill: var(--fill-color);\n",
              "    height: 32px;\n",
              "    padding: 0;\n",
              "    width: 32px;\n",
              "  }\n",
              "\n",
              "  .colab-df-quickchart:hover {\n",
              "    background-color: var(--hover-bg-color);\n",
              "    box-shadow: 0 1px 2px rgba(60, 64, 67, 0.3), 0 1px 3px 1px rgba(60, 64, 67, 0.15);\n",
              "    fill: var(--button-hover-fill-color);\n",
              "  }\n",
              "\n",
              "  .colab-df-quickchart-complete:disabled,\n",
              "  .colab-df-quickchart-complete:disabled:hover {\n",
              "    background-color: var(--disabled-bg-color);\n",
              "    fill: var(--disabled-fill-color);\n",
              "    box-shadow: none;\n",
              "  }\n",
              "\n",
              "  .colab-df-spinner {\n",
              "    border: 2px solid var(--fill-color);\n",
              "    border-color: transparent;\n",
              "    border-bottom-color: var(--fill-color);\n",
              "    animation:\n",
              "      spin 1s steps(1) infinite;\n",
              "  }\n",
              "\n",
              "  @keyframes spin {\n",
              "    0% {\n",
              "      border-color: transparent;\n",
              "      border-bottom-color: var(--fill-color);\n",
              "      border-left-color: var(--fill-color);\n",
              "    }\n",
              "    20% {\n",
              "      border-color: transparent;\n",
              "      border-left-color: var(--fill-color);\n",
              "      border-top-color: var(--fill-color);\n",
              "    }\n",
              "    30% {\n",
              "      border-color: transparent;\n",
              "      border-left-color: var(--fill-color);\n",
              "      border-top-color: var(--fill-color);\n",
              "      border-right-color: var(--fill-color);\n",
              "    }\n",
              "    40% {\n",
              "      border-color: transparent;\n",
              "      border-right-color: var(--fill-color);\n",
              "      border-top-color: var(--fill-color);\n",
              "    }\n",
              "    60% {\n",
              "      border-color: transparent;\n",
              "      border-right-color: var(--fill-color);\n",
              "    }\n",
              "    80% {\n",
              "      border-color: transparent;\n",
              "      border-right-color: var(--fill-color);\n",
              "      border-bottom-color: var(--fill-color);\n",
              "    }\n",
              "    90% {\n",
              "      border-color: transparent;\n",
              "      border-bottom-color: var(--fill-color);\n",
              "    }\n",
              "  }\n",
              "</style>\n",
              "\n",
              "  <script>\n",
              "    async function quickchart(key) {\n",
              "      const quickchartButtonEl =\n",
              "        document.querySelector('#' + key + ' button');\n",
              "      quickchartButtonEl.disabled = true;  // To prevent multiple clicks.\n",
              "      quickchartButtonEl.classList.add('colab-df-spinner');\n",
              "      try {\n",
              "        const charts = await google.colab.kernel.invokeFunction(\n",
              "            'suggestCharts', [key], {});\n",
              "      } catch (error) {\n",
              "        console.error('Error during call to suggestCharts:', error);\n",
              "      }\n",
              "      quickchartButtonEl.classList.remove('colab-df-spinner');\n",
              "      quickchartButtonEl.classList.add('colab-df-quickchart-complete');\n",
              "    }\n",
              "    (() => {\n",
              "      let quickchartButtonEl =\n",
              "        document.querySelector('#df-7e404b65-5e7b-4268-a7bf-9c0ce08716eb button');\n",
              "      quickchartButtonEl.style.display =\n",
              "        google.colab.kernel.accessAllowed ? 'block' : 'none';\n",
              "    })();\n",
              "  </script>\n",
              "</div>\n",
              "\n",
              "    </div>\n",
              "  </div>\n"
            ],
            "application/vnd.google.colaboratory.intrinsic+json": {
              "type": "dataframe",
              "variable_name": "df"
            }
          },
          "metadata": {},
          "execution_count": 84
        }
      ]
    },
    {
      "cell_type": "code",
      "source": [
        "df = df.replace({'X':np.nan, 'V':np.nan})\n",
        "df.head()"
      ],
      "metadata": {
        "colab": {
          "base_uri": "https://localhost:8080/",
          "height": 499
        },
        "id": "jQGhkWECrEnD",
        "outputId": "8c4138f1-2720-41e8-9e1b-129d5c3fe75f"
      },
      "execution_count": null,
      "outputs": [
        {
          "output_type": "stream",
          "name": "stderr",
          "text": [
            "<ipython-input-85-67cb957cf02a>:1: FutureWarning: Downcasting behavior in `replace` is deprecated and will be removed in a future version. To retain the old behavior, explicitly call `result.infer_objects(copy=False)`. To opt-in to the future behavior, set `pd.set_option('future.no_silent_downcasting', True)`\n",
            "  df = df.replace({'X':np.nan, 'V':np.nan})\n"
          ]
        },
        {
          "output_type": "execute_result",
          "data": {
            "text/plain": [
              "  sexo  idade estado civil  nível de instrução casa própria filhos moradores  \\\n",
              "0    F   23.0     Solteiro                   4          Não      1         3   \n",
              "1    M   38.0       Casado                   3          Sim      2        5+   \n",
              "2    M   26.0       Casado                   4          Não      1         3   \n",
              "3    F   26.0     Solteiro                   5          Sim      1         3   \n",
              "4    M   50.0        Viuvo                   3          Sim     3+         1   \n",
              "\n",
              "   renda familiar         trabalho  renda pessoal  ...  \\\n",
              "0            4200  Ajuda a família           2400  ...   \n",
              "1            5000  Ajuda a família           3800  ...   \n",
              "2            3000  Ajuda a família           1500  ...   \n",
              "3            3000   Recebe auxílio           1800  ...   \n",
              "4            1320              Sim           1320  ...   \n",
              "\n",
              "  qualidade de vida nos últimos anos  auxílio do governo        satisfação  \\\n",
              "0                           Melhorou              NENHUM  Pouco Satisfeito   \n",
              "1                           Melhorou       BOLSA FAMÍLIA  Pouco Satisfeito   \n",
              "2                           Melhorou       BOLSA FAMÍLIA        Satisfeito   \n",
              "3                     Melhorou Muito       BOLSA FAMÍLIA  Pouco Satisfeito   \n",
              "4                           Melhorou              NENHUM  Muito Satisfeito   \n",
              "\n",
              "  número de amigos palmas lazer em palmas       frequência igreja  \\\n",
              "0                Moderado             Bom     Menos de Uma ao Mês   \n",
              "1                Moderado             Bom  Mais de Uma por Semana   \n",
              "2                Moderado             Bom          Uma por Semana   \n",
              "3                Moderado             Bom     Raramente Compareço   \n",
              "4                Moderado             Bom          Uma por Semana   \n",
              "\n",
              "  já morou em outros lugares ocupação em outro município sair de palmas  \\\n",
              "0                        NÃO                         NaN            Não   \n",
              "1                 BELÉM - PA                    PEDREIRO            Não   \n",
              "2               GURUPI  - TO                       VIGIA            Não   \n",
              "3              XINGUARA - PA                  BALCONISTA            Sim   \n",
              "4             FORTALEZA - CE                         NaN            Não   \n",
              "\n",
              "                              emprego específico  \n",
              "0  OPERADOR DE CAIXA E DESIGNER DE SOMBRANCELHAS  \n",
              "1                                           GARI  \n",
              "2                                SERVIÇOS GERAIS  \n",
              "3                                      VENDEDORA  \n",
              "4                                       PORTEIRO  \n",
              "\n",
              "[5 rows x 33 columns]"
            ],
            "text/html": [
              "\n",
              "  <div id=\"df-541b3ca5-8330-4866-8886-31f19c4a52af\" class=\"colab-df-container\">\n",
              "    <div>\n",
              "<style scoped>\n",
              "    .dataframe tbody tr th:only-of-type {\n",
              "        vertical-align: middle;\n",
              "    }\n",
              "\n",
              "    .dataframe tbody tr th {\n",
              "        vertical-align: top;\n",
              "    }\n",
              "\n",
              "    .dataframe thead th {\n",
              "        text-align: right;\n",
              "    }\n",
              "</style>\n",
              "<table border=\"1\" class=\"dataframe\">\n",
              "  <thead>\n",
              "    <tr style=\"text-align: right;\">\n",
              "      <th></th>\n",
              "      <th>sexo</th>\n",
              "      <th>idade</th>\n",
              "      <th>estado civil</th>\n",
              "      <th>nível de instrução</th>\n",
              "      <th>casa própria</th>\n",
              "      <th>filhos</th>\n",
              "      <th>moradores</th>\n",
              "      <th>renda familiar</th>\n",
              "      <th>trabalho</th>\n",
              "      <th>renda pessoal</th>\n",
              "      <th>...</th>\n",
              "      <th>qualidade de vida nos últimos anos</th>\n",
              "      <th>auxílio do governo</th>\n",
              "      <th>satisfação</th>\n",
              "      <th>número de amigos palmas</th>\n",
              "      <th>lazer em palmas</th>\n",
              "      <th>frequência igreja</th>\n",
              "      <th>já morou em outros lugares</th>\n",
              "      <th>ocupação em outro município</th>\n",
              "      <th>sair de palmas</th>\n",
              "      <th>emprego específico</th>\n",
              "    </tr>\n",
              "  </thead>\n",
              "  <tbody>\n",
              "    <tr>\n",
              "      <th>0</th>\n",
              "      <td>F</td>\n",
              "      <td>23.0</td>\n",
              "      <td>Solteiro</td>\n",
              "      <td>4</td>\n",
              "      <td>Não</td>\n",
              "      <td>1</td>\n",
              "      <td>3</td>\n",
              "      <td>4200</td>\n",
              "      <td>Ajuda a família</td>\n",
              "      <td>2400</td>\n",
              "      <td>...</td>\n",
              "      <td>Melhorou</td>\n",
              "      <td>NENHUM</td>\n",
              "      <td>Pouco Satisfeito</td>\n",
              "      <td>Moderado</td>\n",
              "      <td>Bom</td>\n",
              "      <td>Menos de Uma ao Mês</td>\n",
              "      <td>NÃO</td>\n",
              "      <td>NaN</td>\n",
              "      <td>Não</td>\n",
              "      <td>OPERADOR DE CAIXA E DESIGNER DE SOMBRANCELHAS</td>\n",
              "    </tr>\n",
              "    <tr>\n",
              "      <th>1</th>\n",
              "      <td>M</td>\n",
              "      <td>38.0</td>\n",
              "      <td>Casado</td>\n",
              "      <td>3</td>\n",
              "      <td>Sim</td>\n",
              "      <td>2</td>\n",
              "      <td>5+</td>\n",
              "      <td>5000</td>\n",
              "      <td>Ajuda a família</td>\n",
              "      <td>3800</td>\n",
              "      <td>...</td>\n",
              "      <td>Melhorou</td>\n",
              "      <td>BOLSA FAMÍLIA</td>\n",
              "      <td>Pouco Satisfeito</td>\n",
              "      <td>Moderado</td>\n",
              "      <td>Bom</td>\n",
              "      <td>Mais de Uma por Semana</td>\n",
              "      <td>BELÉM - PA</td>\n",
              "      <td>PEDREIRO</td>\n",
              "      <td>Não</td>\n",
              "      <td>GARI</td>\n",
              "    </tr>\n",
              "    <tr>\n",
              "      <th>2</th>\n",
              "      <td>M</td>\n",
              "      <td>26.0</td>\n",
              "      <td>Casado</td>\n",
              "      <td>4</td>\n",
              "      <td>Não</td>\n",
              "      <td>1</td>\n",
              "      <td>3</td>\n",
              "      <td>3000</td>\n",
              "      <td>Ajuda a família</td>\n",
              "      <td>1500</td>\n",
              "      <td>...</td>\n",
              "      <td>Melhorou</td>\n",
              "      <td>BOLSA FAMÍLIA</td>\n",
              "      <td>Satisfeito</td>\n",
              "      <td>Moderado</td>\n",
              "      <td>Bom</td>\n",
              "      <td>Uma por Semana</td>\n",
              "      <td>GURUPI  - TO</td>\n",
              "      <td>VIGIA</td>\n",
              "      <td>Não</td>\n",
              "      <td>SERVIÇOS GERAIS</td>\n",
              "    </tr>\n",
              "    <tr>\n",
              "      <th>3</th>\n",
              "      <td>F</td>\n",
              "      <td>26.0</td>\n",
              "      <td>Solteiro</td>\n",
              "      <td>5</td>\n",
              "      <td>Sim</td>\n",
              "      <td>1</td>\n",
              "      <td>3</td>\n",
              "      <td>3000</td>\n",
              "      <td>Recebe auxílio</td>\n",
              "      <td>1800</td>\n",
              "      <td>...</td>\n",
              "      <td>Melhorou Muito</td>\n",
              "      <td>BOLSA FAMÍLIA</td>\n",
              "      <td>Pouco Satisfeito</td>\n",
              "      <td>Moderado</td>\n",
              "      <td>Bom</td>\n",
              "      <td>Raramente Compareço</td>\n",
              "      <td>XINGUARA - PA</td>\n",
              "      <td>BALCONISTA</td>\n",
              "      <td>Sim</td>\n",
              "      <td>VENDEDORA</td>\n",
              "    </tr>\n",
              "    <tr>\n",
              "      <th>4</th>\n",
              "      <td>M</td>\n",
              "      <td>50.0</td>\n",
              "      <td>Viuvo</td>\n",
              "      <td>3</td>\n",
              "      <td>Sim</td>\n",
              "      <td>3+</td>\n",
              "      <td>1</td>\n",
              "      <td>1320</td>\n",
              "      <td>Sim</td>\n",
              "      <td>1320</td>\n",
              "      <td>...</td>\n",
              "      <td>Melhorou</td>\n",
              "      <td>NENHUM</td>\n",
              "      <td>Muito Satisfeito</td>\n",
              "      <td>Moderado</td>\n",
              "      <td>Bom</td>\n",
              "      <td>Uma por Semana</td>\n",
              "      <td>FORTALEZA - CE</td>\n",
              "      <td>NaN</td>\n",
              "      <td>Não</td>\n",
              "      <td>PORTEIRO</td>\n",
              "    </tr>\n",
              "  </tbody>\n",
              "</table>\n",
              "<p>5 rows × 33 columns</p>\n",
              "</div>\n",
              "    <div class=\"colab-df-buttons\">\n",
              "\n",
              "  <div class=\"colab-df-container\">\n",
              "    <button class=\"colab-df-convert\" onclick=\"convertToInteractive('df-541b3ca5-8330-4866-8886-31f19c4a52af')\"\n",
              "            title=\"Convert this dataframe to an interactive table.\"\n",
              "            style=\"display:none;\">\n",
              "\n",
              "  <svg xmlns=\"http://www.w3.org/2000/svg\" height=\"24px\" viewBox=\"0 -960 960 960\">\n",
              "    <path d=\"M120-120v-720h720v720H120Zm60-500h600v-160H180v160Zm220 220h160v-160H400v160Zm0 220h160v-160H400v160ZM180-400h160v-160H180v160Zm440 0h160v-160H620v160ZM180-180h160v-160H180v160Zm440 0h160v-160H620v160Z\"/>\n",
              "  </svg>\n",
              "    </button>\n",
              "\n",
              "  <style>\n",
              "    .colab-df-container {\n",
              "      display:flex;\n",
              "      gap: 12px;\n",
              "    }\n",
              "\n",
              "    .colab-df-convert {\n",
              "      background-color: #E8F0FE;\n",
              "      border: none;\n",
              "      border-radius: 50%;\n",
              "      cursor: pointer;\n",
              "      display: none;\n",
              "      fill: #1967D2;\n",
              "      height: 32px;\n",
              "      padding: 0 0 0 0;\n",
              "      width: 32px;\n",
              "    }\n",
              "\n",
              "    .colab-df-convert:hover {\n",
              "      background-color: #E2EBFA;\n",
              "      box-shadow: 0px 1px 2px rgba(60, 64, 67, 0.3), 0px 1px 3px 1px rgba(60, 64, 67, 0.15);\n",
              "      fill: #174EA6;\n",
              "    }\n",
              "\n",
              "    .colab-df-buttons div {\n",
              "      margin-bottom: 4px;\n",
              "    }\n",
              "\n",
              "    [theme=dark] .colab-df-convert {\n",
              "      background-color: #3B4455;\n",
              "      fill: #D2E3FC;\n",
              "    }\n",
              "\n",
              "    [theme=dark] .colab-df-convert:hover {\n",
              "      background-color: #434B5C;\n",
              "      box-shadow: 0px 1px 3px 1px rgba(0, 0, 0, 0.15);\n",
              "      filter: drop-shadow(0px 1px 2px rgba(0, 0, 0, 0.3));\n",
              "      fill: #FFFFFF;\n",
              "    }\n",
              "  </style>\n",
              "\n",
              "    <script>\n",
              "      const buttonEl =\n",
              "        document.querySelector('#df-541b3ca5-8330-4866-8886-31f19c4a52af button.colab-df-convert');\n",
              "      buttonEl.style.display =\n",
              "        google.colab.kernel.accessAllowed ? 'block' : 'none';\n",
              "\n",
              "      async function convertToInteractive(key) {\n",
              "        const element = document.querySelector('#df-541b3ca5-8330-4866-8886-31f19c4a52af');\n",
              "        const dataTable =\n",
              "          await google.colab.kernel.invokeFunction('convertToInteractive',\n",
              "                                                    [key], {});\n",
              "        if (!dataTable) return;\n",
              "\n",
              "        const docLinkHtml = 'Like what you see? Visit the ' +\n",
              "          '<a target=\"_blank\" href=https://colab.research.google.com/notebooks/data_table.ipynb>data table notebook</a>'\n",
              "          + ' to learn more about interactive tables.';\n",
              "        element.innerHTML = '';\n",
              "        dataTable['output_type'] = 'display_data';\n",
              "        await google.colab.output.renderOutput(dataTable, element);\n",
              "        const docLink = document.createElement('div');\n",
              "        docLink.innerHTML = docLinkHtml;\n",
              "        element.appendChild(docLink);\n",
              "      }\n",
              "    </script>\n",
              "  </div>\n",
              "\n",
              "\n",
              "<div id=\"df-9d919f22-a234-48b3-ad45-6b5e9678ed61\">\n",
              "  <button class=\"colab-df-quickchart\" onclick=\"quickchart('df-9d919f22-a234-48b3-ad45-6b5e9678ed61')\"\n",
              "            title=\"Suggest charts\"\n",
              "            style=\"display:none;\">\n",
              "\n",
              "<svg xmlns=\"http://www.w3.org/2000/svg\" height=\"24px\"viewBox=\"0 0 24 24\"\n",
              "     width=\"24px\">\n",
              "    <g>\n",
              "        <path d=\"M19 3H5c-1.1 0-2 .9-2 2v14c0 1.1.9 2 2 2h14c1.1 0 2-.9 2-2V5c0-1.1-.9-2-2-2zM9 17H7v-7h2v7zm4 0h-2V7h2v10zm4 0h-2v-4h2v4z\"/>\n",
              "    </g>\n",
              "</svg>\n",
              "  </button>\n",
              "\n",
              "<style>\n",
              "  .colab-df-quickchart {\n",
              "      --bg-color: #E8F0FE;\n",
              "      --fill-color: #1967D2;\n",
              "      --hover-bg-color: #E2EBFA;\n",
              "      --hover-fill-color: #174EA6;\n",
              "      --disabled-fill-color: #AAA;\n",
              "      --disabled-bg-color: #DDD;\n",
              "  }\n",
              "\n",
              "  [theme=dark] .colab-df-quickchart {\n",
              "      --bg-color: #3B4455;\n",
              "      --fill-color: #D2E3FC;\n",
              "      --hover-bg-color: #434B5C;\n",
              "      --hover-fill-color: #FFFFFF;\n",
              "      --disabled-bg-color: #3B4455;\n",
              "      --disabled-fill-color: #666;\n",
              "  }\n",
              "\n",
              "  .colab-df-quickchart {\n",
              "    background-color: var(--bg-color);\n",
              "    border: none;\n",
              "    border-radius: 50%;\n",
              "    cursor: pointer;\n",
              "    display: none;\n",
              "    fill: var(--fill-color);\n",
              "    height: 32px;\n",
              "    padding: 0;\n",
              "    width: 32px;\n",
              "  }\n",
              "\n",
              "  .colab-df-quickchart:hover {\n",
              "    background-color: var(--hover-bg-color);\n",
              "    box-shadow: 0 1px 2px rgba(60, 64, 67, 0.3), 0 1px 3px 1px rgba(60, 64, 67, 0.15);\n",
              "    fill: var(--button-hover-fill-color);\n",
              "  }\n",
              "\n",
              "  .colab-df-quickchart-complete:disabled,\n",
              "  .colab-df-quickchart-complete:disabled:hover {\n",
              "    background-color: var(--disabled-bg-color);\n",
              "    fill: var(--disabled-fill-color);\n",
              "    box-shadow: none;\n",
              "  }\n",
              "\n",
              "  .colab-df-spinner {\n",
              "    border: 2px solid var(--fill-color);\n",
              "    border-color: transparent;\n",
              "    border-bottom-color: var(--fill-color);\n",
              "    animation:\n",
              "      spin 1s steps(1) infinite;\n",
              "  }\n",
              "\n",
              "  @keyframes spin {\n",
              "    0% {\n",
              "      border-color: transparent;\n",
              "      border-bottom-color: var(--fill-color);\n",
              "      border-left-color: var(--fill-color);\n",
              "    }\n",
              "    20% {\n",
              "      border-color: transparent;\n",
              "      border-left-color: var(--fill-color);\n",
              "      border-top-color: var(--fill-color);\n",
              "    }\n",
              "    30% {\n",
              "      border-color: transparent;\n",
              "      border-left-color: var(--fill-color);\n",
              "      border-top-color: var(--fill-color);\n",
              "      border-right-color: var(--fill-color);\n",
              "    }\n",
              "    40% {\n",
              "      border-color: transparent;\n",
              "      border-right-color: var(--fill-color);\n",
              "      border-top-color: var(--fill-color);\n",
              "    }\n",
              "    60% {\n",
              "      border-color: transparent;\n",
              "      border-right-color: var(--fill-color);\n",
              "    }\n",
              "    80% {\n",
              "      border-color: transparent;\n",
              "      border-right-color: var(--fill-color);\n",
              "      border-bottom-color: var(--fill-color);\n",
              "    }\n",
              "    90% {\n",
              "      border-color: transparent;\n",
              "      border-bottom-color: var(--fill-color);\n",
              "    }\n",
              "  }\n",
              "</style>\n",
              "\n",
              "  <script>\n",
              "    async function quickchart(key) {\n",
              "      const quickchartButtonEl =\n",
              "        document.querySelector('#' + key + ' button');\n",
              "      quickchartButtonEl.disabled = true;  // To prevent multiple clicks.\n",
              "      quickchartButtonEl.classList.add('colab-df-spinner');\n",
              "      try {\n",
              "        const charts = await google.colab.kernel.invokeFunction(\n",
              "            'suggestCharts', [key], {});\n",
              "      } catch (error) {\n",
              "        console.error('Error during call to suggestCharts:', error);\n",
              "      }\n",
              "      quickchartButtonEl.classList.remove('colab-df-spinner');\n",
              "      quickchartButtonEl.classList.add('colab-df-quickchart-complete');\n",
              "    }\n",
              "    (() => {\n",
              "      let quickchartButtonEl =\n",
              "        document.querySelector('#df-9d919f22-a234-48b3-ad45-6b5e9678ed61 button');\n",
              "      quickchartButtonEl.style.display =\n",
              "        google.colab.kernel.accessAllowed ? 'block' : 'none';\n",
              "    })();\n",
              "  </script>\n",
              "</div>\n",
              "\n",
              "    </div>\n",
              "  </div>\n"
            ],
            "application/vnd.google.colaboratory.intrinsic+json": {
              "type": "dataframe",
              "variable_name": "df"
            }
          },
          "metadata": {},
          "execution_count": 85
        }
      ]
    },
    {
      "cell_type": "markdown",
      "source": [
        "# Tratando Tipagen"
      ],
      "metadata": {
        "id": "wlSDjCSZrvnL"
      }
    },
    {
      "cell_type": "code",
      "source": [
        "df.info()"
      ],
      "metadata": {
        "colab": {
          "base_uri": "https://localhost:8080/"
        },
        "id": "8OWkEBNJsBGM",
        "outputId": "4d260ec8-348f-4029-b4fb-6ef9f941bafe"
      },
      "execution_count": null,
      "outputs": [
        {
          "output_type": "stream",
          "name": "stdout",
          "text": [
            "<class 'pandas.core.frame.DataFrame'>\n",
            "RangeIndex: 329 entries, 0 to 328\n",
            "Data columns (total 33 columns):\n",
            " #   Column                              Non-Null Count  Dtype  \n",
            "---  ------                              --------------  -----  \n",
            " 0   sexo                                328 non-null    object \n",
            " 1   idade                               312 non-null    float64\n",
            " 2   estado civil                        329 non-null    object \n",
            " 3   nível de instrução                  329 non-null    int64  \n",
            " 4   casa própria                        327 non-null    object \n",
            " 5   filhos                              329 non-null    object \n",
            " 6   moradores                           329 non-null    object \n",
            " 7   renda familiar                      329 non-null    int64  \n",
            " 8   trabalho                            329 non-null    object \n",
            " 9   renda pessoal                       329 non-null    int64  \n",
            " 10  tempo em palmas                     327 non-null    object \n",
            " 11  renda anterior                      159 non-null    float64\n",
            " 12  qualidade de vida imigrante         329 non-null    object \n",
            " 13  bens ao imigrar                     329 non-null    object \n",
            " 14  qualidade em cinco anos             329 non-null    object \n",
            " 15  pode melhorar em cinco anos         329 non-null    object \n",
            " 16  violencia                           328 non-null    object \n",
            " 17  qualidade educaional                329 non-null    object \n",
            " 18  setor de trabalho                   329 non-null    object \n",
            " 19  que setor recomenda                 329 non-null    object \n",
            " 20  cidade natal                        329 non-null    object \n",
            " 21  anos de trabalho                    302 non-null    object \n",
            " 22  drogas em palmas                    328 non-null    object \n",
            " 23  qualidade de vida nos últimos anos  329 non-null    object \n",
            " 24  auxílio do governo                  329 non-null    object \n",
            " 25  satisfação                          329 non-null    object \n",
            " 26  número de amigos palmas             328 non-null    object \n",
            " 27  lazer em palmas                     328 non-null    object \n",
            " 28  frequência igreja                   329 non-null    object \n",
            " 29  já morou em outros lugares          329 non-null    object \n",
            " 30  ocupação em outro município         161 non-null    object \n",
            " 31  sair de palmas                      329 non-null    object \n",
            " 32  emprego específico                  295 non-null    object \n",
            "dtypes: float64(2), int64(3), object(28)\n",
            "memory usage: 84.9+ KB\n"
          ]
        }
      ]
    },
    {
      "cell_type": "code",
      "source": [
        "colunas_numericas = ['renda familiar', 'renda anterior', 'renda pessoal']\n",
        "df[colunas_numericas] = df[colunas_numericas].astype(float)\n",
        "df.info()"
      ],
      "metadata": {
        "colab": {
          "base_uri": "https://localhost:8080/"
        },
        "id": "sY1HyyM3sRfc",
        "outputId": "0eb03a80-ef8a-4945-e2f2-ed20decd97f5"
      },
      "execution_count": null,
      "outputs": [
        {
          "output_type": "stream",
          "name": "stdout",
          "text": [
            "<class 'pandas.core.frame.DataFrame'>\n",
            "RangeIndex: 329 entries, 0 to 328\n",
            "Data columns (total 33 columns):\n",
            " #   Column                              Non-Null Count  Dtype  \n",
            "---  ------                              --------------  -----  \n",
            " 0   sexo                                328 non-null    object \n",
            " 1   idade                               312 non-null    float64\n",
            " 2   estado civil                        329 non-null    object \n",
            " 3   nível de instrução                  329 non-null    int64  \n",
            " 4   casa própria                        327 non-null    object \n",
            " 5   filhos                              329 non-null    object \n",
            " 6   moradores                           329 non-null    object \n",
            " 7   renda familiar                      329 non-null    float64\n",
            " 8   trabalho                            329 non-null    object \n",
            " 9   renda pessoal                       329 non-null    float64\n",
            " 10  tempo em palmas                     327 non-null    object \n",
            " 11  renda anterior                      159 non-null    float64\n",
            " 12  qualidade de vida imigrante         329 non-null    object \n",
            " 13  bens ao imigrar                     329 non-null    object \n",
            " 14  qualidade em cinco anos             329 non-null    object \n",
            " 15  pode melhorar em cinco anos         329 non-null    object \n",
            " 16  violencia                           328 non-null    object \n",
            " 17  qualidade educaional                329 non-null    object \n",
            " 18  setor de trabalho                   329 non-null    object \n",
            " 19  que setor recomenda                 329 non-null    object \n",
            " 20  cidade natal                        329 non-null    object \n",
            " 21  anos de trabalho                    302 non-null    object \n",
            " 22  drogas em palmas                    328 non-null    object \n",
            " 23  qualidade de vida nos últimos anos  329 non-null    object \n",
            " 24  auxílio do governo                  329 non-null    object \n",
            " 25  satisfação                          329 non-null    object \n",
            " 26  número de amigos palmas             328 non-null    object \n",
            " 27  lazer em palmas                     328 non-null    object \n",
            " 28  frequência igreja                   329 non-null    object \n",
            " 29  já morou em outros lugares          329 non-null    object \n",
            " 30  ocupação em outro município         161 non-null    object \n",
            " 31  sair de palmas                      329 non-null    object \n",
            " 32  emprego específico                  295 non-null    object \n",
            "dtypes: float64(4), int64(1), object(28)\n",
            "memory usage: 84.9+ KB\n"
          ]
        }
      ]
    },
    {
      "cell_type": "code",
      "source": [
        "df['idade'].isnull().sum()"
      ],
      "metadata": {
        "colab": {
          "base_uri": "https://localhost:8080/"
        },
        "id": "3Z_CRqc4uGdg",
        "outputId": "23096f95-1224-415e-ca25-ff21abac2948"
      },
      "execution_count": null,
      "outputs": [
        {
          "output_type": "execute_result",
          "data": {
            "text/plain": [
              "17"
            ]
          },
          "metadata": {},
          "execution_count": 106
        }
      ]
    },
    {
      "cell_type": "code",
      "source": [
        "df['idade'] = df['idade'].fillna(df['idade'].median())\n",
        "df['idade'].unique()"
      ],
      "metadata": {
        "colab": {
          "base_uri": "https://localhost:8080/"
        },
        "id": "FjEcjF5dtI78",
        "outputId": "20051019-8a0d-49ef-82f9-d9ca031a57d3"
      },
      "execution_count": null,
      "outputs": [
        {
          "output_type": "execute_result",
          "data": {
            "text/plain": [
              "array([23., 38., 26., 50., 22., 27., 42., 36., 41., 18., 31., 19., 48.,\n",
              "       21., 68., 52., 34., 32., 35., 66., 46., 24., 29., 28., 33., 72.,\n",
              "       49., 62., 60., 67., 25., 20., 40., 16., 86., 43., 59., 30., 39.,\n",
              "       55., 63., 70., 53., 45., 56., 37., 44., 47., 58., 80., 15., 51.,\n",
              "       71., 65., 54., 17., 57.])"
            ]
          },
          "metadata": {},
          "execution_count": 107
        }
      ]
    },
    {
      "cell_type": "code",
      "source": [
        "df['idade'] = df['idade'].astype(int)\n",
        "df.info()"
      ],
      "metadata": {
        "colab": {
          "base_uri": "https://localhost:8080/"
        },
        "id": "Y_hnHHZpuD25",
        "outputId": "1bff5610-3a8a-4d97-a55d-5fe8f3b9a9cb"
      },
      "execution_count": null,
      "outputs": [
        {
          "output_type": "stream",
          "name": "stdout",
          "text": [
            "<class 'pandas.core.frame.DataFrame'>\n",
            "RangeIndex: 329 entries, 0 to 328\n",
            "Data columns (total 33 columns):\n",
            " #   Column                              Non-Null Count  Dtype  \n",
            "---  ------                              --------------  -----  \n",
            " 0   sexo                                328 non-null    object \n",
            " 1   idade                               329 non-null    int64  \n",
            " 2   estado civil                        329 non-null    object \n",
            " 3   nível de instrução                  329 non-null    int64  \n",
            " 4   casa própria                        327 non-null    object \n",
            " 5   filhos                              329 non-null    object \n",
            " 6   moradores                           329 non-null    object \n",
            " 7   renda familiar                      329 non-null    float64\n",
            " 8   trabalho                            329 non-null    object \n",
            " 9   renda pessoal                       329 non-null    float64\n",
            " 10  tempo em palmas                     327 non-null    object \n",
            " 11  renda anterior                      159 non-null    float64\n",
            " 12  qualidade de vida imigrante         329 non-null    object \n",
            " 13  bens ao imigrar                     329 non-null    object \n",
            " 14  qualidade em cinco anos             329 non-null    object \n",
            " 15  pode melhorar em cinco anos         329 non-null    object \n",
            " 16  violencia                           328 non-null    object \n",
            " 17  qualidade educaional                329 non-null    object \n",
            " 18  setor de trabalho                   329 non-null    object \n",
            " 19  que setor recomenda                 329 non-null    object \n",
            " 20  cidade natal                        329 non-null    object \n",
            " 21  anos de trabalho                    302 non-null    object \n",
            " 22  drogas em palmas                    328 non-null    object \n",
            " 23  qualidade de vida nos últimos anos  329 non-null    object \n",
            " 24  auxílio do governo                  329 non-null    object \n",
            " 25  satisfação                          329 non-null    object \n",
            " 26  número de amigos palmas             328 non-null    object \n",
            " 27  lazer em palmas                     328 non-null    object \n",
            " 28  frequência igreja                   329 non-null    object \n",
            " 29  já morou em outros lugares          329 non-null    object \n",
            " 30  ocupação em outro município         161 non-null    object \n",
            " 31  sair de palmas                      329 non-null    object \n",
            " 32  emprego específico                  295 non-null    object \n",
            "dtypes: float64(3), int64(2), object(28)\n",
            "memory usage: 84.9+ KB\n"
          ]
        }
      ]
    },
    {
      "cell_type": "code",
      "source": [
        "df['idade'].value_counts()"
      ],
      "metadata": {
        "colab": {
          "base_uri": "https://localhost:8080/",
          "height": 1000
        },
        "id": "jcnlEAE5tuC8",
        "outputId": "f005e228-ab08-4498-a587-2d44bb16a732"
      },
      "execution_count": null,
      "outputs": [
        {
          "output_type": "execute_result",
          "data": {
            "text/plain": [
              "idade\n",
              "28    32\n",
              "27    17\n",
              "23    16\n",
              "26    15\n",
              "24    12\n",
              "25    12\n",
              "30    12\n",
              "16    11\n",
              "19    11\n",
              "18    11\n",
              "20    10\n",
              "29    10\n",
              "17     9\n",
              "35     9\n",
              "22     9\n",
              "50     7\n",
              "34     7\n",
              "40     6\n",
              "38     6\n",
              "32     6\n",
              "52     6\n",
              "21     6\n",
              "48     6\n",
              "41     6\n",
              "45     5\n",
              "43     5\n",
              "15     5\n",
              "42     5\n",
              "37     4\n",
              "60     4\n",
              "36     4\n",
              "31     4\n",
              "68     4\n",
              "49     3\n",
              "33     3\n",
              "46     3\n",
              "58     3\n",
              "62     3\n",
              "44     2\n",
              "51     2\n",
              "47     2\n",
              "67     1\n",
              "54     1\n",
              "65     1\n",
              "71     1\n",
              "80     1\n",
              "66     1\n",
              "56     1\n",
              "53     1\n",
              "70     1\n",
              "63     1\n",
              "55     1\n",
              "39     1\n",
              "59     1\n",
              "86     1\n",
              "72     1\n",
              "57     1\n",
              "Name: count, dtype: int64"
            ],
            "text/html": [
              "<div>\n",
              "<style scoped>\n",
              "    .dataframe tbody tr th:only-of-type {\n",
              "        vertical-align: middle;\n",
              "    }\n",
              "\n",
              "    .dataframe tbody tr th {\n",
              "        vertical-align: top;\n",
              "    }\n",
              "\n",
              "    .dataframe thead th {\n",
              "        text-align: right;\n",
              "    }\n",
              "</style>\n",
              "<table border=\"1\" class=\"dataframe\">\n",
              "  <thead>\n",
              "    <tr style=\"text-align: right;\">\n",
              "      <th></th>\n",
              "      <th>count</th>\n",
              "    </tr>\n",
              "    <tr>\n",
              "      <th>idade</th>\n",
              "      <th></th>\n",
              "    </tr>\n",
              "  </thead>\n",
              "  <tbody>\n",
              "    <tr>\n",
              "      <th>28</th>\n",
              "      <td>32</td>\n",
              "    </tr>\n",
              "    <tr>\n",
              "      <th>27</th>\n",
              "      <td>17</td>\n",
              "    </tr>\n",
              "    <tr>\n",
              "      <th>23</th>\n",
              "      <td>16</td>\n",
              "    </tr>\n",
              "    <tr>\n",
              "      <th>26</th>\n",
              "      <td>15</td>\n",
              "    </tr>\n",
              "    <tr>\n",
              "      <th>24</th>\n",
              "      <td>12</td>\n",
              "    </tr>\n",
              "    <tr>\n",
              "      <th>25</th>\n",
              "      <td>12</td>\n",
              "    </tr>\n",
              "    <tr>\n",
              "      <th>30</th>\n",
              "      <td>12</td>\n",
              "    </tr>\n",
              "    <tr>\n",
              "      <th>16</th>\n",
              "      <td>11</td>\n",
              "    </tr>\n",
              "    <tr>\n",
              "      <th>19</th>\n",
              "      <td>11</td>\n",
              "    </tr>\n",
              "    <tr>\n",
              "      <th>18</th>\n",
              "      <td>11</td>\n",
              "    </tr>\n",
              "    <tr>\n",
              "      <th>20</th>\n",
              "      <td>10</td>\n",
              "    </tr>\n",
              "    <tr>\n",
              "      <th>29</th>\n",
              "      <td>10</td>\n",
              "    </tr>\n",
              "    <tr>\n",
              "      <th>17</th>\n",
              "      <td>9</td>\n",
              "    </tr>\n",
              "    <tr>\n",
              "      <th>35</th>\n",
              "      <td>9</td>\n",
              "    </tr>\n",
              "    <tr>\n",
              "      <th>22</th>\n",
              "      <td>9</td>\n",
              "    </tr>\n",
              "    <tr>\n",
              "      <th>50</th>\n",
              "      <td>7</td>\n",
              "    </tr>\n",
              "    <tr>\n",
              "      <th>34</th>\n",
              "      <td>7</td>\n",
              "    </tr>\n",
              "    <tr>\n",
              "      <th>40</th>\n",
              "      <td>6</td>\n",
              "    </tr>\n",
              "    <tr>\n",
              "      <th>38</th>\n",
              "      <td>6</td>\n",
              "    </tr>\n",
              "    <tr>\n",
              "      <th>32</th>\n",
              "      <td>6</td>\n",
              "    </tr>\n",
              "    <tr>\n",
              "      <th>52</th>\n",
              "      <td>6</td>\n",
              "    </tr>\n",
              "    <tr>\n",
              "      <th>21</th>\n",
              "      <td>6</td>\n",
              "    </tr>\n",
              "    <tr>\n",
              "      <th>48</th>\n",
              "      <td>6</td>\n",
              "    </tr>\n",
              "    <tr>\n",
              "      <th>41</th>\n",
              "      <td>6</td>\n",
              "    </tr>\n",
              "    <tr>\n",
              "      <th>45</th>\n",
              "      <td>5</td>\n",
              "    </tr>\n",
              "    <tr>\n",
              "      <th>43</th>\n",
              "      <td>5</td>\n",
              "    </tr>\n",
              "    <tr>\n",
              "      <th>15</th>\n",
              "      <td>5</td>\n",
              "    </tr>\n",
              "    <tr>\n",
              "      <th>42</th>\n",
              "      <td>5</td>\n",
              "    </tr>\n",
              "    <tr>\n",
              "      <th>37</th>\n",
              "      <td>4</td>\n",
              "    </tr>\n",
              "    <tr>\n",
              "      <th>60</th>\n",
              "      <td>4</td>\n",
              "    </tr>\n",
              "    <tr>\n",
              "      <th>36</th>\n",
              "      <td>4</td>\n",
              "    </tr>\n",
              "    <tr>\n",
              "      <th>31</th>\n",
              "      <td>4</td>\n",
              "    </tr>\n",
              "    <tr>\n",
              "      <th>68</th>\n",
              "      <td>4</td>\n",
              "    </tr>\n",
              "    <tr>\n",
              "      <th>49</th>\n",
              "      <td>3</td>\n",
              "    </tr>\n",
              "    <tr>\n",
              "      <th>33</th>\n",
              "      <td>3</td>\n",
              "    </tr>\n",
              "    <tr>\n",
              "      <th>46</th>\n",
              "      <td>3</td>\n",
              "    </tr>\n",
              "    <tr>\n",
              "      <th>58</th>\n",
              "      <td>3</td>\n",
              "    </tr>\n",
              "    <tr>\n",
              "      <th>62</th>\n",
              "      <td>3</td>\n",
              "    </tr>\n",
              "    <tr>\n",
              "      <th>44</th>\n",
              "      <td>2</td>\n",
              "    </tr>\n",
              "    <tr>\n",
              "      <th>51</th>\n",
              "      <td>2</td>\n",
              "    </tr>\n",
              "    <tr>\n",
              "      <th>47</th>\n",
              "      <td>2</td>\n",
              "    </tr>\n",
              "    <tr>\n",
              "      <th>67</th>\n",
              "      <td>1</td>\n",
              "    </tr>\n",
              "    <tr>\n",
              "      <th>54</th>\n",
              "      <td>1</td>\n",
              "    </tr>\n",
              "    <tr>\n",
              "      <th>65</th>\n",
              "      <td>1</td>\n",
              "    </tr>\n",
              "    <tr>\n",
              "      <th>71</th>\n",
              "      <td>1</td>\n",
              "    </tr>\n",
              "    <tr>\n",
              "      <th>80</th>\n",
              "      <td>1</td>\n",
              "    </tr>\n",
              "    <tr>\n",
              "      <th>66</th>\n",
              "      <td>1</td>\n",
              "    </tr>\n",
              "    <tr>\n",
              "      <th>56</th>\n",
              "      <td>1</td>\n",
              "    </tr>\n",
              "    <tr>\n",
              "      <th>53</th>\n",
              "      <td>1</td>\n",
              "    </tr>\n",
              "    <tr>\n",
              "      <th>70</th>\n",
              "      <td>1</td>\n",
              "    </tr>\n",
              "    <tr>\n",
              "      <th>63</th>\n",
              "      <td>1</td>\n",
              "    </tr>\n",
              "    <tr>\n",
              "      <th>55</th>\n",
              "      <td>1</td>\n",
              "    </tr>\n",
              "    <tr>\n",
              "      <th>39</th>\n",
              "      <td>1</td>\n",
              "    </tr>\n",
              "    <tr>\n",
              "      <th>59</th>\n",
              "      <td>1</td>\n",
              "    </tr>\n",
              "    <tr>\n",
              "      <th>86</th>\n",
              "      <td>1</td>\n",
              "    </tr>\n",
              "    <tr>\n",
              "      <th>72</th>\n",
              "      <td>1</td>\n",
              "    </tr>\n",
              "    <tr>\n",
              "      <th>57</th>\n",
              "      <td>1</td>\n",
              "    </tr>\n",
              "  </tbody>\n",
              "</table>\n",
              "</div><br><label><b>dtype:</b> int64</label>"
            ]
          },
          "metadata": {},
          "execution_count": 109
        }
      ]
    },
    {
      "cell_type": "markdown",
      "source": [
        "# Exportando"
      ],
      "metadata": {
        "id": "vS3h3IcUrVwD"
      }
    },
    {
      "cell_type": "code",
      "source": [
        "df.to_excel('Palmas dataset tratado.xlsx')\n",
        "df.to_csv('Palmas dataset tratado.csv')"
      ],
      "metadata": {
        "id": "TEyKgcj0rXbD"
      },
      "execution_count": null,
      "outputs": []
    }
  ]
}