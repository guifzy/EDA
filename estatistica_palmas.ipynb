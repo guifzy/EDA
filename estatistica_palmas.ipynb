{
  "nbformat": 4,
  "nbformat_minor": 0,
  "metadata": {
    "colab": {
      "provenance": [],
      "toc_visible": true,
      "collapsed_sections": [
        "VNCFQ6qrvsbN",
        "pG84It_WwqXF",
        "N7YLiF8mKGXn",
        "xb52I5LRw-oN"
      ],
      "include_colab_link": true
    },
    "kernelspec": {
      "name": "python3",
      "display_name": "Python 3"
    },
    "language_info": {
      "name": "python"
    }
  },
  "cells": [
    {
      "cell_type": "markdown",
      "metadata": {
        "id": "view-in-github",
        "colab_type": "text"
      },
      "source": [
        "<a href=\"https://colab.research.google.com/github/guifzy/EDA/blob/main/estatistica_palmas.ipynb\" target=\"_parent\"><img src=\"https://colab.research.google.com/assets/colab-badge.svg\" alt=\"Open In Colab\"/></a>"
      ]
    },
    {
      "cell_type": "code",
      "source": [
        "from google.colab import drive\n",
        "drive.mount('/content/drive')"
      ],
      "metadata": {
        "colab": {
          "base_uri": "https://localhost:8080/"
        },
        "id": "o2ZoIrIeA64r",
        "outputId": "8e0fbcc6-e16d-4a8e-a169-0b14fd7fa4f0"
      },
      "execution_count": 1,
      "outputs": [
        {
          "output_type": "stream",
          "name": "stdout",
          "text": [
            "Mounted at /content/drive\n"
          ]
        }
      ]
    },
    {
      "cell_type": "markdown",
      "source": [
        "# Intro"
      ],
      "metadata": {
        "id": "VNCFQ6qrvsbN"
      }
    },
    {
      "cell_type": "code",
      "execution_count": 157,
      "metadata": {
        "id": "PYu88zUevg_n"
      },
      "outputs": [],
      "source": [
        "import pandas as pd\n",
        "import numpy as np\n",
        "import regex as re"
      ]
    },
    {
      "cell_type": "code",
      "source": [
        "df = pd.read_csv('/content/drive/MyDrive/Colab Notebooks/DataFrames/Palmas dataset tratado.csv')\n",
        "df.head()"
      ],
      "metadata": {
        "colab": {
          "base_uri": "https://localhost:8080/",
          "height": 0
        },
        "id": "yCFaapnyv0y9",
        "outputId": "5aba549f-6946-4688-baba-f17a66901d82"
      },
      "execution_count": 158,
      "outputs": [
        {
          "output_type": "execute_result",
          "data": {
            "text/plain": [
              "   Unnamed: 0 sexo  idade estado civil  nível de instrução casa própria  \\\n",
              "0           0    F     23     Solteiro                   4          Não   \n",
              "1           1    M     38       Casado                   3          Sim   \n",
              "2           2    M     26       Casado                   4          Não   \n",
              "3           3    F     26     Solteiro                   5          Sim   \n",
              "4           4    M     50        Viuvo                   3          Sim   \n",
              "\n",
              "  filhos moradores  renda familiar         trabalho  ...  \\\n",
              "0      1         C          4200.0  Ajuda a família  ...   \n",
              "1      2         E          5000.0  Ajuda a família  ...   \n",
              "2      1         C          3000.0  Ajuda a família  ...   \n",
              "3      1         C          3000.0   Recebe auxílio  ...   \n",
              "4     3+         A          1320.0              Sim  ...   \n",
              "\n",
              "   qualidade de vida nos últimos anos auxílio do governo        satisfação  \\\n",
              "0                            Melhorou             NENHUM  Pouco Satisfeito   \n",
              "1                            Melhorou      BOLSA FAMÍLIA  Pouco Satisfeito   \n",
              "2                            Melhorou      BOLSA FAMÍLIA        Satisfeito   \n",
              "3                      Melhorou Muito      BOLSA FAMÍLIA  Pouco Satisfeito   \n",
              "4                            Melhorou             NENHUM  Muito Satisfeito   \n",
              "\n",
              "  número de amigos palmas lazer em palmas       frequência igreja  \\\n",
              "0                Moderado             Bom     Menos de Uma ao Mês   \n",
              "1                Moderado             Bom  Mais de Uma por Semana   \n",
              "2                Moderado             Bom          Uma por Semana   \n",
              "3                Moderado             Bom     Raramente Compareço   \n",
              "4                Moderado             Bom          Uma por Semana   \n",
              "\n",
              "  já morou em outros lugares ocupação em outro município sair de palmas  \\\n",
              "0                        NÃO                         NaN            Não   \n",
              "1                 BELÉM - PA                    PEDREIRO            Não   \n",
              "2               GURUPI  - TO                       VIGIA            Não   \n",
              "3              XINGUARA - PA                  BALCONISTA            Sim   \n",
              "4             FORTALEZA - CE                         NaN            Não   \n",
              "\n",
              "                              emprego específico  \n",
              "0  OPERADOR DE CAIXA E DESIGNER DE SOMBRANCELHAS  \n",
              "1                                           GARI  \n",
              "2                                SERVIÇOS GERAIS  \n",
              "3                                      VENDEDORA  \n",
              "4                                       PORTEIRO  \n",
              "\n",
              "[5 rows x 34 columns]"
            ],
            "text/html": [
              "\n",
              "  <div id=\"df-8b23d439-4ca1-404d-aa11-e0f1067add50\" class=\"colab-df-container\">\n",
              "    <div>\n",
              "<style scoped>\n",
              "    .dataframe tbody tr th:only-of-type {\n",
              "        vertical-align: middle;\n",
              "    }\n",
              "\n",
              "    .dataframe tbody tr th {\n",
              "        vertical-align: top;\n",
              "    }\n",
              "\n",
              "    .dataframe thead th {\n",
              "        text-align: right;\n",
              "    }\n",
              "</style>\n",
              "<table border=\"1\" class=\"dataframe\">\n",
              "  <thead>\n",
              "    <tr style=\"text-align: right;\">\n",
              "      <th></th>\n",
              "      <th>Unnamed: 0</th>\n",
              "      <th>sexo</th>\n",
              "      <th>idade</th>\n",
              "      <th>estado civil</th>\n",
              "      <th>nível de instrução</th>\n",
              "      <th>casa própria</th>\n",
              "      <th>filhos</th>\n",
              "      <th>moradores</th>\n",
              "      <th>renda familiar</th>\n",
              "      <th>trabalho</th>\n",
              "      <th>...</th>\n",
              "      <th>qualidade de vida nos últimos anos</th>\n",
              "      <th>auxílio do governo</th>\n",
              "      <th>satisfação</th>\n",
              "      <th>número de amigos palmas</th>\n",
              "      <th>lazer em palmas</th>\n",
              "      <th>frequência igreja</th>\n",
              "      <th>já morou em outros lugares</th>\n",
              "      <th>ocupação em outro município</th>\n",
              "      <th>sair de palmas</th>\n",
              "      <th>emprego específico</th>\n",
              "    </tr>\n",
              "  </thead>\n",
              "  <tbody>\n",
              "    <tr>\n",
              "      <th>0</th>\n",
              "      <td>0</td>\n",
              "      <td>F</td>\n",
              "      <td>23</td>\n",
              "      <td>Solteiro</td>\n",
              "      <td>4</td>\n",
              "      <td>Não</td>\n",
              "      <td>1</td>\n",
              "      <td>C</td>\n",
              "      <td>4200.0</td>\n",
              "      <td>Ajuda a família</td>\n",
              "      <td>...</td>\n",
              "      <td>Melhorou</td>\n",
              "      <td>NENHUM</td>\n",
              "      <td>Pouco Satisfeito</td>\n",
              "      <td>Moderado</td>\n",
              "      <td>Bom</td>\n",
              "      <td>Menos de Uma ao Mês</td>\n",
              "      <td>NÃO</td>\n",
              "      <td>NaN</td>\n",
              "      <td>Não</td>\n",
              "      <td>OPERADOR DE CAIXA E DESIGNER DE SOMBRANCELHAS</td>\n",
              "    </tr>\n",
              "    <tr>\n",
              "      <th>1</th>\n",
              "      <td>1</td>\n",
              "      <td>M</td>\n",
              "      <td>38</td>\n",
              "      <td>Casado</td>\n",
              "      <td>3</td>\n",
              "      <td>Sim</td>\n",
              "      <td>2</td>\n",
              "      <td>E</td>\n",
              "      <td>5000.0</td>\n",
              "      <td>Ajuda a família</td>\n",
              "      <td>...</td>\n",
              "      <td>Melhorou</td>\n",
              "      <td>BOLSA FAMÍLIA</td>\n",
              "      <td>Pouco Satisfeito</td>\n",
              "      <td>Moderado</td>\n",
              "      <td>Bom</td>\n",
              "      <td>Mais de Uma por Semana</td>\n",
              "      <td>BELÉM - PA</td>\n",
              "      <td>PEDREIRO</td>\n",
              "      <td>Não</td>\n",
              "      <td>GARI</td>\n",
              "    </tr>\n",
              "    <tr>\n",
              "      <th>2</th>\n",
              "      <td>2</td>\n",
              "      <td>M</td>\n",
              "      <td>26</td>\n",
              "      <td>Casado</td>\n",
              "      <td>4</td>\n",
              "      <td>Não</td>\n",
              "      <td>1</td>\n",
              "      <td>C</td>\n",
              "      <td>3000.0</td>\n",
              "      <td>Ajuda a família</td>\n",
              "      <td>...</td>\n",
              "      <td>Melhorou</td>\n",
              "      <td>BOLSA FAMÍLIA</td>\n",
              "      <td>Satisfeito</td>\n",
              "      <td>Moderado</td>\n",
              "      <td>Bom</td>\n",
              "      <td>Uma por Semana</td>\n",
              "      <td>GURUPI  - TO</td>\n",
              "      <td>VIGIA</td>\n",
              "      <td>Não</td>\n",
              "      <td>SERVIÇOS GERAIS</td>\n",
              "    </tr>\n",
              "    <tr>\n",
              "      <th>3</th>\n",
              "      <td>3</td>\n",
              "      <td>F</td>\n",
              "      <td>26</td>\n",
              "      <td>Solteiro</td>\n",
              "      <td>5</td>\n",
              "      <td>Sim</td>\n",
              "      <td>1</td>\n",
              "      <td>C</td>\n",
              "      <td>3000.0</td>\n",
              "      <td>Recebe auxílio</td>\n",
              "      <td>...</td>\n",
              "      <td>Melhorou Muito</td>\n",
              "      <td>BOLSA FAMÍLIA</td>\n",
              "      <td>Pouco Satisfeito</td>\n",
              "      <td>Moderado</td>\n",
              "      <td>Bom</td>\n",
              "      <td>Raramente Compareço</td>\n",
              "      <td>XINGUARA - PA</td>\n",
              "      <td>BALCONISTA</td>\n",
              "      <td>Sim</td>\n",
              "      <td>VENDEDORA</td>\n",
              "    </tr>\n",
              "    <tr>\n",
              "      <th>4</th>\n",
              "      <td>4</td>\n",
              "      <td>M</td>\n",
              "      <td>50</td>\n",
              "      <td>Viuvo</td>\n",
              "      <td>3</td>\n",
              "      <td>Sim</td>\n",
              "      <td>3+</td>\n",
              "      <td>A</td>\n",
              "      <td>1320.0</td>\n",
              "      <td>Sim</td>\n",
              "      <td>...</td>\n",
              "      <td>Melhorou</td>\n",
              "      <td>NENHUM</td>\n",
              "      <td>Muito Satisfeito</td>\n",
              "      <td>Moderado</td>\n",
              "      <td>Bom</td>\n",
              "      <td>Uma por Semana</td>\n",
              "      <td>FORTALEZA - CE</td>\n",
              "      <td>NaN</td>\n",
              "      <td>Não</td>\n",
              "      <td>PORTEIRO</td>\n",
              "    </tr>\n",
              "  </tbody>\n",
              "</table>\n",
              "<p>5 rows × 34 columns</p>\n",
              "</div>\n",
              "    <div class=\"colab-df-buttons\">\n",
              "\n",
              "  <div class=\"colab-df-container\">\n",
              "    <button class=\"colab-df-convert\" onclick=\"convertToInteractive('df-8b23d439-4ca1-404d-aa11-e0f1067add50')\"\n",
              "            title=\"Convert this dataframe to an interactive table.\"\n",
              "            style=\"display:none;\">\n",
              "\n",
              "  <svg xmlns=\"http://www.w3.org/2000/svg\" height=\"24px\" viewBox=\"0 -960 960 960\">\n",
              "    <path d=\"M120-120v-720h720v720H120Zm60-500h600v-160H180v160Zm220 220h160v-160H400v160Zm0 220h160v-160H400v160ZM180-400h160v-160H180v160Zm440 0h160v-160H620v160ZM180-180h160v-160H180v160Zm440 0h160v-160H620v160Z\"/>\n",
              "  </svg>\n",
              "    </button>\n",
              "\n",
              "  <style>\n",
              "    .colab-df-container {\n",
              "      display:flex;\n",
              "      gap: 12px;\n",
              "    }\n",
              "\n",
              "    .colab-df-convert {\n",
              "      background-color: #E8F0FE;\n",
              "      border: none;\n",
              "      border-radius: 50%;\n",
              "      cursor: pointer;\n",
              "      display: none;\n",
              "      fill: #1967D2;\n",
              "      height: 32px;\n",
              "      padding: 0 0 0 0;\n",
              "      width: 32px;\n",
              "    }\n",
              "\n",
              "    .colab-df-convert:hover {\n",
              "      background-color: #E2EBFA;\n",
              "      box-shadow: 0px 1px 2px rgba(60, 64, 67, 0.3), 0px 1px 3px 1px rgba(60, 64, 67, 0.15);\n",
              "      fill: #174EA6;\n",
              "    }\n",
              "\n",
              "    .colab-df-buttons div {\n",
              "      margin-bottom: 4px;\n",
              "    }\n",
              "\n",
              "    [theme=dark] .colab-df-convert {\n",
              "      background-color: #3B4455;\n",
              "      fill: #D2E3FC;\n",
              "    }\n",
              "\n",
              "    [theme=dark] .colab-df-convert:hover {\n",
              "      background-color: #434B5C;\n",
              "      box-shadow: 0px 1px 3px 1px rgba(0, 0, 0, 0.15);\n",
              "      filter: drop-shadow(0px 1px 2px rgba(0, 0, 0, 0.3));\n",
              "      fill: #FFFFFF;\n",
              "    }\n",
              "  </style>\n",
              "\n",
              "    <script>\n",
              "      const buttonEl =\n",
              "        document.querySelector('#df-8b23d439-4ca1-404d-aa11-e0f1067add50 button.colab-df-convert');\n",
              "      buttonEl.style.display =\n",
              "        google.colab.kernel.accessAllowed ? 'block' : 'none';\n",
              "\n",
              "      async function convertToInteractive(key) {\n",
              "        const element = document.querySelector('#df-8b23d439-4ca1-404d-aa11-e0f1067add50');\n",
              "        const dataTable =\n",
              "          await google.colab.kernel.invokeFunction('convertToInteractive',\n",
              "                                                    [key], {});\n",
              "        if (!dataTable) return;\n",
              "\n",
              "        const docLinkHtml = 'Like what you see? Visit the ' +\n",
              "          '<a target=\"_blank\" href=https://colab.research.google.com/notebooks/data_table.ipynb>data table notebook</a>'\n",
              "          + ' to learn more about interactive tables.';\n",
              "        element.innerHTML = '';\n",
              "        dataTable['output_type'] = 'display_data';\n",
              "        await google.colab.output.renderOutput(dataTable, element);\n",
              "        const docLink = document.createElement('div');\n",
              "        docLink.innerHTML = docLinkHtml;\n",
              "        element.appendChild(docLink);\n",
              "      }\n",
              "    </script>\n",
              "  </div>\n",
              "\n",
              "\n",
              "<div id=\"df-727b923f-d304-491f-8084-6f07fabfc467\">\n",
              "  <button class=\"colab-df-quickchart\" onclick=\"quickchart('df-727b923f-d304-491f-8084-6f07fabfc467')\"\n",
              "            title=\"Suggest charts\"\n",
              "            style=\"display:none;\">\n",
              "\n",
              "<svg xmlns=\"http://www.w3.org/2000/svg\" height=\"24px\"viewBox=\"0 0 24 24\"\n",
              "     width=\"24px\">\n",
              "    <g>\n",
              "        <path d=\"M19 3H5c-1.1 0-2 .9-2 2v14c0 1.1.9 2 2 2h14c1.1 0 2-.9 2-2V5c0-1.1-.9-2-2-2zM9 17H7v-7h2v7zm4 0h-2V7h2v10zm4 0h-2v-4h2v4z\"/>\n",
              "    </g>\n",
              "</svg>\n",
              "  </button>\n",
              "\n",
              "<style>\n",
              "  .colab-df-quickchart {\n",
              "      --bg-color: #E8F0FE;\n",
              "      --fill-color: #1967D2;\n",
              "      --hover-bg-color: #E2EBFA;\n",
              "      --hover-fill-color: #174EA6;\n",
              "      --disabled-fill-color: #AAA;\n",
              "      --disabled-bg-color: #DDD;\n",
              "  }\n",
              "\n",
              "  [theme=dark] .colab-df-quickchart {\n",
              "      --bg-color: #3B4455;\n",
              "      --fill-color: #D2E3FC;\n",
              "      --hover-bg-color: #434B5C;\n",
              "      --hover-fill-color: #FFFFFF;\n",
              "      --disabled-bg-color: #3B4455;\n",
              "      --disabled-fill-color: #666;\n",
              "  }\n",
              "\n",
              "  .colab-df-quickchart {\n",
              "    background-color: var(--bg-color);\n",
              "    border: none;\n",
              "    border-radius: 50%;\n",
              "    cursor: pointer;\n",
              "    display: none;\n",
              "    fill: var(--fill-color);\n",
              "    height: 32px;\n",
              "    padding: 0;\n",
              "    width: 32px;\n",
              "  }\n",
              "\n",
              "  .colab-df-quickchart:hover {\n",
              "    background-color: var(--hover-bg-color);\n",
              "    box-shadow: 0 1px 2px rgba(60, 64, 67, 0.3), 0 1px 3px 1px rgba(60, 64, 67, 0.15);\n",
              "    fill: var(--button-hover-fill-color);\n",
              "  }\n",
              "\n",
              "  .colab-df-quickchart-complete:disabled,\n",
              "  .colab-df-quickchart-complete:disabled:hover {\n",
              "    background-color: var(--disabled-bg-color);\n",
              "    fill: var(--disabled-fill-color);\n",
              "    box-shadow: none;\n",
              "  }\n",
              "\n",
              "  .colab-df-spinner {\n",
              "    border: 2px solid var(--fill-color);\n",
              "    border-color: transparent;\n",
              "    border-bottom-color: var(--fill-color);\n",
              "    animation:\n",
              "      spin 1s steps(1) infinite;\n",
              "  }\n",
              "\n",
              "  @keyframes spin {\n",
              "    0% {\n",
              "      border-color: transparent;\n",
              "      border-bottom-color: var(--fill-color);\n",
              "      border-left-color: var(--fill-color);\n",
              "    }\n",
              "    20% {\n",
              "      border-color: transparent;\n",
              "      border-left-color: var(--fill-color);\n",
              "      border-top-color: var(--fill-color);\n",
              "    }\n",
              "    30% {\n",
              "      border-color: transparent;\n",
              "      border-left-color: var(--fill-color);\n",
              "      border-top-color: var(--fill-color);\n",
              "      border-right-color: var(--fill-color);\n",
              "    }\n",
              "    40% {\n",
              "      border-color: transparent;\n",
              "      border-right-color: var(--fill-color);\n",
              "      border-top-color: var(--fill-color);\n",
              "    }\n",
              "    60% {\n",
              "      border-color: transparent;\n",
              "      border-right-color: var(--fill-color);\n",
              "    }\n",
              "    80% {\n",
              "      border-color: transparent;\n",
              "      border-right-color: var(--fill-color);\n",
              "      border-bottom-color: var(--fill-color);\n",
              "    }\n",
              "    90% {\n",
              "      border-color: transparent;\n",
              "      border-bottom-color: var(--fill-color);\n",
              "    }\n",
              "  }\n",
              "</style>\n",
              "\n",
              "  <script>\n",
              "    async function quickchart(key) {\n",
              "      const quickchartButtonEl =\n",
              "        document.querySelector('#' + key + ' button');\n",
              "      quickchartButtonEl.disabled = true;  // To prevent multiple clicks.\n",
              "      quickchartButtonEl.classList.add('colab-df-spinner');\n",
              "      try {\n",
              "        const charts = await google.colab.kernel.invokeFunction(\n",
              "            'suggestCharts', [key], {});\n",
              "      } catch (error) {\n",
              "        console.error('Error during call to suggestCharts:', error);\n",
              "      }\n",
              "      quickchartButtonEl.classList.remove('colab-df-spinner');\n",
              "      quickchartButtonEl.classList.add('colab-df-quickchart-complete');\n",
              "    }\n",
              "    (() => {\n",
              "      let quickchartButtonEl =\n",
              "        document.querySelector('#df-727b923f-d304-491f-8084-6f07fabfc467 button');\n",
              "      quickchartButtonEl.style.display =\n",
              "        google.colab.kernel.accessAllowed ? 'block' : 'none';\n",
              "    })();\n",
              "  </script>\n",
              "</div>\n",
              "\n",
              "    </div>\n",
              "  </div>\n"
            ],
            "application/vnd.google.colaboratory.intrinsic+json": {
              "type": "dataframe",
              "variable_name": "df"
            }
          },
          "metadata": {},
          "execution_count": 158
        }
      ]
    },
    {
      "cell_type": "markdown",
      "source": [
        "# Tratando para análise estatística"
      ],
      "metadata": {
        "id": "pG84It_WwqXF"
      }
    },
    {
      "cell_type": "code",
      "source": [
        "df = df.drop(columns=['Unnamed: 0'])"
      ],
      "metadata": {
        "id": "g0TexhWiwmsd"
      },
      "execution_count": 159,
      "outputs": []
    },
    {
      "cell_type": "code",
      "source": [
        "df['cidade natal'] = df['cidade natal'].str.extract(r'\\b([A-Z]{2})\\b')\n",
        "df['cidade natal']"
      ],
      "metadata": {
        "colab": {
          "base_uri": "https://localhost:8080/",
          "height": 0
        },
        "id": "dzIbel4pHbPh",
        "outputId": "0da40d1e-e105-4b63-fa04-9b41d3299420"
      },
      "execution_count": 160,
      "outputs": [
        {
          "output_type": "execute_result",
          "data": {
            "text/plain": [
              "0      TO\n",
              "1      PA\n",
              "2      MT\n",
              "3      PA\n",
              "4      CE\n",
              "       ..\n",
              "324    TO\n",
              "325    TO\n",
              "326    DO\n",
              "327    TO\n",
              "328    TO\n",
              "Name: cidade natal, Length: 329, dtype: object"
            ],
            "text/html": [
              "<div>\n",
              "<style scoped>\n",
              "    .dataframe tbody tr th:only-of-type {\n",
              "        vertical-align: middle;\n",
              "    }\n",
              "\n",
              "    .dataframe tbody tr th {\n",
              "        vertical-align: top;\n",
              "    }\n",
              "\n",
              "    .dataframe thead th {\n",
              "        text-align: right;\n",
              "    }\n",
              "</style>\n",
              "<table border=\"1\" class=\"dataframe\">\n",
              "  <thead>\n",
              "    <tr style=\"text-align: right;\">\n",
              "      <th></th>\n",
              "      <th>cidade natal</th>\n",
              "    </tr>\n",
              "  </thead>\n",
              "  <tbody>\n",
              "    <tr>\n",
              "      <th>0</th>\n",
              "      <td>TO</td>\n",
              "    </tr>\n",
              "    <tr>\n",
              "      <th>1</th>\n",
              "      <td>PA</td>\n",
              "    </tr>\n",
              "    <tr>\n",
              "      <th>2</th>\n",
              "      <td>MT</td>\n",
              "    </tr>\n",
              "    <tr>\n",
              "      <th>3</th>\n",
              "      <td>PA</td>\n",
              "    </tr>\n",
              "    <tr>\n",
              "      <th>4</th>\n",
              "      <td>CE</td>\n",
              "    </tr>\n",
              "    <tr>\n",
              "      <th>...</th>\n",
              "      <td>...</td>\n",
              "    </tr>\n",
              "    <tr>\n",
              "      <th>324</th>\n",
              "      <td>TO</td>\n",
              "    </tr>\n",
              "    <tr>\n",
              "      <th>325</th>\n",
              "      <td>TO</td>\n",
              "    </tr>\n",
              "    <tr>\n",
              "      <th>326</th>\n",
              "      <td>DO</td>\n",
              "    </tr>\n",
              "    <tr>\n",
              "      <th>327</th>\n",
              "      <td>TO</td>\n",
              "    </tr>\n",
              "    <tr>\n",
              "      <th>328</th>\n",
              "      <td>TO</td>\n",
              "    </tr>\n",
              "  </tbody>\n",
              "</table>\n",
              "<p>329 rows × 1 columns</p>\n",
              "</div><br><label><b>dtype:</b> object</label>"
            ]
          },
          "metadata": {},
          "execution_count": 160
        }
      ]
    },
    {
      "cell_type": "code",
      "source": [
        "df['moradores'].replace({'A':'1', 'B':'2', 'C':'3', 'D':'4', 'E':'5'}, inplace=True)\n",
        "df['moradores'].unique()"
      ],
      "metadata": {
        "colab": {
          "base_uri": "https://localhost:8080/"
        },
        "id": "JWuXhOQGDa3B",
        "outputId": "4d1ecdf0-5755-43d1-fe75-76f3829a8514"
      },
      "execution_count": 161,
      "outputs": [
        {
          "output_type": "stream",
          "name": "stderr",
          "text": [
            "<ipython-input-161-43ca8427403a>:1: FutureWarning: A value is trying to be set on a copy of a DataFrame or Series through chained assignment using an inplace method.\n",
            "The behavior will change in pandas 3.0. This inplace method will never work because the intermediate object on which we are setting values always behaves as a copy.\n",
            "\n",
            "For example, when doing 'df[col].method(value, inplace=True)', try using 'df.method({col: value}, inplace=True)' or df[col] = df[col].method(value) instead, to perform the operation inplace on the original object.\n",
            "\n",
            "\n",
            "  df['moradores'].replace({'A':'1', 'B':'2', 'C':'3', 'D':'4', 'E':'5'}, inplace=True)\n"
          ]
        },
        {
          "output_type": "execute_result",
          "data": {
            "text/plain": [
              "array(['3', '5', '1', '4', '2'], dtype=object)"
            ]
          },
          "metadata": {},
          "execution_count": 161
        }
      ]
    },
    {
      "cell_type": "code",
      "source": [
        "df.head()"
      ],
      "metadata": {
        "colab": {
          "base_uri": "https://localhost:8080/",
          "height": 0
        },
        "id": "vdPmc0FeDtQG",
        "outputId": "cda78957-6e6e-4f6d-943d-aa88140de7b3"
      },
      "execution_count": 162,
      "outputs": [
        {
          "output_type": "execute_result",
          "data": {
            "text/plain": [
              "  sexo  idade estado civil  nível de instrução casa própria filhos moradores  \\\n",
              "0    F     23     Solteiro                   4          Não      1         3   \n",
              "1    M     38       Casado                   3          Sim      2         5   \n",
              "2    M     26       Casado                   4          Não      1         3   \n",
              "3    F     26     Solteiro                   5          Sim      1         3   \n",
              "4    M     50        Viuvo                   3          Sim     3+         1   \n",
              "\n",
              "   renda familiar         trabalho  renda pessoal  ...  \\\n",
              "0          4200.0  Ajuda a família         2400.0  ...   \n",
              "1          5000.0  Ajuda a família         3800.0  ...   \n",
              "2          3000.0  Ajuda a família         1500.0  ...   \n",
              "3          3000.0   Recebe auxílio         1800.0  ...   \n",
              "4          1320.0              Sim         1320.0  ...   \n",
              "\n",
              "  qualidade de vida nos últimos anos  auxílio do governo        satisfação  \\\n",
              "0                           Melhorou              NENHUM  Pouco Satisfeito   \n",
              "1                           Melhorou       BOLSA FAMÍLIA  Pouco Satisfeito   \n",
              "2                           Melhorou       BOLSA FAMÍLIA        Satisfeito   \n",
              "3                     Melhorou Muito       BOLSA FAMÍLIA  Pouco Satisfeito   \n",
              "4                           Melhorou              NENHUM  Muito Satisfeito   \n",
              "\n",
              "  número de amigos palmas lazer em palmas       frequência igreja  \\\n",
              "0                Moderado             Bom     Menos de Uma ao Mês   \n",
              "1                Moderado             Bom  Mais de Uma por Semana   \n",
              "2                Moderado             Bom          Uma por Semana   \n",
              "3                Moderado             Bom     Raramente Compareço   \n",
              "4                Moderado             Bom          Uma por Semana   \n",
              "\n",
              "  já morou em outros lugares ocupação em outro município sair de palmas  \\\n",
              "0                        NÃO                         NaN            Não   \n",
              "1                 BELÉM - PA                    PEDREIRO            Não   \n",
              "2               GURUPI  - TO                       VIGIA            Não   \n",
              "3              XINGUARA - PA                  BALCONISTA            Sim   \n",
              "4             FORTALEZA - CE                         NaN            Não   \n",
              "\n",
              "                              emprego específico  \n",
              "0  OPERADOR DE CAIXA E DESIGNER DE SOMBRANCELHAS  \n",
              "1                                           GARI  \n",
              "2                                SERVIÇOS GERAIS  \n",
              "3                                      VENDEDORA  \n",
              "4                                       PORTEIRO  \n",
              "\n",
              "[5 rows x 33 columns]"
            ],
            "text/html": [
              "\n",
              "  <div id=\"df-8bca39d7-9e44-48e2-a9c3-4e7c41db42a0\" class=\"colab-df-container\">\n",
              "    <div>\n",
              "<style scoped>\n",
              "    .dataframe tbody tr th:only-of-type {\n",
              "        vertical-align: middle;\n",
              "    }\n",
              "\n",
              "    .dataframe tbody tr th {\n",
              "        vertical-align: top;\n",
              "    }\n",
              "\n",
              "    .dataframe thead th {\n",
              "        text-align: right;\n",
              "    }\n",
              "</style>\n",
              "<table border=\"1\" class=\"dataframe\">\n",
              "  <thead>\n",
              "    <tr style=\"text-align: right;\">\n",
              "      <th></th>\n",
              "      <th>sexo</th>\n",
              "      <th>idade</th>\n",
              "      <th>estado civil</th>\n",
              "      <th>nível de instrução</th>\n",
              "      <th>casa própria</th>\n",
              "      <th>filhos</th>\n",
              "      <th>moradores</th>\n",
              "      <th>renda familiar</th>\n",
              "      <th>trabalho</th>\n",
              "      <th>renda pessoal</th>\n",
              "      <th>...</th>\n",
              "      <th>qualidade de vida nos últimos anos</th>\n",
              "      <th>auxílio do governo</th>\n",
              "      <th>satisfação</th>\n",
              "      <th>número de amigos palmas</th>\n",
              "      <th>lazer em palmas</th>\n",
              "      <th>frequência igreja</th>\n",
              "      <th>já morou em outros lugares</th>\n",
              "      <th>ocupação em outro município</th>\n",
              "      <th>sair de palmas</th>\n",
              "      <th>emprego específico</th>\n",
              "    </tr>\n",
              "  </thead>\n",
              "  <tbody>\n",
              "    <tr>\n",
              "      <th>0</th>\n",
              "      <td>F</td>\n",
              "      <td>23</td>\n",
              "      <td>Solteiro</td>\n",
              "      <td>4</td>\n",
              "      <td>Não</td>\n",
              "      <td>1</td>\n",
              "      <td>3</td>\n",
              "      <td>4200.0</td>\n",
              "      <td>Ajuda a família</td>\n",
              "      <td>2400.0</td>\n",
              "      <td>...</td>\n",
              "      <td>Melhorou</td>\n",
              "      <td>NENHUM</td>\n",
              "      <td>Pouco Satisfeito</td>\n",
              "      <td>Moderado</td>\n",
              "      <td>Bom</td>\n",
              "      <td>Menos de Uma ao Mês</td>\n",
              "      <td>NÃO</td>\n",
              "      <td>NaN</td>\n",
              "      <td>Não</td>\n",
              "      <td>OPERADOR DE CAIXA E DESIGNER DE SOMBRANCELHAS</td>\n",
              "    </tr>\n",
              "    <tr>\n",
              "      <th>1</th>\n",
              "      <td>M</td>\n",
              "      <td>38</td>\n",
              "      <td>Casado</td>\n",
              "      <td>3</td>\n",
              "      <td>Sim</td>\n",
              "      <td>2</td>\n",
              "      <td>5</td>\n",
              "      <td>5000.0</td>\n",
              "      <td>Ajuda a família</td>\n",
              "      <td>3800.0</td>\n",
              "      <td>...</td>\n",
              "      <td>Melhorou</td>\n",
              "      <td>BOLSA FAMÍLIA</td>\n",
              "      <td>Pouco Satisfeito</td>\n",
              "      <td>Moderado</td>\n",
              "      <td>Bom</td>\n",
              "      <td>Mais de Uma por Semana</td>\n",
              "      <td>BELÉM - PA</td>\n",
              "      <td>PEDREIRO</td>\n",
              "      <td>Não</td>\n",
              "      <td>GARI</td>\n",
              "    </tr>\n",
              "    <tr>\n",
              "      <th>2</th>\n",
              "      <td>M</td>\n",
              "      <td>26</td>\n",
              "      <td>Casado</td>\n",
              "      <td>4</td>\n",
              "      <td>Não</td>\n",
              "      <td>1</td>\n",
              "      <td>3</td>\n",
              "      <td>3000.0</td>\n",
              "      <td>Ajuda a família</td>\n",
              "      <td>1500.0</td>\n",
              "      <td>...</td>\n",
              "      <td>Melhorou</td>\n",
              "      <td>BOLSA FAMÍLIA</td>\n",
              "      <td>Satisfeito</td>\n",
              "      <td>Moderado</td>\n",
              "      <td>Bom</td>\n",
              "      <td>Uma por Semana</td>\n",
              "      <td>GURUPI  - TO</td>\n",
              "      <td>VIGIA</td>\n",
              "      <td>Não</td>\n",
              "      <td>SERVIÇOS GERAIS</td>\n",
              "    </tr>\n",
              "    <tr>\n",
              "      <th>3</th>\n",
              "      <td>F</td>\n",
              "      <td>26</td>\n",
              "      <td>Solteiro</td>\n",
              "      <td>5</td>\n",
              "      <td>Sim</td>\n",
              "      <td>1</td>\n",
              "      <td>3</td>\n",
              "      <td>3000.0</td>\n",
              "      <td>Recebe auxílio</td>\n",
              "      <td>1800.0</td>\n",
              "      <td>...</td>\n",
              "      <td>Melhorou Muito</td>\n",
              "      <td>BOLSA FAMÍLIA</td>\n",
              "      <td>Pouco Satisfeito</td>\n",
              "      <td>Moderado</td>\n",
              "      <td>Bom</td>\n",
              "      <td>Raramente Compareço</td>\n",
              "      <td>XINGUARA - PA</td>\n",
              "      <td>BALCONISTA</td>\n",
              "      <td>Sim</td>\n",
              "      <td>VENDEDORA</td>\n",
              "    </tr>\n",
              "    <tr>\n",
              "      <th>4</th>\n",
              "      <td>M</td>\n",
              "      <td>50</td>\n",
              "      <td>Viuvo</td>\n",
              "      <td>3</td>\n",
              "      <td>Sim</td>\n",
              "      <td>3+</td>\n",
              "      <td>1</td>\n",
              "      <td>1320.0</td>\n",
              "      <td>Sim</td>\n",
              "      <td>1320.0</td>\n",
              "      <td>...</td>\n",
              "      <td>Melhorou</td>\n",
              "      <td>NENHUM</td>\n",
              "      <td>Muito Satisfeito</td>\n",
              "      <td>Moderado</td>\n",
              "      <td>Bom</td>\n",
              "      <td>Uma por Semana</td>\n",
              "      <td>FORTALEZA - CE</td>\n",
              "      <td>NaN</td>\n",
              "      <td>Não</td>\n",
              "      <td>PORTEIRO</td>\n",
              "    </tr>\n",
              "  </tbody>\n",
              "</table>\n",
              "<p>5 rows × 33 columns</p>\n",
              "</div>\n",
              "    <div class=\"colab-df-buttons\">\n",
              "\n",
              "  <div class=\"colab-df-container\">\n",
              "    <button class=\"colab-df-convert\" onclick=\"convertToInteractive('df-8bca39d7-9e44-48e2-a9c3-4e7c41db42a0')\"\n",
              "            title=\"Convert this dataframe to an interactive table.\"\n",
              "            style=\"display:none;\">\n",
              "\n",
              "  <svg xmlns=\"http://www.w3.org/2000/svg\" height=\"24px\" viewBox=\"0 -960 960 960\">\n",
              "    <path d=\"M120-120v-720h720v720H120Zm60-500h600v-160H180v160Zm220 220h160v-160H400v160Zm0 220h160v-160H400v160ZM180-400h160v-160H180v160Zm440 0h160v-160H620v160ZM180-180h160v-160H180v160Zm440 0h160v-160H620v160Z\"/>\n",
              "  </svg>\n",
              "    </button>\n",
              "\n",
              "  <style>\n",
              "    .colab-df-container {\n",
              "      display:flex;\n",
              "      gap: 12px;\n",
              "    }\n",
              "\n",
              "    .colab-df-convert {\n",
              "      background-color: #E8F0FE;\n",
              "      border: none;\n",
              "      border-radius: 50%;\n",
              "      cursor: pointer;\n",
              "      display: none;\n",
              "      fill: #1967D2;\n",
              "      height: 32px;\n",
              "      padding: 0 0 0 0;\n",
              "      width: 32px;\n",
              "    }\n",
              "\n",
              "    .colab-df-convert:hover {\n",
              "      background-color: #E2EBFA;\n",
              "      box-shadow: 0px 1px 2px rgba(60, 64, 67, 0.3), 0px 1px 3px 1px rgba(60, 64, 67, 0.15);\n",
              "      fill: #174EA6;\n",
              "    }\n",
              "\n",
              "    .colab-df-buttons div {\n",
              "      margin-bottom: 4px;\n",
              "    }\n",
              "\n",
              "    [theme=dark] .colab-df-convert {\n",
              "      background-color: #3B4455;\n",
              "      fill: #D2E3FC;\n",
              "    }\n",
              "\n",
              "    [theme=dark] .colab-df-convert:hover {\n",
              "      background-color: #434B5C;\n",
              "      box-shadow: 0px 1px 3px 1px rgba(0, 0, 0, 0.15);\n",
              "      filter: drop-shadow(0px 1px 2px rgba(0, 0, 0, 0.3));\n",
              "      fill: #FFFFFF;\n",
              "    }\n",
              "  </style>\n",
              "\n",
              "    <script>\n",
              "      const buttonEl =\n",
              "        document.querySelector('#df-8bca39d7-9e44-48e2-a9c3-4e7c41db42a0 button.colab-df-convert');\n",
              "      buttonEl.style.display =\n",
              "        google.colab.kernel.accessAllowed ? 'block' : 'none';\n",
              "\n",
              "      async function convertToInteractive(key) {\n",
              "        const element = document.querySelector('#df-8bca39d7-9e44-48e2-a9c3-4e7c41db42a0');\n",
              "        const dataTable =\n",
              "          await google.colab.kernel.invokeFunction('convertToInteractive',\n",
              "                                                    [key], {});\n",
              "        if (!dataTable) return;\n",
              "\n",
              "        const docLinkHtml = 'Like what you see? Visit the ' +\n",
              "          '<a target=\"_blank\" href=https://colab.research.google.com/notebooks/data_table.ipynb>data table notebook</a>'\n",
              "          + ' to learn more about interactive tables.';\n",
              "        element.innerHTML = '';\n",
              "        dataTable['output_type'] = 'display_data';\n",
              "        await google.colab.output.renderOutput(dataTable, element);\n",
              "        const docLink = document.createElement('div');\n",
              "        docLink.innerHTML = docLinkHtml;\n",
              "        element.appendChild(docLink);\n",
              "      }\n",
              "    </script>\n",
              "  </div>\n",
              "\n",
              "\n",
              "<div id=\"df-182b11ec-0fcb-4f69-84d9-545e81fc28e1\">\n",
              "  <button class=\"colab-df-quickchart\" onclick=\"quickchart('df-182b11ec-0fcb-4f69-84d9-545e81fc28e1')\"\n",
              "            title=\"Suggest charts\"\n",
              "            style=\"display:none;\">\n",
              "\n",
              "<svg xmlns=\"http://www.w3.org/2000/svg\" height=\"24px\"viewBox=\"0 0 24 24\"\n",
              "     width=\"24px\">\n",
              "    <g>\n",
              "        <path d=\"M19 3H5c-1.1 0-2 .9-2 2v14c0 1.1.9 2 2 2h14c1.1 0 2-.9 2-2V5c0-1.1-.9-2-2-2zM9 17H7v-7h2v7zm4 0h-2V7h2v10zm4 0h-2v-4h2v4z\"/>\n",
              "    </g>\n",
              "</svg>\n",
              "  </button>\n",
              "\n",
              "<style>\n",
              "  .colab-df-quickchart {\n",
              "      --bg-color: #E8F0FE;\n",
              "      --fill-color: #1967D2;\n",
              "      --hover-bg-color: #E2EBFA;\n",
              "      --hover-fill-color: #174EA6;\n",
              "      --disabled-fill-color: #AAA;\n",
              "      --disabled-bg-color: #DDD;\n",
              "  }\n",
              "\n",
              "  [theme=dark] .colab-df-quickchart {\n",
              "      --bg-color: #3B4455;\n",
              "      --fill-color: #D2E3FC;\n",
              "      --hover-bg-color: #434B5C;\n",
              "      --hover-fill-color: #FFFFFF;\n",
              "      --disabled-bg-color: #3B4455;\n",
              "      --disabled-fill-color: #666;\n",
              "  }\n",
              "\n",
              "  .colab-df-quickchart {\n",
              "    background-color: var(--bg-color);\n",
              "    border: none;\n",
              "    border-radius: 50%;\n",
              "    cursor: pointer;\n",
              "    display: none;\n",
              "    fill: var(--fill-color);\n",
              "    height: 32px;\n",
              "    padding: 0;\n",
              "    width: 32px;\n",
              "  }\n",
              "\n",
              "  .colab-df-quickchart:hover {\n",
              "    background-color: var(--hover-bg-color);\n",
              "    box-shadow: 0 1px 2px rgba(60, 64, 67, 0.3), 0 1px 3px 1px rgba(60, 64, 67, 0.15);\n",
              "    fill: var(--button-hover-fill-color);\n",
              "  }\n",
              "\n",
              "  .colab-df-quickchart-complete:disabled,\n",
              "  .colab-df-quickchart-complete:disabled:hover {\n",
              "    background-color: var(--disabled-bg-color);\n",
              "    fill: var(--disabled-fill-color);\n",
              "    box-shadow: none;\n",
              "  }\n",
              "\n",
              "  .colab-df-spinner {\n",
              "    border: 2px solid var(--fill-color);\n",
              "    border-color: transparent;\n",
              "    border-bottom-color: var(--fill-color);\n",
              "    animation:\n",
              "      spin 1s steps(1) infinite;\n",
              "  }\n",
              "\n",
              "  @keyframes spin {\n",
              "    0% {\n",
              "      border-color: transparent;\n",
              "      border-bottom-color: var(--fill-color);\n",
              "      border-left-color: var(--fill-color);\n",
              "    }\n",
              "    20% {\n",
              "      border-color: transparent;\n",
              "      border-left-color: var(--fill-color);\n",
              "      border-top-color: var(--fill-color);\n",
              "    }\n",
              "    30% {\n",
              "      border-color: transparent;\n",
              "      border-left-color: var(--fill-color);\n",
              "      border-top-color: var(--fill-color);\n",
              "      border-right-color: var(--fill-color);\n",
              "    }\n",
              "    40% {\n",
              "      border-color: transparent;\n",
              "      border-right-color: var(--fill-color);\n",
              "      border-top-color: var(--fill-color);\n",
              "    }\n",
              "    60% {\n",
              "      border-color: transparent;\n",
              "      border-right-color: var(--fill-color);\n",
              "    }\n",
              "    80% {\n",
              "      border-color: transparent;\n",
              "      border-right-color: var(--fill-color);\n",
              "      border-bottom-color: var(--fill-color);\n",
              "    }\n",
              "    90% {\n",
              "      border-color: transparent;\n",
              "      border-bottom-color: var(--fill-color);\n",
              "    }\n",
              "  }\n",
              "</style>\n",
              "\n",
              "  <script>\n",
              "    async function quickchart(key) {\n",
              "      const quickchartButtonEl =\n",
              "        document.querySelector('#' + key + ' button');\n",
              "      quickchartButtonEl.disabled = true;  // To prevent multiple clicks.\n",
              "      quickchartButtonEl.classList.add('colab-df-spinner');\n",
              "      try {\n",
              "        const charts = await google.colab.kernel.invokeFunction(\n",
              "            'suggestCharts', [key], {});\n",
              "      } catch (error) {\n",
              "        console.error('Error during call to suggestCharts:', error);\n",
              "      }\n",
              "      quickchartButtonEl.classList.remove('colab-df-spinner');\n",
              "      quickchartButtonEl.classList.add('colab-df-quickchart-complete');\n",
              "    }\n",
              "    (() => {\n",
              "      let quickchartButtonEl =\n",
              "        document.querySelector('#df-182b11ec-0fcb-4f69-84d9-545e81fc28e1 button');\n",
              "      quickchartButtonEl.style.display =\n",
              "        google.colab.kernel.accessAllowed ? 'block' : 'none';\n",
              "    })();\n",
              "  </script>\n",
              "</div>\n",
              "\n",
              "    </div>\n",
              "  </div>\n"
            ],
            "application/vnd.google.colaboratory.intrinsic+json": {
              "type": "dataframe",
              "variable_name": "df"
            }
          },
          "metadata": {},
          "execution_count": 162
        }
      ]
    },
    {
      "cell_type": "code",
      "source": [
        "df.columns"
      ],
      "metadata": {
        "colab": {
          "base_uri": "https://localhost:8080/"
        },
        "id": "j75kqqN8xLPV",
        "outputId": "af5c6580-c083-450b-c10b-780b0c271695"
      },
      "execution_count": 163,
      "outputs": [
        {
          "output_type": "execute_result",
          "data": {
            "text/plain": [
              "Index(['sexo', 'idade', 'estado civil', 'nível de instrução', 'casa própria',\n",
              "       'filhos', 'moradores', 'renda familiar', 'trabalho', 'renda pessoal',\n",
              "       'tempo em palmas', 'renda anterior', 'qualidade de vida imigrante',\n",
              "       'bens ao imigrar', 'qualidade em cinco anos',\n",
              "       'pode melhorar em cinco anos', 'violencia', 'qualidade educaional',\n",
              "       'setor de trabalho', 'que setor recomenda', 'cidade natal',\n",
              "       'anos de trabalho', 'drogas em palmas',\n",
              "       'qualidade de vida nos últimos anos', 'auxílio do governo',\n",
              "       'satisfação', 'número de amigos palmas', 'lazer em palmas',\n",
              "       'frequência igreja', 'já morou em outros lugares',\n",
              "       'ocupação em outro município', 'sair de palmas', 'emprego específico'],\n",
              "      dtype='object')"
            ]
          },
          "metadata": {},
          "execution_count": 163
        }
      ]
    },
    {
      "cell_type": "code",
      "source": [
        "df['já morou em outros lugares'] = df['já morou em outros lugares'].apply(lambda x: 'SIM' if x != 'NÃO' and np.nan else 'NÃO')\n",
        "df['já morou em outros lugares'].unique()"
      ],
      "metadata": {
        "colab": {
          "base_uri": "https://localhost:8080/"
        },
        "id": "a1R2ilB7PGQY",
        "outputId": "6333f64f-2e9b-44a0-dd14-b46ba9f62fe6"
      },
      "execution_count": 164,
      "outputs": [
        {
          "output_type": "execute_result",
          "data": {
            "text/plain": [
              "array(['NÃO', 'SIM'], dtype=object)"
            ]
          },
          "metadata": {},
          "execution_count": 164
        }
      ]
    },
    {
      "cell_type": "code",
      "source": [
        "df['já morou em outros lugares'].value_counts()"
      ],
      "metadata": {
        "colab": {
          "base_uri": "https://localhost:8080/",
          "height": 0
        },
        "id": "6fMgXArfPx3_",
        "outputId": "a99e2263-7c53-43f0-f64d-97647133738a"
      },
      "execution_count": 165,
      "outputs": [
        {
          "output_type": "execute_result",
          "data": {
            "text/plain": [
              "já morou em outros lugares\n",
              "SIM    245\n",
              "NÃO     84\n",
              "Name: count, dtype: int64"
            ],
            "text/html": [
              "<div>\n",
              "<style scoped>\n",
              "    .dataframe tbody tr th:only-of-type {\n",
              "        vertical-align: middle;\n",
              "    }\n",
              "\n",
              "    .dataframe tbody tr th {\n",
              "        vertical-align: top;\n",
              "    }\n",
              "\n",
              "    .dataframe thead th {\n",
              "        text-align: right;\n",
              "    }\n",
              "</style>\n",
              "<table border=\"1\" class=\"dataframe\">\n",
              "  <thead>\n",
              "    <tr style=\"text-align: right;\">\n",
              "      <th></th>\n",
              "      <th>count</th>\n",
              "    </tr>\n",
              "    <tr>\n",
              "      <th>já morou em outros lugares</th>\n",
              "      <th></th>\n",
              "    </tr>\n",
              "  </thead>\n",
              "  <tbody>\n",
              "    <tr>\n",
              "      <th>SIM</th>\n",
              "      <td>245</td>\n",
              "    </tr>\n",
              "    <tr>\n",
              "      <th>NÃO</th>\n",
              "      <td>84</td>\n",
              "    </tr>\n",
              "  </tbody>\n",
              "</table>\n",
              "</div><br><label><b>dtype:</b> int64</label>"
            ]
          },
          "metadata": {},
          "execution_count": 165
        }
      ]
    },
    {
      "cell_type": "code",
      "source": [
        "df['tempo em palmas'].unique()"
      ],
      "metadata": {
        "colab": {
          "base_uri": "https://localhost:8080/"
        },
        "id": "XmLVy0YoXDyF",
        "outputId": "043515c4-f011-4dd9-83d8-abf386b7723a"
      },
      "execution_count": 166,
      "outputs": [
        {
          "output_type": "execute_result",
          "data": {
            "text/plain": [
              "array(['23', '11', '3', '5', '22', '4', '10', '6', '8', '29', '2', '30',\n",
              "       '32', '34', '27', '20', '9', '2 MESES', '7', '1', '4 MESES', '12',\n",
              "       '16', '15', '21', '31', '14', '13', '25', '18', '19', nan, '24',\n",
              "       '35', '5 MESES', '26', '6 MESES', '28', '17', '3 MESES', '7 MESES',\n",
              "       '44', '45', '1 MES'], dtype=object)"
            ]
          },
          "metadata": {},
          "execution_count": 166
        }
      ]
    },
    {
      "cell_type": "code",
      "source": [
        "df['tempo em palmas'] = df['tempo em palmas'].replace({'4 MESES':'0.33', '5 MESES':'0.41', '6 MESES':'0.5', '3 MESES':'0.25', '2 MESES': '0.16', '7 MESES': '0.59', '1 MES' : '0.08'})\n",
        "df['tempo em palmas'].unique()"
      ],
      "metadata": {
        "colab": {
          "base_uri": "https://localhost:8080/"
        },
        "id": "AxOOR3fjXAOM",
        "outputId": "2370d998-e4e0-4537-d66f-fe6f5a95d32b"
      },
      "execution_count": 167,
      "outputs": [
        {
          "output_type": "execute_result",
          "data": {
            "text/plain": [
              "array(['23', '11', '3', '5', '22', '4', '10', '6', '8', '29', '2', '30',\n",
              "       '32', '34', '27', '20', '9', '0.16', '7', '1', '0.33', '12', '16',\n",
              "       '15', '21', '31', '14', '13', '25', '18', '19', nan, '24', '35',\n",
              "       '0.41', '26', '0.5', '28', '17', '0.25', '0.59', '44', '45',\n",
              "       '0.08'], dtype=object)"
            ]
          },
          "metadata": {},
          "execution_count": 167
        }
      ]
    },
    {
      "cell_type": "code",
      "source": [
        "df['tempo em palmas'] = df['tempo em palmas'].astype(float)"
      ],
      "metadata": {
        "id": "vmJA2qjcXnJw"
      },
      "execution_count": 168,
      "outputs": []
    },
    {
      "cell_type": "markdown",
      "source": [
        "# Valores Vazios"
      ],
      "metadata": {
        "id": "N7YLiF8mKGXn"
      }
    },
    {
      "cell_type": "code",
      "source": [
        "df.isnull().sum()"
      ],
      "metadata": {
        "colab": {
          "base_uri": "https://localhost:8080/",
          "height": 0
        },
        "id": "f0SCz_-pKJMz",
        "outputId": "3a6e46ac-004d-4c0b-eba6-f0e30ba82cd6"
      },
      "execution_count": 169,
      "outputs": [
        {
          "output_type": "execute_result",
          "data": {
            "text/plain": [
              "sexo                                    1\n",
              "idade                                   0\n",
              "estado civil                            0\n",
              "nível de instrução                      0\n",
              "casa própria                            2\n",
              "filhos                                  0\n",
              "moradores                               0\n",
              "renda familiar                          0\n",
              "trabalho                                0\n",
              "renda pessoal                           0\n",
              "tempo em palmas                         2\n",
              "renda anterior                        170\n",
              "qualidade de vida imigrante             0\n",
              "bens ao imigrar                         0\n",
              "qualidade em cinco anos                 0\n",
              "pode melhorar em cinco anos             0\n",
              "violencia                               1\n",
              "qualidade educaional                    0\n",
              "setor de trabalho                       0\n",
              "que setor recomenda                     0\n",
              "cidade natal                           13\n",
              "anos de trabalho                       27\n",
              "drogas em palmas                        1\n",
              "qualidade de vida nos últimos anos      0\n",
              "auxílio do governo                      0\n",
              "satisfação                              0\n",
              "número de amigos palmas                 1\n",
              "lazer em palmas                         1\n",
              "frequência igreja                       0\n",
              "já morou em outros lugares              0\n",
              "ocupação em outro município           168\n",
              "sair de palmas                          0\n",
              "emprego específico                     34\n",
              "dtype: int64"
            ],
            "text/html": [
              "<div>\n",
              "<style scoped>\n",
              "    .dataframe tbody tr th:only-of-type {\n",
              "        vertical-align: middle;\n",
              "    }\n",
              "\n",
              "    .dataframe tbody tr th {\n",
              "        vertical-align: top;\n",
              "    }\n",
              "\n",
              "    .dataframe thead th {\n",
              "        text-align: right;\n",
              "    }\n",
              "</style>\n",
              "<table border=\"1\" class=\"dataframe\">\n",
              "  <thead>\n",
              "    <tr style=\"text-align: right;\">\n",
              "      <th></th>\n",
              "      <th>0</th>\n",
              "    </tr>\n",
              "  </thead>\n",
              "  <tbody>\n",
              "    <tr>\n",
              "      <th>sexo</th>\n",
              "      <td>1</td>\n",
              "    </tr>\n",
              "    <tr>\n",
              "      <th>idade</th>\n",
              "      <td>0</td>\n",
              "    </tr>\n",
              "    <tr>\n",
              "      <th>estado civil</th>\n",
              "      <td>0</td>\n",
              "    </tr>\n",
              "    <tr>\n",
              "      <th>nível de instrução</th>\n",
              "      <td>0</td>\n",
              "    </tr>\n",
              "    <tr>\n",
              "      <th>casa própria</th>\n",
              "      <td>2</td>\n",
              "    </tr>\n",
              "    <tr>\n",
              "      <th>filhos</th>\n",
              "      <td>0</td>\n",
              "    </tr>\n",
              "    <tr>\n",
              "      <th>moradores</th>\n",
              "      <td>0</td>\n",
              "    </tr>\n",
              "    <tr>\n",
              "      <th>renda familiar</th>\n",
              "      <td>0</td>\n",
              "    </tr>\n",
              "    <tr>\n",
              "      <th>trabalho</th>\n",
              "      <td>0</td>\n",
              "    </tr>\n",
              "    <tr>\n",
              "      <th>renda pessoal</th>\n",
              "      <td>0</td>\n",
              "    </tr>\n",
              "    <tr>\n",
              "      <th>tempo em palmas</th>\n",
              "      <td>2</td>\n",
              "    </tr>\n",
              "    <tr>\n",
              "      <th>renda anterior</th>\n",
              "      <td>170</td>\n",
              "    </tr>\n",
              "    <tr>\n",
              "      <th>qualidade de vida imigrante</th>\n",
              "      <td>0</td>\n",
              "    </tr>\n",
              "    <tr>\n",
              "      <th>bens ao imigrar</th>\n",
              "      <td>0</td>\n",
              "    </tr>\n",
              "    <tr>\n",
              "      <th>qualidade em cinco anos</th>\n",
              "      <td>0</td>\n",
              "    </tr>\n",
              "    <tr>\n",
              "      <th>pode melhorar em cinco anos</th>\n",
              "      <td>0</td>\n",
              "    </tr>\n",
              "    <tr>\n",
              "      <th>violencia</th>\n",
              "      <td>1</td>\n",
              "    </tr>\n",
              "    <tr>\n",
              "      <th>qualidade educaional</th>\n",
              "      <td>0</td>\n",
              "    </tr>\n",
              "    <tr>\n",
              "      <th>setor de trabalho</th>\n",
              "      <td>0</td>\n",
              "    </tr>\n",
              "    <tr>\n",
              "      <th>que setor recomenda</th>\n",
              "      <td>0</td>\n",
              "    </tr>\n",
              "    <tr>\n",
              "      <th>cidade natal</th>\n",
              "      <td>13</td>\n",
              "    </tr>\n",
              "    <tr>\n",
              "      <th>anos de trabalho</th>\n",
              "      <td>27</td>\n",
              "    </tr>\n",
              "    <tr>\n",
              "      <th>drogas em palmas</th>\n",
              "      <td>1</td>\n",
              "    </tr>\n",
              "    <tr>\n",
              "      <th>qualidade de vida nos últimos anos</th>\n",
              "      <td>0</td>\n",
              "    </tr>\n",
              "    <tr>\n",
              "      <th>auxílio do governo</th>\n",
              "      <td>0</td>\n",
              "    </tr>\n",
              "    <tr>\n",
              "      <th>satisfação</th>\n",
              "      <td>0</td>\n",
              "    </tr>\n",
              "    <tr>\n",
              "      <th>número de amigos palmas</th>\n",
              "      <td>1</td>\n",
              "    </tr>\n",
              "    <tr>\n",
              "      <th>lazer em palmas</th>\n",
              "      <td>1</td>\n",
              "    </tr>\n",
              "    <tr>\n",
              "      <th>frequência igreja</th>\n",
              "      <td>0</td>\n",
              "    </tr>\n",
              "    <tr>\n",
              "      <th>já morou em outros lugares</th>\n",
              "      <td>0</td>\n",
              "    </tr>\n",
              "    <tr>\n",
              "      <th>ocupação em outro município</th>\n",
              "      <td>168</td>\n",
              "    </tr>\n",
              "    <tr>\n",
              "      <th>sair de palmas</th>\n",
              "      <td>0</td>\n",
              "    </tr>\n",
              "    <tr>\n",
              "      <th>emprego específico</th>\n",
              "      <td>34</td>\n",
              "    </tr>\n",
              "  </tbody>\n",
              "</table>\n",
              "</div><br><label><b>dtype:</b> int64</label>"
            ]
          },
          "metadata": {},
          "execution_count": 169
        }
      ]
    },
    {
      "cell_type": "code",
      "source": [
        "df.shape"
      ],
      "metadata": {
        "colab": {
          "base_uri": "https://localhost:8080/"
        },
        "id": "qSZ9Q_xzKgGC",
        "outputId": "143fd98d-d4c9-4b50-facf-74363074251f"
      },
      "execution_count": 170,
      "outputs": [
        {
          "output_type": "execute_result",
          "data": {
            "text/plain": [
              "(329, 33)"
            ]
          },
          "metadata": {},
          "execution_count": 170
        }
      ]
    },
    {
      "cell_type": "code",
      "source": [
        "df.info()"
      ],
      "metadata": {
        "colab": {
          "base_uri": "https://localhost:8080/"
        },
        "id": "R-2lCwpDLbGh",
        "outputId": "63f385bd-69e0-4ca9-d95c-50e014598f31"
      },
      "execution_count": 171,
      "outputs": [
        {
          "output_type": "stream",
          "name": "stdout",
          "text": [
            "<class 'pandas.core.frame.DataFrame'>\n",
            "RangeIndex: 329 entries, 0 to 328\n",
            "Data columns (total 33 columns):\n",
            " #   Column                              Non-Null Count  Dtype  \n",
            "---  ------                              --------------  -----  \n",
            " 0   sexo                                328 non-null    object \n",
            " 1   idade                               329 non-null    int64  \n",
            " 2   estado civil                        329 non-null    object \n",
            " 3   nível de instrução                  329 non-null    int64  \n",
            " 4   casa própria                        327 non-null    object \n",
            " 5   filhos                              329 non-null    object \n",
            " 6   moradores                           329 non-null    object \n",
            " 7   renda familiar                      329 non-null    float64\n",
            " 8   trabalho                            329 non-null    object \n",
            " 9   renda pessoal                       329 non-null    float64\n",
            " 10  tempo em palmas                     327 non-null    float64\n",
            " 11  renda anterior                      159 non-null    float64\n",
            " 12  qualidade de vida imigrante         329 non-null    object \n",
            " 13  bens ao imigrar                     329 non-null    object \n",
            " 14  qualidade em cinco anos             329 non-null    object \n",
            " 15  pode melhorar em cinco anos         329 non-null    object \n",
            " 16  violencia                           328 non-null    object \n",
            " 17  qualidade educaional                329 non-null    object \n",
            " 18  setor de trabalho                   329 non-null    object \n",
            " 19  que setor recomenda                 329 non-null    object \n",
            " 20  cidade natal                        316 non-null    object \n",
            " 21  anos de trabalho                    302 non-null    object \n",
            " 22  drogas em palmas                    328 non-null    object \n",
            " 23  qualidade de vida nos últimos anos  329 non-null    object \n",
            " 24  auxílio do governo                  329 non-null    object \n",
            " 25  satisfação                          329 non-null    object \n",
            " 26  número de amigos palmas             328 non-null    object \n",
            " 27  lazer em palmas                     328 non-null    object \n",
            " 28  frequência igreja                   329 non-null    object \n",
            " 29  já morou em outros lugares          329 non-null    object \n",
            " 30  ocupação em outro município         161 non-null    object \n",
            " 31  sair de palmas                      329 non-null    object \n",
            " 32  emprego específico                  295 non-null    object \n",
            "dtypes: float64(4), int64(2), object(27)\n",
            "memory usage: 84.9+ KB\n"
          ]
        }
      ]
    },
    {
      "cell_type": "markdown",
      "source": [
        "- Empre especifico"
      ],
      "metadata": {
        "id": "iegkBSBWNOlk"
      }
    },
    {
      "cell_type": "code",
      "source": [
        "df.dropna(subset='emprego específico', inplace=True)\n",
        "df['emprego específico'].isnull().sum()"
      ],
      "metadata": {
        "colab": {
          "base_uri": "https://localhost:8080/"
        },
        "collapsed": true,
        "id": "sOuyQsruKmvZ",
        "outputId": "12ef0dca-5376-48b9-b0d4-5dd7a0fc0acc"
      },
      "execution_count": 172,
      "outputs": [
        {
          "output_type": "execute_result",
          "data": {
            "text/plain": [
              "0"
            ]
          },
          "metadata": {},
          "execution_count": 172
        }
      ]
    },
    {
      "cell_type": "markdown",
      "source": [
        "- Anos de Trabalho"
      ],
      "metadata": {
        "id": "BqRChFhnLsHt"
      }
    },
    {
      "cell_type": "code",
      "source": [
        "df['anos de trabalho'].unique()"
      ],
      "metadata": {
        "colab": {
          "base_uri": "https://localhost:8080/"
        },
        "id": "paKvZQPhLrOc",
        "outputId": "ea725fec-7d09-486c-9a81-ba901c0b16e7"
      },
      "execution_count": 173,
      "outputs": [
        {
          "output_type": "execute_result",
          "data": {
            "text/plain": [
              "array(['6', '22', '5', '30', '3', '10', '20', '0', '1', '2', '25', '32',\n",
              "       '36', '35', '34', '14', '15', '46', '48', '4', '8', '17', '50',\n",
              "       '40', '44', '31', '18', '21', '13', nan, '53', '63', '9', '19',\n",
              "       '38', '12', '26', '7', '23', '28', '52', '60', '16', '27', '11',\n",
              "       '11 MESES', '3 MESES', '4 MESES', '1 MES', '24'], dtype=object)"
            ]
          },
          "metadata": {},
          "execution_count": 173
        }
      ]
    },
    {
      "cell_type": "code",
      "source": [
        "df['anos de trabalho'] = df['anos de trabalho'].replace({'11 MESES':'0.91', '3 MESES':'0.25', '4 MESES':'0.33', '1 MES':'0.08', np.nan: '0'})"
      ],
      "metadata": {
        "id": "DDIk2IE6Lyx_"
      },
      "execution_count": 174,
      "outputs": []
    },
    {
      "cell_type": "code",
      "source": [
        "df['anos de trabalho'] = df['anos de trabalho'].astype(float)"
      ],
      "metadata": {
        "id": "mJhVIQqhLLZB"
      },
      "execution_count": 175,
      "outputs": []
    },
    {
      "cell_type": "code",
      "source": [
        "df['anos de trabalho'] = df['anos de trabalho'].replace({0:np.nan})"
      ],
      "metadata": {
        "id": "c0bmSRPYMzF_"
      },
      "execution_count": 176,
      "outputs": []
    },
    {
      "cell_type": "code",
      "source": [
        "df['anos de trabalho'].unique()"
      ],
      "metadata": {
        "colab": {
          "base_uri": "https://localhost:8080/"
        },
        "id": "NkziOIe6M3Yp",
        "outputId": "6b1ac2c4-16a8-4077-8983-3bba1a43968d"
      },
      "execution_count": 177,
      "outputs": [
        {
          "output_type": "execute_result",
          "data": {
            "text/plain": [
              "array([ 6.  , 22.  ,  5.  , 30.  ,  3.  , 10.  , 20.  ,   nan,  1.  ,\n",
              "        2.  , 25.  , 32.  , 36.  , 35.  , 34.  , 14.  , 15.  , 46.  ,\n",
              "       48.  ,  4.  ,  8.  , 17.  , 50.  , 40.  , 44.  , 31.  , 18.  ,\n",
              "       21.  , 13.  , 53.  , 63.  ,  9.  , 19.  , 38.  , 12.  , 26.  ,\n",
              "        7.  , 23.  , 28.  , 52.  , 60.  , 16.  , 27.  , 11.  ,  0.91,\n",
              "        0.25,  0.33,  0.08, 24.  ])"
            ]
          },
          "metadata": {},
          "execution_count": 177
        }
      ]
    },
    {
      "cell_type": "code",
      "source": [
        "df['anos de trabalho'].fillna(df['anos de trabalho'].median(), inplace=True)\n",
        "df['anos de trabalho'].isnull().sum()"
      ],
      "metadata": {
        "colab": {
          "base_uri": "https://localhost:8080/"
        },
        "id": "yYywQWjfM7Gg",
        "outputId": "b774321f-0ae3-4116-c208-4353867c4cd3"
      },
      "execution_count": 178,
      "outputs": [
        {
          "output_type": "stream",
          "name": "stderr",
          "text": [
            "<ipython-input-178-6dbe302d3eb7>:1: FutureWarning: A value is trying to be set on a copy of a DataFrame or Series through chained assignment using an inplace method.\n",
            "The behavior will change in pandas 3.0. This inplace method will never work because the intermediate object on which we are setting values always behaves as a copy.\n",
            "\n",
            "For example, when doing 'df[col].method(value, inplace=True)', try using 'df.method({col: value}, inplace=True)' or df[col] = df[col].method(value) instead, to perform the operation inplace on the original object.\n",
            "\n",
            "\n",
            "  df['anos de trabalho'].fillna(df['anos de trabalho'].median(), inplace=True)\n"
          ]
        },
        {
          "output_type": "execute_result",
          "data": {
            "text/plain": [
              "0"
            ]
          },
          "metadata": {},
          "execution_count": 178
        }
      ]
    },
    {
      "cell_type": "markdown",
      "source": [
        "- Remover ocupação em outro municipio"
      ],
      "metadata": {
        "id": "0o7xzBd0NLxu"
      }
    },
    {
      "cell_type": "code",
      "source": [
        "df.drop(columns='ocupação em outro município', inplace=True)"
      ],
      "metadata": {
        "id": "aqhnRVwRKRax"
      },
      "execution_count": 179,
      "outputs": []
    },
    {
      "cell_type": "markdown",
      "source": [
        "- Renda anterior"
      ],
      "metadata": {
        "id": "YN6-8zmHN1VY"
      }
    },
    {
      "cell_type": "code",
      "source": [
        "df['renda anterior'].unique()"
      ],
      "metadata": {
        "colab": {
          "base_uri": "https://localhost:8080/"
        },
        "id": "Tau9E7hQN284",
        "outputId": "62a43910-b887-401b-d95d-3770c1a653de"
      },
      "execution_count": 180,
      "outputs": [
        {
          "output_type": "execute_result",
          "data": {
            "text/plain": [
              "array([   nan,  1500.,   900.,     0.,  2000.,   850.,  1400.,  1000.,\n",
              "        3000.,  1800.,   800.,  2500.,  1300.,  2600.,  2614.,   300.,\n",
              "         500.,  3500.,   100., 18000.,  5000.,   400., 10000.,  1100.,\n",
              "        4000., 14000.,  6000., 12000.,   650.,   950.,   700.,   724.,\n",
              "        1212.,  1050.,   750.,  8000.,   460.,  1200., 15000.,  1250.,\n",
              "        5011.,   600.,  1700.,  1750.,  1320., 30000.,   200.])"
            ]
          },
          "metadata": {},
          "execution_count": 180
        }
      ]
    },
    {
      "cell_type": "code",
      "source": [
        "df['renda anterior'].describe()"
      ],
      "metadata": {
        "colab": {
          "base_uri": "https://localhost:8080/",
          "height": 0
        },
        "id": "tlTxZ2dEOHx6",
        "outputId": "74ea3714-4ea2-4839-9780-baa1a51f109c"
      },
      "execution_count": 181,
      "outputs": [
        {
          "output_type": "execute_result",
          "data": {
            "text/plain": [
              "count      149.000000\n",
              "mean      2625.107383\n",
              "std       3577.315079\n",
              "min          0.000000\n",
              "25%       1000.000000\n",
              "50%       1500.000000\n",
              "75%       3000.000000\n",
              "max      30000.000000\n",
              "Name: renda anterior, dtype: float64"
            ],
            "text/html": [
              "<div>\n",
              "<style scoped>\n",
              "    .dataframe tbody tr th:only-of-type {\n",
              "        vertical-align: middle;\n",
              "    }\n",
              "\n",
              "    .dataframe tbody tr th {\n",
              "        vertical-align: top;\n",
              "    }\n",
              "\n",
              "    .dataframe thead th {\n",
              "        text-align: right;\n",
              "    }\n",
              "</style>\n",
              "<table border=\"1\" class=\"dataframe\">\n",
              "  <thead>\n",
              "    <tr style=\"text-align: right;\">\n",
              "      <th></th>\n",
              "      <th>renda anterior</th>\n",
              "    </tr>\n",
              "  </thead>\n",
              "  <tbody>\n",
              "    <tr>\n",
              "      <th>count</th>\n",
              "      <td>149.000000</td>\n",
              "    </tr>\n",
              "    <tr>\n",
              "      <th>mean</th>\n",
              "      <td>2625.107383</td>\n",
              "    </tr>\n",
              "    <tr>\n",
              "      <th>std</th>\n",
              "      <td>3577.315079</td>\n",
              "    </tr>\n",
              "    <tr>\n",
              "      <th>min</th>\n",
              "      <td>0.000000</td>\n",
              "    </tr>\n",
              "    <tr>\n",
              "      <th>25%</th>\n",
              "      <td>1000.000000</td>\n",
              "    </tr>\n",
              "    <tr>\n",
              "      <th>50%</th>\n",
              "      <td>1500.000000</td>\n",
              "    </tr>\n",
              "    <tr>\n",
              "      <th>75%</th>\n",
              "      <td>3000.000000</td>\n",
              "    </tr>\n",
              "    <tr>\n",
              "      <th>max</th>\n",
              "      <td>30000.000000</td>\n",
              "    </tr>\n",
              "  </tbody>\n",
              "</table>\n",
              "</div><br><label><b>dtype:</b> float64</label>"
            ]
          },
          "metadata": {},
          "execution_count": 181
        }
      ]
    },
    {
      "cell_type": "code",
      "source": [
        "df['renda anterior'].fillna(df['renda anterior'].median(), inplace=True)\n",
        "df['renda anterior'].isnull().sum()"
      ],
      "metadata": {
        "colab": {
          "base_uri": "https://localhost:8080/"
        },
        "id": "tapSH9XpOSut",
        "outputId": "a21ed1ea-5d3a-448d-f9ca-cd3d5cdd3118"
      },
      "execution_count": 182,
      "outputs": [
        {
          "output_type": "stream",
          "name": "stderr",
          "text": [
            "<ipython-input-182-8c62dbb420e6>:1: FutureWarning: A value is trying to be set on a copy of a DataFrame or Series through chained assignment using an inplace method.\n",
            "The behavior will change in pandas 3.0. This inplace method will never work because the intermediate object on which we are setting values always behaves as a copy.\n",
            "\n",
            "For example, when doing 'df[col].method(value, inplace=True)', try using 'df.method({col: value}, inplace=True)' or df[col] = df[col].method(value) instead, to perform the operation inplace on the original object.\n",
            "\n",
            "\n",
            "  df['renda anterior'].fillna(df['renda anterior'].median(), inplace=True)\n"
          ]
        },
        {
          "output_type": "execute_result",
          "data": {
            "text/plain": [
              "0"
            ]
          },
          "metadata": {},
          "execution_count": 182
        }
      ]
    },
    {
      "cell_type": "markdown",
      "source": [
        "- Removendo o restante"
      ],
      "metadata": {
        "id": "lXvAEJ6jOWF8"
      }
    },
    {
      "cell_type": "code",
      "source": [
        "df.dropna(inplace=True)\n",
        "df.isnull().sum()"
      ],
      "metadata": {
        "colab": {
          "base_uri": "https://localhost:8080/",
          "height": 0
        },
        "id": "1WABk2_cOXu3",
        "outputId": "558c0f43-dd3a-468f-f6a7-5898d130b9bf"
      },
      "execution_count": 183,
      "outputs": [
        {
          "output_type": "execute_result",
          "data": {
            "text/plain": [
              "sexo                                  0\n",
              "idade                                 0\n",
              "estado civil                          0\n",
              "nível de instrução                    0\n",
              "casa própria                          0\n",
              "filhos                                0\n",
              "moradores                             0\n",
              "renda familiar                        0\n",
              "trabalho                              0\n",
              "renda pessoal                         0\n",
              "tempo em palmas                       0\n",
              "renda anterior                        0\n",
              "qualidade de vida imigrante           0\n",
              "bens ao imigrar                       0\n",
              "qualidade em cinco anos               0\n",
              "pode melhorar em cinco anos           0\n",
              "violencia                             0\n",
              "qualidade educaional                  0\n",
              "setor de trabalho                     0\n",
              "que setor recomenda                   0\n",
              "cidade natal                          0\n",
              "anos de trabalho                      0\n",
              "drogas em palmas                      0\n",
              "qualidade de vida nos últimos anos    0\n",
              "auxílio do governo                    0\n",
              "satisfação                            0\n",
              "número de amigos palmas               0\n",
              "lazer em palmas                       0\n",
              "frequência igreja                     0\n",
              "já morou em outros lugares            0\n",
              "sair de palmas                        0\n",
              "emprego específico                    0\n",
              "dtype: int64"
            ],
            "text/html": [
              "<div>\n",
              "<style scoped>\n",
              "    .dataframe tbody tr th:only-of-type {\n",
              "        vertical-align: middle;\n",
              "    }\n",
              "\n",
              "    .dataframe tbody tr th {\n",
              "        vertical-align: top;\n",
              "    }\n",
              "\n",
              "    .dataframe thead th {\n",
              "        text-align: right;\n",
              "    }\n",
              "</style>\n",
              "<table border=\"1\" class=\"dataframe\">\n",
              "  <thead>\n",
              "    <tr style=\"text-align: right;\">\n",
              "      <th></th>\n",
              "      <th>0</th>\n",
              "    </tr>\n",
              "  </thead>\n",
              "  <tbody>\n",
              "    <tr>\n",
              "      <th>sexo</th>\n",
              "      <td>0</td>\n",
              "    </tr>\n",
              "    <tr>\n",
              "      <th>idade</th>\n",
              "      <td>0</td>\n",
              "    </tr>\n",
              "    <tr>\n",
              "      <th>estado civil</th>\n",
              "      <td>0</td>\n",
              "    </tr>\n",
              "    <tr>\n",
              "      <th>nível de instrução</th>\n",
              "      <td>0</td>\n",
              "    </tr>\n",
              "    <tr>\n",
              "      <th>casa própria</th>\n",
              "      <td>0</td>\n",
              "    </tr>\n",
              "    <tr>\n",
              "      <th>filhos</th>\n",
              "      <td>0</td>\n",
              "    </tr>\n",
              "    <tr>\n",
              "      <th>moradores</th>\n",
              "      <td>0</td>\n",
              "    </tr>\n",
              "    <tr>\n",
              "      <th>renda familiar</th>\n",
              "      <td>0</td>\n",
              "    </tr>\n",
              "    <tr>\n",
              "      <th>trabalho</th>\n",
              "      <td>0</td>\n",
              "    </tr>\n",
              "    <tr>\n",
              "      <th>renda pessoal</th>\n",
              "      <td>0</td>\n",
              "    </tr>\n",
              "    <tr>\n",
              "      <th>tempo em palmas</th>\n",
              "      <td>0</td>\n",
              "    </tr>\n",
              "    <tr>\n",
              "      <th>renda anterior</th>\n",
              "      <td>0</td>\n",
              "    </tr>\n",
              "    <tr>\n",
              "      <th>qualidade de vida imigrante</th>\n",
              "      <td>0</td>\n",
              "    </tr>\n",
              "    <tr>\n",
              "      <th>bens ao imigrar</th>\n",
              "      <td>0</td>\n",
              "    </tr>\n",
              "    <tr>\n",
              "      <th>qualidade em cinco anos</th>\n",
              "      <td>0</td>\n",
              "    </tr>\n",
              "    <tr>\n",
              "      <th>pode melhorar em cinco anos</th>\n",
              "      <td>0</td>\n",
              "    </tr>\n",
              "    <tr>\n",
              "      <th>violencia</th>\n",
              "      <td>0</td>\n",
              "    </tr>\n",
              "    <tr>\n",
              "      <th>qualidade educaional</th>\n",
              "      <td>0</td>\n",
              "    </tr>\n",
              "    <tr>\n",
              "      <th>setor de trabalho</th>\n",
              "      <td>0</td>\n",
              "    </tr>\n",
              "    <tr>\n",
              "      <th>que setor recomenda</th>\n",
              "      <td>0</td>\n",
              "    </tr>\n",
              "    <tr>\n",
              "      <th>cidade natal</th>\n",
              "      <td>0</td>\n",
              "    </tr>\n",
              "    <tr>\n",
              "      <th>anos de trabalho</th>\n",
              "      <td>0</td>\n",
              "    </tr>\n",
              "    <tr>\n",
              "      <th>drogas em palmas</th>\n",
              "      <td>0</td>\n",
              "    </tr>\n",
              "    <tr>\n",
              "      <th>qualidade de vida nos últimos anos</th>\n",
              "      <td>0</td>\n",
              "    </tr>\n",
              "    <tr>\n",
              "      <th>auxílio do governo</th>\n",
              "      <td>0</td>\n",
              "    </tr>\n",
              "    <tr>\n",
              "      <th>satisfação</th>\n",
              "      <td>0</td>\n",
              "    </tr>\n",
              "    <tr>\n",
              "      <th>número de amigos palmas</th>\n",
              "      <td>0</td>\n",
              "    </tr>\n",
              "    <tr>\n",
              "      <th>lazer em palmas</th>\n",
              "      <td>0</td>\n",
              "    </tr>\n",
              "    <tr>\n",
              "      <th>frequência igreja</th>\n",
              "      <td>0</td>\n",
              "    </tr>\n",
              "    <tr>\n",
              "      <th>já morou em outros lugares</th>\n",
              "      <td>0</td>\n",
              "    </tr>\n",
              "    <tr>\n",
              "      <th>sair de palmas</th>\n",
              "      <td>0</td>\n",
              "    </tr>\n",
              "    <tr>\n",
              "      <th>emprego específico</th>\n",
              "      <td>0</td>\n",
              "    </tr>\n",
              "  </tbody>\n",
              "</table>\n",
              "</div><br><label><b>dtype:</b> int64</label>"
            ]
          },
          "metadata": {},
          "execution_count": 183
        }
      ]
    },
    {
      "cell_type": "code",
      "source": [
        "df.shape"
      ],
      "metadata": {
        "colab": {
          "base_uri": "https://localhost:8080/"
        },
        "id": "6GDgdipsOa3L",
        "outputId": "4045211c-00a0-4331-c8f7-dd8a89edadf9"
      },
      "execution_count": 184,
      "outputs": [
        {
          "output_type": "execute_result",
          "data": {
            "text/plain": [
              "(278, 32)"
            ]
          },
          "metadata": {},
          "execution_count": 184
        }
      ]
    },
    {
      "cell_type": "code",
      "source": [
        "df.head()"
      ],
      "metadata": {
        "colab": {
          "base_uri": "https://localhost:8080/",
          "height": 0
        },
        "id": "BLdTkiwXQx2B",
        "outputId": "876db5b1-74b0-4219-fee5-b29e82524d22"
      },
      "execution_count": 185,
      "outputs": [
        {
          "output_type": "execute_result",
          "data": {
            "text/plain": [
              "  sexo  idade estado civil  nível de instrução casa própria filhos moradores  \\\n",
              "0    F     23     Solteiro                   4          Não      1         3   \n",
              "1    M     38       Casado                   3          Sim      2         5   \n",
              "2    M     26       Casado                   4          Não      1         3   \n",
              "3    F     26     Solteiro                   5          Sim      1         3   \n",
              "4    M     50        Viuvo                   3          Sim     3+         1   \n",
              "\n",
              "   renda familiar         trabalho  renda pessoal  ...  drogas em palmas  \\\n",
              "0          4200.0  Ajuda a família         2400.0  ...          Moderado   \n",
              "1          5000.0  Ajuda a família         3800.0  ...             Baixo   \n",
              "2          3000.0  Ajuda a família         1500.0  ...             Baixo   \n",
              "3          3000.0   Recebe auxílio         1800.0  ...             Baixo   \n",
              "4          1320.0              Sim         1320.0  ...              Alto   \n",
              "\n",
              "   qualidade de vida nos últimos anos auxílio do governo        satisfação  \\\n",
              "0                            Melhorou             NENHUM  Pouco Satisfeito   \n",
              "1                            Melhorou      BOLSA FAMÍLIA  Pouco Satisfeito   \n",
              "2                            Melhorou      BOLSA FAMÍLIA        Satisfeito   \n",
              "3                      Melhorou Muito      BOLSA FAMÍLIA  Pouco Satisfeito   \n",
              "4                            Melhorou             NENHUM  Muito Satisfeito   \n",
              "\n",
              "  número de amigos palmas lazer em palmas       frequência igreja  \\\n",
              "0                Moderado             Bom     Menos de Uma ao Mês   \n",
              "1                Moderado             Bom  Mais de Uma por Semana   \n",
              "2                Moderado             Bom          Uma por Semana   \n",
              "3                Moderado             Bom     Raramente Compareço   \n",
              "4                Moderado             Bom          Uma por Semana   \n",
              "\n",
              "  já morou em outros lugares sair de palmas  \\\n",
              "0                        NÃO            Não   \n",
              "1                        SIM            Não   \n",
              "2                        SIM            Não   \n",
              "3                        SIM            Sim   \n",
              "4                        SIM            Não   \n",
              "\n",
              "                              emprego específico  \n",
              "0  OPERADOR DE CAIXA E DESIGNER DE SOMBRANCELHAS  \n",
              "1                                           GARI  \n",
              "2                                SERVIÇOS GERAIS  \n",
              "3                                      VENDEDORA  \n",
              "4                                       PORTEIRO  \n",
              "\n",
              "[5 rows x 32 columns]"
            ],
            "text/html": [
              "\n",
              "  <div id=\"df-0f8b28dc-f86d-4ce5-9949-f3f5b2cc67a1\" class=\"colab-df-container\">\n",
              "    <div>\n",
              "<style scoped>\n",
              "    .dataframe tbody tr th:only-of-type {\n",
              "        vertical-align: middle;\n",
              "    }\n",
              "\n",
              "    .dataframe tbody tr th {\n",
              "        vertical-align: top;\n",
              "    }\n",
              "\n",
              "    .dataframe thead th {\n",
              "        text-align: right;\n",
              "    }\n",
              "</style>\n",
              "<table border=\"1\" class=\"dataframe\">\n",
              "  <thead>\n",
              "    <tr style=\"text-align: right;\">\n",
              "      <th></th>\n",
              "      <th>sexo</th>\n",
              "      <th>idade</th>\n",
              "      <th>estado civil</th>\n",
              "      <th>nível de instrução</th>\n",
              "      <th>casa própria</th>\n",
              "      <th>filhos</th>\n",
              "      <th>moradores</th>\n",
              "      <th>renda familiar</th>\n",
              "      <th>trabalho</th>\n",
              "      <th>renda pessoal</th>\n",
              "      <th>...</th>\n",
              "      <th>drogas em palmas</th>\n",
              "      <th>qualidade de vida nos últimos anos</th>\n",
              "      <th>auxílio do governo</th>\n",
              "      <th>satisfação</th>\n",
              "      <th>número de amigos palmas</th>\n",
              "      <th>lazer em palmas</th>\n",
              "      <th>frequência igreja</th>\n",
              "      <th>já morou em outros lugares</th>\n",
              "      <th>sair de palmas</th>\n",
              "      <th>emprego específico</th>\n",
              "    </tr>\n",
              "  </thead>\n",
              "  <tbody>\n",
              "    <tr>\n",
              "      <th>0</th>\n",
              "      <td>F</td>\n",
              "      <td>23</td>\n",
              "      <td>Solteiro</td>\n",
              "      <td>4</td>\n",
              "      <td>Não</td>\n",
              "      <td>1</td>\n",
              "      <td>3</td>\n",
              "      <td>4200.0</td>\n",
              "      <td>Ajuda a família</td>\n",
              "      <td>2400.0</td>\n",
              "      <td>...</td>\n",
              "      <td>Moderado</td>\n",
              "      <td>Melhorou</td>\n",
              "      <td>NENHUM</td>\n",
              "      <td>Pouco Satisfeito</td>\n",
              "      <td>Moderado</td>\n",
              "      <td>Bom</td>\n",
              "      <td>Menos de Uma ao Mês</td>\n",
              "      <td>NÃO</td>\n",
              "      <td>Não</td>\n",
              "      <td>OPERADOR DE CAIXA E DESIGNER DE SOMBRANCELHAS</td>\n",
              "    </tr>\n",
              "    <tr>\n",
              "      <th>1</th>\n",
              "      <td>M</td>\n",
              "      <td>38</td>\n",
              "      <td>Casado</td>\n",
              "      <td>3</td>\n",
              "      <td>Sim</td>\n",
              "      <td>2</td>\n",
              "      <td>5</td>\n",
              "      <td>5000.0</td>\n",
              "      <td>Ajuda a família</td>\n",
              "      <td>3800.0</td>\n",
              "      <td>...</td>\n",
              "      <td>Baixo</td>\n",
              "      <td>Melhorou</td>\n",
              "      <td>BOLSA FAMÍLIA</td>\n",
              "      <td>Pouco Satisfeito</td>\n",
              "      <td>Moderado</td>\n",
              "      <td>Bom</td>\n",
              "      <td>Mais de Uma por Semana</td>\n",
              "      <td>SIM</td>\n",
              "      <td>Não</td>\n",
              "      <td>GARI</td>\n",
              "    </tr>\n",
              "    <tr>\n",
              "      <th>2</th>\n",
              "      <td>M</td>\n",
              "      <td>26</td>\n",
              "      <td>Casado</td>\n",
              "      <td>4</td>\n",
              "      <td>Não</td>\n",
              "      <td>1</td>\n",
              "      <td>3</td>\n",
              "      <td>3000.0</td>\n",
              "      <td>Ajuda a família</td>\n",
              "      <td>1500.0</td>\n",
              "      <td>...</td>\n",
              "      <td>Baixo</td>\n",
              "      <td>Melhorou</td>\n",
              "      <td>BOLSA FAMÍLIA</td>\n",
              "      <td>Satisfeito</td>\n",
              "      <td>Moderado</td>\n",
              "      <td>Bom</td>\n",
              "      <td>Uma por Semana</td>\n",
              "      <td>SIM</td>\n",
              "      <td>Não</td>\n",
              "      <td>SERVIÇOS GERAIS</td>\n",
              "    </tr>\n",
              "    <tr>\n",
              "      <th>3</th>\n",
              "      <td>F</td>\n",
              "      <td>26</td>\n",
              "      <td>Solteiro</td>\n",
              "      <td>5</td>\n",
              "      <td>Sim</td>\n",
              "      <td>1</td>\n",
              "      <td>3</td>\n",
              "      <td>3000.0</td>\n",
              "      <td>Recebe auxílio</td>\n",
              "      <td>1800.0</td>\n",
              "      <td>...</td>\n",
              "      <td>Baixo</td>\n",
              "      <td>Melhorou Muito</td>\n",
              "      <td>BOLSA FAMÍLIA</td>\n",
              "      <td>Pouco Satisfeito</td>\n",
              "      <td>Moderado</td>\n",
              "      <td>Bom</td>\n",
              "      <td>Raramente Compareço</td>\n",
              "      <td>SIM</td>\n",
              "      <td>Sim</td>\n",
              "      <td>VENDEDORA</td>\n",
              "    </tr>\n",
              "    <tr>\n",
              "      <th>4</th>\n",
              "      <td>M</td>\n",
              "      <td>50</td>\n",
              "      <td>Viuvo</td>\n",
              "      <td>3</td>\n",
              "      <td>Sim</td>\n",
              "      <td>3+</td>\n",
              "      <td>1</td>\n",
              "      <td>1320.0</td>\n",
              "      <td>Sim</td>\n",
              "      <td>1320.0</td>\n",
              "      <td>...</td>\n",
              "      <td>Alto</td>\n",
              "      <td>Melhorou</td>\n",
              "      <td>NENHUM</td>\n",
              "      <td>Muito Satisfeito</td>\n",
              "      <td>Moderado</td>\n",
              "      <td>Bom</td>\n",
              "      <td>Uma por Semana</td>\n",
              "      <td>SIM</td>\n",
              "      <td>Não</td>\n",
              "      <td>PORTEIRO</td>\n",
              "    </tr>\n",
              "  </tbody>\n",
              "</table>\n",
              "<p>5 rows × 32 columns</p>\n",
              "</div>\n",
              "    <div class=\"colab-df-buttons\">\n",
              "\n",
              "  <div class=\"colab-df-container\">\n",
              "    <button class=\"colab-df-convert\" onclick=\"convertToInteractive('df-0f8b28dc-f86d-4ce5-9949-f3f5b2cc67a1')\"\n",
              "            title=\"Convert this dataframe to an interactive table.\"\n",
              "            style=\"display:none;\">\n",
              "\n",
              "  <svg xmlns=\"http://www.w3.org/2000/svg\" height=\"24px\" viewBox=\"0 -960 960 960\">\n",
              "    <path d=\"M120-120v-720h720v720H120Zm60-500h600v-160H180v160Zm220 220h160v-160H400v160Zm0 220h160v-160H400v160ZM180-400h160v-160H180v160Zm440 0h160v-160H620v160ZM180-180h160v-160H180v160Zm440 0h160v-160H620v160Z\"/>\n",
              "  </svg>\n",
              "    </button>\n",
              "\n",
              "  <style>\n",
              "    .colab-df-container {\n",
              "      display:flex;\n",
              "      gap: 12px;\n",
              "    }\n",
              "\n",
              "    .colab-df-convert {\n",
              "      background-color: #E8F0FE;\n",
              "      border: none;\n",
              "      border-radius: 50%;\n",
              "      cursor: pointer;\n",
              "      display: none;\n",
              "      fill: #1967D2;\n",
              "      height: 32px;\n",
              "      padding: 0 0 0 0;\n",
              "      width: 32px;\n",
              "    }\n",
              "\n",
              "    .colab-df-convert:hover {\n",
              "      background-color: #E2EBFA;\n",
              "      box-shadow: 0px 1px 2px rgba(60, 64, 67, 0.3), 0px 1px 3px 1px rgba(60, 64, 67, 0.15);\n",
              "      fill: #174EA6;\n",
              "    }\n",
              "\n",
              "    .colab-df-buttons div {\n",
              "      margin-bottom: 4px;\n",
              "    }\n",
              "\n",
              "    [theme=dark] .colab-df-convert {\n",
              "      background-color: #3B4455;\n",
              "      fill: #D2E3FC;\n",
              "    }\n",
              "\n",
              "    [theme=dark] .colab-df-convert:hover {\n",
              "      background-color: #434B5C;\n",
              "      box-shadow: 0px 1px 3px 1px rgba(0, 0, 0, 0.15);\n",
              "      filter: drop-shadow(0px 1px 2px rgba(0, 0, 0, 0.3));\n",
              "      fill: #FFFFFF;\n",
              "    }\n",
              "  </style>\n",
              "\n",
              "    <script>\n",
              "      const buttonEl =\n",
              "        document.querySelector('#df-0f8b28dc-f86d-4ce5-9949-f3f5b2cc67a1 button.colab-df-convert');\n",
              "      buttonEl.style.display =\n",
              "        google.colab.kernel.accessAllowed ? 'block' : 'none';\n",
              "\n",
              "      async function convertToInteractive(key) {\n",
              "        const element = document.querySelector('#df-0f8b28dc-f86d-4ce5-9949-f3f5b2cc67a1');\n",
              "        const dataTable =\n",
              "          await google.colab.kernel.invokeFunction('convertToInteractive',\n",
              "                                                    [key], {});\n",
              "        if (!dataTable) return;\n",
              "\n",
              "        const docLinkHtml = 'Like what you see? Visit the ' +\n",
              "          '<a target=\"_blank\" href=https://colab.research.google.com/notebooks/data_table.ipynb>data table notebook</a>'\n",
              "          + ' to learn more about interactive tables.';\n",
              "        element.innerHTML = '';\n",
              "        dataTable['output_type'] = 'display_data';\n",
              "        await google.colab.output.renderOutput(dataTable, element);\n",
              "        const docLink = document.createElement('div');\n",
              "        docLink.innerHTML = docLinkHtml;\n",
              "        element.appendChild(docLink);\n",
              "      }\n",
              "    </script>\n",
              "  </div>\n",
              "\n",
              "\n",
              "<div id=\"df-ee0d7a13-6f4f-4571-ab6c-d836ed151208\">\n",
              "  <button class=\"colab-df-quickchart\" onclick=\"quickchart('df-ee0d7a13-6f4f-4571-ab6c-d836ed151208')\"\n",
              "            title=\"Suggest charts\"\n",
              "            style=\"display:none;\">\n",
              "\n",
              "<svg xmlns=\"http://www.w3.org/2000/svg\" height=\"24px\"viewBox=\"0 0 24 24\"\n",
              "     width=\"24px\">\n",
              "    <g>\n",
              "        <path d=\"M19 3H5c-1.1 0-2 .9-2 2v14c0 1.1.9 2 2 2h14c1.1 0 2-.9 2-2V5c0-1.1-.9-2-2-2zM9 17H7v-7h2v7zm4 0h-2V7h2v10zm4 0h-2v-4h2v4z\"/>\n",
              "    </g>\n",
              "</svg>\n",
              "  </button>\n",
              "\n",
              "<style>\n",
              "  .colab-df-quickchart {\n",
              "      --bg-color: #E8F0FE;\n",
              "      --fill-color: #1967D2;\n",
              "      --hover-bg-color: #E2EBFA;\n",
              "      --hover-fill-color: #174EA6;\n",
              "      --disabled-fill-color: #AAA;\n",
              "      --disabled-bg-color: #DDD;\n",
              "  }\n",
              "\n",
              "  [theme=dark] .colab-df-quickchart {\n",
              "      --bg-color: #3B4455;\n",
              "      --fill-color: #D2E3FC;\n",
              "      --hover-bg-color: #434B5C;\n",
              "      --hover-fill-color: #FFFFFF;\n",
              "      --disabled-bg-color: #3B4455;\n",
              "      --disabled-fill-color: #666;\n",
              "  }\n",
              "\n",
              "  .colab-df-quickchart {\n",
              "    background-color: var(--bg-color);\n",
              "    border: none;\n",
              "    border-radius: 50%;\n",
              "    cursor: pointer;\n",
              "    display: none;\n",
              "    fill: var(--fill-color);\n",
              "    height: 32px;\n",
              "    padding: 0;\n",
              "    width: 32px;\n",
              "  }\n",
              "\n",
              "  .colab-df-quickchart:hover {\n",
              "    background-color: var(--hover-bg-color);\n",
              "    box-shadow: 0 1px 2px rgba(60, 64, 67, 0.3), 0 1px 3px 1px rgba(60, 64, 67, 0.15);\n",
              "    fill: var(--button-hover-fill-color);\n",
              "  }\n",
              "\n",
              "  .colab-df-quickchart-complete:disabled,\n",
              "  .colab-df-quickchart-complete:disabled:hover {\n",
              "    background-color: var(--disabled-bg-color);\n",
              "    fill: var(--disabled-fill-color);\n",
              "    box-shadow: none;\n",
              "  }\n",
              "\n",
              "  .colab-df-spinner {\n",
              "    border: 2px solid var(--fill-color);\n",
              "    border-color: transparent;\n",
              "    border-bottom-color: var(--fill-color);\n",
              "    animation:\n",
              "      spin 1s steps(1) infinite;\n",
              "  }\n",
              "\n",
              "  @keyframes spin {\n",
              "    0% {\n",
              "      border-color: transparent;\n",
              "      border-bottom-color: var(--fill-color);\n",
              "      border-left-color: var(--fill-color);\n",
              "    }\n",
              "    20% {\n",
              "      border-color: transparent;\n",
              "      border-left-color: var(--fill-color);\n",
              "      border-top-color: var(--fill-color);\n",
              "    }\n",
              "    30% {\n",
              "      border-color: transparent;\n",
              "      border-left-color: var(--fill-color);\n",
              "      border-top-color: var(--fill-color);\n",
              "      border-right-color: var(--fill-color);\n",
              "    }\n",
              "    40% {\n",
              "      border-color: transparent;\n",
              "      border-right-color: var(--fill-color);\n",
              "      border-top-color: var(--fill-color);\n",
              "    }\n",
              "    60% {\n",
              "      border-color: transparent;\n",
              "      border-right-color: var(--fill-color);\n",
              "    }\n",
              "    80% {\n",
              "      border-color: transparent;\n",
              "      border-right-color: var(--fill-color);\n",
              "      border-bottom-color: var(--fill-color);\n",
              "    }\n",
              "    90% {\n",
              "      border-color: transparent;\n",
              "      border-bottom-color: var(--fill-color);\n",
              "    }\n",
              "  }\n",
              "</style>\n",
              "\n",
              "  <script>\n",
              "    async function quickchart(key) {\n",
              "      const quickchartButtonEl =\n",
              "        document.querySelector('#' + key + ' button');\n",
              "      quickchartButtonEl.disabled = true;  // To prevent multiple clicks.\n",
              "      quickchartButtonEl.classList.add('colab-df-spinner');\n",
              "      try {\n",
              "        const charts = await google.colab.kernel.invokeFunction(\n",
              "            'suggestCharts', [key], {});\n",
              "      } catch (error) {\n",
              "        console.error('Error during call to suggestCharts:', error);\n",
              "      }\n",
              "      quickchartButtonEl.classList.remove('colab-df-spinner');\n",
              "      quickchartButtonEl.classList.add('colab-df-quickchart-complete');\n",
              "    }\n",
              "    (() => {\n",
              "      let quickchartButtonEl =\n",
              "        document.querySelector('#df-ee0d7a13-6f4f-4571-ab6c-d836ed151208 button');\n",
              "      quickchartButtonEl.style.display =\n",
              "        google.colab.kernel.accessAllowed ? 'block' : 'none';\n",
              "    })();\n",
              "  </script>\n",
              "</div>\n",
              "\n",
              "    </div>\n",
              "  </div>\n"
            ],
            "application/vnd.google.colaboratory.intrinsic+json": {
              "type": "dataframe",
              "variable_name": "df"
            }
          },
          "metadata": {},
          "execution_count": 185
        }
      ]
    },
    {
      "cell_type": "code",
      "source": [
        "df.columns"
      ],
      "metadata": {
        "colab": {
          "base_uri": "https://localhost:8080/"
        },
        "id": "M9TmUCtNQz-Q",
        "outputId": "b465719c-b81e-41f3-919b-08782cf88af7"
      },
      "execution_count": 186,
      "outputs": [
        {
          "output_type": "execute_result",
          "data": {
            "text/plain": [
              "Index(['sexo', 'idade', 'estado civil', 'nível de instrução', 'casa própria',\n",
              "       'filhos', 'moradores', 'renda familiar', 'trabalho', 'renda pessoal',\n",
              "       'tempo em palmas', 'renda anterior', 'qualidade de vida imigrante',\n",
              "       'bens ao imigrar', 'qualidade em cinco anos',\n",
              "       'pode melhorar em cinco anos', 'violencia', 'qualidade educaional',\n",
              "       'setor de trabalho', 'que setor recomenda', 'cidade natal',\n",
              "       'anos de trabalho', 'drogas em palmas',\n",
              "       'qualidade de vida nos últimos anos', 'auxílio do governo',\n",
              "       'satisfação', 'número de amigos palmas', 'lazer em palmas',\n",
              "       'frequência igreja', 'já morou em outros lugares', 'sair de palmas',\n",
              "       'emprego específico'],\n",
              "      dtype='object')"
            ]
          },
          "metadata": {},
          "execution_count": 186
        }
      ]
    },
    {
      "cell_type": "markdown",
      "source": [
        "# Visualização"
      ],
      "metadata": {
        "id": "eV72Q05LOp-p"
      }
    },
    {
      "cell_type": "code",
      "source": [
        "import matplotlib.pyplot as plt\n",
        "import seaborn as sns"
      ],
      "metadata": {
        "id": "Xi8fd9ZmOw9U"
      },
      "execution_count": 245,
      "outputs": []
    },
    {
      "cell_type": "markdown",
      "source": [
        "- Distribuição de Gênero"
      ],
      "metadata": {
        "id": "wf1I-4JHRznU"
      }
    },
    {
      "cell_type": "code",
      "source": [
        "sns.countplot(x='sexo', data=df, hue='sexo')\n",
        "plt.xlabel('Gênero')\n",
        "plt.ylabel('Quantidade')\n",
        "plt.title('Distribuição de Gênero')\n",
        "plt.show()"
      ],
      "metadata": {
        "colab": {
          "base_uri": "https://localhost:8080/",
          "height": 472
        },
        "id": "VReLY6FQO0C7",
        "outputId": "b48f853f-8e8a-48b7-d19f-482cd321def6"
      },
      "execution_count": null,
      "outputs": [
        {
          "output_type": "display_data",
          "data": {
            "text/plain": [
              "<Figure size 640x480 with 1 Axes>"
            ],
            "image/png": "[encoded data removed]"
          },
          "metadata": {}
        }
      ]
    },
    {
      "cell_type": "markdown",
      "source": [
        "- Faixa Etária"
      ],
      "metadata": {
        "id": "_ACkrmLNR6BS"
      }
    },
    {
      "cell_type": "code",
      "source": [
        "plt.hist(df['idade'], bins=20, edgecolor='black')\n",
        "plt.title('Distribuição de Idade')\n",
        "plt.xlabel('Idade')\n",
        "plt.ylabel('Frequência')\n",
        "plt.show()"
      ],
      "metadata": {
        "colab": {
          "base_uri": "https://localhost:8080/",
          "height": 472
        },
        "id": "KkTvrof2R9jk",
        "outputId": "de897b9e-11d5-4eeb-9b63-b81297805dc6"
      },
      "execution_count": null,
      "outputs": [
        {
          "output_type": "display_data",
          "data": {
            "text/plain": [
              "<Figure size 640x480 with 1 Axes>"
            ],
            "image/png": "[encoded data removed]"
          },
          "metadata": {}
        }
      ]
    },
    {
      "cell_type": "markdown",
      "source": [
        "- Estado Civil e Nível de Instrução"
      ],
      "metadata": {
        "id": "n93SETiRSVhW"
      }
    },
    {
      "cell_type": "code",
      "source": [
        "pd.crosstab(df['estado civil'], df['nível de instrução']).plot(kind='bar', stacked=True)\n",
        "plt.title('Estado Civil por Nível de Instrução')\n",
        "plt.ylabel('Frequência')\n",
        "plt.show()"
      ],
      "metadata": {
        "colab": {
          "base_uri": "https://localhost:8080/",
          "height": 533
        },
        "id": "lnzmqYloSVMW",
        "outputId": "9e0437c7-4f06-4a0a-b40c-5e79731618db"
      },
      "execution_count": null,
      "outputs": [
        {
          "output_type": "display_data",
          "data": {
            "text/plain": [
              "<Figure size 640x480 with 1 Axes>"
            ],
            "image/png": "[encoded data removed]"
          },
          "metadata": {}
        }
      ]
    },
    {
      "cell_type": "markdown",
      "source": [
        "\n",
        "\n",
        "- **0**: Sem escolaridade\n",
        "- **1**: Fundamental incompleto\n",
        "- **2**: Fundamental completo\n",
        "- **3**: Médio incompleto\n",
        "- **4**: Médio completo\n",
        "- **5**: Superior incompleto\n",
        "- **6**: Superior completo\n",
        "- **7**: Pós-graduação\n",
        "- **8**: Mestrado\n",
        "- **9**: Doutorado"
      ],
      "metadata": {
        "id": "WSqrB_HSS935"
      }
    },
    {
      "cell_type": "markdown",
      "source": [
        "- Propriedade de Casa"
      ],
      "metadata": {
        "id": "2RxqK-MoS_j5"
      }
    },
    {
      "cell_type": "code",
      "source": [
        "df['casa própria'].value_counts().plot.pie(autopct='%1.1f%%')\n",
        "plt.title('Proporção de Moradores com Casa Própria')\n",
        "plt.ylabel('')\n",
        "plt.show()"
      ],
      "metadata": {
        "colab": {
          "base_uri": "https://localhost:8080/",
          "height": 429
        },
        "id": "-BhWiM-xTKEK",
        "outputId": "c81cb889-369f-41a8-aa5b-3b1e0c324f5a"
      },
      "execution_count": null,
      "outputs": [
        {
          "output_type": "display_data",
          "data": {
            "text/plain": [
              "<Figure size 640x480 with 1 Axes>"
            ],
            "image/png": "[encoded data removed]"
          },
          "metadata": {}
        }
      ]
    },
    {
      "cell_type": "markdown",
      "source": [
        "- Número de Filhos e Moradores na Casa"
      ],
      "metadata": {
        "id": "SW_T4PkET2Db"
      }
    },
    {
      "cell_type": "code",
      "source": [
        "sns.boxplot(data=df, x = 'filhos', y = df['moradores'].astype(int).sort_values())\n",
        "plt.xlabel('Número de Filhos')\n",
        "plt.ylabel('Número de Moradores')\n",
        "plt.title('Distribuição do Número de Filhos e Moradores')\n",
        "plt.show()"
      ],
      "metadata": {
        "colab": {
          "base_uri": "https://localhost:8080/",
          "height": 472
        },
        "id": "vNa01KA_T9z4",
        "outputId": "2a449245-f759-4c80-e459-8aaf7df5083f"
      },
      "execution_count": null,
      "outputs": [
        {
          "output_type": "display_data",
          "data": {
            "text/plain": [
              "<Figure size 640x480 with 1 Axes>"
            ],
            "image/png": "[encoded data removed]"
          },
          "metadata": {}
        }
      ]
    },
    {
      "cell_type": "markdown",
      "source": [
        "- Renda Familiar e Renda Pessoal"
      ],
      "metadata": {
        "id": "ppHmWbbFVbc7"
      }
    },
    {
      "cell_type": "code",
      "source": [
        "fig, axes = plt.subplots(1, 2, figsize=(16, 10))\n",
        "\n",
        "sns.boxplot(y='renda familiar', data=df, ax=axes[0])\n",
        "axes[0].set_title('Distribuição da Renda Familiar')\n",
        "axes[0].set_ylabel('Renda Familiar')\n",
        "\n",
        "sns.boxplot(y='renda pessoal', data=df, ax=axes[1])\n",
        "axes[1].set_title('Distribuição da Renda Pessoal')\n",
        "axes[1].set_ylabel('Renda Pessoal')\n",
        "\n",
        "plt.show()"
      ],
      "metadata": {
        "colab": {
          "base_uri": "https://localhost:8080/",
          "height": 834
        },
        "id": "usHKTbuTVel5",
        "outputId": "7ae6ad38-1094-4bf2-d013-8d55e755e1c2"
      },
      "execution_count": null,
      "outputs": [
        {
          "output_type": "display_data",
          "data": {
            "text/plain": [
              "<Figure size 1600x1000 with 2 Axes>"
            ],
            "image/png": "[encoded data removed]"
          },
          "metadata": {}
        }
      ]
    },
    {
      "cell_type": "code",
      "source": [
        "plt.figure(figsize=(8, 6))\n",
        "plt.scatter(df['renda familiar'], df['renda pessoal'], alpha=0.6)\n",
        "plt.title('Relação entre Renda Familiar e Renda Pessoal')\n",
        "plt.xlabel('Renda Familiar')\n",
        "plt.ylabel('Renda Pessoal')\n",
        "plt.grid()\n",
        "plt.show()"
      ],
      "metadata": {
        "colab": {
          "base_uri": "https://localhost:8080/",
          "height": 564
        },
        "id": "UnsjWLhnWDAF",
        "outputId": "5f6365d6-9efa-47ef-c446-7f7e2719cf34"
      },
      "execution_count": null,
      "outputs": [
        {
          "output_type": "display_data",
          "data": {
            "text/plain": [
              "<Figure size 800x600 with 1 Axes>"
            ],
            "image/png": "[encoded data removed]"
          },
          "metadata": {}
        }
      ]
    },
    {
      "cell_type": "markdown",
      "source": [
        "- Tempo em Palmas e Anos de Trabalho"
      ],
      "metadata": {
        "id": "FBW8bae-WCqE"
      }
    },
    {
      "cell_type": "code",
      "source": [
        "plt.scatter(x = df['tempo em palmas'], y = df['anos de trabalho'])\n",
        "plt.title('Tempo em Palmas vs Anos de Trabalho')\n",
        "plt.xlabel('Tempo em Palmas (anos)')\n",
        "plt.ylabel('Anos de Trabalho')\n",
        "plt.show()"
      ],
      "metadata": {
        "colab": {
          "base_uri": "https://localhost:8080/",
          "height": 472
        },
        "id": "vrJv3MweWbwa",
        "outputId": "5ac9e6ec-174a-458b-8247-46929b01b410"
      },
      "execution_count": null,
      "outputs": [
        {
          "output_type": "display_data",
          "data": {
            "text/plain": [
              "<Figure size 640x480 with 1 Axes>"
            ],
            "image/png": "[encoded data removed]"
          },
          "metadata": {}
        }
      ]
    },
    {
      "cell_type": "markdown",
      "source": [
        "- Comparação de Avaliações"
      ],
      "metadata": {
        "id": "PhbAnhUDYVn8"
      }
    },
    {
      "cell_type": "code",
      "source": [
        "fig, axes = plt.subplots(2, 2, figsize=(18, 12))\n",
        "\n",
        "# Gráfico 8.1 - Percepção sobre Drogas em Palmas\n",
        "sns.countplot(x='drogas em palmas', data=df, ax=axes[0, 0])\n",
        "axes[0, 0].set_title('Percepção sobre Drogas em Palmas')\n",
        "\n",
        "# Gráfico 8.2 - Qualidade de Vida nos Últimos Anos\n",
        "sns.countplot(x='qualidade de vida nos últimos anos', data=df, ax=axes[0, 1])\n",
        "axes[0, 1].set_title('Qualidade de Vida nos Últimos Anos')\n",
        "\n",
        "sns.countplot(x='violencia', data=df, ax=axes[1, 0])\n",
        "axes[1, 0].set_title('Percepção sobre Violencia')\n",
        "\n",
        "# Gráfico 8.2 - Qualidade de Vida nos Últimos Anos\n",
        "sns.countplot(x='qualidade educaional', data=df, ax=axes[1, 1])\n",
        "axes[1, 1].set_title('Qualidade de Educacional nos Últimos Anos')\n",
        "\n",
        "plt.show()"
      ],
      "metadata": {
        "colab": {
          "base_uri": "https://localhost:8080/",
          "height": 1000
        },
        "id": "jZzKi60iYZnc",
        "outputId": "eeb13850-b684-4b0c-99aa-e64e369b1710"
      },
      "execution_count": null,
      "outputs": [
        {
          "output_type": "display_data",
          "data": {
            "text/plain": [
              "<Figure size 1800x1200 with 4 Axes>"
            ],
            "image/png": "[encoded data removed]"
          },
          "metadata": {}
        }
      ]
    },
    {
      "cell_type": "markdown",
      "source": [
        "- Setores de Trabalho"
      ],
      "metadata": {
        "id": "e_AGh5gpZ0Cf"
      }
    },
    {
      "cell_type": "code",
      "source": [
        "fig, axes = plt.subplots(1, 2, figsize=(12, 5))\n",
        "\n",
        "sns.countplot(x='setor de trabalho', data=df, ax=axes[0])\n",
        "axes[0].set_title('Setores de Trabalho')\n",
        "axes[0].tick_params(axis='x', rotation=90)\n",
        "\n",
        "# Gráfico 9.2 - Setores Recomendados\n",
        "sns.countplot(x='que setor recomenda', data=df, ax=axes[1])\n",
        "axes[1].set_title('Setores Recomendados')\n",
        "axes[1].tick_params(axis='x', rotation=90)"
      ],
      "metadata": {
        "colab": {
          "base_uri": "https://localhost:8080/",
          "height": 577
        },
        "id": "lRMsHCmGZw99",
        "outputId": "43a6d270-7974-4111-c6e6-c3e80f2ccddd"
      },
      "execution_count": null,
      "outputs": [
        {
          "output_type": "display_data",
          "data": {
            "text/plain": [
              "<Figure size 1200x500 with 2 Axes>"
            ],
            "image/png": "[encoded data removed]"
          },
          "metadata": {}
        }
      ]
    },
    {
      "cell_type": "markdown",
      "source": [
        "# Categorizando"
      ],
      "metadata": {
        "id": "xb52I5LRw-oN"
      }
    },
    {
      "cell_type": "markdown",
      "source": [
        "> Agora, para realizar testes estatísticos e modelagens em cima destes dados, irei primeiro categorizas os valores das colunas."
      ],
      "metadata": {
        "id": "Dl2aifjLaIMz"
      }
    },
    {
      "cell_type": "markdown",
      "source": [
        "Definição do que será categorizado com Dummies e o que será com OneHot"
      ],
      "metadata": {
        "id": "MKIyoTz7xyA3"
      }
    },
    {
      "cell_type": "markdown",
      "source": [
        "**Dummies:** a escolha de colocar dummies, será para variaveis onde a classificação em grupos será de importância extrema.\n",
        "\n",
        "**OneHot:** a escolha de onehot será para quando a categorização pode ser interpretado como valores continuos."
      ],
      "metadata": {
        "id": "ivYlQWJbx6Kw"
      }
    },
    {
      "cell_type": "code",
      "source": [
        "df.columns"
      ],
      "metadata": {
        "colab": {
          "base_uri": "https://localhost:8080/"
        },
        "id": "q4BHI_vrsAl4",
        "outputId": "8bfddf42-dda2-4b41-832a-3911181fc9cc"
      },
      "execution_count": 187,
      "outputs": [
        {
          "output_type": "execute_result",
          "data": {
            "text/plain": [
              "Index(['sexo', 'idade', 'estado civil', 'nível de instrução', 'casa própria',\n",
              "       'filhos', 'moradores', 'renda familiar', 'trabalho', 'renda pessoal',\n",
              "       'tempo em palmas', 'renda anterior', 'qualidade de vida imigrante',\n",
              "       'bens ao imigrar', 'qualidade em cinco anos',\n",
              "       'pode melhorar em cinco anos', 'violencia', 'qualidade educaional',\n",
              "       'setor de trabalho', 'que setor recomenda', 'cidade natal',\n",
              "       'anos de trabalho', 'drogas em palmas',\n",
              "       'qualidade de vida nos últimos anos', 'auxílio do governo',\n",
              "       'satisfação', 'número de amigos palmas', 'lazer em palmas',\n",
              "       'frequência igreja', 'já morou em outros lugares', 'sair de palmas',\n",
              "       'emprego específico'],\n",
              "      dtype='object')"
            ]
          },
          "metadata": {},
          "execution_count": 187
        }
      ]
    },
    {
      "cell_type": "markdown",
      "source": [
        " > Dummies:"
      ],
      "metadata": {
        "id": "sb7vNin-D87M"
      }
    },
    {
      "cell_type": "code",
      "source": [
        "dummies = ['trabalho', 'setor de trabalho', 'que setor recomenda', 'cidade natal', 'auxílio do governo',\n",
        "           'já morou em outros lugares']"
      ],
      "metadata": {
        "id": "KCOwYikGFIEN"
      },
      "execution_count": 188,
      "outputs": []
    },
    {
      "cell_type": "code",
      "source": [
        "df = pd.get_dummies(df, columns=dummies, drop_first=True)\n",
        "df.head()"
      ],
      "metadata": {
        "colab": {
          "base_uri": "https://localhost:8080/",
          "height": 0
        },
        "id": "UaenVSx3nrXQ",
        "outputId": "02472fb0-8029-45c1-ca44-d5824a68303e"
      },
      "execution_count": 189,
      "outputs": [
        {
          "output_type": "execute_result",
          "data": {
            "text/plain": [
              "  sexo  idade estado civil  nível de instrução casa própria filhos moradores  \\\n",
              "0    F     23     Solteiro                   4          Não      1         3   \n",
              "1    M     38       Casado                   3          Sim      2         5   \n",
              "2    M     26       Casado                   4          Não      1         3   \n",
              "3    F     26     Solteiro                   5          Sim      1         3   \n",
              "4    M     50        Viuvo                   3          Sim     3+         1   \n",
              "\n",
              "   renda familiar  renda pessoal  tempo em palmas  ...  cidade natal_SP  \\\n",
              "0          4200.0         2400.0             23.0  ...            False   \n",
              "1          5000.0         3800.0             11.0  ...            False   \n",
              "2          3000.0         1500.0              3.0  ...            False   \n",
              "3          3000.0         1800.0              5.0  ...            False   \n",
              "4          1320.0         1320.0             22.0  ...            False   \n",
              "\n",
              "  cidade natal_TO auxílio do governo_AUXÍLIO BRASIL  \\\n",
              "0            True                             False   \n",
              "1           False                             False   \n",
              "2           False                             False   \n",
              "3           False                             False   \n",
              "4           False                             False   \n",
              "\n",
              "  auxílio do governo_AUXÍLIO EMERGENCIAL auxílio do governo_BOLSA ESCOLAR  \\\n",
              "0                                  False                            False   \n",
              "1                                  False                            False   \n",
              "2                                  False                            False   \n",
              "3                                  False                            False   \n",
              "4                                  False                            False   \n",
              "\n",
              "  auxílio do governo_BOLSA FAMÍLIA auxílio do governo_NENHUM  \\\n",
              "0                            False                      True   \n",
              "1                             True                     False   \n",
              "2                             True                     False   \n",
              "3                             True                     False   \n",
              "4                            False                      True   \n",
              "\n",
              "   auxílio do governo_SEGURO DESEMPREGO auxílio do governo_SIM  \\\n",
              "0                                 False                  False   \n",
              "1                                 False                  False   \n",
              "2                                 False                  False   \n",
              "3                                 False                  False   \n",
              "4                                 False                  False   \n",
              "\n",
              "  já morou em outros lugares_SIM  \n",
              "0                          False  \n",
              "1                           True  \n",
              "2                           True  \n",
              "3                           True  \n",
              "4                           True  \n",
              "\n",
              "[5 rows x 68 columns]"
            ],
            "text/html": [
              "\n",
              "  <div id=\"df-af9b328f-c07f-4e5d-9f56-9ef20a406a90\" class=\"colab-df-container\">\n",
              "    <div>\n",
              "<style scoped>\n",
              "    .dataframe tbody tr th:only-of-type {\n",
              "        vertical-align: middle;\n",
              "    }\n",
              "\n",
              "    .dataframe tbody tr th {\n",
              "        vertical-align: top;\n",
              "    }\n",
              "\n",
              "    .dataframe thead th {\n",
              "        text-align: right;\n",
              "    }\n",
              "</style>\n",
              "<table border=\"1\" class=\"dataframe\">\n",
              "  <thead>\n",
              "    <tr style=\"text-align: right;\">\n",
              "      <th></th>\n",
              "      <th>sexo</th>\n",
              "      <th>idade</th>\n",
              "      <th>estado civil</th>\n",
              "      <th>nível de instrução</th>\n",
              "      <th>casa própria</th>\n",
              "      <th>filhos</th>\n",
              "      <th>moradores</th>\n",
              "      <th>renda familiar</th>\n",
              "      <th>renda pessoal</th>\n",
              "      <th>tempo em palmas</th>\n",
              "      <th>...</th>\n",
              "      <th>cidade natal_SP</th>\n",
              "      <th>cidade natal_TO</th>\n",
              "      <th>auxílio do governo_AUXÍLIO BRASIL</th>\n",
              "      <th>auxílio do governo_AUXÍLIO EMERGENCIAL</th>\n",
              "      <th>auxílio do governo_BOLSA ESCOLAR</th>\n",
              "      <th>auxílio do governo_BOLSA FAMÍLIA</th>\n",
              "      <th>auxílio do governo_NENHUM</th>\n",
              "      <th>auxílio do governo_SEGURO DESEMPREGO</th>\n",
              "      <th>auxílio do governo_SIM</th>\n",
              "      <th>já morou em outros lugares_SIM</th>\n",
              "    </tr>\n",
              "  </thead>\n",
              "  <tbody>\n",
              "    <tr>\n",
              "      <th>0</th>\n",
              "      <td>F</td>\n",
              "      <td>23</td>\n",
              "      <td>Solteiro</td>\n",
              "      <td>4</td>\n",
              "      <td>Não</td>\n",
              "      <td>1</td>\n",
              "      <td>3</td>\n",
              "      <td>4200.0</td>\n",
              "      <td>2400.0</td>\n",
              "      <td>23.0</td>\n",
              "      <td>...</td>\n",
              "      <td>False</td>\n",
              "      <td>True</td>\n",
              "      <td>False</td>\n",
              "      <td>False</td>\n",
              "      <td>False</td>\n",
              "      <td>False</td>\n",
              "      <td>True</td>\n",
              "      <td>False</td>\n",
              "      <td>False</td>\n",
              "      <td>False</td>\n",
              "    </tr>\n",
              "    <tr>\n",
              "      <th>1</th>\n",
              "      <td>M</td>\n",
              "      <td>38</td>\n",
              "      <td>Casado</td>\n",
              "      <td>3</td>\n",
              "      <td>Sim</td>\n",
              "      <td>2</td>\n",
              "      <td>5</td>\n",
              "      <td>5000.0</td>\n",
              "      <td>3800.0</td>\n",
              "      <td>11.0</td>\n",
              "      <td>...</td>\n",
              "      <td>False</td>\n",
              "      <td>False</td>\n",
              "      <td>False</td>\n",
              "      <td>False</td>\n",
              "      <td>False</td>\n",
              "      <td>True</td>\n",
              "      <td>False</td>\n",
              "      <td>False</td>\n",
              "      <td>False</td>\n",
              "      <td>True</td>\n",
              "    </tr>\n",
              "    <tr>\n",
              "      <th>2</th>\n",
              "      <td>M</td>\n",
              "      <td>26</td>\n",
              "      <td>Casado</td>\n",
              "      <td>4</td>\n",
              "      <td>Não</td>\n",
              "      <td>1</td>\n",
              "      <td>3</td>\n",
              "      <td>3000.0</td>\n",
              "      <td>1500.0</td>\n",
              "      <td>3.0</td>\n",
              "      <td>...</td>\n",
              "      <td>False</td>\n",
              "      <td>False</td>\n",
              "      <td>False</td>\n",
              "      <td>False</td>\n",
              "      <td>False</td>\n",
              "      <td>True</td>\n",
              "      <td>False</td>\n",
              "      <td>False</td>\n",
              "      <td>False</td>\n",
              "      <td>True</td>\n",
              "    </tr>\n",
              "    <tr>\n",
              "      <th>3</th>\n",
              "      <td>F</td>\n",
              "      <td>26</td>\n",
              "      <td>Solteiro</td>\n",
              "      <td>5</td>\n",
              "      <td>Sim</td>\n",
              "      <td>1</td>\n",
              "      <td>3</td>\n",
              "      <td>3000.0</td>\n",
              "      <td>1800.0</td>\n",
              "      <td>5.0</td>\n",
              "      <td>...</td>\n",
              "      <td>False</td>\n",
              "      <td>False</td>\n",
              "      <td>False</td>\n",
              "      <td>False</td>\n",
              "      <td>False</td>\n",
              "      <td>True</td>\n",
              "      <td>False</td>\n",
              "      <td>False</td>\n",
              "      <td>False</td>\n",
              "      <td>True</td>\n",
              "    </tr>\n",
              "    <tr>\n",
              "      <th>4</th>\n",
              "      <td>M</td>\n",
              "      <td>50</td>\n",
              "      <td>Viuvo</td>\n",
              "      <td>3</td>\n",
              "      <td>Sim</td>\n",
              "      <td>3+</td>\n",
              "      <td>1</td>\n",
              "      <td>1320.0</td>\n",
              "      <td>1320.0</td>\n",
              "      <td>22.0</td>\n",
              "      <td>...</td>\n",
              "      <td>False</td>\n",
              "      <td>False</td>\n",
              "      <td>False</td>\n",
              "      <td>False</td>\n",
              "      <td>False</td>\n",
              "      <td>False</td>\n",
              "      <td>True</td>\n",
              "      <td>False</td>\n",
              "      <td>False</td>\n",
              "      <td>True</td>\n",
              "    </tr>\n",
              "  </tbody>\n",
              "</table>\n",
              "<p>5 rows × 68 columns</p>\n",
              "</div>\n",
              "    <div class=\"colab-df-buttons\">\n",
              "\n",
              "  <div class=\"colab-df-container\">\n",
              "    <button class=\"colab-df-convert\" onclick=\"convertToInteractive('df-af9b328f-c07f-4e5d-9f56-9ef20a406a90')\"\n",
              "            title=\"Convert this dataframe to an interactive table.\"\n",
              "            style=\"display:none;\">\n",
              "\n",
              "  <svg xmlns=\"http://www.w3.org/2000/svg\" height=\"24px\" viewBox=\"0 -960 960 960\">\n",
              "    <path d=\"M120-120v-720h720v720H120Zm60-500h600v-160H180v160Zm220 220h160v-160H400v160Zm0 220h160v-160H400v160ZM180-400h160v-160H180v160Zm440 0h160v-160H620v160ZM180-180h160v-160H180v160Zm440 0h160v-160H620v160Z\"/>\n",
              "  </svg>\n",
              "    </button>\n",
              "\n",
              "  <style>\n",
              "    .colab-df-container {\n",
              "      display:flex;\n",
              "      gap: 12px;\n",
              "    }\n",
              "\n",
              "    .colab-df-convert {\n",
              "      background-color: #E8F0FE;\n",
              "      border: none;\n",
              "      border-radius: 50%;\n",
              "      cursor: pointer;\n",
              "      display: none;\n",
              "      fill: #1967D2;\n",
              "      height: 32px;\n",
              "      padding: 0 0 0 0;\n",
              "      width: 32px;\n",
              "    }\n",
              "\n",
              "    .colab-df-convert:hover {\n",
              "      background-color: #E2EBFA;\n",
              "      box-shadow: 0px 1px 2px rgba(60, 64, 67, 0.3), 0px 1px 3px 1px rgba(60, 64, 67, 0.15);\n",
              "      fill: #174EA6;\n",
              "    }\n",
              "\n",
              "    .colab-df-buttons div {\n",
              "      margin-bottom: 4px;\n",
              "    }\n",
              "\n",
              "    [theme=dark] .colab-df-convert {\n",
              "      background-color: #3B4455;\n",
              "      fill: #D2E3FC;\n",
              "    }\n",
              "\n",
              "    [theme=dark] .colab-df-convert:hover {\n",
              "      background-color: #434B5C;\n",
              "      box-shadow: 0px 1px 3px 1px rgba(0, 0, 0, 0.15);\n",
              "      filter: drop-shadow(0px 1px 2px rgba(0, 0, 0, 0.3));\n",
              "      fill: #FFFFFF;\n",
              "    }\n",
              "  </style>\n",
              "\n",
              "    <script>\n",
              "      const buttonEl =\n",
              "        document.querySelector('#df-af9b328f-c07f-4e5d-9f56-9ef20a406a90 button.colab-df-convert');\n",
              "      buttonEl.style.display =\n",
              "        google.colab.kernel.accessAllowed ? 'block' : 'none';\n",
              "\n",
              "      async function convertToInteractive(key) {\n",
              "        const element = document.querySelector('#df-af9b328f-c07f-4e5d-9f56-9ef20a406a90');\n",
              "        const dataTable =\n",
              "          await google.colab.kernel.invokeFunction('convertToInteractive',\n",
              "                                                    [key], {});\n",
              "        if (!dataTable) return;\n",
              "\n",
              "        const docLinkHtml = 'Like what you see? Visit the ' +\n",
              "          '<a target=\"_blank\" href=https://colab.research.google.com/notebooks/data_table.ipynb>data table notebook</a>'\n",
              "          + ' to learn more about interactive tables.';\n",
              "        element.innerHTML = '';\n",
              "        dataTable['output_type'] = 'display_data';\n",
              "        await google.colab.output.renderOutput(dataTable, element);\n",
              "        const docLink = document.createElement('div');\n",
              "        docLink.innerHTML = docLinkHtml;\n",
              "        element.appendChild(docLink);\n",
              "      }\n",
              "    </script>\n",
              "  </div>\n",
              "\n",
              "\n",
              "<div id=\"df-95a5c205-024d-44e7-aa9c-cbeedf0a9b99\">\n",
              "  <button class=\"colab-df-quickchart\" onclick=\"quickchart('df-95a5c205-024d-44e7-aa9c-cbeedf0a9b99')\"\n",
              "            title=\"Suggest charts\"\n",
              "            style=\"display:none;\">\n",
              "\n",
              "<svg xmlns=\"http://www.w3.org/2000/svg\" height=\"24px\"viewBox=\"0 0 24 24\"\n",
              "     width=\"24px\">\n",
              "    <g>\n",
              "        <path d=\"M19 3H5c-1.1 0-2 .9-2 2v14c0 1.1.9 2 2 2h14c1.1 0 2-.9 2-2V5c0-1.1-.9-2-2-2zM9 17H7v-7h2v7zm4 0h-2V7h2v10zm4 0h-2v-4h2v4z\"/>\n",
              "    </g>\n",
              "</svg>\n",
              "  </button>\n",
              "\n",
              "<style>\n",
              "  .colab-df-quickchart {\n",
              "      --bg-color: #E8F0FE;\n",
              "      --fill-color: #1967D2;\n",
              "      --hover-bg-color: #E2EBFA;\n",
              "      --hover-fill-color: #174EA6;\n",
              "      --disabled-fill-color: #AAA;\n",
              "      --disabled-bg-color: #DDD;\n",
              "  }\n",
              "\n",
              "  [theme=dark] .colab-df-quickchart {\n",
              "      --bg-color: #3B4455;\n",
              "      --fill-color: #D2E3FC;\n",
              "      --hover-bg-color: #434B5C;\n",
              "      --hover-fill-color: #FFFFFF;\n",
              "      --disabled-bg-color: #3B4455;\n",
              "      --disabled-fill-color: #666;\n",
              "  }\n",
              "\n",
              "  .colab-df-quickchart {\n",
              "    background-color: var(--bg-color);\n",
              "    border: none;\n",
              "    border-radius: 50%;\n",
              "    cursor: pointer;\n",
              "    display: none;\n",
              "    fill: var(--fill-color);\n",
              "    height: 32px;\n",
              "    padding: 0;\n",
              "    width: 32px;\n",
              "  }\n",
              "\n",
              "  .colab-df-quickchart:hover {\n",
              "    background-color: var(--hover-bg-color);\n",
              "    box-shadow: 0 1px 2px rgba(60, 64, 67, 0.3), 0 1px 3px 1px rgba(60, 64, 67, 0.15);\n",
              "    fill: var(--button-hover-fill-color);\n",
              "  }\n",
              "\n",
              "  .colab-df-quickchart-complete:disabled,\n",
              "  .colab-df-quickchart-complete:disabled:hover {\n",
              "    background-color: var(--disabled-bg-color);\n",
              "    fill: var(--disabled-fill-color);\n",
              "    box-shadow: none;\n",
              "  }\n",
              "\n",
              "  .colab-df-spinner {\n",
              "    border: 2px solid var(--fill-color);\n",
              "    border-color: transparent;\n",
              "    border-bottom-color: var(--fill-color);\n",
              "    animation:\n",
              "      spin 1s steps(1) infinite;\n",
              "  }\n",
              "\n",
              "  @keyframes spin {\n",
              "    0% {\n",
              "      border-color: transparent;\n",
              "      border-bottom-color: var(--fill-color);\n",
              "      border-left-color: var(--fill-color);\n",
              "    }\n",
              "    20% {\n",
              "      border-color: transparent;\n",
              "      border-left-color: var(--fill-color);\n",
              "      border-top-color: var(--fill-color);\n",
              "    }\n",
              "    30% {\n",
              "      border-color: transparent;\n",
              "      border-left-color: var(--fill-color);\n",
              "      border-top-color: var(--fill-color);\n",
              "      border-right-color: var(--fill-color);\n",
              "    }\n",
              "    40% {\n",
              "      border-color: transparent;\n",
              "      border-right-color: var(--fill-color);\n",
              "      border-top-color: var(--fill-color);\n",
              "    }\n",
              "    60% {\n",
              "      border-color: transparent;\n",
              "      border-right-color: var(--fill-color);\n",
              "    }\n",
              "    80% {\n",
              "      border-color: transparent;\n",
              "      border-right-color: var(--fill-color);\n",
              "      border-bottom-color: var(--fill-color);\n",
              "    }\n",
              "    90% {\n",
              "      border-color: transparent;\n",
              "      border-bottom-color: var(--fill-color);\n",
              "    }\n",
              "  }\n",
              "</style>\n",
              "\n",
              "  <script>\n",
              "    async function quickchart(key) {\n",
              "      const quickchartButtonEl =\n",
              "        document.querySelector('#' + key + ' button');\n",
              "      quickchartButtonEl.disabled = true;  // To prevent multiple clicks.\n",
              "      quickchartButtonEl.classList.add('colab-df-spinner');\n",
              "      try {\n",
              "        const charts = await google.colab.kernel.invokeFunction(\n",
              "            'suggestCharts', [key], {});\n",
              "      } catch (error) {\n",
              "        console.error('Error during call to suggestCharts:', error);\n",
              "      }\n",
              "      quickchartButtonEl.classList.remove('colab-df-spinner');\n",
              "      quickchartButtonEl.classList.add('colab-df-quickchart-complete');\n",
              "    }\n",
              "    (() => {\n",
              "      let quickchartButtonEl =\n",
              "        document.querySelector('#df-95a5c205-024d-44e7-aa9c-cbeedf0a9b99 button');\n",
              "      quickchartButtonEl.style.display =\n",
              "        google.colab.kernel.accessAllowed ? 'block' : 'none';\n",
              "    })();\n",
              "  </script>\n",
              "</div>\n",
              "\n",
              "    </div>\n",
              "  </div>\n"
            ],
            "application/vnd.google.colaboratory.intrinsic+json": {
              "type": "dataframe",
              "variable_name": "df"
            }
          },
          "metadata": {},
          "execution_count": 189
        }
      ]
    },
    {
      "cell_type": "code",
      "source": [
        "df = pd.get_dummies(df, columns=['emprego específico'])\n",
        "df.head()"
      ],
      "metadata": {
        "colab": {
          "base_uri": "https://localhost:8080/",
          "height": 0
        },
        "id": "Azs18b-xg9wJ",
        "outputId": "4801ad9a-5fc6-4917-8d23-fce8a02dc01a"
      },
      "execution_count": 190,
      "outputs": [
        {
          "output_type": "execute_result",
          "data": {
            "text/plain": [
              "  sexo  idade estado civil  nível de instrução casa própria filhos moradores  \\\n",
              "0    F     23     Solteiro                   4          Não      1         3   \n",
              "1    M     38       Casado                   3          Sim      2         5   \n",
              "2    M     26       Casado                   4          Não      1         3   \n",
              "3    F     26     Solteiro                   5          Sim      1         3   \n",
              "4    M     50        Viuvo                   3          Sim     3+         1   \n",
              "\n",
              "   renda familiar  renda pessoal  tempo em palmas  ...  \\\n",
              "0          4200.0         2400.0             23.0  ...   \n",
              "1          5000.0         3800.0             11.0  ...   \n",
              "2          3000.0         1500.0              3.0  ...   \n",
              "3          3000.0         1800.0              5.0  ...   \n",
              "4          1320.0         1320.0             22.0  ...   \n",
              "\n",
              "   emprego específico_TÉCNICO FARMÁCIA emprego específico_UBER  \\\n",
              "0                                False                   False   \n",
              "1                                False                   False   \n",
              "2                                False                   False   \n",
              "3                                False                   False   \n",
              "4                                False                   False   \n",
              "\n",
              "  emprego específico_VENDA DE IMÓVEIS emprego específico_VENDAS  \\\n",
              "0                               False                     False   \n",
              "1                               False                     False   \n",
              "2                               False                     False   \n",
              "3                               False                     False   \n",
              "4                               False                     False   \n",
              "\n",
              "  emprego específico_VENDEDOR emprego específico_VENDEDORA  \\\n",
              "0                       False                        False   \n",
              "1                       False                        False   \n",
              "2                       False                        False   \n",
              "3                       False                         True   \n",
              "4                       False                        False   \n",
              "\n",
              "  emprego específico_VENDEDORA DE FARMÁCIA  \\\n",
              "0                                    False   \n",
              "1                                    False   \n",
              "2                                    False   \n",
              "3                                    False   \n",
              "4                                    False   \n",
              "\n",
              "   emprego específico_VERIFICAÇÃO E IMPORTAÇÃO DE PRODUTOS  \\\n",
              "0                                              False         \n",
              "1                                              False         \n",
              "2                                              False         \n",
              "3                                              False         \n",
              "4                                              False         \n",
              "\n",
              "  emprego específico_VIDEOMARKER, COMUNICAÇÃO emprego específico_ÁREA DA SAÚDE  \n",
              "0                                       False                            False  \n",
              "1                                       False                            False  \n",
              "2                                       False                            False  \n",
              "3                                       False                            False  \n",
              "4                                       False                            False  \n",
              "\n",
              "[5 rows x 272 columns]"
            ],
            "text/html": [
              "\n",
              "  <div id=\"df-340d8ea2-0677-4149-83d2-1aeff49c1790\" class=\"colab-df-container\">\n",
              "    <div>\n",
              "<style scoped>\n",
              "    .dataframe tbody tr th:only-of-type {\n",
              "        vertical-align: middle;\n",
              "    }\n",
              "\n",
              "    .dataframe tbody tr th {\n",
              "        vertical-align: top;\n",
              "    }\n",
              "\n",
              "    .dataframe thead th {\n",
              "        text-align: right;\n",
              "    }\n",
              "</style>\n",
              "<table border=\"1\" class=\"dataframe\">\n",
              "  <thead>\n",
              "    <tr style=\"text-align: right;\">\n",
              "      <th></th>\n",
              "      <th>sexo</th>\n",
              "      <th>idade</th>\n",
              "      <th>estado civil</th>\n",
              "      <th>nível de instrução</th>\n",
              "      <th>casa própria</th>\n",
              "      <th>filhos</th>\n",
              "      <th>moradores</th>\n",
              "      <th>renda familiar</th>\n",
              "      <th>renda pessoal</th>\n",
              "      <th>tempo em palmas</th>\n",
              "      <th>...</th>\n",
              "      <th>emprego específico_TÉCNICO FARMÁCIA</th>\n",
              "      <th>emprego específico_UBER</th>\n",
              "      <th>emprego específico_VENDA DE IMÓVEIS</th>\n",
              "      <th>emprego específico_VENDAS</th>\n",
              "      <th>emprego específico_VENDEDOR</th>\n",
              "      <th>emprego específico_VENDEDORA</th>\n",
              "      <th>emprego específico_VENDEDORA DE FARMÁCIA</th>\n",
              "      <th>emprego específico_VERIFICAÇÃO E IMPORTAÇÃO DE PRODUTOS</th>\n",
              "      <th>emprego específico_VIDEOMARKER, COMUNICAÇÃO</th>\n",
              "      <th>emprego específico_ÁREA DA SAÚDE</th>\n",
              "    </tr>\n",
              "  </thead>\n",
              "  <tbody>\n",
              "    <tr>\n",
              "      <th>0</th>\n",
              "      <td>F</td>\n",
              "      <td>23</td>\n",
              "      <td>Solteiro</td>\n",
              "      <td>4</td>\n",
              "      <td>Não</td>\n",
              "      <td>1</td>\n",
              "      <td>3</td>\n",
              "      <td>4200.0</td>\n",
              "      <td>2400.0</td>\n",
              "      <td>23.0</td>\n",
              "      <td>...</td>\n",
              "      <td>False</td>\n",
              "      <td>False</td>\n",
              "      <td>False</td>\n",
              "      <td>False</td>\n",
              "      <td>False</td>\n",
              "      <td>False</td>\n",
              "      <td>False</td>\n",
              "      <td>False</td>\n",
              "      <td>False</td>\n",
              "      <td>False</td>\n",
              "    </tr>\n",
              "    <tr>\n",
              "      <th>1</th>\n",
              "      <td>M</td>\n",
              "      <td>38</td>\n",
              "      <td>Casado</td>\n",
              "      <td>3</td>\n",
              "      <td>Sim</td>\n",
              "      <td>2</td>\n",
              "      <td>5</td>\n",
              "      <td>5000.0</td>\n",
              "      <td>3800.0</td>\n",
              "      <td>11.0</td>\n",
              "      <td>...</td>\n",
              "      <td>False</td>\n",
              "      <td>False</td>\n",
              "      <td>False</td>\n",
              "      <td>False</td>\n",
              "      <td>False</td>\n",
              "      <td>False</td>\n",
              "      <td>False</td>\n",
              "      <td>False</td>\n",
              "      <td>False</td>\n",
              "      <td>False</td>\n",
              "    </tr>\n",
              "    <tr>\n",
              "      <th>2</th>\n",
              "      <td>M</td>\n",
              "      <td>26</td>\n",
              "      <td>Casado</td>\n",
              "      <td>4</td>\n",
              "      <td>Não</td>\n",
              "      <td>1</td>\n",
              "      <td>3</td>\n",
              "      <td>3000.0</td>\n",
              "      <td>1500.0</td>\n",
              "      <td>3.0</td>\n",
              "      <td>...</td>\n",
              "      <td>False</td>\n",
              "      <td>False</td>\n",
              "      <td>False</td>\n",
              "      <td>False</td>\n",
              "      <td>False</td>\n",
              "      <td>False</td>\n",
              "      <td>False</td>\n",
              "      <td>False</td>\n",
              "      <td>False</td>\n",
              "      <td>False</td>\n",
              "    </tr>\n",
              "    <tr>\n",
              "      <th>3</th>\n",
              "      <td>F</td>\n",
              "      <td>26</td>\n",
              "      <td>Solteiro</td>\n",
              "      <td>5</td>\n",
              "      <td>Sim</td>\n",
              "      <td>1</td>\n",
              "      <td>3</td>\n",
              "      <td>3000.0</td>\n",
              "      <td>1800.0</td>\n",
              "      <td>5.0</td>\n",
              "      <td>...</td>\n",
              "      <td>False</td>\n",
              "      <td>False</td>\n",
              "      <td>False</td>\n",
              "      <td>False</td>\n",
              "      <td>False</td>\n",
              "      <td>True</td>\n",
              "      <td>False</td>\n",
              "      <td>False</td>\n",
              "      <td>False</td>\n",
              "      <td>False</td>\n",
              "    </tr>\n",
              "    <tr>\n",
              "      <th>4</th>\n",
              "      <td>M</td>\n",
              "      <td>50</td>\n",
              "      <td>Viuvo</td>\n",
              "      <td>3</td>\n",
              "      <td>Sim</td>\n",
              "      <td>3+</td>\n",
              "      <td>1</td>\n",
              "      <td>1320.0</td>\n",
              "      <td>1320.0</td>\n",
              "      <td>22.0</td>\n",
              "      <td>...</td>\n",
              "      <td>False</td>\n",
              "      <td>False</td>\n",
              "      <td>False</td>\n",
              "      <td>False</td>\n",
              "      <td>False</td>\n",
              "      <td>False</td>\n",
              "      <td>False</td>\n",
              "      <td>False</td>\n",
              "      <td>False</td>\n",
              "      <td>False</td>\n",
              "    </tr>\n",
              "  </tbody>\n",
              "</table>\n",
              "<p>5 rows × 272 columns</p>\n",
              "</div>\n",
              "    <div class=\"colab-df-buttons\">\n",
              "\n",
              "  <div class=\"colab-df-container\">\n",
              "    <button class=\"colab-df-convert\" onclick=\"convertToInteractive('df-340d8ea2-0677-4149-83d2-1aeff49c1790')\"\n",
              "            title=\"Convert this dataframe to an interactive table.\"\n",
              "            style=\"display:none;\">\n",
              "\n",
              "  <svg xmlns=\"http://www.w3.org/2000/svg\" height=\"24px\" viewBox=\"0 -960 960 960\">\n",
              "    <path d=\"M120-120v-720h720v720H120Zm60-500h600v-160H180v160Zm220 220h160v-160H400v160Zm0 220h160v-160H400v160ZM180-400h160v-160H180v160Zm440 0h160v-160H620v160ZM180-180h160v-160H180v160Zm440 0h160v-160H620v160Z\"/>\n",
              "  </svg>\n",
              "    </button>\n",
              "\n",
              "  <style>\n",
              "    .colab-df-container {\n",
              "      display:flex;\n",
              "      gap: 12px;\n",
              "    }\n",
              "\n",
              "    .colab-df-convert {\n",
              "      background-color: #E8F0FE;\n",
              "      border: none;\n",
              "      border-radius: 50%;\n",
              "      cursor: pointer;\n",
              "      display: none;\n",
              "      fill: #1967D2;\n",
              "      height: 32px;\n",
              "      padding: 0 0 0 0;\n",
              "      width: 32px;\n",
              "    }\n",
              "\n",
              "    .colab-df-convert:hover {\n",
              "      background-color: #E2EBFA;\n",
              "      box-shadow: 0px 1px 2px rgba(60, 64, 67, 0.3), 0px 1px 3px 1px rgba(60, 64, 67, 0.15);\n",
              "      fill: #174EA6;\n",
              "    }\n",
              "\n",
              "    .colab-df-buttons div {\n",
              "      margin-bottom: 4px;\n",
              "    }\n",
              "\n",
              "    [theme=dark] .colab-df-convert {\n",
              "      background-color: #3B4455;\n",
              "      fill: #D2E3FC;\n",
              "    }\n",
              "\n",
              "    [theme=dark] .colab-df-convert:hover {\n",
              "      background-color: #434B5C;\n",
              "      box-shadow: 0px 1px 3px 1px rgba(0, 0, 0, 0.15);\n",
              "      filter: drop-shadow(0px 1px 2px rgba(0, 0, 0, 0.3));\n",
              "      fill: #FFFFFF;\n",
              "    }\n",
              "  </style>\n",
              "\n",
              "    <script>\n",
              "      const buttonEl =\n",
              "        document.querySelector('#df-340d8ea2-0677-4149-83d2-1aeff49c1790 button.colab-df-convert');\n",
              "      buttonEl.style.display =\n",
              "        google.colab.kernel.accessAllowed ? 'block' : 'none';\n",
              "\n",
              "      async function convertToInteractive(key) {\n",
              "        const element = document.querySelector('#df-340d8ea2-0677-4149-83d2-1aeff49c1790');\n",
              "        const dataTable =\n",
              "          await google.colab.kernel.invokeFunction('convertToInteractive',\n",
              "                                                    [key], {});\n",
              "        if (!dataTable) return;\n",
              "\n",
              "        const docLinkHtml = 'Like what you see? Visit the ' +\n",
              "          '<a target=\"_blank\" href=https://colab.research.google.com/notebooks/data_table.ipynb>data table notebook</a>'\n",
              "          + ' to learn more about interactive tables.';\n",
              "        element.innerHTML = '';\n",
              "        dataTable['output_type'] = 'display_data';\n",
              "        await google.colab.output.renderOutput(dataTable, element);\n",
              "        const docLink = document.createElement('div');\n",
              "        docLink.innerHTML = docLinkHtml;\n",
              "        element.appendChild(docLink);\n",
              "      }\n",
              "    </script>\n",
              "  </div>\n",
              "\n",
              "\n",
              "<div id=\"df-a1758c86-f4c6-46b1-888b-2fce03064d7e\">\n",
              "  <button class=\"colab-df-quickchart\" onclick=\"quickchart('df-a1758c86-f4c6-46b1-888b-2fce03064d7e')\"\n",
              "            title=\"Suggest charts\"\n",
              "            style=\"display:none;\">\n",
              "\n",
              "<svg xmlns=\"http://www.w3.org/2000/svg\" height=\"24px\"viewBox=\"0 0 24 24\"\n",
              "     width=\"24px\">\n",
              "    <g>\n",
              "        <path d=\"M19 3H5c-1.1 0-2 .9-2 2v14c0 1.1.9 2 2 2h14c1.1 0 2-.9 2-2V5c0-1.1-.9-2-2-2zM9 17H7v-7h2v7zm4 0h-2V7h2v10zm4 0h-2v-4h2v4z\"/>\n",
              "    </g>\n",
              "</svg>\n",
              "  </button>\n",
              "\n",
              "<style>\n",
              "  .colab-df-quickchart {\n",
              "      --bg-color: #E8F0FE;\n",
              "      --fill-color: #1967D2;\n",
              "      --hover-bg-color: #E2EBFA;\n",
              "      --hover-fill-color: #174EA6;\n",
              "      --disabled-fill-color: #AAA;\n",
              "      --disabled-bg-color: #DDD;\n",
              "  }\n",
              "\n",
              "  [theme=dark] .colab-df-quickchart {\n",
              "      --bg-color: #3B4455;\n",
              "      --fill-color: #D2E3FC;\n",
              "      --hover-bg-color: #434B5C;\n",
              "      --hover-fill-color: #FFFFFF;\n",
              "      --disabled-bg-color: #3B4455;\n",
              "      --disabled-fill-color: #666;\n",
              "  }\n",
              "\n",
              "  .colab-df-quickchart {\n",
              "    background-color: var(--bg-color);\n",
              "    border: none;\n",
              "    border-radius: 50%;\n",
              "    cursor: pointer;\n",
              "    display: none;\n",
              "    fill: var(--fill-color);\n",
              "    height: 32px;\n",
              "    padding: 0;\n",
              "    width: 32px;\n",
              "  }\n",
              "\n",
              "  .colab-df-quickchart:hover {\n",
              "    background-color: var(--hover-bg-color);\n",
              "    box-shadow: 0 1px 2px rgba(60, 64, 67, 0.3), 0 1px 3px 1px rgba(60, 64, 67, 0.15);\n",
              "    fill: var(--button-hover-fill-color);\n",
              "  }\n",
              "\n",
              "  .colab-df-quickchart-complete:disabled,\n",
              "  .colab-df-quickchart-complete:disabled:hover {\n",
              "    background-color: var(--disabled-bg-color);\n",
              "    fill: var(--disabled-fill-color);\n",
              "    box-shadow: none;\n",
              "  }\n",
              "\n",
              "  .colab-df-spinner {\n",
              "    border: 2px solid var(--fill-color);\n",
              "    border-color: transparent;\n",
              "    border-bottom-color: var(--fill-color);\n",
              "    animation:\n",
              "      spin 1s steps(1) infinite;\n",
              "  }\n",
              "\n",
              "  @keyframes spin {\n",
              "    0% {\n",
              "      border-color: transparent;\n",
              "      border-bottom-color: var(--fill-color);\n",
              "      border-left-color: var(--fill-color);\n",
              "    }\n",
              "    20% {\n",
              "      border-color: transparent;\n",
              "      border-left-color: var(--fill-color);\n",
              "      border-top-color: var(--fill-color);\n",
              "    }\n",
              "    30% {\n",
              "      border-color: transparent;\n",
              "      border-left-color: var(--fill-color);\n",
              "      border-top-color: var(--fill-color);\n",
              "      border-right-color: var(--fill-color);\n",
              "    }\n",
              "    40% {\n",
              "      border-color: transparent;\n",
              "      border-right-color: var(--fill-color);\n",
              "      border-top-color: var(--fill-color);\n",
              "    }\n",
              "    60% {\n",
              "      border-color: transparent;\n",
              "      border-right-color: var(--fill-color);\n",
              "    }\n",
              "    80% {\n",
              "      border-color: transparent;\n",
              "      border-right-color: var(--fill-color);\n",
              "      border-bottom-color: var(--fill-color);\n",
              "    }\n",
              "    90% {\n",
              "      border-color: transparent;\n",
              "      border-bottom-color: var(--fill-color);\n",
              "    }\n",
              "  }\n",
              "</style>\n",
              "\n",
              "  <script>\n",
              "    async function quickchart(key) {\n",
              "      const quickchartButtonEl =\n",
              "        document.querySelector('#' + key + ' button');\n",
              "      quickchartButtonEl.disabled = true;  // To prevent multiple clicks.\n",
              "      quickchartButtonEl.classList.add('colab-df-spinner');\n",
              "      try {\n",
              "        const charts = await google.colab.kernel.invokeFunction(\n",
              "            'suggestCharts', [key], {});\n",
              "      } catch (error) {\n",
              "        console.error('Error during call to suggestCharts:', error);\n",
              "      }\n",
              "      quickchartButtonEl.classList.remove('colab-df-spinner');\n",
              "      quickchartButtonEl.classList.add('colab-df-quickchart-complete');\n",
              "    }\n",
              "    (() => {\n",
              "      let quickchartButtonEl =\n",
              "        document.querySelector('#df-a1758c86-f4c6-46b1-888b-2fce03064d7e button');\n",
              "      quickchartButtonEl.style.display =\n",
              "        google.colab.kernel.accessAllowed ? 'block' : 'none';\n",
              "    })();\n",
              "  </script>\n",
              "</div>\n",
              "\n",
              "    </div>\n",
              "  </div>\n"
            ],
            "application/vnd.google.colaboratory.intrinsic+json": {
              "type": "dataframe",
              "variable_name": "df"
            }
          },
          "metadata": {},
          "execution_count": 190
        }
      ]
    },
    {
      "cell_type": "code",
      "source": [
        "df = df.replace({True : 1, False: 0})"
      ],
      "metadata": {
        "colab": {
          "base_uri": "https://localhost:8080/"
        },
        "id": "_zxYAiIpss2m",
        "outputId": "e62b6aa0-aeec-49da-9d29-b5e8f5c051eb"
      },
      "execution_count": 191,
      "outputs": [
        {
          "output_type": "stream",
          "name": "stderr",
          "text": [
            "<ipython-input-191-3094978f08c8>:1: FutureWarning: Downcasting behavior in `replace` is deprecated and will be removed in a future version. To retain the old behavior, explicitly call `result.infer_objects(copy=False)`. To opt-in to the future behavior, set `pd.set_option('future.no_silent_downcasting', True)`\n",
            "  df = df.replace({True : 1, False: 0})\n"
          ]
        }
      ]
    },
    {
      "cell_type": "markdown",
      "source": [
        "> LabelEncoding:"
      ],
      "metadata": {
        "id": "o8HUeVjIEEok"
      }
    },
    {
      "cell_type": "code",
      "source": [
        "labelencoding = ['sair de palmas', 'sexo', 'casa própria', 'estado civil', 'qualidade de vida imigrante', 'bens ao imigrar', 'violencia', 'qualidade educaional', 'drogas em palmas',\n",
        "          'qualidade de vida nos últimos anos', 'satisfação', 'número de amigos palmas', 'lazer em palmas', 'qualidade em cinco anos',\n",
        "          'pode melhorar em cinco anos', 'frequência igreja']"
      ],
      "metadata": {
        "id": "YeLNMltjFA3w"
      },
      "execution_count": 192,
      "outputs": []
    },
    {
      "source": [
        "from sklearn.preprocessing import LabelEncoder\n",
        "\n",
        "label = LabelEncoder()\n",
        "\n",
        "for col in labelencoding:\n",
        "    df[col] = label.fit_transform(df[col])\n",
        "\n",
        "df.head()"
      ],
      "cell_type": "code",
      "metadata": {
        "colab": {
          "base_uri": "https://localhost:8080/",
          "height": 0
        },
        "id": "-hL61wjteqOX",
        "outputId": "e51973f2-505d-4f5a-fc95-30bb19b25e47"
      },
      "execution_count": 193,
      "outputs": [
        {
          "output_type": "execute_result",
          "data": {
            "text/plain": [
              "   sexo  idade  estado civil  nível de instrução  casa própria filhos  \\\n",
              "0     0     23             3                   4             0      1   \n",
              "1     1     38             0                   3             1      2   \n",
              "2     1     26             0                   4             0      1   \n",
              "3     0     26             3                   5             1      1   \n",
              "4     1     50             4                   3             1     3+   \n",
              "\n",
              "  moradores  renda familiar  renda pessoal  tempo em palmas  ...  \\\n",
              "0         3          4200.0         2400.0             23.0  ...   \n",
              "1         5          5000.0         3800.0             11.0  ...   \n",
              "2         3          3000.0         1500.0              3.0  ...   \n",
              "3         3          3000.0         1800.0              5.0  ...   \n",
              "4         1          1320.0         1320.0             22.0  ...   \n",
              "\n",
              "   emprego específico_TÉCNICO FARMÁCIA  emprego específico_UBER  \\\n",
              "0                                    0                        0   \n",
              "1                                    0                        0   \n",
              "2                                    0                        0   \n",
              "3                                    0                        0   \n",
              "4                                    0                        0   \n",
              "\n",
              "   emprego específico_VENDA DE IMÓVEIS  emprego específico_VENDAS  \\\n",
              "0                                    0                          0   \n",
              "1                                    0                          0   \n",
              "2                                    0                          0   \n",
              "3                                    0                          0   \n",
              "4                                    0                          0   \n",
              "\n",
              "   emprego específico_VENDEDOR  emprego específico_VENDEDORA  \\\n",
              "0                            0                             0   \n",
              "1                            0                             0   \n",
              "2                            0                             0   \n",
              "3                            0                             1   \n",
              "4                            0                             0   \n",
              "\n",
              "   emprego específico_VENDEDORA DE FARMÁCIA  \\\n",
              "0                                         0   \n",
              "1                                         0   \n",
              "2                                         0   \n",
              "3                                         0   \n",
              "4                                         0   \n",
              "\n",
              "   emprego específico_VERIFICAÇÃO E IMPORTAÇÃO DE PRODUTOS  \\\n",
              "0                                                  0         \n",
              "1                                                  0         \n",
              "2                                                  0         \n",
              "3                                                  0         \n",
              "4                                                  0         \n",
              "\n",
              "   emprego específico_VIDEOMARKER, COMUNICAÇÃO  \\\n",
              "0                                            0   \n",
              "1                                            0   \n",
              "2                                            0   \n",
              "3                                            0   \n",
              "4                                            0   \n",
              "\n",
              "   emprego específico_ÁREA DA SAÚDE  \n",
              "0                                 0  \n",
              "1                                 0  \n",
              "2                                 0  \n",
              "3                                 0  \n",
              "4                                 0  \n",
              "\n",
              "[5 rows x 272 columns]"
            ],
            "text/html": [
              "\n",
              "  <div id=\"df-c5d0cfb0-0bae-41c3-9ddf-d2577648eebf\" class=\"colab-df-container\">\n",
              "    <div>\n",
              "<style scoped>\n",
              "    .dataframe tbody tr th:only-of-type {\n",
              "        vertical-align: middle;\n",
              "    }\n",
              "\n",
              "    .dataframe tbody tr th {\n",
              "        vertical-align: top;\n",
              "    }\n",
              "\n",
              "    .dataframe thead th {\n",
              "        text-align: right;\n",
              "    }\n",
              "</style>\n",
              "<table border=\"1\" class=\"dataframe\">\n",
              "  <thead>\n",
              "    <tr style=\"text-align: right;\">\n",
              "      <th></th>\n",
              "      <th>sexo</th>\n",
              "      <th>idade</th>\n",
              "      <th>estado civil</th>\n",
              "      <th>nível de instrução</th>\n",
              "      <th>casa própria</th>\n",
              "      <th>filhos</th>\n",
              "      <th>moradores</th>\n",
              "      <th>renda familiar</th>\n",
              "      <th>renda pessoal</th>\n",
              "      <th>tempo em palmas</th>\n",
              "      <th>...</th>\n",
              "      <th>emprego específico_TÉCNICO FARMÁCIA</th>\n",
              "      <th>emprego específico_UBER</th>\n",
              "      <th>emprego específico_VENDA DE IMÓVEIS</th>\n",
              "      <th>emprego específico_VENDAS</th>\n",
              "      <th>emprego específico_VENDEDOR</th>\n",
              "      <th>emprego específico_VENDEDORA</th>\n",
              "      <th>emprego específico_VENDEDORA DE FARMÁCIA</th>\n",
              "      <th>emprego específico_VERIFICAÇÃO E IMPORTAÇÃO DE PRODUTOS</th>\n",
              "      <th>emprego específico_VIDEOMARKER, COMUNICAÇÃO</th>\n",
              "      <th>emprego específico_ÁREA DA SAÚDE</th>\n",
              "    </tr>\n",
              "  </thead>\n",
              "  <tbody>\n",
              "    <tr>\n",
              "      <th>0</th>\n",
              "      <td>0</td>\n",
              "      <td>23</td>\n",
              "      <td>3</td>\n",
              "      <td>4</td>\n",
              "      <td>0</td>\n",
              "      <td>1</td>\n",
              "      <td>3</td>\n",
              "      <td>4200.0</td>\n",
              "      <td>2400.0</td>\n",
              "      <td>23.0</td>\n",
              "      <td>...</td>\n",
              "      <td>0</td>\n",
              "      <td>0</td>\n",
              "      <td>0</td>\n",
              "      <td>0</td>\n",
              "      <td>0</td>\n",
              "      <td>0</td>\n",
              "      <td>0</td>\n",
              "      <td>0</td>\n",
              "      <td>0</td>\n",
              "      <td>0</td>\n",
              "    </tr>\n",
              "    <tr>\n",
              "      <th>1</th>\n",
              "      <td>1</td>\n",
              "      <td>38</td>\n",
              "      <td>0</td>\n",
              "      <td>3</td>\n",
              "      <td>1</td>\n",
              "      <td>2</td>\n",
              "      <td>5</td>\n",
              "      <td>5000.0</td>\n",
              "      <td>3800.0</td>\n",
              "      <td>11.0</td>\n",
              "      <td>...</td>\n",
              "      <td>0</td>\n",
              "      <td>0</td>\n",
              "      <td>0</td>\n",
              "      <td>0</td>\n",
              "      <td>0</td>\n",
              "      <td>0</td>\n",
              "      <td>0</td>\n",
              "      <td>0</td>\n",
              "      <td>0</td>\n",
              "      <td>0</td>\n",
              "    </tr>\n",
              "    <tr>\n",
              "      <th>2</th>\n",
              "      <td>1</td>\n",
              "      <td>26</td>\n",
              "      <td>0</td>\n",
              "      <td>4</td>\n",
              "      <td>0</td>\n",
              "      <td>1</td>\n",
              "      <td>3</td>\n",
              "      <td>3000.0</td>\n",
              "      <td>1500.0</td>\n",
              "      <td>3.0</td>\n",
              "      <td>...</td>\n",
              "      <td>0</td>\n",
              "      <td>0</td>\n",
              "      <td>0</td>\n",
              "      <td>0</td>\n",
              "      <td>0</td>\n",
              "      <td>0</td>\n",
              "      <td>0</td>\n",
              "      <td>0</td>\n",
              "      <td>0</td>\n",
              "      <td>0</td>\n",
              "    </tr>\n",
              "    <tr>\n",
              "      <th>3</th>\n",
              "      <td>0</td>\n",
              "      <td>26</td>\n",
              "      <td>3</td>\n",
              "      <td>5</td>\n",
              "      <td>1</td>\n",
              "      <td>1</td>\n",
              "      <td>3</td>\n",
              "      <td>3000.0</td>\n",
              "      <td>1800.0</td>\n",
              "      <td>5.0</td>\n",
              "      <td>...</td>\n",
              "      <td>0</td>\n",
              "      <td>0</td>\n",
              "      <td>0</td>\n",
              "      <td>0</td>\n",
              "      <td>0</td>\n",
              "      <td>1</td>\n",
              "      <td>0</td>\n",
              "      <td>0</td>\n",
              "      <td>0</td>\n",
              "      <td>0</td>\n",
              "    </tr>\n",
              "    <tr>\n",
              "      <th>4</th>\n",
              "      <td>1</td>\n",
              "      <td>50</td>\n",
              "      <td>4</td>\n",
              "      <td>3</td>\n",
              "      <td>1</td>\n",
              "      <td>3+</td>\n",
              "      <td>1</td>\n",
              "      <td>1320.0</td>\n",
              "      <td>1320.0</td>\n",
              "      <td>22.0</td>\n",
              "      <td>...</td>\n",
              "      <td>0</td>\n",
              "      <td>0</td>\n",
              "      <td>0</td>\n",
              "      <td>0</td>\n",
              "      <td>0</td>\n",
              "      <td>0</td>\n",
              "      <td>0</td>\n",
              "      <td>0</td>\n",
              "      <td>0</td>\n",
              "      <td>0</td>\n",
              "    </tr>\n",
              "  </tbody>\n",
              "</table>\n",
              "<p>5 rows × 272 columns</p>\n",
              "</div>\n",
              "    <div class=\"colab-df-buttons\">\n",
              "\n",
              "  <div class=\"colab-df-container\">\n",
              "    <button class=\"colab-df-convert\" onclick=\"convertToInteractive('df-c5d0cfb0-0bae-41c3-9ddf-d2577648eebf')\"\n",
              "            title=\"Convert this dataframe to an interactive table.\"\n",
              "            style=\"display:none;\">\n",
              "\n",
              "  <svg xmlns=\"http://www.w3.org/2000/svg\" height=\"24px\" viewBox=\"0 -960 960 960\">\n",
              "    <path d=\"M120-120v-720h720v720H120Zm60-500h600v-160H180v160Zm220 220h160v-160H400v160Zm0 220h160v-160H400v160ZM180-400h160v-160H180v160Zm440 0h160v-160H620v160ZM180-180h160v-160H180v160Zm440 0h160v-160H620v160Z\"/>\n",
              "  </svg>\n",
              "    </button>\n",
              "\n",
              "  <style>\n",
              "    .colab-df-container {\n",
              "      display:flex;\n",
              "      gap: 12px;\n",
              "    }\n",
              "\n",
              "    .colab-df-convert {\n",
              "      background-color: #E8F0FE;\n",
              "      border: none;\n",
              "      border-radius: 50%;\n",
              "      cursor: pointer;\n",
              "      display: none;\n",
              "      fill: #1967D2;\n",
              "      height: 32px;\n",
              "      padding: 0 0 0 0;\n",
              "      width: 32px;\n",
              "    }\n",
              "\n",
              "    .colab-df-convert:hover {\n",
              "      background-color: #E2EBFA;\n",
              "      box-shadow: 0px 1px 2px rgba(60, 64, 67, 0.3), 0px 1px 3px 1px rgba(60, 64, 67, 0.15);\n",
              "      fill: #174EA6;\n",
              "    }\n",
              "\n",
              "    .colab-df-buttons div {\n",
              "      margin-bottom: 4px;\n",
              "    }\n",
              "\n",
              "    [theme=dark] .colab-df-convert {\n",
              "      background-color: #3B4455;\n",
              "      fill: #D2E3FC;\n",
              "    }\n",
              "\n",
              "    [theme=dark] .colab-df-convert:hover {\n",
              "      background-color: #434B5C;\n",
              "      box-shadow: 0px 1px 3px 1px rgba(0, 0, 0, 0.15);\n",
              "      filter: drop-shadow(0px 1px 2px rgba(0, 0, 0, 0.3));\n",
              "      fill: #FFFFFF;\n",
              "    }\n",
              "  </style>\n",
              "\n",
              "    <script>\n",
              "      const buttonEl =\n",
              "        document.querySelector('#df-c5d0cfb0-0bae-41c3-9ddf-d2577648eebf button.colab-df-convert');\n",
              "      buttonEl.style.display =\n",
              "        google.colab.kernel.accessAllowed ? 'block' : 'none';\n",
              "\n",
              "      async function convertToInteractive(key) {\n",
              "        const element = document.querySelector('#df-c5d0cfb0-0bae-41c3-9ddf-d2577648eebf');\n",
              "        const dataTable =\n",
              "          await google.colab.kernel.invokeFunction('convertToInteractive',\n",
              "                                                    [key], {});\n",
              "        if (!dataTable) return;\n",
              "\n",
              "        const docLinkHtml = 'Like what you see? Visit the ' +\n",
              "          '<a target=\"_blank\" href=https://colab.research.google.com/notebooks/data_table.ipynb>data table notebook</a>'\n",
              "          + ' to learn more about interactive tables.';\n",
              "        element.innerHTML = '';\n",
              "        dataTable['output_type'] = 'display_data';\n",
              "        await google.colab.output.renderOutput(dataTable, element);\n",
              "        const docLink = document.createElement('div');\n",
              "        docLink.innerHTML = docLinkHtml;\n",
              "        element.appendChild(docLink);\n",
              "      }\n",
              "    </script>\n",
              "  </div>\n",
              "\n",
              "\n",
              "<div id=\"df-f62b0c3d-3d06-41dd-9f33-1f87769eb8c4\">\n",
              "  <button class=\"colab-df-quickchart\" onclick=\"quickchart('df-f62b0c3d-3d06-41dd-9f33-1f87769eb8c4')\"\n",
              "            title=\"Suggest charts\"\n",
              "            style=\"display:none;\">\n",
              "\n",
              "<svg xmlns=\"http://www.w3.org/2000/svg\" height=\"24px\"viewBox=\"0 0 24 24\"\n",
              "     width=\"24px\">\n",
              "    <g>\n",
              "        <path d=\"M19 3H5c-1.1 0-2 .9-2 2v14c0 1.1.9 2 2 2h14c1.1 0 2-.9 2-2V5c0-1.1-.9-2-2-2zM9 17H7v-7h2v7zm4 0h-2V7h2v10zm4 0h-2v-4h2v4z\"/>\n",
              "    </g>\n",
              "</svg>\n",
              "  </button>\n",
              "\n",
              "<style>\n",
              "  .colab-df-quickchart {\n",
              "      --bg-color: #E8F0FE;\n",
              "      --fill-color: #1967D2;\n",
              "      --hover-bg-color: #E2EBFA;\n",
              "      --hover-fill-color: #174EA6;\n",
              "      --disabled-fill-color: #AAA;\n",
              "      --disabled-bg-color: #DDD;\n",
              "  }\n",
              "\n",
              "  [theme=dark] .colab-df-quickchart {\n",
              "      --bg-color: #3B4455;\n",
              "      --fill-color: #D2E3FC;\n",
              "      --hover-bg-color: #434B5C;\n",
              "      --hover-fill-color: #FFFFFF;\n",
              "      --disabled-bg-color: #3B4455;\n",
              "      --disabled-fill-color: #666;\n",
              "  }\n",
              "\n",
              "  .colab-df-quickchart {\n",
              "    background-color: var(--bg-color);\n",
              "    border: none;\n",
              "    border-radius: 50%;\n",
              "    cursor: pointer;\n",
              "    display: none;\n",
              "    fill: var(--fill-color);\n",
              "    height: 32px;\n",
              "    padding: 0;\n",
              "    width: 32px;\n",
              "  }\n",
              "\n",
              "  .colab-df-quickchart:hover {\n",
              "    background-color: var(--hover-bg-color);\n",
              "    box-shadow: 0 1px 2px rgba(60, 64, 67, 0.3), 0 1px 3px 1px rgba(60, 64, 67, 0.15);\n",
              "    fill: var(--button-hover-fill-color);\n",
              "  }\n",
              "\n",
              "  .colab-df-quickchart-complete:disabled,\n",
              "  .colab-df-quickchart-complete:disabled:hover {\n",
              "    background-color: var(--disabled-bg-color);\n",
              "    fill: var(--disabled-fill-color);\n",
              "    box-shadow: none;\n",
              "  }\n",
              "\n",
              "  .colab-df-spinner {\n",
              "    border: 2px solid var(--fill-color);\n",
              "    border-color: transparent;\n",
              "    border-bottom-color: var(--fill-color);\n",
              "    animation:\n",
              "      spin 1s steps(1) infinite;\n",
              "  }\n",
              "\n",
              "  @keyframes spin {\n",
              "    0% {\n",
              "      border-color: transparent;\n",
              "      border-bottom-color: var(--fill-color);\n",
              "      border-left-color: var(--fill-color);\n",
              "    }\n",
              "    20% {\n",
              "      border-color: transparent;\n",
              "      border-left-color: var(--fill-color);\n",
              "      border-top-color: var(--fill-color);\n",
              "    }\n",
              "    30% {\n",
              "      border-color: transparent;\n",
              "      border-left-color: var(--fill-color);\n",
              "      border-top-color: var(--fill-color);\n",
              "      border-right-color: var(--fill-color);\n",
              "    }\n",
              "    40% {\n",
              "      border-color: transparent;\n",
              "      border-right-color: var(--fill-color);\n",
              "      border-top-color: var(--fill-color);\n",
              "    }\n",
              "    60% {\n",
              "      border-color: transparent;\n",
              "      border-right-color: var(--fill-color);\n",
              "    }\n",
              "    80% {\n",
              "      border-color: transparent;\n",
              "      border-right-color: var(--fill-color);\n",
              "      border-bottom-color: var(--fill-color);\n",
              "    }\n",
              "    90% {\n",
              "      border-color: transparent;\n",
              "      border-bottom-color: var(--fill-color);\n",
              "    }\n",
              "  }\n",
              "</style>\n",
              "\n",
              "  <script>\n",
              "    async function quickchart(key) {\n",
              "      const quickchartButtonEl =\n",
              "        document.querySelector('#' + key + ' button');\n",
              "      quickchartButtonEl.disabled = true;  // To prevent multiple clicks.\n",
              "      quickchartButtonEl.classList.add('colab-df-spinner');\n",
              "      try {\n",
              "        const charts = await google.colab.kernel.invokeFunction(\n",
              "            'suggestCharts', [key], {});\n",
              "      } catch (error) {\n",
              "        console.error('Error during call to suggestCharts:', error);\n",
              "      }\n",
              "      quickchartButtonEl.classList.remove('colab-df-spinner');\n",
              "      quickchartButtonEl.classList.add('colab-df-quickchart-complete');\n",
              "    }\n",
              "    (() => {\n",
              "      let quickchartButtonEl =\n",
              "        document.querySelector('#df-f62b0c3d-3d06-41dd-9f33-1f87769eb8c4 button');\n",
              "      quickchartButtonEl.style.display =\n",
              "        google.colab.kernel.accessAllowed ? 'block' : 'none';\n",
              "    })();\n",
              "  </script>\n",
              "</div>\n",
              "\n",
              "    </div>\n",
              "  </div>\n"
            ],
            "application/vnd.google.colaboratory.intrinsic+json": {
              "type": "dataframe",
              "variable_name": "df"
            }
          },
          "metadata": {},
          "execution_count": 193
        }
      ]
    },
    {
      "cell_type": "code",
      "source": [
        "df['filhos'] = df['filhos'].replace({'3+':'3'})\n",
        "df['filhos'] = df['filhos'].astype(int)"
      ],
      "metadata": {
        "id": "3iRICYvLd3mV"
      },
      "execution_count": 194,
      "outputs": []
    },
    {
      "cell_type": "code",
      "source": [
        "df['moradores'] = df['moradores'].astype(int)"
      ],
      "metadata": {
        "id": "pZlfo2NIgqbH"
      },
      "execution_count": 195,
      "outputs": []
    },
    {
      "cell_type": "code",
      "source": [
        "df.info()"
      ],
      "metadata": {
        "colab": {
          "base_uri": "https://localhost:8080/"
        },
        "id": "rsMvD4hCgcSo",
        "outputId": "abe4674a-ad6d-451f-9085-abd1758efc02"
      },
      "execution_count": 196,
      "outputs": [
        {
          "output_type": "stream",
          "name": "stdout",
          "text": [
            "<class 'pandas.core.frame.DataFrame'>\n",
            "Index: 278 entries, 0 to 328\n",
            "Columns: 272 entries, sexo to emprego específico_ÁREA DA SAÚDE\n",
            "dtypes: float64(5), int64(267)\n",
            "memory usage: 592.9 KB\n"
          ]
        }
      ]
    },
    {
      "cell_type": "markdown",
      "source": [
        "# Testes"
      ],
      "metadata": {
        "id": "l7ogQqjzytDR"
      }
    },
    {
      "cell_type": "markdown",
      "source": [
        ">Para analisar os dados sobre moradores de Palmas, irei realizar alguns testes estatísticos\n",
        "\n",
        "**Testes Estatísticos**\n",
        "\n",
        "1. **Teste de Normalidade**:\n",
        "   - **Shapiro-Wilk**: verificar se as variáveis contínuas (renda familiar e renda pessoal) seguem uma distribuição normal.\n",
        "\n",
        "2. **Teste de Homogeneidade de Variâncias**:\n",
        "   - **Levene's Test**: Para verificar se as variâncias de duas ou mais grupos são iguais(estado civil por renda).\n",
        "\n",
        "3. **Teste t de Student**:\n",
        "   - Comparar médias de duas populações (renda familiar entre homens e mulheres).\n",
        "\n",
        "4. **Correlação**:\n",
        "   - **Coeficiente de Correlação de Pearson**: Verificar a relação entre variáveis contínuas, renda familiar e renda pessoal.\n",
        "\n",
        "5. **Qui-quadrado**:\n",
        "   - Verificar associações entre variáveis categóricas, estado civil e a posse de casa própria.\n"
      ],
      "metadata": {
        "id": "RLLJnvLYyuWC"
      }
    },
    {
      "cell_type": "code",
      "source": [
        "from scipy.stats import shapiro, levene, ttest_ind, pearsonr, chi2_contingency"
      ],
      "metadata": {
        "id": "8YEYmfr_hSRT"
      },
      "execution_count": 42,
      "outputs": []
    },
    {
      "cell_type": "code",
      "source": [
        "alpha = 0.05"
      ],
      "metadata": {
        "id": "tqZcxR7Pp0hT"
      },
      "execution_count": 43,
      "outputs": []
    },
    {
      "cell_type": "markdown",
      "source": [
        "> Teste de Normalidade"
      ],
      "metadata": {
        "id": "alvwe-k5nrrh"
      }
    },
    {
      "cell_type": "code",
      "source": [
        "stat, p = shapiro(df['renda familiar'])\n",
        "print('Statisticas=%.3f, p=%.3f' % (stat, p))\n",
        "if p > alpha:\n",
        "    print('A distribuição é normal para renda familiar')\n",
        "else:\n",
        "    print('A distribuição não é normal para renda familiar')\n",
        "\n",
        "stat, p = shapiro(df['renda pessoal'])\n",
        "print('Statisticas=%.3f, p=%.3f' % (stat, p))\n",
        "if p > alpha:\n",
        "    print('A distribuição é normal para renda pessoal')\n",
        "else:\n",
        "    print('A distribuição não é normal para renda pessoal')"
      ],
      "metadata": {
        "colab": {
          "base_uri": "https://localhost:8080/"
        },
        "id": "idp3gDq8hW4c",
        "outputId": "bb994500-c347-41c8-c126-5032f2c675ef"
      },
      "execution_count": 44,
      "outputs": [
        {
          "output_type": "stream",
          "name": "stdout",
          "text": [
            "Statisticas=0.433, p=0.000\n",
            "A distribuição não é normal para renda familiar\n",
            "Statisticas=0.379, p=0.000\n",
            "A distribuição não é normal para renda pessoal\n"
          ]
        }
      ]
    },
    {
      "cell_type": "markdown",
      "source": [
        "> Teste de Homogeneidade de Variâncias"
      ],
      "metadata": {
        "id": "RBwMzsoGyODA"
      }
    },
    {
      "cell_type": "code",
      "source": [
        "df['estado civil'].unique()"
      ],
      "metadata": {
        "colab": {
          "base_uri": "https://localhost:8080/"
        },
        "id": "m1s0IjTdylIA",
        "outputId": "04c62830-a7c2-410f-ce9e-7912b9c90f9c"
      },
      "execution_count": 45,
      "outputs": [
        {
          "output_type": "execute_result",
          "data": {
            "text/plain": [
              "array([3, 0, 4, 1, 2])"
            ]
          },
          "metadata": {},
          "execution_count": 45
        }
      ]
    },
    {
      "cell_type": "code",
      "source": [
        "stat, p = levene(df[df['estado civil'] == 0]['renda familiar'], df[df['estado civil'] == 1]['renda familiar'], df[df['estado civil'] == 2]['renda familiar'],\n",
        "                 df[df['estado civil'] == 3]['renda familiar'], df[df['estado civil'] == 4]['renda familiar'])\n",
        "print('Statisticas=%.3f, p=%.3f' % (stat, p))\n",
        "if p > alpha:\n",
        "    print('As variâncias são iguais')\n",
        "else:\n",
        "    print('As variâncias não são iguais')"
      ],
      "metadata": {
        "colab": {
          "base_uri": "https://localhost:8080/"
        },
        "id": "K8IDPWtXyW03",
        "outputId": "138bea77-414c-4387-fb72-14478436f923"
      },
      "execution_count": 46,
      "outputs": [
        {
          "output_type": "stream",
          "name": "stdout",
          "text": [
            "Statisticas=2.869, p=0.024\n",
            "As variâncias não são iguais\n"
          ]
        }
      ]
    },
    {
      "cell_type": "markdown",
      "source": [
        "- O estado civil implica em uma difereça significativa na renda famíliar. Como as variâncias são diferentes, não cabe um teste T."
      ],
      "metadata": {
        "id": "6CO1SAzLy_Cv"
      }
    },
    {
      "cell_type": "code",
      "source": [
        "stat, p = levene(df[df['sexo'] == 0]['renda pessoal'], df[df['sexo'] == 1]['renda pessoal'])\n",
        "print('Statisticas=%.3f, p=%.3f' % (stat, p))\n",
        "if p > alpha:\n",
        "    print('As variâncias são iguais para ambos os sexos')\n",
        "else:\n",
        "    print('As variâncias não são iguais para ambos os sexos')"
      ],
      "metadata": {
        "colab": {
          "base_uri": "https://localhost:8080/"
        },
        "id": "S4HV0H6T0AEx",
        "outputId": "e440d98e-8255-40aa-a858-1757739e16fc"
      },
      "execution_count": 47,
      "outputs": [
        {
          "output_type": "stream",
          "name": "stdout",
          "text": [
            "Statisticas=2.477, p=0.117\n",
            "As variâncias são iguais para ambos os sexos\n"
          ]
        }
      ]
    },
    {
      "cell_type": "markdown",
      "source": [
        "> Teste T"
      ],
      "metadata": {
        "id": "ndBsxxEnzTCY"
      }
    },
    {
      "cell_type": "code",
      "source": [
        "homens = df[df['sexo'] == 0]['renda pessoal']\n",
        "mulheres = df[df['sexo'] == 1]['renda pessoal']\n",
        "\n",
        "t_stat, p_value = ttest_ind(homens, mulheres)\n",
        "print('Teste t de Student para Renda Familiar entre Homens e Mulheres: Statistic = %.3f, p-value = %.3f' % (t_stat, p_value))\n",
        "if p_value < alpha:\n",
        "    print('Hipótese nula rejeitada. Há uma diferença significativa na renda pessoal entre homens e mulheres.')\n",
        "else:\n",
        "    print('Hipótese nula não rejeitada. Não há evidências de diferença significativa na renda pessoal entre homens e mulheres.')"
      ],
      "metadata": {
        "colab": {
          "base_uri": "https://localhost:8080/"
        },
        "id": "6lYk5WFczW7A",
        "outputId": "ed60b50e-e271-428c-aedf-f0309fb1f961"
      },
      "execution_count": 48,
      "outputs": [
        {
          "output_type": "stream",
          "name": "stdout",
          "text": [
            "Teste t de Student para Renda Familiar entre Homens e Mulheres: Statistic = -1.941, p-value = 0.053\n",
            "Hipótese nula não rejeitada. Não há evidências de diferença significativa na renda pessoal entre homens e mulheres.\n"
          ]
        }
      ]
    },
    {
      "cell_type": "markdown",
      "source": [
        "> Qui-quadrado"
      ],
      "metadata": {
        "id": "2LUma8tl2Qq5"
      }
    },
    {
      "cell_type": "code",
      "source": [
        "tabela = pd.crosstab(df['estado civil'], df['casa própria'])\n",
        "print(\"Tabela de contingência:\")\n",
        "print(tabela)\n",
        "\n",
        "stat, p, dof, esperado = chi2_contingency(tabela)\n",
        "print('Teste Qui-quadrado: Statistic = %.3f, p-value = %.3f' % (stat, p))\n",
        "print('Valores esperados:')\n",
        "print(esperado)\n",
        "if p < alpha:\n",
        "    print('Hipótese nula rejeitada. Há uma associação significativa entre o estado civil e a posse de casa própria.')\n",
        "else:\n",
        "    print('Hipótese nula não rejeitada. Não há evidências de associação significativa entre o estado civil e a posse de casa própria.')"
      ],
      "metadata": {
        "colab": {
          "base_uri": "https://localhost:8080/"
        },
        "id": "dpjAptmr2U-y",
        "outputId": "f51453ba-3d9d-4d88-e885-72831ec8f3f5"
      },
      "execution_count": 49,
      "outputs": [
        {
          "output_type": "stream",
          "name": "stdout",
          "text": [
            "Tabela de contingência:\n",
            "casa própria   0   1\n",
            "estado civil        \n",
            "0             20  65\n",
            "1              7  15\n",
            "2              5   7\n",
            "3             96  51\n",
            "4              3   9\n",
            "Teste Qui-quadrado: Statistic = 43.063, p-value = 0.000\n",
            "Valores esperados:\n",
            "[[40.05395683 44.94604317]\n",
            " [10.36690647 11.63309353]\n",
            " [ 5.65467626  6.34532374]\n",
            " [69.26978417 77.73021583]\n",
            " [ 5.65467626  6.34532374]]\n",
            "Hipótese nula rejeitada. Há uma associação significativa entre o estado civil e a posse de casa própria.\n"
          ]
        }
      ]
    },
    {
      "cell_type": "markdown",
      "source": [
        "## Conclusões"
      ],
      "metadata": {
        "id": "pyU15PAZ3why"
      }
    },
    {
      "cell_type": "markdown",
      "source": [
        "1. Teste de Normalidade (Shapiro-Wilk):\n",
        "\n",
        "**Renda Familiar:** A distribuição não é normal.\n",
        "\n",
        "**Renda Pessoal:** A distribuição não é normal.\n",
        "2. Teste de Homogeneidade de Variâncias (Levene's Test):\n",
        "\n",
        "**Renda Familiar por Estado Civil:** As variâncias não são iguais, indicando que o estado civil tem um impacto significativo na renda familiar.\n",
        "**Renda Pessoal por Sexo:** As variâncias são iguais, sugerindo que o sexo pode não influenciar a renda pessoal.\n",
        "3. Teste t de Student:\n",
        "\n",
        "**Renda Pessoal entre Homens e Mulheres:** O teste t indicou que não existe uma diferença significativa na renda pessoal entre homens e mulheres.\n",
        "4. Teste Qui-quadrado:\n",
        "\n",
        "**Estado Civil e Posse de Casa Própria**: Foi encontrada uma associação significativa entre o estado civil e a posse de casa própria. A hipótese nula foi rejeitada, indicando que o estado civil está relacionado à probabilidade de possuir uma casa própria.\n",
        "\n",
        "**Observações:**\n",
        "\n",
        ">A não normalidade das variáveis de renda é um ponto importante a ser considerado em análises futuras. Pode ser necessário aplicar transformações para normalizar os dados ou usar testes não paramétricos.\n",
        "As diferenças de variâncias entre grupos indicam a necessidade de cautela ao comparar médias."
      ],
      "metadata": {
        "id": "ZnlxuPAp37uC"
      }
    },
    {
      "cell_type": "markdown",
      "source": [
        "# Modelagem"
      ],
      "metadata": {
        "id": "RN3H3Npm4yHC"
      }
    },
    {
      "cell_type": "markdown",
      "source": [
        ">Agora, irei tentar realizar a predição da permanência ou não dos moradores de Palmas na cidade."
      ],
      "metadata": {
        "id": "ehlnU61bpDXr"
      }
    },
    {
      "cell_type": "markdown",
      "source": [
        "- Como a quantidade de dados é pequena, arvores de classificação tendem a ficar sensiveis e causar overfitiing.\n",
        "\n",
        "- Usarei regressão logistica, arvores aleatorias e diminuição de profundidade para evitar este overfitting."
      ],
      "metadata": {
        "id": "X5XSRG6luHlH"
      }
    },
    {
      "cell_type": "code",
      "source": [
        "df.head()"
      ],
      "metadata": {
        "colab": {
          "base_uri": "https://localhost:8080/",
          "height": 307
        },
        "id": "UkNojno_uHUA",
        "outputId": "d0fb514d-38c4-42bb-e47d-c97e9272877d"
      },
      "execution_count": 52,
      "outputs": [
        {
          "output_type": "execute_result",
          "data": {
            "text/plain": [
              "   sexo  idade  estado civil  nível de instrução  casa própria  filhos  \\\n",
              "0     0     23             3                   4             0       1   \n",
              "1     1     38             0                   3             1       2   \n",
              "2     1     26             0                   4             0       1   \n",
              "3     0     26             3                   5             1       1   \n",
              "4     1     50             4                   3             1       3   \n",
              "\n",
              "   moradores  renda familiar  renda pessoal  tempo em palmas  ...  \\\n",
              "0          3          4200.0         2400.0             23.0  ...   \n",
              "1          5          5000.0         3800.0             11.0  ...   \n",
              "2          3          3000.0         1500.0              3.0  ...   \n",
              "3          3          3000.0         1800.0              5.0  ...   \n",
              "4          1          1320.0         1320.0             22.0  ...   \n",
              "\n",
              "   emprego específico_TÉCNICO FARMÁCIA  emprego específico_UBER  \\\n",
              "0                                    0                        0   \n",
              "1                                    0                        0   \n",
              "2                                    0                        0   \n",
              "3                                    0                        0   \n",
              "4                                    0                        0   \n",
              "\n",
              "   emprego específico_VENDA DE IMÓVEIS  emprego específico_VENDAS  \\\n",
              "0                                    0                          0   \n",
              "1                                    0                          0   \n",
              "2                                    0                          0   \n",
              "3                                    0                          0   \n",
              "4                                    0                          0   \n",
              "\n",
              "   emprego específico_VENDEDOR  emprego específico_VENDEDORA  \\\n",
              "0                            0                             0   \n",
              "1                            0                             0   \n",
              "2                            0                             0   \n",
              "3                            0                             1   \n",
              "4                            0                             0   \n",
              "\n",
              "   emprego específico_VENDEDORA DE FARMÁCIA  \\\n",
              "0                                         0   \n",
              "1                                         0   \n",
              "2                                         0   \n",
              "3                                         0   \n",
              "4                                         0   \n",
              "\n",
              "   emprego específico_VERIFICAÇÃO E IMPORTAÇÃO DE PRODUTOS  \\\n",
              "0                                                  0         \n",
              "1                                                  0         \n",
              "2                                                  0         \n",
              "3                                                  0         \n",
              "4                                                  0         \n",
              "\n",
              "   emprego específico_VIDEOMARKER, COMUNICAÇÃO  \\\n",
              "0                                            0   \n",
              "1                                            0   \n",
              "2                                            0   \n",
              "3                                            0   \n",
              "4                                            0   \n",
              "\n",
              "   emprego específico_ÁREA DA SAÚDE  \n",
              "0                                 0  \n",
              "1                                 0  \n",
              "2                                 0  \n",
              "3                                 0  \n",
              "4                                 0  \n",
              "\n",
              "[5 rows x 272 columns]"
            ],
            "text/html": [
              "\n",
              "  <div id=\"df-af40538f-dc47-40da-b395-a58ea3b086e5\" class=\"colab-df-container\">\n",
              "    <div>\n",
              "<style scoped>\n",
              "    .dataframe tbody tr th:only-of-type {\n",
              "        vertical-align: middle;\n",
              "    }\n",
              "\n",
              "    .dataframe tbody tr th {\n",
              "        vertical-align: top;\n",
              "    }\n",
              "\n",
              "    .dataframe thead th {\n",
              "        text-align: right;\n",
              "    }\n",
              "</style>\n",
              "<table border=\"1\" class=\"dataframe\">\n",
              "  <thead>\n",
              "    <tr style=\"text-align: right;\">\n",
              "      <th></th>\n",
              "      <th>sexo</th>\n",
              "      <th>idade</th>\n",
              "      <th>estado civil</th>\n",
              "      <th>nível de instrução</th>\n",
              "      <th>casa própria</th>\n",
              "      <th>filhos</th>\n",
              "      <th>moradores</th>\n",
              "      <th>renda familiar</th>\n",
              "      <th>renda pessoal</th>\n",
              "      <th>tempo em palmas</th>\n",
              "      <th>...</th>\n",
              "      <th>emprego específico_TÉCNICO FARMÁCIA</th>\n",
              "      <th>emprego específico_UBER</th>\n",
              "      <th>emprego específico_VENDA DE IMÓVEIS</th>\n",
              "      <th>emprego específico_VENDAS</th>\n",
              "      <th>emprego específico_VENDEDOR</th>\n",
              "      <th>emprego específico_VENDEDORA</th>\n",
              "      <th>emprego específico_VENDEDORA DE FARMÁCIA</th>\n",
              "      <th>emprego específico_VERIFICAÇÃO E IMPORTAÇÃO DE PRODUTOS</th>\n",
              "      <th>emprego específico_VIDEOMARKER, COMUNICAÇÃO</th>\n",
              "      <th>emprego específico_ÁREA DA SAÚDE</th>\n",
              "    </tr>\n",
              "  </thead>\n",
              "  <tbody>\n",
              "    <tr>\n",
              "      <th>0</th>\n",
              "      <td>0</td>\n",
              "      <td>23</td>\n",
              "      <td>3</td>\n",
              "      <td>4</td>\n",
              "      <td>0</td>\n",
              "      <td>1</td>\n",
              "      <td>3</td>\n",
              "      <td>4200.0</td>\n",
              "      <td>2400.0</td>\n",
              "      <td>23.0</td>\n",
              "      <td>...</td>\n",
              "      <td>0</td>\n",
              "      <td>0</td>\n",
              "      <td>0</td>\n",
              "      <td>0</td>\n",
              "      <td>0</td>\n",
              "      <td>0</td>\n",
              "      <td>0</td>\n",
              "      <td>0</td>\n",
              "      <td>0</td>\n",
              "      <td>0</td>\n",
              "    </tr>\n",
              "    <tr>\n",
              "      <th>1</th>\n",
              "      <td>1</td>\n",
              "      <td>38</td>\n",
              "      <td>0</td>\n",
              "      <td>3</td>\n",
              "      <td>1</td>\n",
              "      <td>2</td>\n",
              "      <td>5</td>\n",
              "      <td>5000.0</td>\n",
              "      <td>3800.0</td>\n",
              "      <td>11.0</td>\n",
              "      <td>...</td>\n",
              "      <td>0</td>\n",
              "      <td>0</td>\n",
              "      <td>0</td>\n",
              "      <td>0</td>\n",
              "      <td>0</td>\n",
              "      <td>0</td>\n",
              "      <td>0</td>\n",
              "      <td>0</td>\n",
              "      <td>0</td>\n",
              "      <td>0</td>\n",
              "    </tr>\n",
              "    <tr>\n",
              "      <th>2</th>\n",
              "      <td>1</td>\n",
              "      <td>26</td>\n",
              "      <td>0</td>\n",
              "      <td>4</td>\n",
              "      <td>0</td>\n",
              "      <td>1</td>\n",
              "      <td>3</td>\n",
              "      <td>3000.0</td>\n",
              "      <td>1500.0</td>\n",
              "      <td>3.0</td>\n",
              "      <td>...</td>\n",
              "      <td>0</td>\n",
              "      <td>0</td>\n",
              "      <td>0</td>\n",
              "      <td>0</td>\n",
              "      <td>0</td>\n",
              "      <td>0</td>\n",
              "      <td>0</td>\n",
              "      <td>0</td>\n",
              "      <td>0</td>\n",
              "      <td>0</td>\n",
              "    </tr>\n",
              "    <tr>\n",
              "      <th>3</th>\n",
              "      <td>0</td>\n",
              "      <td>26</td>\n",
              "      <td>3</td>\n",
              "      <td>5</td>\n",
              "      <td>1</td>\n",
              "      <td>1</td>\n",
              "      <td>3</td>\n",
              "      <td>3000.0</td>\n",
              "      <td>1800.0</td>\n",
              "      <td>5.0</td>\n",
              "      <td>...</td>\n",
              "      <td>0</td>\n",
              "      <td>0</td>\n",
              "      <td>0</td>\n",
              "      <td>0</td>\n",
              "      <td>0</td>\n",
              "      <td>1</td>\n",
              "      <td>0</td>\n",
              "      <td>0</td>\n",
              "      <td>0</td>\n",
              "      <td>0</td>\n",
              "    </tr>\n",
              "    <tr>\n",
              "      <th>4</th>\n",
              "      <td>1</td>\n",
              "      <td>50</td>\n",
              "      <td>4</td>\n",
              "      <td>3</td>\n",
              "      <td>1</td>\n",
              "      <td>3</td>\n",
              "      <td>1</td>\n",
              "      <td>1320.0</td>\n",
              "      <td>1320.0</td>\n",
              "      <td>22.0</td>\n",
              "      <td>...</td>\n",
              "      <td>0</td>\n",
              "      <td>0</td>\n",
              "      <td>0</td>\n",
              "      <td>0</td>\n",
              "      <td>0</td>\n",
              "      <td>0</td>\n",
              "      <td>0</td>\n",
              "      <td>0</td>\n",
              "      <td>0</td>\n",
              "      <td>0</td>\n",
              "    </tr>\n",
              "  </tbody>\n",
              "</table>\n",
              "<p>5 rows × 272 columns</p>\n",
              "</div>\n",
              "    <div class=\"colab-df-buttons\">\n",
              "\n",
              "  <div class=\"colab-df-container\">\n",
              "    <button class=\"colab-df-convert\" onclick=\"convertToInteractive('df-af40538f-dc47-40da-b395-a58ea3b086e5')\"\n",
              "            title=\"Convert this dataframe to an interactive table.\"\n",
              "            style=\"display:none;\">\n",
              "\n",
              "  <svg xmlns=\"http://www.w3.org/2000/svg\" height=\"24px\" viewBox=\"0 -960 960 960\">\n",
              "    <path d=\"M120-120v-720h720v720H120Zm60-500h600v-160H180v160Zm220 220h160v-160H400v160Zm0 220h160v-160H400v160ZM180-400h160v-160H180v160Zm440 0h160v-160H620v160ZM180-180h160v-160H180v160Zm440 0h160v-160H620v160Z\"/>\n",
              "  </svg>\n",
              "    </button>\n",
              "\n",
              "  <style>\n",
              "    .colab-df-container {\n",
              "      display:flex;\n",
              "      gap: 12px;\n",
              "    }\n",
              "\n",
              "    .colab-df-convert {\n",
              "      background-color: #E8F0FE;\n",
              "      border: none;\n",
              "      border-radius: 50%;\n",
              "      cursor: pointer;\n",
              "      display: none;\n",
              "      fill: #1967D2;\n",
              "      height: 32px;\n",
              "      padding: 0 0 0 0;\n",
              "      width: 32px;\n",
              "    }\n",
              "\n",
              "    .colab-df-convert:hover {\n",
              "      background-color: #E2EBFA;\n",
              "      box-shadow: 0px 1px 2px rgba(60, 64, 67, 0.3), 0px 1px 3px 1px rgba(60, 64, 67, 0.15);\n",
              "      fill: #174EA6;\n",
              "    }\n",
              "\n",
              "    .colab-df-buttons div {\n",
              "      margin-bottom: 4px;\n",
              "    }\n",
              "\n",
              "    [theme=dark] .colab-df-convert {\n",
              "      background-color: #3B4455;\n",
              "      fill: #D2E3FC;\n",
              "    }\n",
              "\n",
              "    [theme=dark] .colab-df-convert:hover {\n",
              "      background-color: #434B5C;\n",
              "      box-shadow: 0px 1px 3px 1px rgba(0, 0, 0, 0.15);\n",
              "      filter: drop-shadow(0px 1px 2px rgba(0, 0, 0, 0.3));\n",
              "      fill: #FFFFFF;\n",
              "    }\n",
              "  </style>\n",
              "\n",
              "    <script>\n",
              "      const buttonEl =\n",
              "        document.querySelector('#df-af40538f-dc47-40da-b395-a58ea3b086e5 button.colab-df-convert');\n",
              "      buttonEl.style.display =\n",
              "        google.colab.kernel.accessAllowed ? 'block' : 'none';\n",
              "\n",
              "      async function convertToInteractive(key) {\n",
              "        const element = document.querySelector('#df-af40538f-dc47-40da-b395-a58ea3b086e5');\n",
              "        const dataTable =\n",
              "          await google.colab.kernel.invokeFunction('convertToInteractive',\n",
              "                                                    [key], {});\n",
              "        if (!dataTable) return;\n",
              "\n",
              "        const docLinkHtml = 'Like what you see? Visit the ' +\n",
              "          '<a target=\"_blank\" href=https://colab.research.google.com/notebooks/data_table.ipynb>data table notebook</a>'\n",
              "          + ' to learn more about interactive tables.';\n",
              "        element.innerHTML = '';\n",
              "        dataTable['output_type'] = 'display_data';\n",
              "        await google.colab.output.renderOutput(dataTable, element);\n",
              "        const docLink = document.createElement('div');\n",
              "        docLink.innerHTML = docLinkHtml;\n",
              "        element.appendChild(docLink);\n",
              "      }\n",
              "    </script>\n",
              "  </div>\n",
              "\n",
              "\n",
              "<div id=\"df-638e7e19-3de4-43b9-ac53-e067954701a8\">\n",
              "  <button class=\"colab-df-quickchart\" onclick=\"quickchart('df-638e7e19-3de4-43b9-ac53-e067954701a8')\"\n",
              "            title=\"Suggest charts\"\n",
              "            style=\"display:none;\">\n",
              "\n",
              "<svg xmlns=\"http://www.w3.org/2000/svg\" height=\"24px\"viewBox=\"0 0 24 24\"\n",
              "     width=\"24px\">\n",
              "    <g>\n",
              "        <path d=\"M19 3H5c-1.1 0-2 .9-2 2v14c0 1.1.9 2 2 2h14c1.1 0 2-.9 2-2V5c0-1.1-.9-2-2-2zM9 17H7v-7h2v7zm4 0h-2V7h2v10zm4 0h-2v-4h2v4z\"/>\n",
              "    </g>\n",
              "</svg>\n",
              "  </button>\n",
              "\n",
              "<style>\n",
              "  .colab-df-quickchart {\n",
              "      --bg-color: #E8F0FE;\n",
              "      --fill-color: #1967D2;\n",
              "      --hover-bg-color: #E2EBFA;\n",
              "      --hover-fill-color: #174EA6;\n",
              "      --disabled-fill-color: #AAA;\n",
              "      --disabled-bg-color: #DDD;\n",
              "  }\n",
              "\n",
              "  [theme=dark] .colab-df-quickchart {\n",
              "      --bg-color: #3B4455;\n",
              "      --fill-color: #D2E3FC;\n",
              "      --hover-bg-color: #434B5C;\n",
              "      --hover-fill-color: #FFFFFF;\n",
              "      --disabled-bg-color: #3B4455;\n",
              "      --disabled-fill-color: #666;\n",
              "  }\n",
              "\n",
              "  .colab-df-quickchart {\n",
              "    background-color: var(--bg-color);\n",
              "    border: none;\n",
              "    border-radius: 50%;\n",
              "    cursor: pointer;\n",
              "    display: none;\n",
              "    fill: var(--fill-color);\n",
              "    height: 32px;\n",
              "    padding: 0;\n",
              "    width: 32px;\n",
              "  }\n",
              "\n",
              "  .colab-df-quickchart:hover {\n",
              "    background-color: var(--hover-bg-color);\n",
              "    box-shadow: 0 1px 2px rgba(60, 64, 67, 0.3), 0 1px 3px 1px rgba(60, 64, 67, 0.15);\n",
              "    fill: var(--button-hover-fill-color);\n",
              "  }\n",
              "\n",
              "  .colab-df-quickchart-complete:disabled,\n",
              "  .colab-df-quickchart-complete:disabled:hover {\n",
              "    background-color: var(--disabled-bg-color);\n",
              "    fill: var(--disabled-fill-color);\n",
              "    box-shadow: none;\n",
              "  }\n",
              "\n",
              "  .colab-df-spinner {\n",
              "    border: 2px solid var(--fill-color);\n",
              "    border-color: transparent;\n",
              "    border-bottom-color: var(--fill-color);\n",
              "    animation:\n",
              "      spin 1s steps(1) infinite;\n",
              "  }\n",
              "\n",
              "  @keyframes spin {\n",
              "    0% {\n",
              "      border-color: transparent;\n",
              "      border-bottom-color: var(--fill-color);\n",
              "      border-left-color: var(--fill-color);\n",
              "    }\n",
              "    20% {\n",
              "      border-color: transparent;\n",
              "      border-left-color: var(--fill-color);\n",
              "      border-top-color: var(--fill-color);\n",
              "    }\n",
              "    30% {\n",
              "      border-color: transparent;\n",
              "      border-left-color: var(--fill-color);\n",
              "      border-top-color: var(--fill-color);\n",
              "      border-right-color: var(--fill-color);\n",
              "    }\n",
              "    40% {\n",
              "      border-color: transparent;\n",
              "      border-right-color: var(--fill-color);\n",
              "      border-top-color: var(--fill-color);\n",
              "    }\n",
              "    60% {\n",
              "      border-color: transparent;\n",
              "      border-right-color: var(--fill-color);\n",
              "    }\n",
              "    80% {\n",
              "      border-color: transparent;\n",
              "      border-right-color: var(--fill-color);\n",
              "      border-bottom-color: var(--fill-color);\n",
              "    }\n",
              "    90% {\n",
              "      border-color: transparent;\n",
              "      border-bottom-color: var(--fill-color);\n",
              "    }\n",
              "  }\n",
              "</style>\n",
              "\n",
              "  <script>\n",
              "    async function quickchart(key) {\n",
              "      const quickchartButtonEl =\n",
              "        document.querySelector('#' + key + ' button');\n",
              "      quickchartButtonEl.disabled = true;  // To prevent multiple clicks.\n",
              "      quickchartButtonEl.classList.add('colab-df-spinner');\n",
              "      try {\n",
              "        const charts = await google.colab.kernel.invokeFunction(\n",
              "            'suggestCharts', [key], {});\n",
              "      } catch (error) {\n",
              "        console.error('Error during call to suggestCharts:', error);\n",
              "      }\n",
              "      quickchartButtonEl.classList.remove('colab-df-spinner');\n",
              "      quickchartButtonEl.classList.add('colab-df-quickchart-complete');\n",
              "    }\n",
              "    (() => {\n",
              "      let quickchartButtonEl =\n",
              "        document.querySelector('#df-638e7e19-3de4-43b9-ac53-e067954701a8 button');\n",
              "      quickchartButtonEl.style.display =\n",
              "        google.colab.kernel.accessAllowed ? 'block' : 'none';\n",
              "    })();\n",
              "  </script>\n",
              "</div>\n",
              "\n",
              "    </div>\n",
              "  </div>\n"
            ],
            "application/vnd.google.colaboratory.intrinsic+json": {
              "type": "dataframe",
              "variable_name": "df"
            }
          },
          "metadata": {},
          "execution_count": 52
        }
      ]
    },
    {
      "cell_type": "code",
      "source": [
        "from sklearn.model_selection import train_test_split\n",
        "from sklearn.preprocessing import StandardScaler\n",
        "from sklearn.linear_model import LogisticRegression\n",
        "from sklearn.metrics import accuracy_score, classification_report, confusion_matrix\n",
        "from sklearn.tree import DecisionTreeClassifier\n",
        "from sklearn.ensemble import RandomForestClassifier\n",
        "from sklearn.model_selection import GridSearchCV"
      ],
      "metadata": {
        "id": "E1pfMgsYtxRC"
      },
      "execution_count": 197,
      "outputs": []
    },
    {
      "cell_type": "code",
      "source": [
        "x = df.drop(columns=['sair de palmas'])\n",
        "y = df['sair de palmas']\n",
        "\n",
        "X_train, X_test, y_train, y_test = train_test_split(x, y, test_size=0.2, random_state=42)"
      ],
      "metadata": {
        "id": "76kc1FwlvBFS"
      },
      "execution_count": 227,
      "outputs": []
    },
    {
      "cell_type": "code",
      "source": [
        "modelos = {\n",
        "    'Regressão Logística': LogisticRegression(),\n",
        "    'Árvore de Decisão': DecisionTreeClassifier(),\n",
        "    'Floresta Aleatória': RandomForestClassifier()\n",
        "}"
      ],
      "metadata": {
        "id": "BQD9xm7JvhBV"
      },
      "execution_count": 207,
      "outputs": []
    },
    {
      "cell_type": "code",
      "source": [
        "melhores_modelos = {}\n",
        "\n",
        "for nome, modelo in modelos.items():\n",
        "  print(f\"Modelo: {nome}\")\n",
        "\n",
        "  modelo.fit(X_train, y_train)\n",
        "\n",
        "  y_pred = modelo.predict(X_test)\n",
        "\n",
        "  accuracy = accuracy_score(y_test, y_pred)\n",
        "  print(f\"Acurácia: {accuracy}\")\n",
        "\n",
        "  if accuracy > 0.8:\n",
        "    melhores_modelos[nome] = modelo"
      ],
      "metadata": {
        "colab": {
          "base_uri": "https://localhost:8080/"
        },
        "id": "6AA1ypxZxsmz",
        "outputId": "a3c70287-082a-4517-d0ae-677975215c0c"
      },
      "execution_count": 208,
      "outputs": [
        {
          "output_type": "stream",
          "name": "stdout",
          "text": [
            "Modelo: Regressão Logística\n",
            "Acurácia: 0.8214285714285714\n",
            "Modelo: Árvore de Decisão\n",
            "Acurácia: 0.625\n",
            "Modelo: Floresta Aleatória\n"
          ]
        },
        {
          "output_type": "stream",
          "name": "stderr",
          "text": [
            "/usr/local/lib/python3.10/dist-packages/sklearn/linear_model/_logistic.py:469: ConvergenceWarning: lbfgs failed to converge (status=1):\n",
            "STOP: TOTAL NO. of ITERATIONS REACHED LIMIT.\n",
            "\n",
            "Increase the number of iterations (max_iter) or scale the data as shown in:\n",
            "    https://scikit-learn.org/stable/modules/preprocessing.html\n",
            "Please also refer to the documentation for alternative solver options:\n",
            "    https://scikit-learn.org/stable/modules/linear_model.html#logistic-regression\n",
            "  n_iter_i = _check_optimize_result(\n"
          ]
        },
        {
          "output_type": "stream",
          "name": "stdout",
          "text": [
            "Acurácia: 0.8214285714285714\n"
          ]
        }
      ]
    },
    {
      "cell_type": "code",
      "source": [
        "from sklearn.model_selection import cross_val_score\n",
        "\n",
        "for nome, modelo in melhores_modelos.items():\n",
        "  scores = cross_val_score(modelo, X_train, y_train, cv=5, scoring='accuracy')\n",
        "  print(f\"Modelo: {nome}\")\n",
        "  print(f\"Acurácia Média: {scores.mean()}\")\n",
        "  print(f\"Desvio Padrão: {scores.std()}\")"
      ],
      "metadata": {
        "colab": {
          "base_uri": "https://localhost:8080/"
        },
        "id": "hsBxTKbf0Ehs",
        "outputId": "28e43fa4-fced-487f-f07b-f7369bbc991f"
      },
      "execution_count": 209,
      "outputs": [
        {
          "output_type": "stream",
          "name": "stderr",
          "text": [
            "/usr/local/lib/python3.10/dist-packages/sklearn/linear_model/_logistic.py:469: ConvergenceWarning: lbfgs failed to converge (status=1):\n",
            "STOP: TOTAL NO. of ITERATIONS REACHED LIMIT.\n",
            "\n",
            "Increase the number of iterations (max_iter) or scale the data as shown in:\n",
            "    https://scikit-learn.org/stable/modules/preprocessing.html\n",
            "Please also refer to the documentation for alternative solver options:\n",
            "    https://scikit-learn.org/stable/modules/linear_model.html#logistic-regression\n",
            "  n_iter_i = _check_optimize_result(\n",
            "/usr/local/lib/python3.10/dist-packages/sklearn/linear_model/_logistic.py:469: ConvergenceWarning: lbfgs failed to converge (status=1):\n",
            "STOP: TOTAL NO. of ITERATIONS REACHED LIMIT.\n",
            "\n",
            "Increase the number of iterations (max_iter) or scale the data as shown in:\n",
            "    https://scikit-learn.org/stable/modules/preprocessing.html\n",
            "Please also refer to the documentation for alternative solver options:\n",
            "    https://scikit-learn.org/stable/modules/linear_model.html#logistic-regression\n",
            "  n_iter_i = _check_optimize_result(\n",
            "/usr/local/lib/python3.10/dist-packages/sklearn/linear_model/_logistic.py:469: ConvergenceWarning: lbfgs failed to converge (status=1):\n",
            "STOP: TOTAL NO. of ITERATIONS REACHED LIMIT.\n",
            "\n",
            "Increase the number of iterations (max_iter) or scale the data as shown in:\n",
            "    https://scikit-learn.org/stable/modules/preprocessing.html\n",
            "Please also refer to the documentation for alternative solver options:\n",
            "    https://scikit-learn.org/stable/modules/linear_model.html#logistic-regression\n",
            "  n_iter_i = _check_optimize_result(\n",
            "/usr/local/lib/python3.10/dist-packages/sklearn/linear_model/_logistic.py:469: ConvergenceWarning: lbfgs failed to converge (status=1):\n",
            "STOP: TOTAL NO. of ITERATIONS REACHED LIMIT.\n",
            "\n",
            "Increase the number of iterations (max_iter) or scale the data as shown in:\n",
            "    https://scikit-learn.org/stable/modules/preprocessing.html\n",
            "Please also refer to the documentation for alternative solver options:\n",
            "    https://scikit-learn.org/stable/modules/linear_model.html#logistic-regression\n",
            "  n_iter_i = _check_optimize_result(\n",
            "/usr/local/lib/python3.10/dist-packages/sklearn/linear_model/_logistic.py:469: ConvergenceWarning: lbfgs failed to converge (status=1):\n",
            "STOP: TOTAL NO. of ITERATIONS REACHED LIMIT.\n",
            "\n",
            "Increase the number of iterations (max_iter) or scale the data as shown in:\n",
            "    https://scikit-learn.org/stable/modules/preprocessing.html\n",
            "Please also refer to the documentation for alternative solver options:\n",
            "    https://scikit-learn.org/stable/modules/linear_model.html#logistic-regression\n",
            "  n_iter_i = _check_optimize_result(\n"
          ]
        },
        {
          "output_type": "stream",
          "name": "stdout",
          "text": [
            "Modelo: Regressão Logística\n",
            "Acurácia Média: 0.7433333333333334\n",
            "Desvio Padrão: 0.016531129329679827\n",
            "Modelo: Floresta Aleatória\n",
            "Acurácia Média: 0.7523232323232323\n",
            "Desvio Padrão: 0.012634744625752595\n"
          ]
        }
      ]
    },
    {
      "cell_type": "markdown",
      "source": [
        "- A acuracia está relativamente boa para os diferentes folds, o que não evidencia um overfiting ou underfiting claro em relação ao treinamento do modelo."
      ],
      "metadata": {
        "id": "m6V25yfJ16Dt"
      }
    },
    {
      "cell_type": "code",
      "source": [
        "parametros = {\n",
        "    'Regressão Logística': {'C': [0.001, 0.01, 0.1, 1, 10, 100],\n",
        "                            'penalty': ['l2', 'l1'],\n",
        "                            'max_iter': [1500],\n",
        "                            'solver': ['liblinear']\n",
        "                            },\n",
        "    'Floresta Aleatória': {'n_estimators': [10, 50, 100, 200, 300, 400],\n",
        "                           'criterion': ['gini', 'entropy'],\n",
        "                           'max_depth':[50, 70, 100, 150, 200]}\n",
        "}"
      ],
      "metadata": {
        "id": "p_PngfZQ11G8"
      },
      "execution_count": 234,
      "outputs": []
    },
    {
      "cell_type": "code",
      "source": [
        "melhor_acuracia = 0\n",
        "modelo_final = None\n",
        "melhor_nome = None\n",
        "\n",
        "for nome, modelo in melhores_modelos.items():\n",
        "  grid_search = GridSearchCV(modelo, parametros[nome], cv=5, scoring='accuracy', n_jobs=-1)\n",
        "  grid_search.fit(X_train, y_train)\n",
        "  melhores_parametros = grid_search.best_params_\n",
        "  accuracia_treino = grid_search.best_score_\n",
        "  y_pred = grid_search.predict(X_test)\n",
        "  accuracy = accuracy_score(y_test, y_pred)\n",
        "\n",
        "  print(f\"Modelo: {nome}\")\n",
        "  print(f\"Acurácia de Treino: {accuracia_treino}\")\n",
        "  print(f\"Acurácia de teste: {accuracy}\")\n",
        "  print(f\"Melhores Parâmetros: {melhores_parametros}\")\n",
        "\n",
        "  if accuracy > melhor_acuracia:\n",
        "    melhor_acuracia = accuracy\n",
        "    modelo_final = grid_search.best_estimator_\n",
        "    melhor_nome = nome"
      ],
      "metadata": {
        "colab": {
          "base_uri": "https://localhost:8080/"
        },
        "id": "U2aVVS7_141y",
        "outputId": "d11b5a3e-2f8f-4556-fcca-20d6da85e63d"
      },
      "execution_count": 235,
      "outputs": [
        {
          "output_type": "stream",
          "name": "stdout",
          "text": [
            "Modelo: Regressão Logística\n",
            "Acurácia de Treino: 0.7432323232323232\n",
            "Acurácia de teste: 0.8214285714285714\n",
            "Melhores Parâmetros: {'C': 0.01, 'max_iter': 1500, 'penalty': 'l2', 'solver': 'liblinear'}\n",
            "Modelo: Floresta Aleatória\n",
            "Acurácia de Treino: 0.7567676767676768\n",
            "Acurácia de teste: 0.8035714285714286\n",
            "Melhores Parâmetros: {'criterion': 'gini', 'max_depth': 70, 'n_estimators': 200}\n"
          ]
        }
      ]
    },
    {
      "cell_type": "markdown",
      "source": [
        "## Modelo Final"
      ],
      "metadata": {
        "id": "6riUGlPB8b81"
      }
    },
    {
      "cell_type": "code",
      "source": [
        "y_pred = modelo_final.predict(X_test)\n",
        "\n",
        "accuracy = accuracy_score(y_test, y_pred)\n",
        "print(f\"Modelo: {melhor_nome}\")\n",
        "print(f\"Acurácia do Modelo Final: {accuracy}\")\n",
        "print('Métricas Gerais:')\n",
        "print(classification_report(y_test, y_pred))"
      ],
      "metadata": {
        "colab": {
          "base_uri": "https://localhost:8080/"
        },
        "id": "rS-k_aXW8eAn",
        "outputId": "eeacd7b2-5ac9-4bfd-a371-61c5bf6bb6b0"
      },
      "execution_count": 259,
      "outputs": [
        {
          "output_type": "stream",
          "name": "stdout",
          "text": [
            "Modelo: Regressão Logística\n",
            "Acurácia do Modelo Final: 0.8214285714285714\n",
            "Métricas Gerais:\n",
            "              precision    recall  f1-score   support\n",
            "\n",
            "           0       0.82      1.00      0.90        46\n",
            "           1       0.00      0.00      0.00        10\n",
            "\n",
            "    accuracy                           0.82        56\n",
            "   macro avg       0.41      0.50      0.45        56\n",
            "weighted avg       0.67      0.82      0.74        56\n",
            "\n"
          ]
        },
        {
          "output_type": "stream",
          "name": "stderr",
          "text": [
            "/usr/local/lib/python3.10/dist-packages/sklearn/metrics/_classification.py:1531: UndefinedMetricWarning: Precision is ill-defined and being set to 0.0 in labels with no predicted samples. Use `zero_division` parameter to control this behavior.\n",
            "  _warn_prf(average, modifier, f\"{metric.capitalize()} is\", len(result))\n",
            "/usr/local/lib/python3.10/dist-packages/sklearn/metrics/_classification.py:1531: UndefinedMetricWarning: Precision is ill-defined and being set to 0.0 in labels with no predicted samples. Use `zero_division` parameter to control this behavior.\n",
            "  _warn_prf(average, modifier, f\"{metric.capitalize()} is\", len(result))\n",
            "/usr/local/lib/python3.10/dist-packages/sklearn/metrics/_classification.py:1531: UndefinedMetricWarning: Precision is ill-defined and being set to 0.0 in labels with no predicted samples. Use `zero_division` parameter to control this behavior.\n",
            "  _warn_prf(average, modifier, f\"{metric.capitalize()} is\", len(result))\n"
          ]
        }
      ]
    },
    {
      "cell_type": "code",
      "source": [
        "y.value_counts()"
      ],
      "metadata": {
        "colab": {
          "base_uri": "https://localhost:8080/",
          "height": 178
        },
        "id": "2qY370i-8zb4",
        "outputId": "3b4b46b9-ef3b-49a9-f69c-930723a3bfbc"
      },
      "execution_count": 219,
      "outputs": [
        {
          "output_type": "execute_result",
          "data": {
            "text/plain": [
              "sair de palmas\n",
              "0    211\n",
              "1     67\n",
              "Name: count, dtype: int64"
            ],
            "text/html": [
              "<div>\n",
              "<style scoped>\n",
              "    .dataframe tbody tr th:only-of-type {\n",
              "        vertical-align: middle;\n",
              "    }\n",
              "\n",
              "    .dataframe tbody tr th {\n",
              "        vertical-align: top;\n",
              "    }\n",
              "\n",
              "    .dataframe thead th {\n",
              "        text-align: right;\n",
              "    }\n",
              "</style>\n",
              "<table border=\"1\" class=\"dataframe\">\n",
              "  <thead>\n",
              "    <tr style=\"text-align: right;\">\n",
              "      <th></th>\n",
              "      <th>count</th>\n",
              "    </tr>\n",
              "    <tr>\n",
              "      <th>sair de palmas</th>\n",
              "      <th></th>\n",
              "    </tr>\n",
              "  </thead>\n",
              "  <tbody>\n",
              "    <tr>\n",
              "      <th>0</th>\n",
              "      <td>211</td>\n",
              "    </tr>\n",
              "    <tr>\n",
              "      <th>1</th>\n",
              "      <td>67</td>\n",
              "    </tr>\n",
              "  </tbody>\n",
              "</table>\n",
              "</div><br><label><b>dtype:</b> int64</label>"
            ]
          },
          "metadata": {},
          "execution_count": 219
        }
      ]
    },
    {
      "cell_type": "markdown",
      "source": [
        "### Testanto Limiar Diferente"
      ],
      "metadata": {
        "id": "NCSAl4rUBEhn"
      }
    },
    {
      "cell_type": "code",
      "source": [
        "y_probs = modelo_final.predict_proba(X_test)[:, 1]\n",
        "\n",
        "threshold = 0.3\n",
        "y_pred_limear = (y_probs >= threshold).astype(int)\n",
        "\n",
        "accuracia = accuracy_score(y_test, y_pred_limear)\n",
        "print(f\"Modelo: {melhor_nome}\")\n",
        "print(f\"Acurácia do Modelo Final: {accuracia}\")\n",
        "print('Métricas Gerais:')\n",
        "print(classification_report(y_test, y_pred_limear))"
      ],
      "metadata": {
        "colab": {
          "base_uri": "https://localhost:8080/"
        },
        "id": "fHgYHAG7BLSD",
        "outputId": "2baef73e-7d71-44ee-b2a1-635442f47409"
      },
      "execution_count": 258,
      "outputs": [
        {
          "output_type": "stream",
          "name": "stdout",
          "text": [
            "Modelo: Regressão Logística\n",
            "Acurácia do Modelo Final: 0.6964285714285714\n",
            "Métricas Gerais:\n",
            "              precision    recall  f1-score   support\n",
            "\n",
            "           0       0.81      0.83      0.82        46\n",
            "           1       0.11      0.10      0.11        10\n",
            "\n",
            "    accuracy                           0.70        56\n",
            "   macro avg       0.46      0.46      0.46        56\n",
            "weighted avg       0.68      0.70      0.69        56\n",
            "\n"
          ]
        }
      ]
    },
    {
      "cell_type": "code",
      "source": [
        "matriz_confusao1 = confusion_matrix(y_test, y_pred_limear)\n",
        "matriz_confusao2 = confusion_matrix(y_test, y_pred)\n",
        "\n",
        "fig, axes = plt.subplots(1, 2, figsize=(16, 6))\n",
        "\n",
        "sns.heatmap(matriz_confusao2, annot=True, fmt='d', cmap='Blues', ax=axes[0])\n",
        "axes[0].set_title('Matriz de Confusão (Limiar = 0.5)')\n",
        "axes[0].set_xlabel('Valores Preditos')\n",
        "axes[0].set_ylabel('Valores Reais')\n",
        "\n",
        "sns.heatmap(matriz_confusao1, annot=True, fmt='d', cmap='Blues', ax=axes[1])\n",
        "axes[1].set_title('Matriz de Confusão (Limiar = 0.3)')\n",
        "axes[1].set_xlabel('Valores Preditos')\n",
        "axes[1].set_ylabel('Valores Reais')\n",
        "\n",
        "plt.tight_layout()\n",
        "plt.show()"
      ],
      "metadata": {
        "colab": {
          "base_uri": "https://localhost:8080/",
          "height": 430
        },
        "id": "tGsKoTNQBr-B",
        "outputId": "0f327f72-6c9d-4eb6-d866-51f578074d19"
      },
      "execution_count": 266,
      "outputs": [
        {
          "output_type": "display_data",
          "data": {
            "text/plain": [
              "<Figure size 1600x600 with 4 Axes>"
            ],
            "image/png": "[encoded data removed]"
          },
          "metadata": {}
        }
      ]
    },
    {
      "cell_type": "code",
      "source": [
        "from sklearn.metrics import roc_auc_score, roc_curve\n",
        "\n",
        "fpr, tpr, thresholds = roc_curve(y_test, y_pred)\n",
        "roc_auc = roc_auc_score(y_test, y_pred)\n",
        "\n",
        "fpr1, tpr1, thresholds1 = roc_curve(y_test, y_pred_limear)\n",
        "roc_auc1 = roc_auc_score(y_test, y_pred_limear)\n",
        "\n",
        "fig, axes = plt.subplots(1, 2, figsize=(12, 6))\n",
        "\n",
        "axes[0].plot([0, 1], [0, 1], color='navy', lw=2, linestyle='--')\n",
        "axes[0].plot(fpr, tpr, color='darkorange', lw=2, label='Curva ROC (AUC = %0.2f)' % roc_auc)\n",
        "axes[0].set_xlabel('Taxa de Falsos Positivos')\n",
        "axes[0].set_ylabel('Taxa de Verdadeiros Positivos')\n",
        "axes[0].set_title('Limiar = 0.5')\n",
        "axes[0].legend(loc=\"lower right\")\n",
        "\n",
        "axes[1].plot([0, 1], [0, 1], color='navy', lw=2, linestyle='--')\n",
        "axes[1].plot(fpr1, tpr1, color='darkgreen', lw=2, label='Curva ROC (AUC = %0.2f)' % roc_auc1)\n",
        "axes[1].set_xlabel('Taxa de Falsos Positivos')\n",
        "axes[1].set_ylabel('Taxa de Verdadeiros Positivos')\n",
        "axes[1].set_title('Limiar = 0.3')\n",
        "axes[1].legend(loc=\"lower right\")\n",
        "\n",
        "plt.tight_layout()\n",
        "plt.show()"
      ],
      "metadata": {
        "colab": {
          "base_uri": "https://localhost:8080/",
          "height": 548
        },
        "id": "JXGQn0IcCQxS",
        "outputId": "c9373462-ea3b-462b-f3ad-13f501496f69"
      },
      "execution_count": 262,
      "outputs": [
        {
          "output_type": "display_data",
          "data": {
            "text/plain": [
              "<Figure size 1200x600 with 2 Axes>"
            ],
            "image/png": "[encoded data removed]"
          },
          "metadata": {}
        }
      ]
    },
    {
      "cell_type": "markdown",
      "source": [
        "# Conclusões"
      ],
      "metadata": {
        "id": "wxV2yLC_FdsX"
      }
    },
    {
      "cell_type": "markdown",
      "source": [
        "> O modelo não consegue gerar previsões para moradores que tendem a abandonar Palmas, porém, consegue fazer boas previsões para moradores que desejam permanecer na cidade.\n",
        "\n",
        "> Vale se atentar que o modelo pode estar gerando respostas apenas para a classe $0$, o que pode não ser ideal e foi ajustado com uma mudança no limiar de decisão. A mudança prejudicou a predição de moradores que desejam ficar na cidade, porém restringiu os mesmos a valores que serão mais criteriosos na definição de quem realmente desena permanecer em Palmas."
      ],
      "metadata": {
        "id": "lTiLzqQuFfzX"
      }
    }
  ]
}